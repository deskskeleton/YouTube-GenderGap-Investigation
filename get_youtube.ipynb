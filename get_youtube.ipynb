{
  "nbformat": 4,
  "nbformat_minor": 0,
  "metadata": {
    "colab": {
      "name": "get_youtubedata_better.ipynb",
      "provenance": [],
      "include_colab_link": true
    },
    "kernelspec": {
      "name": "python3",
      "display_name": "Python 3"
    },
    "language_info": {
      "name": "python"
    }
  },
  "cells": [
    {
      "cell_type": "markdown",
      "metadata": {
        "id": "view-in-github",
        "colab_type": "text"
      },
      "source": [
        "<a href=\"https://colab.research.google.com/github/deskskeleton/YouTube-GenderGap-Investigation/blob/master/get_youtube.ipynb\" target=\"_parent\"><img src=\"https://colab.research.google.com/assets/colab-badge.svg\" alt=\"Open In Colab\"/></a>"
      ]
    },
    {
      "cell_type": "markdown",
      "metadata": {
        "id": "nfb8J2Qx2wcQ"
      },
      "source": [
        "Copy of the .py file thales provided us with. remember to change api keys for yours and to partition via id's\n"
      ]
    },
    {
      "cell_type": "code",
      "metadata": {
        "id": "WU19wKYe10O9"
      },
      "source": [
        "import os\n",
        "import pandas as pd\n",
        "from re import sub\n",
        "import googleapiclient.discovery\n",
        "from uritemplate import api"
      ],
      "execution_count": null,
      "outputs": []
    },
    {
      "cell_type": "code",
      "metadata": {
        "id": "UKi7IeES1_-J"
      },
      "source": [
        "def init_service():\n",
        "    # Disable OAuthlib's HTTPS verification when running locally.\n",
        "    # *DO NOT* leave this option enabled in production.\n",
        "    os.environ[\"OAUTHLIB_INSECURE_TRANSPORT\"] = \"1\"\n",
        "    api_service_name = \"youtube\"\n",
        "    api_version = \"v3\"\n",
        "    API_KEY = \"----\"  # open(\".API_KEY\").read().strip(), USE YOUR OWN KEY HERE\n",
        "    return googleapiclient.discovery.build(\n",
        "        api_service_name, api_version, developerKey=API_KEY\n",
        "    )"
      ],
      "execution_count": null,
      "outputs": []
    },
    {
      "cell_type": "code",
      "metadata": {
        "id": "Xaheg1o56Xwk"
      },
      "source": [
        "#creating list of the quarter of channel id's\n",
        "  id_list = [UCkvK_5omS-42Ovgah8KRKtg,UCbO9bltbkYwa56nZFQx6XJg, UCbO9bltbkYwa56nZFQx6XJg, UCCvoAe__WFYMNAEN-C-CtYA, UCucot-Zp428OwkyRm2I7v2Q, UCDHQbU57NZilrhbuZNbQcRA, UC3EFKdXAU99j3ppGgvTz7XQ, UCFn4TEi42U-WHYjiqaxpp3w]"
      ],
      "execution_count": null,
      "outputs": []
    },
    {
      "cell_type": "code",
      "metadata": {
        "id": "ogU749Ga2DdH"
      },
      "source": [
        "def get_channel_info(api_service, channel_id):\n",
        "    return (\n",
        "        api_service.channels()\n",
        "        .list(id=channel_id, part=\"contentDetails,snippet,statistics\")\n",
        "        .execute()\n",
        "    )\n"
      ],
      "execution_count": null,
      "outputs": []
    },
    {
      "cell_type": "code",
      "metadata": {
        "id": "peLCOl0z2Hwg"
      },
      "source": [
        "def get_channel_videos(api_service, playlist_id, max_videos=10):\n",
        "    videos = []\n",
        "    next_page_token = None\n",
        "    n_videos = 0\n",
        "    while True:\n",
        "        response = (\n",
        "            api_service.playlistItems()\n",
        "            .list(\n",
        "                playlistId=playlist_id,\n",
        "                part=\"contentDetails,snippet\",\n",
        "                maxResults=10,\n",
        "                pageToken=next_page_token,\n",
        "            )\n",
        "            .execute()\n",
        "        )\n",
        "        videos.extend(response[\"items\"])\n",
        "        next_page_token = response.get(\"nextPageToken\")\n",
        "        n_videos += 50\n",
        "        if next_page_token is None or n_videos >= max_videos:\n",
        "            break\n",
        "    return videos"
      ],
      "execution_count": null,
      "outputs": []
    },
    {
      "cell_type": "code",
      "metadata": {
        "id": "I2CMt27R2PKa"
      },
      "source": [
        "def get_video_stats(api_service, video_id):\n",
        "    return api_service.videos().list(id=video_id, part=\"statistics\").execute()\n"
      ],
      "execution_count": null,
      "outputs": []
    },
    {
      "cell_type": "code",
      "metadata": {
        "id": "u48srhsN2pOo"
      },
      "source": [
        "def get_video_comments(api_service, video_id, max_comments=10000):\n",
        "    comments = []\n",
        "    next_page_token = None\n",
        "    n_comments = 0\n",
        "    while True:\n",
        "        response = (\n",
        "            api_service.commentThreads()\n",
        "            .list(\n",
        "                videoId=video_id,\n",
        "                part=\"snippet\",\n",
        "                maxResults=100,\n",
        "                textFormat=\"plainText\",\n",
        "                pageToken=next_page_token,\n",
        "            )\n",
        "            .execute()\n",
        "        )\n",
        "        comments.extend(response[\"items\"])\n",
        "        next_page_token = response.get(\"nextPageToken\")\n",
        "        n_comments += 100\n",
        "        if next_page_token is None or n_comments >= max_comments:\n",
        "            break\n",
        "    return comments"
      ],
      "execution_count": null,
      "outputs": []
    },
    {
      "cell_type": "code",
      "metadata": {
        "id": "qqijNtRK2sfE"
      },
      "source": [
        "# channel_id1,channel_id2,...\n",
        "def retrieve_full_channel_data(api_service, channel_ids):\n",
        "    channels_dataset = []\n",
        "    videos_dataset = []\n",
        "    comments_dataset = []\n",
        "    # Retrieving the channels\n",
        "    channel_info = get_channel_info(api_service, channel_ids)\n",
        "    for channel in channel_info[\"items\"]:\n",
        "        channel_id = channel[\"id\"]\n",
        "        print(channel_id)\n",
        "        # Filtering the response to get the relevant info\n",
        "        channels_dataset.append(filter_channel_info(channel))\n",
        "        # Retrieving the videos. We need the playlist id first!\n",
        "        playlist_id = channel[\"contentDetails\"][\"relatedPlaylists\"][\"uploads\"]\n",
        "        videos = get_channel_videos(api_service, playlist_id)\n",
        "        # Retrieving video stats + comments\n",
        "        for video in videos:\n",
        "            video_id = video[\"contentDetails\"][\"videoId\"]\n",
        "            print(f\"video_id: {video_id}\")\n",
        "            video_stats = get_video_stats(api_service, video_id)\n",
        "            videos_dataset.append(filter_video_info(video, video_stats[\"items\"][0]))\n",
        "            if (\n",
        "                \"commentCount\" in video_stats[\"items\"][0].get(\"statistics\")\n",
        "                and int(video_stats[\"items\"][0].get(\"statistics\").get(\"commentCount\"))\n",
        "                > 0\n",
        "            ):\n",
        "                comments = get_video_comments(api_service, video_id)\n",
        "                for comment in comments:\n",
        "                    filtered_comment_info = filter_comment_info(comment)\n",
        "                    filtered_comment_info.extend([video_id, channel_id])\n",
        "                    comments_dataset.append(filtered_comment_info)\n",
        "            else:\n",
        "                comments_dataset.append([\"comments disabled\", video_id, channel_id])\n",
        "    return (channels_dataset, videos_dataset, comments_dataset)\n"
      ],
      "execution_count": null,
      "outputs": []
    },
    {
      "cell_type": "code",
      "metadata": {
        "id": "DDk_Eqm-2vBG"
      },
      "source": [
        "#\n",
        "def filter_channel_info(response_item):\n",
        "    id = response_item.get(\"id\")\n",
        "    title = response_item.get(\"snippet\").get(\"title\")\n",
        "    description = response_item.get(\"snippet\").get(\"description\")\n",
        "    published_at = response_item.get(\"snippet\").get(\"publishedAt\")\n",
        "    view_count = response_item.get(\"statistics\").get(\"viewCount\")\n",
        "    sub_count = response_item.get(\"statistics\").get(\"subscriberCount\")\n",
        "    video_count = response_item.get(\"statistics\").get(\"videoCount\")\n",
        "    return [id, title, description, published_at, view_count, sub_count, video_count]\n"
      ],
      "execution_count": null,
      "outputs": []
    },
    {
      "cell_type": "code",
      "metadata": {
        "id": "2SetLH7N29c9"
      },
      "source": [
        "#\n",
        "def filter_video_info(video_response_item, video_stats_response_item):\n",
        "    id = video_response_item.get(\"id\")\n",
        "    video_id = video_response_item.get(\"contentDetails\").get(\"videoId\")\n",
        "    title = video_response_item.get(\"snippet\").get(\"title\")\n",
        "    description = video_response_item.get(\"snippet\").get(\"description\")\n",
        "    channel = video_response_item.get(\"snippet\").get(\"channelTitle\")\n",
        "    view_count = video_stats_response_item.get(\"statistics\").get(\"viewCount\")\n",
        "    like_count = video_stats_response_item.get(\"statistics\").get(\"likeCount\")\n",
        "    dislike_count = video_stats_response_item.get(\"statistics\").get(\"dislikeCount\")\n",
        "    favourite_count = video_stats_response_item.get(\"statistics\").get(\"favoriteCount\")\n",
        "    comment_count = video_stats_response_item.get(\"statistics\").get(\"commentCount\")\n",
        "    return [\n",
        "        id,\n",
        "        video_id,\n",
        "        title,\n",
        "        description,\n",
        "        channel,\n",
        "        view_count,\n",
        "        like_count,\n",
        "        dislike_count,\n",
        "        favourite_count,\n",
        "        comment_count,\n",
        "    ]\n",
        "\n"
      ],
      "execution_count": null,
      "outputs": []
    },
    {
      "cell_type": "code",
      "metadata": {
        "id": "7p9SsvPv3AHf"
      },
      "source": [
        "#\n",
        "def filter_comment_info(comment_response_item):\n",
        "    id = comment_response_item.get(\"id\")\n",
        "    text = (\n",
        "        comment_response_item.get(\"snippet\")\n",
        "        .get(\"topLevelComment\")\n",
        "        .get(\"snippet\")\n",
        "        .get(\"textOriginal\")\n",
        "    )\n",
        "    author_name = (\n",
        "        comment_response_item.get(\"snippet\")\n",
        "        .get(\"topLevelComment\")\n",
        "        .get(\"snippet\")\n",
        "        .get(\"authorDisplayName\")\n",
        "    )\n",
        "    author_id = (\n",
        "        (\n",
        "            comment_response_item.get(\"snippet\")\n",
        "            .get(\"topLevelComment\")\n",
        "            .get(\"snippet\")\n",
        "            .get(\"authorChannelId\")\n",
        "            .get(\"value\")\n",
        "        )\n",
        "        if \"authorChannelId\"\n",
        "        in comment_response_item.get(\"snippet\").get(\"topLevelComment\").get(\"snippet\")\n",
        "        else \"\"\n",
        "    )\n",
        "    like_count = (\n",
        "        comment_response_item.get(\"snippet\")\n",
        "        .get(\"topLevelComment\")\n",
        "        .get(\"snippet\")\n",
        "        .get(\"likeCount\")\n",
        "    )\n",
        "    published_at = (\n",
        "        comment_response_item.get(\"snippet\")\n",
        "        .get(\"topLevelComment\")\n",
        "        .get(\"snippet\")\n",
        "        .get(\"publishedAt\")\n",
        "    )\n",
        "    updated_at = (\n",
        "        comment_response_item.get(\"snippet\")\n",
        "        .get(\"topLevelComment\")\n",
        "        .get(\"snippet\")\n",
        "        .get(\"updatedAt\")\n",
        "    )\n",
        "    reply_count = comment_response_item.get(\"snippet\").get(\"totalReplyCount\")\n",
        "    return [\n",
        "        id,\n",
        "        text,\n",
        "        author_name,\n",
        "        author_id,\n",
        "        like_count,\n",
        "        published_at,\n",
        "        updated_at,\n",
        "        reply_count,\n",
        "    ]\n",
        "\n"
      ],
      "execution_count": null,
      "outputs": []
    },
    {
      "cell_type": "code",
      "metadata": {
        "id": "FnI9BXvI3CEG"
      },
      "source": [
        "#\n",
        "def create_channels_df(channels_dataset):\n",
        "    return pd.DataFrame(\n",
        "        channels_dataset,\n",
        "        columns=[\n",
        "            \"id\",\n",
        "            \"title\",\n",
        "            \"description\",\n",
        "            \"published_at\",\n",
        "            \"view_count\",\n",
        "            \"sub_count\",\n",
        "            \"video_count\",\n",
        "        ],\n",
        "    )\n"
      ],
      "execution_count": null,
      "outputs": []
    },
    {
      "cell_type": "code",
      "metadata": {
        "id": "Pdi7ZHVR3D2h"
      },
      "source": [
        "#\n",
        "def create_videos_df(videos_dataset):\n",
        "    return pd.DataFrame(\n",
        "        videos_dataset,\n",
        "        columns=[\n",
        "            \"id\",\n",
        "            \"video_id\",\n",
        "            \"title\",\n",
        "            \"description\",\n",
        "            \"channel\",\n",
        "            \"view_count\",\n",
        "            \"like_count\",\n",
        "            \"dislike_count\",\n",
        "            \"favourite_count\",\n",
        "            \"comment_count\",\n",
        "        ],\n",
        "    )\n",
        "\n"
      ],
      "execution_count": null,
      "outputs": []
    }
  ]
}