{
  "nbformat": 4,
  "nbformat_minor": 0,
  "metadata": {
    "colab": {
      "name": "Cleaning and Analysis.ipynb",
      "provenance": [],
      "include_colab_link": true
    },
    "kernelspec": {
      "name": "python3",
      "display_name": "Python 3"
    },
    "language_info": {
      "name": "python"
    }
  },
  "cells": [
    {
      "cell_type": "markdown",
      "metadata": {
        "id": "view-in-github",
        "colab_type": "text"
      },
      "source": [
        "<a href=\"https://colab.research.google.com/github/deskskeleton/bagofbones/blob/master/Cleaning_and_Analysis.ipynb\" target=\"_parent\"><img src=\"https://colab.research.google.com/assets/colab-badge.svg\" alt=\"Open In Colab\"/></a>"
      ]
    },
    {
      "cell_type": "markdown",
      "metadata": {
        "id": "1jWDD5vtxJgS"
      },
      "source": [
        "# *Installing packages and  Libraries*"
      ]
    },
    {
      "cell_type": "code",
      "metadata": {
        "colab": {
          "base_uri": "https://localhost:8080/"
        },
        "id": "CEU14f66xuZP",
        "outputId": "59041482-5dc5-447f-b676-6f3df2905a6a"
      },
      "source": [
        "#don't bother running this if you already have them installed.\n",
        "!pip install -U spacy\n",
        "!pip install wordcloud\n",
        "!pip install emoji --upgrade\n",
        "!pip install langdetect\n",
        "!python -m spacy download en_core_web_sm\n",
        "!pip install emosent-py\n",
        "!pip install scikit-posthocs\n",
        "!pip install -U sentence-transformers\n",
        "!pip install imbalanced-learn\n",
        "!pip install eli5\n",
        "!pip install pingouin"
      ],
      "execution_count": null,
      "outputs": [
        {
          "output_type": "stream",
          "text": [
            "Requirement already up-to-date: spacy in /usr/local/lib/python3.7/dist-packages (3.0.6)\n",
            "Requirement already satisfied, skipping upgrade: blis<0.8.0,>=0.4.0 in /usr/local/lib/python3.7/dist-packages (from spacy) (0.4.1)\n",
            "Requirement already satisfied, skipping upgrade: setuptools in /usr/local/lib/python3.7/dist-packages (from spacy) (57.0.0)\n",
            "Requirement already satisfied, skipping upgrade: pydantic<1.8.0,>=1.7.1 in /usr/local/lib/python3.7/dist-packages (from spacy) (1.7.4)\n",
            "Requirement already satisfied, skipping upgrade: jinja2 in /usr/local/lib/python3.7/dist-packages (from spacy) (2.11.3)\n",
            "Requirement already satisfied, skipping upgrade: pathy>=0.3.5 in /usr/local/lib/python3.7/dist-packages (from spacy) (0.6.0)\n",
            "Requirement already satisfied, skipping upgrade: tqdm<5.0.0,>=4.38.0 in /usr/local/lib/python3.7/dist-packages (from spacy) (4.41.1)\n",
            "Requirement already satisfied, skipping upgrade: spacy-legacy<3.1.0,>=3.0.4 in /usr/local/lib/python3.7/dist-packages (from spacy) (3.0.6)\n",
            "Requirement already satisfied, skipping upgrade: murmurhash<1.1.0,>=0.28.0 in /usr/local/lib/python3.7/dist-packages (from spacy) (1.0.5)\n",
            "Requirement already satisfied, skipping upgrade: cymem<2.1.0,>=2.0.2 in /usr/local/lib/python3.7/dist-packages (from spacy) (2.0.5)\n",
            "Requirement already satisfied, skipping upgrade: typer<0.4.0,>=0.3.0 in /usr/local/lib/python3.7/dist-packages (from spacy) (0.3.2)\n",
            "Requirement already satisfied, skipping upgrade: preshed<3.1.0,>=3.0.2 in /usr/local/lib/python3.7/dist-packages (from spacy) (3.0.5)\n",
            "Requirement already satisfied, skipping upgrade: requests<3.0.0,>=2.13.0 in /usr/local/lib/python3.7/dist-packages (from spacy) (2.23.0)\n",
            "Requirement already satisfied, skipping upgrade: srsly<3.0.0,>=2.4.1 in /usr/local/lib/python3.7/dist-packages (from spacy) (2.4.1)\n",
            "Requirement already satisfied, skipping upgrade: numpy>=1.15.0 in /usr/local/lib/python3.7/dist-packages (from spacy) (1.19.5)\n",
            "Requirement already satisfied, skipping upgrade: catalogue<2.1.0,>=2.0.3 in /usr/local/lib/python3.7/dist-packages (from spacy) (2.0.4)\n",
            "Requirement already satisfied, skipping upgrade: wasabi<1.1.0,>=0.8.1 in /usr/local/lib/python3.7/dist-packages (from spacy) (0.8.2)\n",
            "Requirement already satisfied, skipping upgrade: thinc<8.1.0,>=8.0.3 in /usr/local/lib/python3.7/dist-packages (from spacy) (8.0.6)\n",
            "Requirement already satisfied, skipping upgrade: packaging>=20.0 in /usr/local/lib/python3.7/dist-packages (from spacy) (20.9)\n",
            "Requirement already satisfied, skipping upgrade: typing-extensions<4.0.0.0,>=3.7.4; python_version < \"3.8\" in /usr/local/lib/python3.7/dist-packages (from spacy) (3.7.4.3)\n",
            "Requirement already satisfied, skipping upgrade: MarkupSafe>=0.23 in /usr/local/lib/python3.7/dist-packages (from jinja2->spacy) (2.0.1)\n",
            "Requirement already satisfied, skipping upgrade: smart-open<6.0.0,>=5.0.0 in /usr/local/lib/python3.7/dist-packages (from pathy>=0.3.5->spacy) (5.1.0)\n",
            "Requirement already satisfied, skipping upgrade: click<7.2.0,>=7.1.1 in /usr/local/lib/python3.7/dist-packages (from typer<0.4.0,>=0.3.0->spacy) (7.1.2)\n",
            "Requirement already satisfied, skipping upgrade: idna<3,>=2.5 in /usr/local/lib/python3.7/dist-packages (from requests<3.0.0,>=2.13.0->spacy) (2.10)\n",
            "Requirement already satisfied, skipping upgrade: certifi>=2017.4.17 in /usr/local/lib/python3.7/dist-packages (from requests<3.0.0,>=2.13.0->spacy) (2021.5.30)\n",
            "Requirement already satisfied, skipping upgrade: urllib3!=1.25.0,!=1.25.1,<1.26,>=1.21.1 in /usr/local/lib/python3.7/dist-packages (from requests<3.0.0,>=2.13.0->spacy) (1.24.3)\n",
            "Requirement already satisfied, skipping upgrade: chardet<4,>=3.0.2 in /usr/local/lib/python3.7/dist-packages (from requests<3.0.0,>=2.13.0->spacy) (3.0.4)\n",
            "Requirement already satisfied, skipping upgrade: zipp>=0.5; python_version < \"3.8\" in /usr/local/lib/python3.7/dist-packages (from catalogue<2.1.0,>=2.0.3->spacy) (3.4.1)\n",
            "Requirement already satisfied, skipping upgrade: pyparsing>=2.0.2 in /usr/local/lib/python3.7/dist-packages (from packaging>=20.0->spacy) (2.4.7)\n",
            "Requirement already satisfied: wordcloud in /usr/local/lib/python3.7/dist-packages (1.5.0)\n",
            "Requirement already satisfied: numpy>=1.6.1 in /usr/local/lib/python3.7/dist-packages (from wordcloud) (1.19.5)\n",
            "Requirement already satisfied: pillow in /usr/local/lib/python3.7/dist-packages (from wordcloud) (7.1.2)\n",
            "Requirement already up-to-date: emoji in /usr/local/lib/python3.7/dist-packages (1.2.0)\n",
            "Requirement already satisfied: langdetect in /usr/local/lib/python3.7/dist-packages (1.0.9)\n",
            "Requirement already satisfied: six in /usr/local/lib/python3.7/dist-packages (from langdetect) (1.15.0)\n",
            "2021-06-30 17:30:26.433677: I tensorflow/stream_executor/platform/default/dso_loader.cc:53] Successfully opened dynamic library libcudart.so.11.0\n",
            "Requirement already satisfied: en-core-web-sm==3.0.0 from https://github.com/explosion/spacy-models/releases/download/en_core_web_sm-3.0.0/en_core_web_sm-3.0.0-py3-none-any.whl#egg=en_core_web_sm==3.0.0 in /usr/local/lib/python3.7/dist-packages (3.0.0)\n",
            "Requirement already satisfied: spacy<3.1.0,>=3.0.0 in /usr/local/lib/python3.7/dist-packages (from en-core-web-sm==3.0.0) (3.0.6)\n",
            "Requirement already satisfied: murmurhash<1.1.0,>=0.28.0 in /usr/local/lib/python3.7/dist-packages (from spacy<3.1.0,>=3.0.0->en-core-web-sm==3.0.0) (1.0.5)\n",
            "Requirement already satisfied: wasabi<1.1.0,>=0.8.1 in /usr/local/lib/python3.7/dist-packages (from spacy<3.1.0,>=3.0.0->en-core-web-sm==3.0.0) (0.8.2)\n",
            "Requirement already satisfied: tqdm<5.0.0,>=4.38.0 in /usr/local/lib/python3.7/dist-packages (from spacy<3.1.0,>=3.0.0->en-core-web-sm==3.0.0) (4.41.1)\n",
            "Requirement already satisfied: preshed<3.1.0,>=3.0.2 in /usr/local/lib/python3.7/dist-packages (from spacy<3.1.0,>=3.0.0->en-core-web-sm==3.0.0) (3.0.5)\n",
            "Requirement already satisfied: pathy>=0.3.5 in /usr/local/lib/python3.7/dist-packages (from spacy<3.1.0,>=3.0.0->en-core-web-sm==3.0.0) (0.6.0)\n",
            "Requirement already satisfied: srsly<3.0.0,>=2.4.1 in /usr/local/lib/python3.7/dist-packages (from spacy<3.1.0,>=3.0.0->en-core-web-sm==3.0.0) (2.4.1)\n",
            "Requirement already satisfied: jinja2 in /usr/local/lib/python3.7/dist-packages (from spacy<3.1.0,>=3.0.0->en-core-web-sm==3.0.0) (2.11.3)\n",
            "Requirement already satisfied: cymem<2.1.0,>=2.0.2 in /usr/local/lib/python3.7/dist-packages (from spacy<3.1.0,>=3.0.0->en-core-web-sm==3.0.0) (2.0.5)\n",
            "Requirement already satisfied: typer<0.4.0,>=0.3.0 in /usr/local/lib/python3.7/dist-packages (from spacy<3.1.0,>=3.0.0->en-core-web-sm==3.0.0) (0.3.2)\n",
            "Requirement already satisfied: typing-extensions<4.0.0.0,>=3.7.4; python_version < \"3.8\" in /usr/local/lib/python3.7/dist-packages (from spacy<3.1.0,>=3.0.0->en-core-web-sm==3.0.0) (3.7.4.3)\n",
            "Requirement already satisfied: thinc<8.1.0,>=8.0.3 in /usr/local/lib/python3.7/dist-packages (from spacy<3.1.0,>=3.0.0->en-core-web-sm==3.0.0) (8.0.6)\n",
            "Requirement already satisfied: requests<3.0.0,>=2.13.0 in /usr/local/lib/python3.7/dist-packages (from spacy<3.1.0,>=3.0.0->en-core-web-sm==3.0.0) (2.23.0)\n",
            "Requirement already satisfied: packaging>=20.0 in /usr/local/lib/python3.7/dist-packages (from spacy<3.1.0,>=3.0.0->en-core-web-sm==3.0.0) (20.9)\n",
            "Requirement already satisfied: blis<0.8.0,>=0.4.0 in /usr/local/lib/python3.7/dist-packages (from spacy<3.1.0,>=3.0.0->en-core-web-sm==3.0.0) (0.4.1)\n",
            "Requirement already satisfied: catalogue<2.1.0,>=2.0.3 in /usr/local/lib/python3.7/dist-packages (from spacy<3.1.0,>=3.0.0->en-core-web-sm==3.0.0) (2.0.4)\n",
            "Requirement already satisfied: pydantic<1.8.0,>=1.7.1 in /usr/local/lib/python3.7/dist-packages (from spacy<3.1.0,>=3.0.0->en-core-web-sm==3.0.0) (1.7.4)\n",
            "Requirement already satisfied: numpy>=1.15.0 in /usr/local/lib/python3.7/dist-packages (from spacy<3.1.0,>=3.0.0->en-core-web-sm==3.0.0) (1.19.5)\n",
            "Requirement already satisfied: setuptools in /usr/local/lib/python3.7/dist-packages (from spacy<3.1.0,>=3.0.0->en-core-web-sm==3.0.0) (57.0.0)\n",
            "Requirement already satisfied: spacy-legacy<3.1.0,>=3.0.4 in /usr/local/lib/python3.7/dist-packages (from spacy<3.1.0,>=3.0.0->en-core-web-sm==3.0.0) (3.0.6)\n",
            "Requirement already satisfied: smart-open<6.0.0,>=5.0.0 in /usr/local/lib/python3.7/dist-packages (from pathy>=0.3.5->spacy<3.1.0,>=3.0.0->en-core-web-sm==3.0.0) (5.1.0)\n",
            "Requirement already satisfied: MarkupSafe>=0.23 in /usr/local/lib/python3.7/dist-packages (from jinja2->spacy<3.1.0,>=3.0.0->en-core-web-sm==3.0.0) (2.0.1)\n",
            "Requirement already satisfied: click<7.2.0,>=7.1.1 in /usr/local/lib/python3.7/dist-packages (from typer<0.4.0,>=0.3.0->spacy<3.1.0,>=3.0.0->en-core-web-sm==3.0.0) (7.1.2)\n",
            "Requirement already satisfied: urllib3!=1.25.0,!=1.25.1,<1.26,>=1.21.1 in /usr/local/lib/python3.7/dist-packages (from requests<3.0.0,>=2.13.0->spacy<3.1.0,>=3.0.0->en-core-web-sm==3.0.0) (1.24.3)\n",
            "Requirement already satisfied: idna<3,>=2.5 in /usr/local/lib/python3.7/dist-packages (from requests<3.0.0,>=2.13.0->spacy<3.1.0,>=3.0.0->en-core-web-sm==3.0.0) (2.10)\n",
            "Requirement already satisfied: certifi>=2017.4.17 in /usr/local/lib/python3.7/dist-packages (from requests<3.0.0,>=2.13.0->spacy<3.1.0,>=3.0.0->en-core-web-sm==3.0.0) (2021.5.30)\n",
            "Requirement already satisfied: chardet<4,>=3.0.2 in /usr/local/lib/python3.7/dist-packages (from requests<3.0.0,>=2.13.0->spacy<3.1.0,>=3.0.0->en-core-web-sm==3.0.0) (3.0.4)\n",
            "Requirement already satisfied: pyparsing>=2.0.2 in /usr/local/lib/python3.7/dist-packages (from packaging>=20.0->spacy<3.1.0,>=3.0.0->en-core-web-sm==3.0.0) (2.4.7)\n",
            "Requirement already satisfied: zipp>=0.5; python_version < \"3.8\" in /usr/local/lib/python3.7/dist-packages (from catalogue<2.1.0,>=2.0.3->spacy<3.1.0,>=3.0.0->en-core-web-sm==3.0.0) (3.4.1)\n",
            "\u001b[38;5;2m✔ Download and installation successful\u001b[0m\n",
            "You can now load the package via spacy.load('en_core_web_sm')\n",
            "Requirement already satisfied: emosent-py in /usr/local/lib/python3.7/dist-packages (0.1.6)\n",
            "Requirement already satisfied: scikit-posthocs in /usr/local/lib/python3.7/dist-packages (0.6.7)\n",
            "Requirement already satisfied: pandas>=0.20.0 in /usr/local/lib/python3.7/dist-packages (from scikit-posthocs) (1.1.5)\n",
            "Requirement already satisfied: matplotlib in /usr/local/lib/python3.7/dist-packages (from scikit-posthocs) (3.2.2)\n",
            "Requirement already satisfied: statsmodels in /usr/local/lib/python3.7/dist-packages (from scikit-posthocs) (0.10.2)\n",
            "Requirement already satisfied: seaborn in /usr/local/lib/python3.7/dist-packages (from scikit-posthocs) (0.11.1)\n",
            "Requirement already satisfied: numpy in /usr/local/lib/python3.7/dist-packages (from scikit-posthocs) (1.19.5)\n",
            "Requirement already satisfied: scipy in /usr/local/lib/python3.7/dist-packages (from scikit-posthocs) (1.4.1)\n",
            "Requirement already satisfied: pytz>=2017.2 in /usr/local/lib/python3.7/dist-packages (from pandas>=0.20.0->scikit-posthocs) (2018.9)\n",
            "Requirement already satisfied: python-dateutil>=2.7.3 in /usr/local/lib/python3.7/dist-packages (from pandas>=0.20.0->scikit-posthocs) (2.8.1)\n",
            "Requirement already satisfied: kiwisolver>=1.0.1 in /usr/local/lib/python3.7/dist-packages (from matplotlib->scikit-posthocs) (1.3.1)\n",
            "Requirement already satisfied: cycler>=0.10 in /usr/local/lib/python3.7/dist-packages (from matplotlib->scikit-posthocs) (0.10.0)\n",
            "Requirement already satisfied: pyparsing!=2.0.4,!=2.1.2,!=2.1.6,>=2.0.1 in /usr/local/lib/python3.7/dist-packages (from matplotlib->scikit-posthocs) (2.4.7)\n",
            "Requirement already satisfied: patsy>=0.4.0 in /usr/local/lib/python3.7/dist-packages (from statsmodels->scikit-posthocs) (0.5.1)\n",
            "Requirement already satisfied: six>=1.5 in /usr/local/lib/python3.7/dist-packages (from python-dateutil>=2.7.3->pandas>=0.20.0->scikit-posthocs) (1.15.0)\n"
          ],
          "name": "stdout"
        }
      ]
    },
    {
      "cell_type": "code",
      "metadata": {
        "id": "-cV2rNN6xMro"
      },
      "source": [
        "# LIBRARIES USED, ORGANIZE BASED ON USE.            WE CAN DISCUSS WHETHER WE PREFER THIS OR PUTTING IMPORTS WHERE USED. \n",
        "import string\n",
        "import pandas as pd\n",
        "import numpy as np\n",
        "import regex as re\n",
        "import collections\n",
        "from collections import namedtuple, Counter\n",
        "import spacy\n",
        "\n",
        "#Compiling the Dataset\n",
        "import os\n",
        "import pandas as pd\n",
        "from re import sub\n",
        "import googleapiclient.discovery\n",
        "from uritemplate import api\n",
        "\n",
        "#Sentiment Analysis: NLTK, TextBlob, emoji sentiment\n",
        "import emosent                                              #<-these need to be fixed\n",
        "from emosent import get_emoji_sentiment_rank                #<-\n",
        "import nltk\n",
        "from nltk.tokenize import TweetTokenizer\n",
        "from nltk.sentiment.vader import SentimentIntensityAnalyzer\n",
        "import emoji                                                #<-\n",
        "from textblob import TextBlob\n",
        "\n",
        "#For running stats and models\n",
        "import scipy.stats as stats\n",
        "import statsmodels.api as sm \n",
        "from statsmodels.formula.api import ols\n",
        "import matplotlib.pyplot as plt\n",
        "from scipy.stats import kruskal\n",
        "from scipy.stats import f_oneway\n",
        "from wordcloud import WordCloud\n",
        "import scikit_posthocs as sp\n",
        "import statsmodels.api as sm\n",
        "import matplotlib.pyplot as plt\n",
        "import statsmodels.api as sm\n",
        "from statsmodels.formula.api import ols\n",
        "import pingouin as pg        <-\n",
        "import scikit_posthocs as sp     \n",
        "#Language Checking                         <-\n",
        "from langdetect import detect      \n",
        "\n",
        "#Abusive Language detection\n",
        "from nltk.tokenize import TweetTokenizer \n",
        "from sklearn.feature_extraction.text import TfidfVectorizer\n",
        "from sklearn.feature_extraction.text import CountVectorizer\n",
        "from sentence_transformers import SentenceTransformer    \n",
        "from imblearn import under_sampling\n",
        "from imblearn.under_sampling import RandomUnderSampler\n",
        "from collections import Counter\n",
        "from sklearn.model_selection import train_test_split\n",
        "from sklearn import svm\n",
        "from sklearn.utils import class_weight\n",
        "from sklearn.linear_model import LogisticRegression\n",
        "from sklearn.ensemble import RandomForestClassifier\n",
        "from sklearn.metrics import classification_report \n",
        "import eli5               <-"
      ],
      "execution_count": null,
      "outputs": []
    },
    {
      "cell_type": "markdown",
      "metadata": {
        "id": "p6Z6vNiO3BSs"
      },
      "source": [
        "## Dataset creation"
      ]
    },
    {
      "cell_type": "code",
      "metadata": {
        "id": "p2Uu5JWs3GM5"
      },
      "source": [
        "def init_service():\n",
        "    # Disable OAuthlib's HTTPS verification when running locally.\n",
        "    # *DO NOT* leave this option enabled in production.\n",
        "    os.environ[\"OAUTHLIB_INSECURE_TRANSPORT\"] = \"1\"\n",
        "    api_service_name = \"youtube\"\n",
        "    api_version = \"v3\"\n",
        "    API_KEY = \"API KEY OF THE AUTHORS\"\n",
        "    return googleapiclient.discovery.build(\n",
        "        api_service_name, api_version, developerKey=API_KEY\n",
        "    )\n",
        "\n",
        "\n",
        "def get_channel_info(api_service, channel_id):\n",
        "    return (\n",
        "        api_service.channels()\n",
        "        .list(id=channel_id, part=\"contentDetails,snippet,statistics\")\n",
        "        .execute()\n",
        "    )\n",
        "\n",
        "\n",
        "def get_channel_videos(api_service, playlist_id, max_videos=10):\n",
        "    videos = []\n",
        "    next_page_token = None\n",
        "    n_videos = 0\n",
        "    while True:\n",
        "        response = (\n",
        "            api_service.playlistItems()\n",
        "            .list(\n",
        "                playlistId=playlist_id,\n",
        "                part=\"contentDetails,snippet\",\n",
        "                maxResults=10,\n",
        "                pageToken=next_page_token,\n",
        "            )\n",
        "            .execute()\n",
        "        )\n",
        "        videos.extend(response[\"items\"])\n",
        "        next_page_token = response.get(\"nextPageToken\")\n",
        "        n_videos += 50\n",
        "        if next_page_token is None or n_videos >= max_videos:\n",
        "            break\n",
        "    return videos\n",
        "\n",
        "\n",
        "def get_video_stats(api_service, video_id):\n",
        "    return api_service.videos().list(id=video_id, part=\"statistics\").execute()\n",
        "\n",
        "\n",
        "def get_video_comments(api_service, video_id, max_comments=10000):\n",
        "    comments = []\n",
        "    next_page_token = None\n",
        "    n_comments = 0\n",
        "    while True:\n",
        "        response = (\n",
        "            api_service.commentThreads()\n",
        "            .list(\n",
        "                videoId=video_id,\n",
        "                part=\"snippet\",\n",
        "                maxResults=100,\n",
        "                textFormat=\"plainText\",\n",
        "                pageToken=next_page_token,\n",
        "            )\n",
        "            .execute()\n",
        "        )\n",
        "        comments.extend(response[\"items\"])\n",
        "        next_page_token = response.get(\"nextPageToken\")\n",
        "        n_comments += 100\n",
        "        if next_page_token is None or n_comments >= max_comments:\n",
        "            break\n",
        "    return comments\n",
        "\n",
        "\n",
        "# channel_id1,channel_id2,...\n",
        "def retrieve_full_channel_data(api_service, channel_ids):\n",
        "    channels_dataset = []\n",
        "    videos_dataset = []\n",
        "    comments_dataset = []\n",
        "    # Retrieving the channels\n",
        "    channel_info = get_channel_info(api_service, channel_ids)\n",
        "    for channel in channel_info[\"items\"]:\n",
        "        channel_id = channel[\"id\"]\n",
        "        print(channel_id)\n",
        "        # Filtering the response to get the relevant info\n",
        "        channels_dataset.append(filter_channel_info(channel))\n",
        "        # Retrieving the videos. We need the playlist id first!\n",
        "        playlist_id = channel[\"contentDetails\"][\"relatedPlaylists\"][\"uploads\"]\n",
        "        videos = get_channel_videos(api_service, playlist_id)\n",
        "        # Retrieving video stats + comments\n",
        "        for video in videos:\n",
        "            video_id = video[\"contentDetails\"][\"videoId\"]\n",
        "            print(f\"video_id: {video_id}\")\n",
        "            video_stats = get_video_stats(api_service, video_id)\n",
        "            videos_dataset.append(filter_video_info(video, video_stats[\"items\"][0]))\n",
        "            if (\n",
        "                \"commentCount\" in video_stats[\"items\"][0].get(\"statistics\")\n",
        "                and int(video_stats[\"items\"][0].get(\"statistics\").get(\"commentCount\"))\n",
        "                > 0\n",
        "            ):\n",
        "                comments = get_video_comments(api_service, video_id)\n",
        "                for comment in comments:\n",
        "                    filtered_comment_info = filter_comment_info(comment)\n",
        "                    filtered_comment_info.extend([video_id, channel_id])\n",
        "                    comments_dataset.append(filtered_comment_info)\n",
        "            else:\n",
        "                comments_dataset.append([\"comments disabled\", video_id, channel_id])\n",
        "    return (channels_dataset, videos_dataset, comments_dataset)\n",
        "\n",
        "\n",
        "def filter_channel_info(response_item):\n",
        "    id = response_item.get(\"id\")\n",
        "    title = response_item.get(\"snippet\").get(\"title\")\n",
        "    description = response_item.get(\"snippet\").get(\"description\")\n",
        "    published_at = response_item.get(\"snippet\").get(\"publishedAt\")\n",
        "    view_count = response_item.get(\"statistics\").get(\"viewCount\")\n",
        "    sub_count = response_item.get(\"statistics\").get(\"subscriberCount\")\n",
        "    video_count = response_item.get(\"statistics\").get(\"videoCount\")\n",
        "    return [id, title, description, published_at, view_count, sub_count, video_count]\n",
        "\n",
        "\n",
        "def filter_video_info(video_response_item, video_stats_response_item):\n",
        "    id = video_response_item.get(\"id\")\n",
        "    video_id = video_response_item.get(\"contentDetails\").get(\"videoId\")\n",
        "    title = video_response_item.get(\"snippet\").get(\"title\")\n",
        "    description = video_response_item.get(\"snippet\").get(\"description\")\n",
        "    channel = video_response_item.get(\"snippet\").get(\"channelTitle\")\n",
        "    view_count = video_stats_response_item.get(\"statistics\").get(\"viewCount\")\n",
        "    like_count = video_stats_response_item.get(\"statistics\").get(\"likeCount\")\n",
        "    dislike_count = video_stats_response_item.get(\"statistics\").get(\"dislikeCount\")\n",
        "    favourite_count = video_stats_response_item.get(\"statistics\").get(\"favoriteCount\")\n",
        "    comment_count = video_stats_response_item.get(\"statistics\").get(\"commentCount\")\n",
        "    return [\n",
        "        id,\n",
        "        video_id,\n",
        "        title,\n",
        "        description,\n",
        "        channel,\n",
        "        view_count,\n",
        "        like_count,\n",
        "        dislike_count,\n",
        "        favourite_count,\n",
        "        comment_count,\n",
        "    ]\n",
        "\n",
        "\n",
        "def filter_comment_info(comment_response_item):\n",
        "    id = comment_response_item.get(\"id\")\n",
        "    text = (\n",
        "        comment_response_item.get(\"snippet\")\n",
        "        .get(\"topLevelComment\")\n",
        "        .get(\"snippet\")\n",
        "        .get(\"textOriginal\")\n",
        "    )\n",
        "    author_name = (\n",
        "        comment_response_item.get(\"snippet\")\n",
        "        .get(\"topLevelComment\")\n",
        "        .get(\"snippet\")\n",
        "        .get(\"authorDisplayName\")\n",
        "    )\n",
        "    author_id = (\n",
        "        (\n",
        "            comment_response_item.get(\"snippet\")\n",
        "            .get(\"topLevelComment\")\n",
        "            .get(\"snippet\")\n",
        "            .get(\"authorChannelId\")\n",
        "            .get(\"value\")\n",
        "        )\n",
        "        if \"authorChannelId\"\n",
        "        in comment_response_item.get(\"snippet\").get(\"topLevelComment\").get(\"snippet\")\n",
        "        else \"\"\n",
        "    )\n",
        "    like_count = (\n",
        "        comment_response_item.get(\"snippet\")\n",
        "        .get(\"topLevelComment\")\n",
        "        .get(\"snippet\")\n",
        "        .get(\"likeCount\")\n",
        "    )\n",
        "    published_at = (\n",
        "        comment_response_item.get(\"snippet\")\n",
        "        .get(\"topLevelComment\")\n",
        "        .get(\"snippet\")\n",
        "        .get(\"publishedAt\")\n",
        "    )\n",
        "    updated_at = (\n",
        "        comment_response_item.get(\"snippet\")\n",
        "        .get(\"topLevelComment\")\n",
        "        .get(\"snippet\")\n",
        "        .get(\"updatedAt\")\n",
        "    )\n",
        "    reply_count = comment_response_item.get(\"snippet\").get(\"totalReplyCount\")\n",
        "    return [\n",
        "        id,\n",
        "        text,\n",
        "        author_name,\n",
        "        author_id,\n",
        "        like_count,\n",
        "        published_at,\n",
        "        updated_at,\n",
        "        reply_count,\n",
        "    ]\n",
        "\n",
        "\n",
        "def create_channels_df(channels_dataset):\n",
        "    return pd.DataFrame(\n",
        "        channels_dataset,\n",
        "        columns=[\n",
        "            \"id\",\n",
        "            \"title\",\n",
        "            \"description\",\n",
        "            \"published_at\",\n",
        "            \"view_count\",\n",
        "            \"sub_count\",\n",
        "            \"video_count\",\n",
        "        ],\n",
        "    )\n",
        "\n",
        "\n",
        "def create_videos_df(videos_dataset):\n",
        "    return pd.DataFrame(\n",
        "        videos_dataset,\n",
        "        columns=[\n",
        "            \"id\",\n",
        "            \"video_id\",\n",
        "            \"title\",\n",
        "            \"description\",\n",
        "            \"channel\",\n",
        "            \"view_count\",\n",
        "            \"like_count\",\n",
        "            \"dislike_count\",\n",
        "            \"favourite_count\",\n",
        "            \"comment_count\",\n",
        "        ],\n",
        "    )\n",
        "\n",
        "\n",
        "def create_comments_df(comments_dataset):\n",
        "    return pd.DataFrame(\n",
        "        comments_dataset,\n",
        "        columns=[\n",
        "            \"id\",\n",
        "            \"text\",\n",
        "            \"author_name\",\n",
        "            \"author_id\",\n",
        "            \"like_count\",\n",
        "            \"published_at\",\n",
        "            \"updated_at\",\n",
        "            \"reply_count\",\n",
        "            \"video_id\",\n",
        "            \"channel_id\",\n",
        "        ],\n",
        "    )"
      ],
      "execution_count": null,
      "outputs": []
    },
    {
      "cell_type": "code",
      "metadata": {
        "id": "fAdqKbkF3a47"
      },
      "source": [
        "youtube = init_service()"
      ],
      "execution_count": null,
      "outputs": []
    },
    {
      "cell_type": "code",
      "metadata": {
        "id": "6bho6xMa3fRl"
      },
      "source": [
        "id_list = [\n",
        "\"UCFn4TEi42U-WHYjiqaxpp3w\",\n",
        "\"UCXPbZbUPaNCcr5iyDetqsxg\",\n",
        "\"UC7FVvYGiBpgjGx7rqb5SIPg\",\n",
        "\"UCMYXusJ8Tcocq3AtT23T0eA\",\n",
        "\"UCNM5-NRrDxL0PWC5H52smaQ\",\n",
        "\"UCzTKskwIc_-a0cGvCXA848Q\",\n",
        "\"UC4qk9TtGhBKCkoWz5qGJcGg\",\n",
        "\"UC0YvTCy1I4_a-3pn47_5DBA\",\n",
        "\"UCuYx81nzzz4OFQrhbKDzTng\",\n",
        "\"UCc6W7efUSkd9YYoxOnctlFg\",\n",
        "\"UC21yq4sq8uxTcfgIxxyE9VQ\",\n",
        "\"UCbAwSkqJ1W_Eg7wr3cp5BUA\",\n",
        "\"UCGwPbAQdGA3_88WBuGtg9tw\",\n",
        "\"UCNBvzAJI3N92Sgl0guRxSxQ\",\n",
        "\"UCoziFm3M4sHDq1kkx0UwtRw\",\n",
        "\"UCT9lRRTBWIqMIfVgSyfsg7Q\",\n",
        "\"UCGCVyTWogzQ4D170BLy2Arw\",\n",
        "\"UCzN3iACIG5HSQpY-hudis1Q\",\n",
        "\"UCa1vUXV2WMRobPo-ZfEeRhg\",\n",
        "\"UCbLunbaq3ia4-FLfOHrHngQ\",\n",
        "\"UCDQGFnUC1iw_oQ5Vs1KoVlg\",\n",
        "\"UCeNgRHpH7OHZetYjC5JZXGw\",\n",
        "\"UCJyw_54aiqanw8s39eq6HbA\",\n",
        "\"UCkvK_5omS-42Ovgah8KRKtg\",\n",
        "\"UCbO9bltbkYwa56nZFQx6XJg\",\n",
        "\"UCCvoAe__WFYMNAEN-C-CtYA\",\n",
        "\"UCucot-Zp428OwkyRm2I7v2Q\",\n",
        "\"UCDHQbU57NZilrhbuZNbQcRA\",\n",
        "]"
      ],
      "execution_count": null,
      "outputs": []
    },
    {
      "cell_type": "code",
      "metadata": {
        "id": "RmHMMoo05yon"
      },
      "source": [
        "def create_comment_df(comments_dataset):\n",
        "    return pd.DataFrame(\n",
        "        comments_dataset,\n",
        "        columns=[\n",
        "            \"id\",\n",
        "            \"text\",\n",
        "            \"author_name\",\n",
        "            \"author_id\",\n",
        "            \"like_count\",\n",
        "            \"published_at\",\n",
        "            \"updated_at\",\n",
        "            \"reply_count\",\n",
        "            \"video_id\",\n",
        "            \"channel_id\",\n",
        "        ],\n",
        "    )"
      ],
      "execution_count": null,
      "outputs": []
    },
    {
      "cell_type": "markdown",
      "metadata": {
        "id": "YsNdoIUZ6N2z"
      },
      "source": [
        "cleaning and pre-processing"
      ]
    },
    {
      "cell_type": "code",
      "metadata": {
        "id": "xfgdhyPW6Mln"
      },
      "source": [
        "df[\"filtered_text\"] = df.text.str.replace(\"\\s+\", \" \")\n",
        "df[\"filtered_text\"] = df.filtered_text.str.replace(\"\\n+\", \"\\n\")\n",
        "df[\"wordcount\"] = df.filtered_text.apply(lambda x: len(re.findall(r\"\\w+\", x)))\n",
        "df[\"filteredtext\"] = df[df.wordcount >= 3].filtered_text\n",
        "df[\"filteredtext\"]\n",
        "df[\"wordcount\"] = df.filtered_text.apply(lambda x: len(re.findall(r\"\\w+\", x)))"
      ],
      "execution_count": null,
      "outputs": []
    },
    {
      "cell_type": "markdown",
      "metadata": {
        "id": "moM_yITA6bly"
      },
      "source": [
        "merging datasets from differnt group members"
      ]
    },
    {
      "cell_type": "code",
      "metadata": {
        "id": "5SymB52V6YOc"
      },
      "source": [
        "df1 = pd.read_csv(\"kdf.csv\")"
      ],
      "execution_count": null,
      "outputs": []
    },
    {
      "cell_type": "code",
      "metadata": {
        "id": "LNA0l0qr6giQ"
      },
      "source": [
        "df2 = pd.read_csv(\"scommentsdataframe.csv\")"
      ],
      "execution_count": null,
      "outputs": []
    },
    {
      "cell_type": "code",
      "metadata": {
        "id": "u8Uk2RQI6j_n"
      },
      "source": [
        "df3 = pd.read_csv(\"filtereddataframe.csv\",index_col=None, header=0, engine='python')"
      ],
      "execution_count": null,
      "outputs": []
    },
    {
      "cell_type": "code",
      "metadata": {
        "id": "ABkZtMJ26mCb"
      },
      "source": [
        "df4 = pd.read_csv(\"commentsdataframe.csv\")"
      ],
      "execution_count": null,
      "outputs": []
    },
    {
      "cell_type": "code",
      "metadata": {
        "id": "bPvxNyh96og5"
      },
      "source": [
        "combdf =pd.concat([df1, df2,df3,df], ignore_index=True)\n",
        "combdf[\"filteredtext\"]"
      ],
      "execution_count": null,
      "outputs": []
    },
    {
      "cell_type": "code",
      "metadata": {
        "id": "qB13tsSD6q9U"
      },
      "source": [
        "combdf.to_csv(r'\\Users/ unfilteredcombined.csv')"
      ],
      "execution_count": null,
      "outputs": []
    },
    {
      "cell_type": "markdown",
      "metadata": {
        "id": "4llep6JP6yxd"
      },
      "source": [
        "sampling"
      ]
    },
    {
      "cell_type": "code",
      "metadata": {
        "id": "wUdbMLQd6uak"
      },
      "source": [
        "#combdf[(combdf['filteredtext'] !=NaN) & (combdf['Gender'] ==\"nonbinary\")]\n",
        "\n",
        "df_a1 = combdf[(combdf.filteredtext.notna())&(combdf['Gender'] ==\"nonbinary\")].sample(10000)\n",
        "df_a2 = combdf[(combdf.filteredtext.notna())&(combdf['Gender'] ==\"male\")].sample(10000)\n",
        "df_a3 = combdf[(combdf.filteredtext.notna())&(combdf['Gender'] ==\"female\")].sample(10000)\n"
      ],
      "execution_count": null,
      "outputs": []
    },
    {
      "cell_type": "markdown",
      "metadata": {
        "id": "AHJp4cX26wre"
      },
      "source": [
        "gender column"
      ]
    },
    {
      "cell_type": "code",
      "metadata": {
        "id": "CoxfbAmT6wH2"
      },
      "source": [
        "def f(row):\n",
        "    if row['channel_id'] == \"UCkvK_5omS-42Ovgah8KRKtg\" or row['channel_id'] == \"UCbO9bltbkYwa56nZFQx6XJg\" or row['channel_id'] == \"UCCvoAe__WFYMNAEN-C-CtYA\" or row['channel_id'] == \"UCucot-Zp428OwkyRm2I7v2Q\" or row['channel_id'] == \"UCDHQbU57NZilrhbuZNbQcRA\" or row['channel_id'] == \"UC3EFKdXAU99j3ppGgvTz7XQ\" or row['channel_id'] == \"UCFn4TEi42U-WHYjiqaxpp3w\" or row['channel_id'] == \"UCXPbZbUPaNCcr5iyDetqsxg\" or row['channel_id'] == \"UC7FVvYGiBpgjGx7rqb5SIPg\" or row['channel_id'] == \"UCMYXusJ8Tcocq3AtT23T0eA\" or row['channel_id'] == \"UCNM5-NRrDxL0PWC5H52smaQ\" :\n",
        "        val = 'male'\n",
        "    elif row['channel_id'] == \"UCzTKskwIc_-a0cGvCXA848Q\" or row['channel_id'] == \"UC4qk9TtGhBKCkoWz5qGJcGg\" or row['channel_id'] == \"UC0YvTCy1I4_a-3pn47_5DBA\" or row['channel_id'] == \"UCuYx81nzzz4OFQrhbKDzTng\" or row['channel_id'] == \"UCc6W7efUSkd9YYoxOnctlFg\" or row['channel_id'] == \"UC21yq4sq8uxTcfgIxxyE9VQ\" or row['channel_id'] == \"UCbAwSkqJ1W_Eg7wr3cp5BUA\" or row['channel_id'] == \"UCGwPbAQdGA3_88WBuGtg9tw\" or row['channel_id'] == \"UCNBvzAJI3N92Sgl0guRxSxQ\" or row['channel_id'] == \"UCoziFm3M4sHDq1kkx0UwtRw\" or row['channel_id'] == \"UCGCVyTWogzQ4D170BLy2Arw\" or row['channel_id'] ==\"UCT9lRRTBWIqMIfVgSyfsg7Q\":\n",
        "        val = 'female'\n",
        "    else:\n",
        "        val = 'nonbinary'\n",
        "    return val\n",
        "\n",
        "\n",
        "combdf['Gender'] = combdf.apply(f, axis=1)"
      ],
      "execution_count": null,
      "outputs": []
    },
    {
      "cell_type": "markdown",
      "metadata": {
        "id": "BWafaiwN1oCQ"
      },
      "source": [
        "\n",
        "SEE: *'whatever we name the final version of the file'* to pull the desired data from the youtube api into a csv and upload that here.\n",
        "\n"
      ]
    },
    {
      "cell_type": "code",
      "metadata": {
        "colab": {
          "resources": {
            "http://localhost:8080/nbextensions/google.colab/files.js": {
              "data": "Ly8gQ29weXJpZ2h0IDIwMTcgR29vZ2xlIExMQwovLwovLyBMaWNlbnNlZCB1bmRlciB0aGUgQXBhY2hlIExpY2Vuc2UsIFZlcnNpb24gMi4wICh0aGUgIkxpY2Vuc2UiKTsKLy8geW91IG1heSBub3QgdXNlIHRoaXMgZmlsZSBleGNlcHQgaW4gY29tcGxpYW5jZSB3aXRoIHRoZSBMaWNlbnNlLgovLyBZb3UgbWF5IG9idGFpbiBhIGNvcHkgb2YgdGhlIExpY2Vuc2UgYXQKLy8KLy8gICAgICBodHRwOi8vd3d3LmFwYWNoZS5vcmcvbGljZW5zZXMvTElDRU5TRS0yLjAKLy8KLy8gVW5sZXNzIHJlcXVpcmVkIGJ5IGFwcGxpY2FibGUgbGF3IG9yIGFncmVlZCB0byBpbiB3cml0aW5nLCBzb2Z0d2FyZQovLyBkaXN0cmlidXRlZCB1bmRlciB0aGUgTGljZW5zZSBpcyBkaXN0cmlidXRlZCBvbiBhbiAiQVMgSVMiIEJBU0lTLAovLyBXSVRIT1VUIFdBUlJBTlRJRVMgT1IgQ09ORElUSU9OUyBPRiBBTlkgS0lORCwgZWl0aGVyIGV4cHJlc3Mgb3IgaW1wbGllZC4KLy8gU2VlIHRoZSBMaWNlbnNlIGZvciB0aGUgc3BlY2lmaWMgbGFuZ3VhZ2UgZ292ZXJuaW5nIHBlcm1pc3Npb25zIGFuZAovLyBsaW1pdGF0aW9ucyB1bmRlciB0aGUgTGljZW5zZS4KCi8qKgogKiBAZmlsZW92ZXJ2aWV3IEhlbHBlcnMgZm9yIGdvb2dsZS5jb2xhYiBQeXRob24gbW9kdWxlLgogKi8KKGZ1bmN0aW9uKHNjb3BlKSB7CmZ1bmN0aW9uIHNwYW4odGV4dCwgc3R5bGVBdHRyaWJ1dGVzID0ge30pIHsKICBjb25zdCBlbGVtZW50ID0gZG9jdW1lbnQuY3JlYXRlRWxlbWVudCgnc3BhbicpOwogIGVsZW1lbnQudGV4dENvbnRlbnQgPSB0ZXh0OwogIGZvciAoY29uc3Qga2V5IG9mIE9iamVjdC5rZXlzKHN0eWxlQXR0cmlidXRlcykpIHsKICAgIGVsZW1lbnQuc3R5bGVba2V5XSA9IHN0eWxlQXR0cmlidXRlc1trZXldOwogIH0KICByZXR1cm4gZWxlbWVudDsKfQoKLy8gTWF4IG51bWJlciBvZiBieXRlcyB3aGljaCB3aWxsIGJlIHVwbG9hZGVkIGF0IGEgdGltZS4KY29uc3QgTUFYX1BBWUxPQURfU0laRSA9IDEwMCAqIDEwMjQ7CgpmdW5jdGlvbiBfdXBsb2FkRmlsZXMoaW5wdXRJZCwgb3V0cHV0SWQpIHsKICBjb25zdCBzdGVwcyA9IHVwbG9hZEZpbGVzU3RlcChpbnB1dElkLCBvdXRwdXRJZCk7CiAgY29uc3Qgb3V0cHV0RWxlbWVudCA9IGRvY3VtZW50LmdldEVsZW1lbnRCeUlkKG91dHB1dElkKTsKICAvLyBDYWNoZSBzdGVwcyBvbiB0aGUgb3V0cHV0RWxlbWVudCB0byBtYWtlIGl0IGF2YWlsYWJsZSBmb3IgdGhlIG5leHQgY2FsbAogIC8vIHRvIHVwbG9hZEZpbGVzQ29udGludWUgZnJvbSBQeXRob24uCiAgb3V0cHV0RWxlbWVudC5zdGVwcyA9IHN0ZXBzOwoKICByZXR1cm4gX3VwbG9hZEZpbGVzQ29udGludWUob3V0cHV0SWQpOwp9CgovLyBUaGlzIGlzIHJvdWdobHkgYW4gYXN5bmMgZ2VuZXJhdG9yIChub3Qgc3VwcG9ydGVkIGluIHRoZSBicm93c2VyIHlldCksCi8vIHdoZXJlIHRoZXJlIGFyZSBtdWx0aXBsZSBhc3luY2hyb25vdXMgc3RlcHMgYW5kIHRoZSBQeXRob24gc2lkZSBpcyBnb2luZwovLyB0byBwb2xsIGZvciBjb21wbGV0aW9uIG9mIGVhY2ggc3RlcC4KLy8gVGhpcyB1c2VzIGEgUHJvbWlzZSB0byBibG9jayB0aGUgcHl0aG9uIHNpZGUgb24gY29tcGxldGlvbiBvZiBlYWNoIHN0ZXAsCi8vIHRoZW4gcGFzc2VzIHRoZSByZXN1bHQgb2YgdGhlIHByZXZpb3VzIHN0ZXAgYXMgdGhlIGlucHV0IHRvIHRoZSBuZXh0IHN0ZXAuCmZ1bmN0aW9uIF91cGxvYWRGaWxlc0NvbnRpbnVlKG91dHB1dElkKSB7CiAgY29uc3Qgb3V0cHV0RWxlbWVudCA9IGRvY3VtZW50LmdldEVsZW1lbnRCeUlkKG91dHB1dElkKTsKICBjb25zdCBzdGVwcyA9IG91dHB1dEVsZW1lbnQuc3RlcHM7CgogIGNvbnN0IG5leHQgPSBzdGVwcy5uZXh0KG91dHB1dEVsZW1lbnQubGFzdFByb21pc2VWYWx1ZSk7CiAgcmV0dXJuIFByb21pc2UucmVzb2x2ZShuZXh0LnZhbHVlLnByb21pc2UpLnRoZW4oKHZhbHVlKSA9PiB7CiAgICAvLyBDYWNoZSB0aGUgbGFzdCBwcm9taXNlIHZhbHVlIHRvIG1ha2UgaXQgYXZhaWxhYmxlIHRvIHRoZSBuZXh0CiAgICAvLyBzdGVwIG9mIHRoZSBnZW5lcmF0b3IuCiAgICBvdXRwdXRFbGVtZW50Lmxhc3RQcm9taXNlVmFsdWUgPSB2YWx1ZTsKICAgIHJldHVybiBuZXh0LnZhbHVlLnJlc3BvbnNlOwogIH0pOwp9CgovKioKICogR2VuZXJhdG9yIGZ1bmN0aW9uIHdoaWNoIGlzIGNhbGxlZCBiZXR3ZWVuIGVhY2ggYXN5bmMgc3RlcCBvZiB0aGUgdXBsb2FkCiAqIHByb2Nlc3MuCiAqIEBwYXJhbSB7c3RyaW5nfSBpbnB1dElkIEVsZW1lbnQgSUQgb2YgdGhlIGlucHV0IGZpbGUgcGlja2VyIGVsZW1lbnQuCiAqIEBwYXJhbSB7c3RyaW5nfSBvdXRwdXRJZCBFbGVtZW50IElEIG9mIHRoZSBvdXRwdXQgZGlzcGxheS4KICogQHJldHVybiB7IUl0ZXJhYmxlPCFPYmplY3Q+fSBJdGVyYWJsZSBvZiBuZXh0IHN0ZXBzLgogKi8KZnVuY3Rpb24qIHVwbG9hZEZpbGVzU3RlcChpbnB1dElkLCBvdXRwdXRJZCkgewogIGNvbnN0IGlucHV0RWxlbWVudCA9IGRvY3VtZW50LmdldEVsZW1lbnRCeUlkKGlucHV0SWQpOwogIGlucHV0RWxlbWVudC5kaXNhYmxlZCA9IGZhbHNlOwoKICBjb25zdCBvdXRwdXRFbGVtZW50ID0gZG9jdW1lbnQuZ2V0RWxlbWVudEJ5SWQob3V0cHV0SWQpOwogIG91dHB1dEVsZW1lbnQuaW5uZXJIVE1MID0gJyc7CgogIGNvbnN0IHBpY2tlZFByb21pc2UgPSBuZXcgUHJvbWlzZSgocmVzb2x2ZSkgPT4gewogICAgaW5wdXRFbGVtZW50LmFkZEV2ZW50TGlzdGVuZXIoJ2NoYW5nZScsIChlKSA9PiB7CiAgICAgIHJlc29sdmUoZS50YXJnZXQuZmlsZXMpOwogICAgfSk7CiAgfSk7CgogIGNvbnN0IGNhbmNlbCA9IGRvY3VtZW50LmNyZWF0ZUVsZW1lbnQoJ2J1dHRvbicpOwogIGlucHV0RWxlbWVudC5wYXJlbnRFbGVtZW50LmFwcGVuZENoaWxkKGNhbmNlbCk7CiAgY2FuY2VsLnRleHRDb250ZW50ID0gJ0NhbmNlbCB1cGxvYWQnOwogIGNvbnN0IGNhbmNlbFByb21pc2UgPSBuZXcgUHJvbWlzZSgocmVzb2x2ZSkgPT4gewogICAgY2FuY2VsLm9uY2xpY2sgPSAoKSA9PiB7CiAgICAgIHJlc29sdmUobnVsbCk7CiAgICB9OwogIH0pOwoKICAvLyBXYWl0IGZvciB0aGUgdXNlciB0byBwaWNrIHRoZSBmaWxlcy4KICBjb25zdCBmaWxlcyA9IHlpZWxkIHsKICAgIHByb21pc2U6IFByb21pc2UucmFjZShbcGlja2VkUHJvbWlzZSwgY2FuY2VsUHJvbWlzZV0pLAogICAgcmVzcG9uc2U6IHsKICAgICAgYWN0aW9uOiAnc3RhcnRpbmcnLAogICAgfQogIH07CgogIGNhbmNlbC5yZW1vdmUoKTsKCiAgLy8gRGlzYWJsZSB0aGUgaW5wdXQgZWxlbWVudCBzaW5jZSBmdXJ0aGVyIHBpY2tzIGFyZSBub3QgYWxsb3dlZC4KICBpbnB1dEVsZW1lbnQuZGlzYWJsZWQgPSB0cnVlOwoKICBpZiAoIWZpbGVzKSB7CiAgICByZXR1cm4gewogICAgICByZXNwb25zZTogewogICAgICAgIGFjdGlvbjogJ2NvbXBsZXRlJywKICAgICAgfQogICAgfTsKICB9CgogIGZvciAoY29uc3QgZmlsZSBvZiBmaWxlcykgewogICAgY29uc3QgbGkgPSBkb2N1bWVudC5jcmVhdGVFbGVtZW50KCdsaScpOwogICAgbGkuYXBwZW5kKHNwYW4oZmlsZS5uYW1lLCB7Zm9udFdlaWdodDogJ2JvbGQnfSkpOwogICAgbGkuYXBwZW5kKHNwYW4oCiAgICAgICAgYCgke2ZpbGUudHlwZSB8fCAnbi9hJ30pIC0gJHtmaWxlLnNpemV9IGJ5dGVzLCBgICsKICAgICAgICBgbGFzdCBtb2RpZmllZDogJHsKICAgICAgICAgICAgZmlsZS5sYXN0TW9kaWZpZWREYXRlID8gZmlsZS5sYXN0TW9kaWZpZWREYXRlLnRvTG9jYWxlRGF0ZVN0cmluZygpIDoKICAgICAgICAgICAgICAgICAgICAgICAgICAgICAgICAgICAgJ24vYSd9IC0gYCkpOwogICAgY29uc3QgcGVyY2VudCA9IHNwYW4oJzAlIGRvbmUnKTsKICAgIGxpLmFwcGVuZENoaWxkKHBlcmNlbnQpOwoKICAgIG91dHB1dEVsZW1lbnQuYXBwZW5kQ2hpbGQobGkpOwoKICAgIGNvbnN0IGZpbGVEYXRhUHJvbWlzZSA9IG5ldyBQcm9taXNlKChyZXNvbHZlKSA9PiB7CiAgICAgIGNvbnN0IHJlYWRlciA9IG5ldyBGaWxlUmVhZGVyKCk7CiAgICAgIHJlYWRlci5vbmxvYWQgPSAoZSkgPT4gewogICAgICAgIHJlc29sdmUoZS50YXJnZXQucmVzdWx0KTsKICAgICAgfTsKICAgICAgcmVhZGVyLnJlYWRBc0FycmF5QnVmZmVyKGZpbGUpOwogICAgfSk7CiAgICAvLyBXYWl0IGZvciB0aGUgZGF0YSB0byBiZSByZWFkeS4KICAgIGxldCBmaWxlRGF0YSA9IHlpZWxkIHsKICAgICAgcHJvbWlzZTogZmlsZURhdGFQcm9taXNlLAogICAgICByZXNwb25zZTogewogICAgICAgIGFjdGlvbjogJ2NvbnRpbnVlJywKICAgICAgfQogICAgfTsKCiAgICAvLyBVc2UgYSBjaHVua2VkIHNlbmRpbmcgdG8gYXZvaWQgbWVzc2FnZSBzaXplIGxpbWl0cy4gU2VlIGIvNjIxMTU2NjAuCiAgICBsZXQgcG9zaXRpb24gPSAwOwogICAgZG8gewogICAgICBjb25zdCBsZW5ndGggPSBNYXRoLm1pbihmaWxlRGF0YS5ieXRlTGVuZ3RoIC0gcG9zaXRpb24sIE1BWF9QQVlMT0FEX1NJWkUpOwogICAgICBjb25zdCBjaHVuayA9IG5ldyBVaW50OEFycmF5KGZpbGVEYXRhLCBwb3NpdGlvbiwgbGVuZ3RoKTsKICAgICAgcG9zaXRpb24gKz0gbGVuZ3RoOwoKICAgICAgY29uc3QgYmFzZTY0ID0gYnRvYShTdHJpbmcuZnJvbUNoYXJDb2RlLmFwcGx5KG51bGwsIGNodW5rKSk7CiAgICAgIHlpZWxkIHsKICAgICAgICByZXNwb25zZTogewogICAgICAgICAgYWN0aW9uOiAnYXBwZW5kJywKICAgICAgICAgIGZpbGU6IGZpbGUubmFtZSwKICAgICAgICAgIGRhdGE6IGJhc2U2NCwKICAgICAgICB9LAogICAgICB9OwoKICAgICAgbGV0IHBlcmNlbnREb25lID0gZmlsZURhdGEuYnl0ZUxlbmd0aCA9PT0gMCA/CiAgICAgICAgICAxMDAgOgogICAgICAgICAgTWF0aC5yb3VuZCgocG9zaXRpb24gLyBmaWxlRGF0YS5ieXRlTGVuZ3RoKSAqIDEwMCk7CiAgICAgIHBlcmNlbnQudGV4dENvbnRlbnQgPSBgJHtwZXJjZW50RG9uZX0lIGRvbmVgOwoKICAgIH0gd2hpbGUgKHBvc2l0aW9uIDwgZmlsZURhdGEuYnl0ZUxlbmd0aCk7CiAgfQoKICAvLyBBbGwgZG9uZS4KICB5aWVsZCB7CiAgICByZXNwb25zZTogewogICAgICBhY3Rpb246ICdjb21wbGV0ZScsCiAgICB9CiAgfTsKfQoKc2NvcGUuZ29vZ2xlID0gc2NvcGUuZ29vZ2xlIHx8IHt9OwpzY29wZS5nb29nbGUuY29sYWIgPSBzY29wZS5nb29nbGUuY29sYWIgfHwge307CnNjb3BlLmdvb2dsZS5jb2xhYi5fZmlsZXMgPSB7CiAgX3VwbG9hZEZpbGVzLAogIF91cGxvYWRGaWxlc0NvbnRpbnVlLAp9Owp9KShzZWxmKTsK",
              "ok": true,
              "headers": [
                [
                  "content-type",
                  "application/javascript"
                ]
              ],
              "status": 200,
              "status_text": ""
            }
          },
          "base_uri": "https://localhost:8080/",
          "height": 73
        },
        "id": "g4f95ik1xRWc",
        "outputId": "d2d98c8a-1346-4654-da9c-5be01de85c4f"
      },
      "source": [
        "#For pre-processing & cleaning\n",
        "#from google.colab import files\n",
        "#uploaded = files.upload()"
      ],
      "execution_count": null,
      "outputs": [
        {
          "output_type": "display_data",
          "data": {
            "text/html": [
              "\n",
              "     <input type=\"file\" id=\"files-9a762d67-231a-4541-a2f3-a4cf53ad6761\" name=\"files[]\" multiple disabled\n",
              "        style=\"border:none\" />\n",
              "     <output id=\"result-9a762d67-231a-4541-a2f3-a4cf53ad6761\">\n",
              "      Upload widget is only available when the cell has been executed in the\n",
              "      current browser session. Please rerun this cell to enable.\n",
              "      </output>\n",
              "      <script src=\"/nbextensions/google.colab/files.js\"></script> "
            ],
            "text/plain": [
              "<IPython.core.display.HTML object>"
            ]
          },
          "metadata": {
            "tags": []
          }
        },
        {
          "output_type": "stream",
          "text": [
            "Saving _final_sampled_df.csv to _final_sampled_df.csv\n"
          ],
          "name": "stdout"
        }
      ]
    },
    {
      "cell_type": "markdown",
      "metadata": {
        "id": "hHIkn2CL0i7y"
      },
      "source": [
        "Checking the file"
      ]
    },
    {
      "cell_type": "code",
      "metadata": {
        "id": "6LcOUFRez9Wc"
      },
      "source": [
        "#Checking the uploaded file\n",
        "#df = pd.read_filetype(\"name of file\")\n",
        "df = pd.read_csv(\"_final_sampled_df.csv\")"
      ],
      "execution_count": null,
      "outputs": []
    },
    {
      "cell_type": "code",
      "metadata": {
        "id": "grux4CBf0FlC",
        "colab": {
          "base_uri": "https://localhost:8080/"
        },
        "outputId": "7067be58-dd36-42dd-92c7-265f9d19562c"
      },
      "source": [
        "df.describe"
      ],
      "execution_count": null,
      "outputs": [
        {
          "output_type": "execute_result",
          "data": {
            "text/plain": [
              "<bound method NDFrame.describe of        Unnamed: 0  ...     Gender\n",
              "0               0  ...  nonbinary\n",
              "1               1  ...  nonbinary\n",
              "2               2  ...  nonbinary\n",
              "3               3  ...  nonbinary\n",
              "4               4  ...  nonbinary\n",
              "...           ...  ...        ...\n",
              "29995       29995  ...     female\n",
              "29996       29996  ...     female\n",
              "29997       29997  ...     female\n",
              "29998       29998  ...     female\n",
              "29999       29999  ...     female\n",
              "\n",
              "[30000 rows x 16 columns]>"
            ]
          },
          "metadata": {
            "tags": []
          },
          "execution_count": 54
        }
      ]
    },
    {
      "cell_type": "code",
      "metadata": {
        "id": "yOzgI9uR0edN"
      },
      "source": [
        "df[\"word count\"] = df[\"text\"].apply(len)"
      ],
      "execution_count": null,
      "outputs": []
    },
    {
      "cell_type": "code",
      "metadata": {
        "colab": {
          "base_uri": "https://localhost:8080/"
        },
        "id": "nz8zGmTd0fXe",
        "outputId": "77490eac-0b8e-4bf7-80bd-83cc4fd0e622"
      },
      "source": [
        "df[\"word count\"].describe()"
      ],
      "execution_count": null,
      "outputs": [
        {
          "output_type": "execute_result",
          "data": {
            "text/plain": [
              "count    30000.000000\n",
              "mean        96.135467\n",
              "std        165.344301\n",
              "min          5.000000\n",
              "25%         34.000000\n",
              "50%         58.000000\n",
              "75%        102.000000\n",
              "max       9032.000000\n",
              "Name: word count, dtype: float64"
            ]
          },
          "metadata": {
            "tags": []
          },
          "execution_count": 56
        }
      ]
    },
    {
      "cell_type": "code",
      "metadata": {
        "colab": {
          "base_uri": "https://localhost:8080/"
        },
        "id": "vLgzEiEn0gCa",
        "outputId": "0a562437-85d5-4387-ea84-5029063bd6d9"
      },
      "source": [
        "df[\"word count\"].median()"
      ],
      "execution_count": null,
      "outputs": [
        {
          "output_type": "execute_result",
          "data": {
            "text/plain": [
              "58.0"
            ]
          },
          "metadata": {
            "tags": []
          },
          "execution_count": 57
        }
      ]
    },
    {
      "cell_type": "code",
      "metadata": {
        "colab": {
          "base_uri": "https://localhost:8080/",
          "height": 984
        },
        "id": "BcnHSkZiPlZP",
        "outputId": "191fe1fe-015f-490a-c0a7-cf28ae961d3d"
      },
      "source": [
        "df"
      ],
      "execution_count": null,
      "outputs": [
        {
          "output_type": "execute_result",
          "data": {
            "text/html": [
              "<div>\n",
              "<style scoped>\n",
              "    .dataframe tbody tr th:only-of-type {\n",
              "        vertical-align: middle;\n",
              "    }\n",
              "\n",
              "    .dataframe tbody tr th {\n",
              "        vertical-align: top;\n",
              "    }\n",
              "\n",
              "    .dataframe thead th {\n",
              "        text-align: right;\n",
              "    }\n",
              "</style>\n",
              "<table border=\"1\" class=\"dataframe\">\n",
              "  <thead>\n",
              "    <tr style=\"text-align: right;\">\n",
              "      <th></th>\n",
              "      <th>Unnamed: 0</th>\n",
              "      <th>Unnamed: 0.1</th>\n",
              "      <th>id</th>\n",
              "      <th>text</th>\n",
              "      <th>author_name</th>\n",
              "      <th>author_id</th>\n",
              "      <th>like_count</th>\n",
              "      <th>published_at</th>\n",
              "      <th>updated_at</th>\n",
              "      <th>reply_count</th>\n",
              "      <th>video_id</th>\n",
              "      <th>channel_id</th>\n",
              "      <th>filtered_text</th>\n",
              "      <th>wordcount</th>\n",
              "      <th>filteredtext</th>\n",
              "      <th>Gender</th>\n",
              "      <th>word count</th>\n",
              "    </tr>\n",
              "  </thead>\n",
              "  <tbody>\n",
              "    <tr>\n",
              "      <th>0</th>\n",
              "      <td>0</td>\n",
              "      <td>3499.0</td>\n",
              "      <td>Ugw4ZKa65d3HHXcmmqF4AaABAg</td>\n",
              "      <td>Cool Lev reminds me of bad bunny đź�­ âť¤ď¸Ź</td>\n",
              "      <td>Christian Valenzuela</td>\n",
              "      <td>UCkxRHkiWVOUIWnxpA6cywlA</td>\n",
              "      <td>1.0</td>\n",
              "      <td>2021-06-05T03:20:49Z</td>\n",
              "      <td>2021-06-05T03:20:49Z</td>\n",
              "      <td>0.0</td>\n",
              "      <td>by4_sZCP52s</td>\n",
              "      <td>UCJyw_54aiqanw8s39eq6HbA</td>\n",
              "      <td>Cool Lev reminds me of bad bunny đź�­ âť¤ď¸Ź</td>\n",
              "      <td>7.0</td>\n",
              "      <td>Cool Lev reminds me of bad bunny đź�­ âť¤ď¸Ź</td>\n",
              "      <td>nonbinary</td>\n",
              "      <td>44</td>\n",
              "    </tr>\n",
              "    <tr>\n",
              "      <th>1</th>\n",
              "      <td>1</td>\n",
              "      <td>11690.0</td>\n",
              "      <td>UgyTTDd4SS3YRUIP0rd4AaABAg</td>\n",
              "      <td>Not with Willa Ford! Lol. This was everything....</td>\n",
              "      <td>TheALBox</td>\n",
              "      <td>UCSHD6JwkQR-xkgWUxGpOrLg</td>\n",
              "      <td>4.0</td>\n",
              "      <td>2021-03-17T05:35:00Z</td>\n",
              "      <td>2021-03-17T05:35:00Z</td>\n",
              "      <td>0.0</td>\n",
              "      <td>LrpsvUFHzgE</td>\n",
              "      <td>UCeNgRHpH7OHZetYjC5JZXGw</td>\n",
              "      <td>Not with Willa Ford! Lol. This was everything....</td>\n",
              "      <td>21.0</td>\n",
              "      <td>Not with Willa Ford! Lol. This was everything....</td>\n",
              "      <td>nonbinary</td>\n",
              "      <td>115</td>\n",
              "    </tr>\n",
              "    <tr>\n",
              "      <th>2</th>\n",
              "      <td>2</td>\n",
              "      <td>765.0</td>\n",
              "      <td>UgxElE4CNAZ3GRGhmD94AaABAg</td>\n",
              "      <td>FINALLYY!! OMG MY FAVORITE DUOOO đź’–</td>\n",
              "      <td>Lyle Matubis</td>\n",
              "      <td>UC3UVSBFMWIZD0ebE-YMvVjQ</td>\n",
              "      <td>0.0</td>\n",
              "      <td>2021-06-11T22:03:16Z</td>\n",
              "      <td>2021-06-11T22:03:16Z</td>\n",
              "      <td>0.0</td>\n",
              "      <td>4ULR-YsglO0</td>\n",
              "      <td>UCbLunbaq3ia4-FLfOHrHngQ</td>\n",
              "      <td>FINALLYY!! OMG MY FAVORITE DUOOO đź’–</td>\n",
              "      <td>5.0</td>\n",
              "      <td>FINALLYY!! OMG MY FAVORITE DUOOO đź’–</td>\n",
              "      <td>nonbinary</td>\n",
              "      <td>37</td>\n",
              "    </tr>\n",
              "    <tr>\n",
              "      <th>3</th>\n",
              "      <td>3</td>\n",
              "      <td>1991.0</td>\n",
              "      <td>UgxbCP_a4jq3apZ4T654AaABAg</td>\n",
              "      <td>I just watched a 4 minute add to support the c...</td>\n",
              "      <td>Jaime Flowers Ashley</td>\n",
              "      <td>UCRQTy6yjOZwA6RIcUUTY8KQ</td>\n",
              "      <td>0.0</td>\n",
              "      <td>2021-05-11T20:27:40Z</td>\n",
              "      <td>2021-05-11T20:27:40Z</td>\n",
              "      <td>0.0</td>\n",
              "      <td>iE9Y8YshvN8</td>\n",
              "      <td>UCbLunbaq3ia4-FLfOHrHngQ</td>\n",
              "      <td>I just watched a 4 minute add to support the c...</td>\n",
              "      <td>16.0</td>\n",
              "      <td>I just watched a 4 minute add to support the c...</td>\n",
              "      <td>nonbinary</td>\n",
              "      <td>77</td>\n",
              "    </tr>\n",
              "    <tr>\n",
              "      <th>4</th>\n",
              "      <td>4</td>\n",
              "      <td>11154.0</td>\n",
              "      <td>UgwS43_J41mC90PqpCB4AaABAg</td>\n",
              "      <td>Iâ€™m gonna dream about this later I can feel it</td>\n",
              "      <td>Petals</td>\n",
              "      <td>UCM5o1aeMLh_df-lJSfoaFZA</td>\n",
              "      <td>3.0</td>\n",
              "      <td>2021-05-02T01:00:23Z</td>\n",
              "      <td>2021-05-02T01:00:23Z</td>\n",
              "      <td>0.0</td>\n",
              "      <td>JeNBq1SSwZI</td>\n",
              "      <td>UCeNgRHpH7OHZetYjC5JZXGw</td>\n",
              "      <td>Iâ€™m gonna dream about this later I can feel it</td>\n",
              "      <td>11.0</td>\n",
              "      <td>Iâ€™m gonna dream about this later I can feel it</td>\n",
              "      <td>nonbinary</td>\n",
              "      <td>48</td>\n",
              "    </tr>\n",
              "    <tr>\n",
              "      <th>...</th>\n",
              "      <td>...</td>\n",
              "      <td>...</td>\n",
              "      <td>...</td>\n",
              "      <td>...</td>\n",
              "      <td>...</td>\n",
              "      <td>...</td>\n",
              "      <td>...</td>\n",
              "      <td>...</td>\n",
              "      <td>...</td>\n",
              "      <td>...</td>\n",
              "      <td>...</td>\n",
              "      <td>...</td>\n",
              "      <td>...</td>\n",
              "      <td>...</td>\n",
              "      <td>...</td>\n",
              "      <td>...</td>\n",
              "      <td>...</td>\n",
              "    </tr>\n",
              "    <tr>\n",
              "      <th>29995</th>\n",
              "      <td>29995</td>\n",
              "      <td>244259.0</td>\n",
              "      <td>Ugxs9IQpdOeEJkaB2gl4AaABAg</td>\n",
              "      <td>I'm sad, scared, and very very very very very ...</td>\n",
              "      <td>Elly</td>\n",
              "      <td>UCiyBJ7UVF7UGhGCRLbvO_mw</td>\n",
              "      <td>0.0</td>\n",
              "      <td>2020-10-08T19:59:35Z</td>\n",
              "      <td>2020-10-08T19:59:35Z</td>\n",
              "      <td>0.0</td>\n",
              "      <td>HQ9vRS1GbwQ</td>\n",
              "      <td>UCoziFm3M4sHDq1kkx0UwtRw</td>\n",
              "      <td>I'm sad, scared, and very very very very very ...</td>\n",
              "      <td>20.0</td>\n",
              "      <td>I'm sad, scared, and very very very very very ...</td>\n",
              "      <td>female</td>\n",
              "      <td>107</td>\n",
              "    </tr>\n",
              "    <tr>\n",
              "      <th>29996</th>\n",
              "      <td>29996</td>\n",
              "      <td>NaN</td>\n",
              "      <td>UgzRxnA4_Muxm6Z95Zp4AaABAg</td>\n",
              "      <td>are u 32, my dad is 35 and im 10</td>\n",
              "      <td>62 Productions</td>\n",
              "      <td>UCgZ_4iKW8ovnXWo1maJeyiw</td>\n",
              "      <td>0.0</td>\n",
              "      <td>2019-09-21T22:03:49Z</td>\n",
              "      <td>2019-09-21T22:03:49Z</td>\n",
              "      <td>0.0</td>\n",
              "      <td>RP5vuMYpAKE</td>\n",
              "      <td>UC0YvTCy1I4_a-3pn47_5DBA</td>\n",
              "      <td>are u 32, my dad is 35 and im 10</td>\n",
              "      <td>10.0</td>\n",
              "      <td>are u 32, my dad is 35 and im 10</td>\n",
              "      <td>female</td>\n",
              "      <td>32</td>\n",
              "    </tr>\n",
              "    <tr>\n",
              "      <th>29997</th>\n",
              "      <td>29997</td>\n",
              "      <td>NaN</td>\n",
              "      <td>UgwWu4b3oijE4kL2RaZ4AaABAg</td>\n",
              "      <td>OMGGGGGG the Queen is back!! Love you TATI!!</td>\n",
              "      <td>Nadia Fuzi</td>\n",
              "      <td>UC4P3OEMYtoZUn8RLxm0wNXg</td>\n",
              "      <td>0.0</td>\n",
              "      <td>2021-06-22T04:53:00Z</td>\n",
              "      <td>2021-06-22T04:53:00Z</td>\n",
              "      <td>0.0</td>\n",
              "      <td>xL6sY85O77I</td>\n",
              "      <td>UC4qk9TtGhBKCkoWz5qGJcGg</td>\n",
              "      <td>OMGGGGGG the Queen is back!! Love you TATI!!</td>\n",
              "      <td>8.0</td>\n",
              "      <td>OMGGGGGG the Queen is back!! Love you TATI!!</td>\n",
              "      <td>female</td>\n",
              "      <td>44</td>\n",
              "    </tr>\n",
              "    <tr>\n",
              "      <th>29998</th>\n",
              "      <td>29998</td>\n",
              "      <td>207622.0</td>\n",
              "      <td>UgyhfOXk3mxGOEje3MF4AaABAg</td>\n",
              "      <td>I love your channel it makes me smile!! ❤❤ ItS...</td>\n",
              "      <td>keori webb</td>\n",
              "      <td>UCjxXyQXbtqKNQrIJsqSpuLg</td>\n",
              "      <td>1.0</td>\n",
              "      <td>2021-03-27T19:00:04Z</td>\n",
              "      <td>2021-03-27T19:00:04Z</td>\n",
              "      <td>0.0</td>\n",
              "      <td>wGhMvWjOxfU</td>\n",
              "      <td>UCGCVyTWogzQ4D170BLy2Arw</td>\n",
              "      <td>I love your channel it makes me smile!! ❤❤ ItS...</td>\n",
              "      <td>13.0</td>\n",
              "      <td>I love your channel it makes me smile!! ❤❤ ItS...</td>\n",
              "      <td>female</td>\n",
              "      <td>68</td>\n",
              "    </tr>\n",
              "    <tr>\n",
              "      <th>29999</th>\n",
              "      <td>29999</td>\n",
              "      <td>246214.0</td>\n",
              "      <td>UgzSfTQ6qOoxTuIFHb54AaABAg</td>\n",
              "      <td>Moral of the story \\nMykie just likes Leonardo...</td>\n",
              "      <td>Miss Morte</td>\n",
              "      <td>UCv5qXvOHhYZGm6yDohWYe1g</td>\n",
              "      <td>0.0</td>\n",
              "      <td>2020-09-29T02:51:18Z</td>\n",
              "      <td>2020-09-29T02:51:18Z</td>\n",
              "      <td>0.0</td>\n",
              "      <td>yEdEG7Stp3U</td>\n",
              "      <td>UCoziFm3M4sHDq1kkx0UwtRw</td>\n",
              "      <td>Moral of the story Mykie just likes Leonardo D...</td>\n",
              "      <td>9.0</td>\n",
              "      <td>Moral of the story Mykie just likes Leonardo D...</td>\n",
              "      <td>female</td>\n",
              "      <td>54</td>\n",
              "    </tr>\n",
              "  </tbody>\n",
              "</table>\n",
              "<p>30000 rows × 17 columns</p>\n",
              "</div>"
            ],
            "text/plain": [
              "       Unnamed: 0  Unnamed: 0.1  ...     Gender word count\n",
              "0               0        3499.0  ...  nonbinary         44\n",
              "1               1       11690.0  ...  nonbinary        115\n",
              "2               2         765.0  ...  nonbinary         37\n",
              "3               3        1991.0  ...  nonbinary         77\n",
              "4               4       11154.0  ...  nonbinary         48\n",
              "...           ...           ...  ...        ...        ...\n",
              "29995       29995      244259.0  ...     female        107\n",
              "29996       29996           NaN  ...     female         32\n",
              "29997       29997           NaN  ...     female         44\n",
              "29998       29998      207622.0  ...     female         68\n",
              "29999       29999      246214.0  ...     female         54\n",
              "\n",
              "[30000 rows x 17 columns]"
            ]
          },
          "metadata": {
            "tags": []
          },
          "execution_count": 58
        }
      ]
    },
    {
      "cell_type": "markdown",
      "metadata": {
        "id": "udLPzh-SwjbZ"
      },
      "source": [
        "# Pre-processing & Cleaning\n"
      ]
    },
    {
      "cell_type": "markdown",
      "metadata": {
        "id": "Gqwdkx4RIgQY"
      },
      "source": [
        "## Tokenization\n",
        "\n",
        "\n",
        "> We used NLTK for this, but feel free to use spacy or another tool as long as your consistent with it deriving sentiment scores and comparing scores that were scored on the same (cleaned and tokenized) comments. We also recommend running the tests on raw comments for comparison when possible.\n",
        "\n"
      ]
    },
    {
      "cell_type": "code",
      "metadata": {
        "id": "TcSW7GEHwbck"
      },
      "source": [
        "nltk.download('stopwords')\n",
        "tokenizer = TweetTokenizer()\n",
        "stopwords = nltk.corpus.stopwords.words('english')"
      ],
      "execution_count": null,
      "outputs": []
    },
    {
      "cell_type": "code",
      "metadata": {
        "id": "WvmIHGpYwtN1"
      },
      "source": [
        "df[\"clean_text_nltk\"] = df.text.apply(str.lower)\n",
        "df[\"clean_text_nltk\"] = df.clean_text_nltk.apply(lambda x: \" \".join(token for token in tokenizer.tokenize(x) if token not in stopwords))\n",
        "df[\"clean_text_nltk\"] = df.clean_text_nltk.str.translate(str.maketrans(dict.fromkeys(string.punctuation, \"\")))"
      ],
      "execution_count": null,
      "outputs": []
    },
    {
      "cell_type": "code",
      "metadata": {
        "id": "KA2_TIFZws0z"
      },
      "source": [
        "df"
      ],
      "execution_count": null,
      "outputs": []
    },
    {
      "cell_type": "markdown",
      "metadata": {
        "id": "QhWe-P6sHfyt"
      },
      "source": [
        "##Lemmetization \n",
        "Lemmetization is a tool to detect words that have the same root. Meaning that the words have the same base. For example: Playing, played, plays all have the base: play. Implementing lemmetization can influence the wordcount of comments and make it possibly more accurate. \n"
      ]
    },
    {
      "cell_type": "code",
      "metadata": {
        "id": "xj7Piy5EH8mM"
      },
      "source": [
        "for token in nlp(str(df[\"clean_text_nltk\"]))\n",
        "  print(token.text, token.lemma_)"
      ],
      "execution_count": null,
      "outputs": []
    },
    {
      "cell_type": "markdown",
      "metadata": {
        "id": "wReGM6HdJTUS"
      },
      "source": [
        "## Parts-of-speech tagging (PoS tagging)\n",
        "PoS is used to detect which label is most applicable to the words within their context. It then classifies the words as nouns, verbs etc."
      ]
    },
    {
      "cell_type": "code",
      "metadata": {
        "id": "EZw-f2eBJ5Eb"
      },
      "source": [
        "for token in nlp(str(df[\"clean_text_nltk\"]))\n",
        "  print(token.text,token.pos_)"
      ],
      "execution_count": null,
      "outputs": []
    },
    {
      "cell_type": "markdown",
      "metadata": {
        "id": "S4X1Ug_JKAQq"
      },
      "source": [
        "## Named Entity Recognition (NER)\n",
        "NER is used to label and locate different entities within the given text. These entities can be names, locations, institutions etc."
      ]
    },
    {
      "cell_type": "code",
      "metadata": {
        "id": "QPySvD_8KaG_"
      },
      "source": [
        "for entity in nlp(str(df[\"clean_text_nltk\"]).ents:\n",
        "  print(entity.text,'--- ',entity.label_)"
      ],
      "execution_count": null,
      "outputs": []
    },
    {
      "cell_type": "markdown",
      "metadata": {
        "id": "2HNSVlUeHaqI"
      },
      "source": [
        ""
      ]
    },
    {
      "cell_type": "markdown",
      "metadata": {
        "id": "UEJX53wZ0Mzo"
      },
      "source": [
        "# Rudimentary Text analysis"
      ]
    },
    {
      "cell_type": "markdown",
      "metadata": {
        "id": "6XK0A4dv1z8K"
      },
      "source": [
        "## Wordcounting, ngrams, etc."
      ]
    },
    {
      "cell_type": "code",
      "metadata": {
        "id": "Iy2wtFGV0Psx"
      },
      "source": [
        "def count_words(text_column):\n",
        "    word_counter = Counter()\n",
        "    text_column.str.split().apply(word_counter.update)\n",
        "    return word_counter"
      ],
      "execution_count": null,
      "outputs": []
    },
    {
      "cell_type": "code",
      "metadata": {
        "id": "f17bqgfm0Rq3"
      },
      "source": [
        "word_counter = count_words(df.text)"
      ],
      "execution_count": null,
      "outputs": []
    },
    {
      "cell_type": "code",
      "metadata": {
        "id": "hEmEG32vP0eZ"
      },
      "source": [
        "#checking effects of nltk tokenization \n",
        "wordcounter = count_words(df.clean_text_nltk) #number of words after tokenizing using nltk\n",
        "wordcounter.most_common(10)"
      ],
      "execution_count": null,
      "outputs": []
    },
    {
      "cell_type": "code",
      "metadata": {
        "id": "JJE52HyNBLIo"
      },
      "source": [
        "df"
      ],
      "execution_count": null,
      "outputs": []
    },
    {
      "cell_type": "code",
      "metadata": {
        "id": "9GaNBtEVBVHU"
      },
      "source": [
        "#male\n",
        "wordcounter_ = count_words(df[df['Gender']==\"male\"]['text']) \n",
        "wordcounter_.most_common(10)"
      ],
      "execution_count": null,
      "outputs": []
    },
    {
      "cell_type": "code",
      "metadata": {
        "id": "CD0ig23xBWeU"
      },
      "source": [
        "#female\n",
        "wordcounter_ = count_words(df[df['Gender']==\"female\"]['text']) \n",
        "wordcounter_.most_common(10)"
      ],
      "execution_count": null,
      "outputs": []
    },
    {
      "cell_type": "code",
      "metadata": {
        "id": "IK2vHN1ABXgt"
      },
      "source": [
        "#nonbinary\n",
        "wordcounter_ = count_words(df[df['Gender']==\"nonbinary\"]['text']) \n",
        "wordcounter_.most_common(10)"
      ],
      "execution_count": null,
      "outputs": []
    },
    {
      "cell_type": "code",
      "metadata": {
        "id": "uVvIoTTk0S7x"
      },
      "source": [
        "word_counter.most_common(10)"
      ],
      "execution_count": null,
      "outputs": []
    },
    {
      "cell_type": "code",
      "metadata": {
        "id": "iqUpmv1FBRxu"
      },
      "source": [
        "df.groupby(\"Gender\").text.describe() #how many comments there are per \"Gender\""
      ],
      "execution_count": null,
      "outputs": []
    },
    {
      "cell_type": "markdown",
      "metadata": {
        "id": "wDVLP4JgHO6m"
      },
      "source": [
        "## Word Clouds\n",
        "Check https://amueller.github.io/word_cloud/ to learn more about it"
      ]
    },
    {
      "cell_type": "code",
      "metadata": {
        "id": "u-njrizOHToX"
      },
      "source": [
        "text = df.text.str.cat(sep=\" \")\n",
        "wordcloud = WordCloud().generate(text)"
      ],
      "execution_count": null,
      "outputs": []
    },
    {
      "cell_type": "code",
      "metadata": {
        "id": "iOsBiHiaHXdQ"
      },
      "source": [
        "plt.imshow(wordcloud, interpolation='bilinear')\n",
        "plt.axis(\"off\")"
      ],
      "execution_count": null,
      "outputs": []
    },
    {
      "cell_type": "markdown",
      "metadata": {
        "id": "S586E4QRHa0V"
      },
      "source": [
        "Counting Ngrams"
      ]
    },
    {
      "cell_type": "code",
      "metadata": {
        "id": "lBjoeFFKHkea"
      },
      "source": [
        "#Running via Google Collab likely won't complete counts past 2, so run this locally through your preferred IDE. We still aren't certain why this is the case ~\n",
        "def count_ngrams(text_column, n):\n",
        "    fdist = nltk.FreqDist()\n",
        "    for text in text_column:\n",
        "        fdist.update(nltk.ngrams(text.split(), n))\n",
        "    return fdist"
      ],
      "execution_count": null,
      "outputs": []
    },
    {
      "cell_type": "code",
      "metadata": {
        "id": "87BUeHoFHkWs"
      },
      "source": [
        "count_ngrams(df.text, 2).most_common(50)"
      ],
      "execution_count": null,
      "outputs": []
    },
    {
      "cell_type": "code",
      "metadata": {
        "id": "CiyuJwD4H_qy"
      },
      "source": [
        "#count_ngrams(df.text, 3).most_common(10)"
      ],
      "execution_count": null,
      "outputs": []
    },
    {
      "cell_type": "markdown",
      "metadata": {
        "id": "kacltTbKwuVZ"
      },
      "source": [
        "# Analysis\n",
        "Sentiment Analysis, Toxicity Analysis, & Language Detection\n",
        "\n",
        "\n",
        "> Option 1: NLTK\n",
        "> See http://www.nltk.org/howto/sentiment.html and https://towardsdatascience.com/sentimental-analysis-using-vader-a3415fef7664\n",
        "\n",
        "\n",
        "> Option 2: TextBlob\n",
        "> See https://textblob.readthedocs.io/en/dev/quickstart.html#sentiment-analysis\n",
        "\n",
        "\n",
        "\n",
        "We do both and compare.\n",
        "\n"
      ]
    },
    {
      "cell_type": "markdown",
      "metadata": {
        "id": "KoPHnaj2y-Qc"
      },
      "source": [
        "### Defining & Checking NLTK & TextBlob\n"
      ]
    },
    {
      "cell_type": "code",
      "metadata": {
        "colab": {
          "resources": {
            "http://localhost:8080/nbextensions/google.colab/files.js": {
              "data": "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",
              "ok": true,
              "headers": [
                [
                  "content-type",
                  "application/javascript"
                ]
              ],
              "status": 200,
              "status_text": ""
            }
          },
          "base_uri": "https://localhost:8080/",
          "height": 348
        },
        "id": "IPTj0pPCxfpU",
        "outputId": "5b378348-b6bc-4967-8314-302c31cc21b4"
      },
      "source": [
        "#For analysis on the processed and cleaned csv/pickle/whatever you use\n",
        "#from google.colab import files\n",
        "#uploaded = files.upload()"
      ],
      "execution_count": null,
      "outputs": [
        {
          "output_type": "display_data",
          "data": {
            "text/html": [
              "\n",
              "     <input type=\"file\" id=\"files-e263790b-398f-4ac5-b0c6-16616061b11c\" name=\"files[]\" multiple disabled\n",
              "        style=\"border:none\" />\n",
              "     <output id=\"result-e263790b-398f-4ac5-b0c6-16616061b11c\">\n",
              "      Upload widget is only available when the cell has been executed in the\n",
              "      current browser session. Please rerun this cell to enable.\n",
              "      </output>\n",
              "      <script src=\"/nbextensions/google.colab/files.js\"></script> "
            ],
            "text/plain": [
              "<IPython.core.display.HTML object>"
            ]
          },
          "metadata": {
            "tags": []
          }
        },
        {
          "output_type": "error",
          "ename": "TypeError",
          "evalue": "ignored",
          "traceback": [
            "\u001b[0;31m---------------------------------------------------------------------------\u001b[0m",
            "\u001b[0;31mTypeError\u001b[0m                                 Traceback (most recent call last)",
            "\u001b[0;32m<ipython-input-27-bb032390b58c>\u001b[0m in \u001b[0;36m<module>\u001b[0;34m()\u001b[0m\n\u001b[1;32m      1\u001b[0m \u001b[0;31m#For analysis on the processed and cleaned csv/pickle/whatever you use\u001b[0m\u001b[0;34m\u001b[0m\u001b[0;34m\u001b[0m\u001b[0;34m\u001b[0m\u001b[0m\n\u001b[1;32m      2\u001b[0m \u001b[0;32mfrom\u001b[0m \u001b[0mgoogle\u001b[0m\u001b[0;34m.\u001b[0m\u001b[0mcolab\u001b[0m \u001b[0;32mimport\u001b[0m \u001b[0mfiles\u001b[0m\u001b[0;34m\u001b[0m\u001b[0;34m\u001b[0m\u001b[0m\n\u001b[0;32m----> 3\u001b[0;31m \u001b[0muploaded\u001b[0m \u001b[0;34m=\u001b[0m \u001b[0mfiles\u001b[0m\u001b[0;34m.\u001b[0m\u001b[0mupload\u001b[0m\u001b[0;34m(\u001b[0m\u001b[0;34m)\u001b[0m\u001b[0;34m\u001b[0m\u001b[0;34m\u001b[0m\u001b[0m\n\u001b[0m",
            "\u001b[0;32m/usr/local/lib/python3.7/dist-packages/google/colab/files.py\u001b[0m in \u001b[0;36mupload\u001b[0;34m()\u001b[0m\n\u001b[1;32m     67\u001b[0m   \u001b[0mlocal_filenames\u001b[0m \u001b[0;34m=\u001b[0m \u001b[0mdict\u001b[0m\u001b[0;34m(\u001b[0m\u001b[0;34m)\u001b[0m\u001b[0;34m\u001b[0m\u001b[0;34m\u001b[0m\u001b[0m\n\u001b[1;32m     68\u001b[0m \u001b[0;34m\u001b[0m\u001b[0m\n\u001b[0;32m---> 69\u001b[0;31m   \u001b[0;32mwhile\u001b[0m \u001b[0mresult\u001b[0m\u001b[0;34m[\u001b[0m\u001b[0;34m'action'\u001b[0m\u001b[0;34m]\u001b[0m \u001b[0;34m!=\u001b[0m \u001b[0;34m'complete'\u001b[0m\u001b[0;34m:\u001b[0m\u001b[0;34m\u001b[0m\u001b[0;34m\u001b[0m\u001b[0m\n\u001b[0m\u001b[1;32m     70\u001b[0m     result = _output.eval_js(\n\u001b[1;32m     71\u001b[0m         'google.colab._files._uploadFilesContinue(\"{output_id}\")'.format(\n",
            "\u001b[0;31mTypeError\u001b[0m: 'NoneType' object is not subscriptable"
          ]
        }
      ]
    },
    {
      "cell_type": "code",
      "metadata": {
        "id": "mZgEj43D2Hg5",
        "colab": {
          "base_uri": "https://localhost:8080/"
        },
        "outputId": "8c06f8dc-bcf8-4c51-e0db-b2d334205f31"
      },
      "source": [
        "#NLTK\n",
        "nltk.download('vader_lexicon')\n",
        "sid = SentimentIntensityAnalyzer()"
      ],
      "execution_count": null,
      "outputs": [
        {
          "output_type": "stream",
          "text": [
            "[nltk_data] Downloading package vader_lexicon to /root/nltk_data...\n"
          ],
          "name": "stdout"
        }
      ]
    },
    {
      "cell_type": "code",
      "metadata": {
        "id": "FRsW5fev2HRc",
        "colab": {
          "base_uri": "https://localhost:8080/"
        },
        "outputId": "cd1efead-fad5-45d9-bb2b-73b5917c360f"
      },
      "source": [
        "#checking sid\n",
        "sid.polarity_scores(\"This movie is great, but the acting kinda sucks...\")[\"compound\"]"
      ],
      "execution_count": null,
      "outputs": [
        {
          "output_type": "execute_result",
          "data": {
            "text/plain": [
              "0.3716"
            ]
          },
          "metadata": {
            "tags": []
          },
          "execution_count": 66
        }
      ]
    },
    {
      "cell_type": "code",
      "metadata": {
        "id": "0nCR9_WJ2HPH",
        "colab": {
          "base_uri": "https://localhost:8080/"
        },
        "outputId": "a1ac4f47-cb1a-448e-8118-0c410570fc67"
      },
      "source": [
        "#checking sid on df.text.sample\n",
        "comment = df.text.sample(1).values[0]\n",
        "sid.polarity_scores(comment)\n",
        "print(comment)\n"
      ],
      "execution_count": null,
      "outputs": [
        {
          "output_type": "stream",
          "text": [
            "Grl nobody tryna spend 20$ for a gloss during a pandemic when you have to wear a mask 😷🥱that mask Gona be wearing that gloss more then you lip 😂🤭 I'll stick to my 8$ Milani works just as good 💅\n"
          ],
          "name": "stdout"
        }
      ]
    },
    {
      "cell_type": "code",
      "metadata": {
        "id": "xaFeoQ0O5OEJ",
        "colab": {
          "base_uri": "https://localhost:8080/"
        },
        "outputId": "be2de105-90a2-442f-b0d8-ec1abb7f42e5"
      },
      "source": [
        "#checking TextBlob\n",
        "TextBlob(\"This movie is great, but the acting kinda sucks...\").sentiment"
      ],
      "execution_count": null,
      "outputs": [
        {
          "output_type": "execute_result",
          "data": {
            "text/plain": [
              "Sentiment(polarity=0.16666666666666666, subjectivity=0.35000000000000003)"
            ]
          },
          "metadata": {
            "tags": []
          },
          "execution_count": 68
        }
      ]
    },
    {
      "cell_type": "code",
      "metadata": {
        "id": "FjBQYdh75Q81",
        "colab": {
          "base_uri": "https://localhost:8080/"
        },
        "outputId": "5e8d8094-9beb-4b87-dd57-3735f69af91a"
      },
      "source": [
        "#checking TextBlob on df.text\n",
        "TextBlob(comment).sentiment\n",
        "print(comment)"
      ],
      "execution_count": null,
      "outputs": [
        {
          "output_type": "stream",
          "text": [
            "Grl nobody tryna spend 20$ for a gloss during a pandemic when you have to wear a mask 😷🥱that mask Gona be wearing that gloss more then you lip 😂🤭 I'll stick to my 8$ Milani works just as good 💅\n"
          ],
          "name": "stdout"
        }
      ]
    },
    {
      "cell_type": "markdown",
      "metadata": {
        "id": "Nx-fNpDC4_OS"
      },
      "source": [
        "Applying NLTK Scores and TextBlob(TB) Scores to the DataFrame(df)"
      ]
    },
    {
      "cell_type": "code",
      "metadata": {
        "id": "azobjTvA2HMk",
        "colab": {
          "base_uri": "https://localhost:8080/",
          "height": 984
        },
        "outputId": "2e99c553-89d2-448f-a7bb-b7ef144a1f5b"
      },
      "source": [
        "#Textblob scoring on nltk cleaned and uncleaned addending to df, then checking df\n",
        "df[\"tbpolarity\"] = df.text.apply(lambda x: TextBlob(x).sentiment.polarity) #on uncleaned\n",
        "df[\"clean_tbpolarity\"] = df.clean_text_nltk.apply(lambda x: TextBlob(x).sentiment.polarity) #on nltkcleaned\n",
        "df"
      ],
      "execution_count": null,
      "outputs": [
        {
          "output_type": "execute_result",
          "data": {
            "text/html": [
              "<div>\n",
              "<style scoped>\n",
              "    .dataframe tbody tr th:only-of-type {\n",
              "        vertical-align: middle;\n",
              "    }\n",
              "\n",
              "    .dataframe tbody tr th {\n",
              "        vertical-align: top;\n",
              "    }\n",
              "\n",
              "    .dataframe thead th {\n",
              "        text-align: right;\n",
              "    }\n",
              "</style>\n",
              "<table border=\"1\" class=\"dataframe\">\n",
              "  <thead>\n",
              "    <tr style=\"text-align: right;\">\n",
              "      <th></th>\n",
              "      <th>Unnamed: 0</th>\n",
              "      <th>Unnamed: 0.1</th>\n",
              "      <th>id</th>\n",
              "      <th>text</th>\n",
              "      <th>author_name</th>\n",
              "      <th>author_id</th>\n",
              "      <th>like_count</th>\n",
              "      <th>published_at</th>\n",
              "      <th>updated_at</th>\n",
              "      <th>reply_count</th>\n",
              "      <th>video_id</th>\n",
              "      <th>channel_id</th>\n",
              "      <th>filtered_text</th>\n",
              "      <th>wordcount</th>\n",
              "      <th>filteredtext</th>\n",
              "      <th>Gender</th>\n",
              "      <th>word count</th>\n",
              "      <th>clean_text_nltk</th>\n",
              "      <th>tbpolarity</th>\n",
              "      <th>clean_tbpolarity</th>\n",
              "    </tr>\n",
              "  </thead>\n",
              "  <tbody>\n",
              "    <tr>\n",
              "      <th>0</th>\n",
              "      <td>0</td>\n",
              "      <td>3499.0</td>\n",
              "      <td>Ugw4ZKa65d3HHXcmmqF4AaABAg</td>\n",
              "      <td>Cool Lev reminds me of bad bunny đź�­ âť¤ď¸Ź</td>\n",
              "      <td>Christian Valenzuela</td>\n",
              "      <td>UCkxRHkiWVOUIWnxpA6cywlA</td>\n",
              "      <td>1.0</td>\n",
              "      <td>2021-06-05T03:20:49Z</td>\n",
              "      <td>2021-06-05T03:20:49Z</td>\n",
              "      <td>0.0</td>\n",
              "      <td>by4_sZCP52s</td>\n",
              "      <td>UCJyw_54aiqanw8s39eq6HbA</td>\n",
              "      <td>Cool Lev reminds me of bad bunny đź�­ âť¤ď¸Ź</td>\n",
              "      <td>7.0</td>\n",
              "      <td>Cool Lev reminds me of bad bunny đź�­ âť¤ď¸Ź</td>\n",
              "      <td>nonbinary</td>\n",
              "      <td>44</td>\n",
              "      <td>cool lev reminds bad bunny đź � ­ âť ¤ ď ¸ ź</td>\n",
              "      <td>-0.175000</td>\n",
              "      <td>-0.175000</td>\n",
              "    </tr>\n",
              "    <tr>\n",
              "      <th>1</th>\n",
              "      <td>1</td>\n",
              "      <td>11690.0</td>\n",
              "      <td>UgyTTDd4SS3YRUIP0rd4AaABAg</td>\n",
              "      <td>Not with Willa Ford! Lol. This was everything....</td>\n",
              "      <td>TheALBox</td>\n",
              "      <td>UCSHD6JwkQR-xkgWUxGpOrLg</td>\n",
              "      <td>4.0</td>\n",
              "      <td>2021-03-17T05:35:00Z</td>\n",
              "      <td>2021-03-17T05:35:00Z</td>\n",
              "      <td>0.0</td>\n",
              "      <td>LrpsvUFHzgE</td>\n",
              "      <td>UCeNgRHpH7OHZetYjC5JZXGw</td>\n",
              "      <td>Not with Willa Ford! Lol. This was everything....</td>\n",
              "      <td>21.0</td>\n",
              "      <td>Not with Willa Ford! Lol. This was everything....</td>\n",
              "      <td>nonbinary</td>\n",
              "      <td>115</td>\n",
              "      <td>willa ford  lol  everything  even throwing bac...</td>\n",
              "      <td>0.291667</td>\n",
              "      <td>0.291667</td>\n",
              "    </tr>\n",
              "    <tr>\n",
              "      <th>2</th>\n",
              "      <td>2</td>\n",
              "      <td>765.0</td>\n",
              "      <td>UgxElE4CNAZ3GRGhmD94AaABAg</td>\n",
              "      <td>FINALLYY!! OMG MY FAVORITE DUOOO đź’–</td>\n",
              "      <td>Lyle Matubis</td>\n",
              "      <td>UC3UVSBFMWIZD0ebE-YMvVjQ</td>\n",
              "      <td>0.0</td>\n",
              "      <td>2021-06-11T22:03:16Z</td>\n",
              "      <td>2021-06-11T22:03:16Z</td>\n",
              "      <td>0.0</td>\n",
              "      <td>4ULR-YsglO0</td>\n",
              "      <td>UCbLunbaq3ia4-FLfOHrHngQ</td>\n",
              "      <td>FINALLYY!! OMG MY FAVORITE DUOOO đź’–</td>\n",
              "      <td>5.0</td>\n",
              "      <td>FINALLYY!! OMG MY FAVORITE DUOOO đź’–</td>\n",
              "      <td>nonbinary</td>\n",
              "      <td>37</td>\n",
              "      <td>finallyy   omg favorite duooo đź ’ –</td>\n",
              "      <td>0.500000</td>\n",
              "      <td>0.500000</td>\n",
              "    </tr>\n",
              "    <tr>\n",
              "      <th>3</th>\n",
              "      <td>3</td>\n",
              "      <td>1991.0</td>\n",
              "      <td>UgxbCP_a4jq3apZ4T654AaABAg</td>\n",
              "      <td>I just watched a 4 minute add to support the c...</td>\n",
              "      <td>Jaime Flowers Ashley</td>\n",
              "      <td>UCRQTy6yjOZwA6RIcUUTY8KQ</td>\n",
              "      <td>0.0</td>\n",
              "      <td>2021-05-11T20:27:40Z</td>\n",
              "      <td>2021-05-11T20:27:40Z</td>\n",
              "      <td>0.0</td>\n",
              "      <td>iE9Y8YshvN8</td>\n",
              "      <td>UCbLunbaq3ia4-FLfOHrHngQ</td>\n",
              "      <td>I just watched a 4 minute add to support the c...</td>\n",
              "      <td>16.0</td>\n",
              "      <td>I just watched a 4 minute add to support the c...</td>\n",
              "      <td>nonbinary</td>\n",
              "      <td>77</td>\n",
              "      <td>watched 4 minute add support channel  love work</td>\n",
              "      <td>0.625000</td>\n",
              "      <td>0.500000</td>\n",
              "    </tr>\n",
              "    <tr>\n",
              "      <th>4</th>\n",
              "      <td>4</td>\n",
              "      <td>11154.0</td>\n",
              "      <td>UgwS43_J41mC90PqpCB4AaABAg</td>\n",
              "      <td>Iâ€™m gonna dream about this later I can feel it</td>\n",
              "      <td>Petals</td>\n",
              "      <td>UCM5o1aeMLh_df-lJSfoaFZA</td>\n",
              "      <td>3.0</td>\n",
              "      <td>2021-05-02T01:00:23Z</td>\n",
              "      <td>2021-05-02T01:00:23Z</td>\n",
              "      <td>0.0</td>\n",
              "      <td>JeNBq1SSwZI</td>\n",
              "      <td>UCeNgRHpH7OHZetYjC5JZXGw</td>\n",
              "      <td>Iâ€™m gonna dream about this later I can feel it</td>\n",
              "      <td>11.0</td>\n",
              "      <td>Iâ€™m gonna dream about this later I can feel it</td>\n",
              "      <td>nonbinary</td>\n",
              "      <td>48</td>\n",
              "      <td>iâ € ™ gonna dream later feel</td>\n",
              "      <td>0.000000</td>\n",
              "      <td>0.000000</td>\n",
              "    </tr>\n",
              "    <tr>\n",
              "      <th>...</th>\n",
              "      <td>...</td>\n",
              "      <td>...</td>\n",
              "      <td>...</td>\n",
              "      <td>...</td>\n",
              "      <td>...</td>\n",
              "      <td>...</td>\n",
              "      <td>...</td>\n",
              "      <td>...</td>\n",
              "      <td>...</td>\n",
              "      <td>...</td>\n",
              "      <td>...</td>\n",
              "      <td>...</td>\n",
              "      <td>...</td>\n",
              "      <td>...</td>\n",
              "      <td>...</td>\n",
              "      <td>...</td>\n",
              "      <td>...</td>\n",
              "      <td>...</td>\n",
              "      <td>...</td>\n",
              "      <td>...</td>\n",
              "    </tr>\n",
              "    <tr>\n",
              "      <th>29995</th>\n",
              "      <td>29995</td>\n",
              "      <td>244259.0</td>\n",
              "      <td>Ugxs9IQpdOeEJkaB2gl4AaABAg</td>\n",
              "      <td>I'm sad, scared, and very very very very very ...</td>\n",
              "      <td>Elly</td>\n",
              "      <td>UCiyBJ7UVF7UGhGCRLbvO_mw</td>\n",
              "      <td>0.0</td>\n",
              "      <td>2020-10-08T19:59:35Z</td>\n",
              "      <td>2020-10-08T19:59:35Z</td>\n",
              "      <td>0.0</td>\n",
              "      <td>HQ9vRS1GbwQ</td>\n",
              "      <td>UCoziFm3M4sHDq1kkx0UwtRw</td>\n",
              "      <td>I'm sad, scared, and very very very very very ...</td>\n",
              "      <td>20.0</td>\n",
              "      <td>I'm sad, scared, and very very very very very ...</td>\n",
              "      <td>female</td>\n",
              "      <td>107</td>\n",
              "      <td>im sad  scared  disgusted stupid serial killer...</td>\n",
              "      <td>-0.833333</td>\n",
              "      <td>-0.766667</td>\n",
              "    </tr>\n",
              "    <tr>\n",
              "      <th>29996</th>\n",
              "      <td>29996</td>\n",
              "      <td>NaN</td>\n",
              "      <td>UgzRxnA4_Muxm6Z95Zp4AaABAg</td>\n",
              "      <td>are u 32, my dad is 35 and im 10</td>\n",
              "      <td>62 Productions</td>\n",
              "      <td>UCgZ_4iKW8ovnXWo1maJeyiw</td>\n",
              "      <td>0.0</td>\n",
              "      <td>2019-09-21T22:03:49Z</td>\n",
              "      <td>2019-09-21T22:03:49Z</td>\n",
              "      <td>0.0</td>\n",
              "      <td>RP5vuMYpAKE</td>\n",
              "      <td>UC0YvTCy1I4_a-3pn47_5DBA</td>\n",
              "      <td>are u 32, my dad is 35 and im 10</td>\n",
              "      <td>10.0</td>\n",
              "      <td>are u 32, my dad is 35 and im 10</td>\n",
              "      <td>female</td>\n",
              "      <td>32</td>\n",
              "      <td>u 32  dad 35 im 10</td>\n",
              "      <td>0.000000</td>\n",
              "      <td>0.000000</td>\n",
              "    </tr>\n",
              "    <tr>\n",
              "      <th>29997</th>\n",
              "      <td>29997</td>\n",
              "      <td>NaN</td>\n",
              "      <td>UgwWu4b3oijE4kL2RaZ4AaABAg</td>\n",
              "      <td>OMGGGGGG the Queen is back!! Love you TATI!!</td>\n",
              "      <td>Nadia Fuzi</td>\n",
              "      <td>UC4P3OEMYtoZUn8RLxm0wNXg</td>\n",
              "      <td>0.0</td>\n",
              "      <td>2021-06-22T04:53:00Z</td>\n",
              "      <td>2021-06-22T04:53:00Z</td>\n",
              "      <td>0.0</td>\n",
              "      <td>xL6sY85O77I</td>\n",
              "      <td>UC4qk9TtGhBKCkoWz5qGJcGg</td>\n",
              "      <td>OMGGGGGG the Queen is back!! Love you TATI!!</td>\n",
              "      <td>8.0</td>\n",
              "      <td>OMGGGGGG the Queen is back!! Love you TATI!!</td>\n",
              "      <td>female</td>\n",
              "      <td>44</td>\n",
              "      <td>omgggggg queen back   love tati</td>\n",
              "      <td>0.390625</td>\n",
              "      <td>0.250000</td>\n",
              "    </tr>\n",
              "    <tr>\n",
              "      <th>29998</th>\n",
              "      <td>29998</td>\n",
              "      <td>207622.0</td>\n",
              "      <td>UgyhfOXk3mxGOEje3MF4AaABAg</td>\n",
              "      <td>I love your channel it makes me smile!! ❤❤ ItS...</td>\n",
              "      <td>keori webb</td>\n",
              "      <td>UCjxXyQXbtqKNQrIJsqSpuLg</td>\n",
              "      <td>1.0</td>\n",
              "      <td>2021-03-27T19:00:04Z</td>\n",
              "      <td>2021-03-27T19:00:04Z</td>\n",
              "      <td>0.0</td>\n",
              "      <td>wGhMvWjOxfU</td>\n",
              "      <td>UCGCVyTWogzQ4D170BLy2Arw</td>\n",
              "      <td>I love your channel it makes me smile!! ❤❤ ItS...</td>\n",
              "      <td>13.0</td>\n",
              "      <td>I love your channel it makes me smile!! ❤❤ ItS...</td>\n",
              "      <td>female</td>\n",
              "      <td>68</td>\n",
              "      <td>love channel makes smile   ❤ ❤ problem anymore</td>\n",
              "      <td>0.484375</td>\n",
              "      <td>0.400000</td>\n",
              "    </tr>\n",
              "    <tr>\n",
              "      <th>29999</th>\n",
              "      <td>29999</td>\n",
              "      <td>246214.0</td>\n",
              "      <td>UgzSfTQ6qOoxTuIFHb54AaABAg</td>\n",
              "      <td>Moral of the story \\nMykie just likes Leonardo...</td>\n",
              "      <td>Miss Morte</td>\n",
              "      <td>UCv5qXvOHhYZGm6yDohWYe1g</td>\n",
              "      <td>0.0</td>\n",
              "      <td>2020-09-29T02:51:18Z</td>\n",
              "      <td>2020-09-29T02:51:18Z</td>\n",
              "      <td>0.0</td>\n",
              "      <td>yEdEG7Stp3U</td>\n",
              "      <td>UCoziFm3M4sHDq1kkx0UwtRw</td>\n",
              "      <td>Moral of the story Mykie just likes Leonardo D...</td>\n",
              "      <td>9.0</td>\n",
              "      <td>Moral of the story Mykie just likes Leonardo D...</td>\n",
              "      <td>female</td>\n",
              "      <td>54</td>\n",
              "      <td>moral story mykie likes leonardo dicaprio</td>\n",
              "      <td>0.000000</td>\n",
              "      <td>0.000000</td>\n",
              "    </tr>\n",
              "  </tbody>\n",
              "</table>\n",
              "<p>30000 rows × 20 columns</p>\n",
              "</div>"
            ],
            "text/plain": [
              "       Unnamed: 0  Unnamed: 0.1  ... tbpolarity clean_tbpolarity\n",
              "0               0        3499.0  ...  -0.175000        -0.175000\n",
              "1               1       11690.0  ...   0.291667         0.291667\n",
              "2               2         765.0  ...   0.500000         0.500000\n",
              "3               3        1991.0  ...   0.625000         0.500000\n",
              "4               4       11154.0  ...   0.000000         0.000000\n",
              "...           ...           ...  ...        ...              ...\n",
              "29995       29995      244259.0  ...  -0.833333        -0.766667\n",
              "29996       29996           NaN  ...   0.000000         0.000000\n",
              "29997       29997           NaN  ...   0.390625         0.250000\n",
              "29998       29998      207622.0  ...   0.484375         0.400000\n",
              "29999       29999      246214.0  ...   0.000000         0.000000\n",
              "\n",
              "[30000 rows x 20 columns]"
            ]
          },
          "metadata": {
            "tags": []
          },
          "execution_count": 70
        }
      ]
    },
    {
      "cell_type": "code",
      "metadata": {
        "id": "ehIBdQAL2HKL",
        "colab": {
          "base_uri": "https://localhost:8080/",
          "height": 984
        },
        "outputId": "5e844df3-872e-4e56-8993-f0b21564d63f"
      },
      "source": [
        "#nltk scoring on nltk cleaned and uncleaned addending to df, then checking df\n",
        "df[\"nltkpolarity\"] = df.text.apply(lambda x: sid.polarity_scores(x)[\"compound\"]) #on uncleaned\n",
        "df[\"clean_nltkpolarity\"] = df.clean_text_nltk.apply(lambda x: sid.polarity_scores(x)[\"compound\"])#on nltk cleaned\n",
        "df"
      ],
      "execution_count": null,
      "outputs": [
        {
          "output_type": "execute_result",
          "data": {
            "text/html": [
              "<div>\n",
              "<style scoped>\n",
              "    .dataframe tbody tr th:only-of-type {\n",
              "        vertical-align: middle;\n",
              "    }\n",
              "\n",
              "    .dataframe tbody tr th {\n",
              "        vertical-align: top;\n",
              "    }\n",
              "\n",
              "    .dataframe thead th {\n",
              "        text-align: right;\n",
              "    }\n",
              "</style>\n",
              "<table border=\"1\" class=\"dataframe\">\n",
              "  <thead>\n",
              "    <tr style=\"text-align: right;\">\n",
              "      <th></th>\n",
              "      <th>Unnamed: 0</th>\n",
              "      <th>Unnamed: 0.1</th>\n",
              "      <th>id</th>\n",
              "      <th>text</th>\n",
              "      <th>author_name</th>\n",
              "      <th>author_id</th>\n",
              "      <th>like_count</th>\n",
              "      <th>published_at</th>\n",
              "      <th>updated_at</th>\n",
              "      <th>reply_count</th>\n",
              "      <th>video_id</th>\n",
              "      <th>channel_id</th>\n",
              "      <th>filtered_text</th>\n",
              "      <th>wordcount</th>\n",
              "      <th>filteredtext</th>\n",
              "      <th>Gender</th>\n",
              "      <th>word count</th>\n",
              "      <th>clean_text_nltk</th>\n",
              "      <th>tbpolarity</th>\n",
              "      <th>clean_tbpolarity</th>\n",
              "      <th>nltkpolarity</th>\n",
              "      <th>clean_nltkpolarity</th>\n",
              "    </tr>\n",
              "  </thead>\n",
              "  <tbody>\n",
              "    <tr>\n",
              "      <th>0</th>\n",
              "      <td>0</td>\n",
              "      <td>3499.0</td>\n",
              "      <td>Ugw4ZKa65d3HHXcmmqF4AaABAg</td>\n",
              "      <td>Cool Lev reminds me of bad bunny đź�­ âť¤ď¸Ź</td>\n",
              "      <td>Christian Valenzuela</td>\n",
              "      <td>UCkxRHkiWVOUIWnxpA6cywlA</td>\n",
              "      <td>1.0</td>\n",
              "      <td>2021-06-05T03:20:49Z</td>\n",
              "      <td>2021-06-05T03:20:49Z</td>\n",
              "      <td>0.0</td>\n",
              "      <td>by4_sZCP52s</td>\n",
              "      <td>UCJyw_54aiqanw8s39eq6HbA</td>\n",
              "      <td>Cool Lev reminds me of bad bunny đź�­ âť¤ď¸Ź</td>\n",
              "      <td>7.0</td>\n",
              "      <td>Cool Lev reminds me of bad bunny đź�­ âť¤ď¸Ź</td>\n",
              "      <td>nonbinary</td>\n",
              "      <td>44</td>\n",
              "      <td>cool lev reminds bad bunny đź � ­ âť ¤ ď ¸ ź</td>\n",
              "      <td>-0.175000</td>\n",
              "      <td>-0.175000</td>\n",
              "      <td>-0.2960</td>\n",
              "      <td>-0.2960</td>\n",
              "    </tr>\n",
              "    <tr>\n",
              "      <th>1</th>\n",
              "      <td>1</td>\n",
              "      <td>11690.0</td>\n",
              "      <td>UgyTTDd4SS3YRUIP0rd4AaABAg</td>\n",
              "      <td>Not with Willa Ford! Lol. This was everything....</td>\n",
              "      <td>TheALBox</td>\n",
              "      <td>UCSHD6JwkQR-xkgWUxGpOrLg</td>\n",
              "      <td>4.0</td>\n",
              "      <td>2021-03-17T05:35:00Z</td>\n",
              "      <td>2021-03-17T05:35:00Z</td>\n",
              "      <td>0.0</td>\n",
              "      <td>LrpsvUFHzgE</td>\n",
              "      <td>UCeNgRHpH7OHZetYjC5JZXGw</td>\n",
              "      <td>Not with Willa Ford! Lol. This was everything....</td>\n",
              "      <td>21.0</td>\n",
              "      <td>Not with Willa Ford! Lol. This was everything....</td>\n",
              "      <td>nonbinary</td>\n",
              "      <td>115</td>\n",
              "      <td>willa ford  lol  everything  even throwing bac...</td>\n",
              "      <td>0.291667</td>\n",
              "      <td>0.291667</td>\n",
              "      <td>0.4753</td>\n",
              "      <td>0.4215</td>\n",
              "    </tr>\n",
              "    <tr>\n",
              "      <th>2</th>\n",
              "      <td>2</td>\n",
              "      <td>765.0</td>\n",
              "      <td>UgxElE4CNAZ3GRGhmD94AaABAg</td>\n",
              "      <td>FINALLYY!! OMG MY FAVORITE DUOOO đź’–</td>\n",
              "      <td>Lyle Matubis</td>\n",
              "      <td>UC3UVSBFMWIZD0ebE-YMvVjQ</td>\n",
              "      <td>0.0</td>\n",
              "      <td>2021-06-11T22:03:16Z</td>\n",
              "      <td>2021-06-11T22:03:16Z</td>\n",
              "      <td>0.0</td>\n",
              "      <td>4ULR-YsglO0</td>\n",
              "      <td>UCbLunbaq3ia4-FLfOHrHngQ</td>\n",
              "      <td>FINALLYY!! OMG MY FAVORITE DUOOO đź’–</td>\n",
              "      <td>5.0</td>\n",
              "      <td>FINALLYY!! OMG MY FAVORITE DUOOO đź’–</td>\n",
              "      <td>nonbinary</td>\n",
              "      <td>37</td>\n",
              "      <td>finallyy   omg favorite duooo đź ’ –</td>\n",
              "      <td>0.500000</td>\n",
              "      <td>0.500000</td>\n",
              "      <td>0.6505</td>\n",
              "      <td>0.4588</td>\n",
              "    </tr>\n",
              "    <tr>\n",
              "      <th>3</th>\n",
              "      <td>3</td>\n",
              "      <td>1991.0</td>\n",
              "      <td>UgxbCP_a4jq3apZ4T654AaABAg</td>\n",
              "      <td>I just watched a 4 minute add to support the c...</td>\n",
              "      <td>Jaime Flowers Ashley</td>\n",
              "      <td>UCRQTy6yjOZwA6RIcUUTY8KQ</td>\n",
              "      <td>0.0</td>\n",
              "      <td>2021-05-11T20:27:40Z</td>\n",
              "      <td>2021-05-11T20:27:40Z</td>\n",
              "      <td>0.0</td>\n",
              "      <td>iE9Y8YshvN8</td>\n",
              "      <td>UCbLunbaq3ia4-FLfOHrHngQ</td>\n",
              "      <td>I just watched a 4 minute add to support the c...</td>\n",
              "      <td>16.0</td>\n",
              "      <td>I just watched a 4 minute add to support the c...</td>\n",
              "      <td>nonbinary</td>\n",
              "      <td>77</td>\n",
              "      <td>watched 4 minute add support channel  love work</td>\n",
              "      <td>0.625000</td>\n",
              "      <td>0.500000</td>\n",
              "      <td>0.8016</td>\n",
              "      <td>0.7845</td>\n",
              "    </tr>\n",
              "    <tr>\n",
              "      <th>4</th>\n",
              "      <td>4</td>\n",
              "      <td>11154.0</td>\n",
              "      <td>UgwS43_J41mC90PqpCB4AaABAg</td>\n",
              "      <td>Iâ€™m gonna dream about this later I can feel it</td>\n",
              "      <td>Petals</td>\n",
              "      <td>UCM5o1aeMLh_df-lJSfoaFZA</td>\n",
              "      <td>3.0</td>\n",
              "      <td>2021-05-02T01:00:23Z</td>\n",
              "      <td>2021-05-02T01:00:23Z</td>\n",
              "      <td>0.0</td>\n",
              "      <td>JeNBq1SSwZI</td>\n",
              "      <td>UCeNgRHpH7OHZetYjC5JZXGw</td>\n",
              "      <td>Iâ€™m gonna dream about this later I can feel it</td>\n",
              "      <td>11.0</td>\n",
              "      <td>Iâ€™m gonna dream about this later I can feel it</td>\n",
              "      <td>nonbinary</td>\n",
              "      <td>48</td>\n",
              "      <td>iâ € ™ gonna dream later feel</td>\n",
              "      <td>0.000000</td>\n",
              "      <td>0.000000</td>\n",
              "      <td>0.2500</td>\n",
              "      <td>0.2500</td>\n",
              "    </tr>\n",
              "    <tr>\n",
              "      <th>...</th>\n",
              "      <td>...</td>\n",
              "      <td>...</td>\n",
              "      <td>...</td>\n",
              "      <td>...</td>\n",
              "      <td>...</td>\n",
              "      <td>...</td>\n",
              "      <td>...</td>\n",
              "      <td>...</td>\n",
              "      <td>...</td>\n",
              "      <td>...</td>\n",
              "      <td>...</td>\n",
              "      <td>...</td>\n",
              "      <td>...</td>\n",
              "      <td>...</td>\n",
              "      <td>...</td>\n",
              "      <td>...</td>\n",
              "      <td>...</td>\n",
              "      <td>...</td>\n",
              "      <td>...</td>\n",
              "      <td>...</td>\n",
              "      <td>...</td>\n",
              "      <td>...</td>\n",
              "    </tr>\n",
              "    <tr>\n",
              "      <th>29995</th>\n",
              "      <td>29995</td>\n",
              "      <td>244259.0</td>\n",
              "      <td>Ugxs9IQpdOeEJkaB2gl4AaABAg</td>\n",
              "      <td>I'm sad, scared, and very very very very very ...</td>\n",
              "      <td>Elly</td>\n",
              "      <td>UCiyBJ7UVF7UGhGCRLbvO_mw</td>\n",
              "      <td>0.0</td>\n",
              "      <td>2020-10-08T19:59:35Z</td>\n",
              "      <td>2020-10-08T19:59:35Z</td>\n",
              "      <td>0.0</td>\n",
              "      <td>HQ9vRS1GbwQ</td>\n",
              "      <td>UCoziFm3M4sHDq1kkx0UwtRw</td>\n",
              "      <td>I'm sad, scared, and very very very very very ...</td>\n",
              "      <td>20.0</td>\n",
              "      <td>I'm sad, scared, and very very very very very ...</td>\n",
              "      <td>female</td>\n",
              "      <td>107</td>\n",
              "      <td>im sad  scared  disgusted stupid serial killer...</td>\n",
              "      <td>-0.833333</td>\n",
              "      <td>-0.766667</td>\n",
              "      <td>-0.9395</td>\n",
              "      <td>-0.9260</td>\n",
              "    </tr>\n",
              "    <tr>\n",
              "      <th>29996</th>\n",
              "      <td>29996</td>\n",
              "      <td>NaN</td>\n",
              "      <td>UgzRxnA4_Muxm6Z95Zp4AaABAg</td>\n",
              "      <td>are u 32, my dad is 35 and im 10</td>\n",
              "      <td>62 Productions</td>\n",
              "      <td>UCgZ_4iKW8ovnXWo1maJeyiw</td>\n",
              "      <td>0.0</td>\n",
              "      <td>2019-09-21T22:03:49Z</td>\n",
              "      <td>2019-09-21T22:03:49Z</td>\n",
              "      <td>0.0</td>\n",
              "      <td>RP5vuMYpAKE</td>\n",
              "      <td>UC0YvTCy1I4_a-3pn47_5DBA</td>\n",
              "      <td>are u 32, my dad is 35 and im 10</td>\n",
              "      <td>10.0</td>\n",
              "      <td>are u 32, my dad is 35 and im 10</td>\n",
              "      <td>female</td>\n",
              "      <td>32</td>\n",
              "      <td>u 32  dad 35 im 10</td>\n",
              "      <td>0.000000</td>\n",
              "      <td>0.000000</td>\n",
              "      <td>0.0000</td>\n",
              "      <td>0.0000</td>\n",
              "    </tr>\n",
              "    <tr>\n",
              "      <th>29997</th>\n",
              "      <td>29997</td>\n",
              "      <td>NaN</td>\n",
              "      <td>UgwWu4b3oijE4kL2RaZ4AaABAg</td>\n",
              "      <td>OMGGGGGG the Queen is back!! Love you TATI!!</td>\n",
              "      <td>Nadia Fuzi</td>\n",
              "      <td>UC4P3OEMYtoZUn8RLxm0wNXg</td>\n",
              "      <td>0.0</td>\n",
              "      <td>2021-06-22T04:53:00Z</td>\n",
              "      <td>2021-06-22T04:53:00Z</td>\n",
              "      <td>0.0</td>\n",
              "      <td>xL6sY85O77I</td>\n",
              "      <td>UC4qk9TtGhBKCkoWz5qGJcGg</td>\n",
              "      <td>OMGGGGGG the Queen is back!! Love you TATI!!</td>\n",
              "      <td>8.0</td>\n",
              "      <td>OMGGGGGG the Queen is back!! Love you TATI!!</td>\n",
              "      <td>female</td>\n",
              "      <td>44</td>\n",
              "      <td>omgggggg queen back   love tati</td>\n",
              "      <td>0.390625</td>\n",
              "      <td>0.250000</td>\n",
              "      <td>0.7482</td>\n",
              "      <td>0.6369</td>\n",
              "    </tr>\n",
              "    <tr>\n",
              "      <th>29998</th>\n",
              "      <td>29998</td>\n",
              "      <td>207622.0</td>\n",
              "      <td>UgyhfOXk3mxGOEje3MF4AaABAg</td>\n",
              "      <td>I love your channel it makes me smile!! ❤❤ ItS...</td>\n",
              "      <td>keori webb</td>\n",
              "      <td>UCjxXyQXbtqKNQrIJsqSpuLg</td>\n",
              "      <td>1.0</td>\n",
              "      <td>2021-03-27T19:00:04Z</td>\n",
              "      <td>2021-03-27T19:00:04Z</td>\n",
              "      <td>0.0</td>\n",
              "      <td>wGhMvWjOxfU</td>\n",
              "      <td>UCGCVyTWogzQ4D170BLy2Arw</td>\n",
              "      <td>I love your channel it makes me smile!! ❤❤ ItS...</td>\n",
              "      <td>13.0</td>\n",
              "      <td>I love your channel it makes me smile!! ❤❤ ItS...</td>\n",
              "      <td>female</td>\n",
              "      <td>68</td>\n",
              "      <td>love channel makes smile   ❤ ❤ problem anymore</td>\n",
              "      <td>0.484375</td>\n",
              "      <td>0.400000</td>\n",
              "      <td>0.8605</td>\n",
              "      <td>0.6124</td>\n",
              "    </tr>\n",
              "    <tr>\n",
              "      <th>29999</th>\n",
              "      <td>29999</td>\n",
              "      <td>246214.0</td>\n",
              "      <td>UgzSfTQ6qOoxTuIFHb54AaABAg</td>\n",
              "      <td>Moral of the story \\nMykie just likes Leonardo...</td>\n",
              "      <td>Miss Morte</td>\n",
              "      <td>UCv5qXvOHhYZGm6yDohWYe1g</td>\n",
              "      <td>0.0</td>\n",
              "      <td>2020-09-29T02:51:18Z</td>\n",
              "      <td>2020-09-29T02:51:18Z</td>\n",
              "      <td>0.0</td>\n",
              "      <td>yEdEG7Stp3U</td>\n",
              "      <td>UCoziFm3M4sHDq1kkx0UwtRw</td>\n",
              "      <td>Moral of the story Mykie just likes Leonardo D...</td>\n",
              "      <td>9.0</td>\n",
              "      <td>Moral of the story Mykie just likes Leonardo D...</td>\n",
              "      <td>female</td>\n",
              "      <td>54</td>\n",
              "      <td>moral story mykie likes leonardo dicaprio</td>\n",
              "      <td>0.000000</td>\n",
              "      <td>0.000000</td>\n",
              "      <td>0.4215</td>\n",
              "      <td>0.4215</td>\n",
              "    </tr>\n",
              "  </tbody>\n",
              "</table>\n",
              "<p>30000 rows × 22 columns</p>\n",
              "</div>"
            ],
            "text/plain": [
              "       Unnamed: 0  Unnamed: 0.1  ... nltkpolarity clean_nltkpolarity\n",
              "0               0        3499.0  ...      -0.2960            -0.2960\n",
              "1               1       11690.0  ...       0.4753             0.4215\n",
              "2               2         765.0  ...       0.6505             0.4588\n",
              "3               3        1991.0  ...       0.8016             0.7845\n",
              "4               4       11154.0  ...       0.2500             0.2500\n",
              "...           ...           ...  ...          ...                ...\n",
              "29995       29995      244259.0  ...      -0.9395            -0.9260\n",
              "29996       29996           NaN  ...       0.0000             0.0000\n",
              "29997       29997           NaN  ...       0.7482             0.6369\n",
              "29998       29998      207622.0  ...       0.8605             0.6124\n",
              "29999       29999      246214.0  ...       0.4215             0.4215\n",
              "\n",
              "[30000 rows x 22 columns]"
            ]
          },
          "metadata": {
            "tags": []
          },
          "execution_count": 71
        }
      ]
    },
    {
      "cell_type": "code",
      "metadata": {
        "id": "97VTE3sX2HDh",
        "colab": {
          "base_uri": "https://localhost:8080/"
        },
        "outputId": "8d6d325c-661e-4784-e45e-d65c6f7a1844"
      },
      "source": [
        "#checking which entries in df are NA\n",
        "df.isna"
      ],
      "execution_count": null,
      "outputs": [
        {
          "output_type": "execute_result",
          "data": {
            "text/plain": [
              "<bound method DataFrame.isna of        Unnamed: 0  Unnamed: 0.1  ... nltkpolarity clean_nltkpolarity\n",
              "0               0        3499.0  ...      -0.2960            -0.2960\n",
              "1               1       11690.0  ...       0.4753             0.4215\n",
              "2               2         765.0  ...       0.6505             0.4588\n",
              "3               3        1991.0  ...       0.8016             0.7845\n",
              "4               4       11154.0  ...       0.2500             0.2500\n",
              "...           ...           ...  ...          ...                ...\n",
              "29995       29995      244259.0  ...      -0.9395            -0.9260\n",
              "29996       29996           NaN  ...       0.0000             0.0000\n",
              "29997       29997           NaN  ...       0.7482             0.6369\n",
              "29998       29998      207622.0  ...       0.8605             0.6124\n",
              "29999       29999      246214.0  ...       0.4215             0.4215\n",
              "\n",
              "[30000 rows x 22 columns]>"
            ]
          },
          "metadata": {
            "tags": []
          },
          "execution_count": 72
        }
      ]
    },
    {
      "cell_type": "markdown",
      "metadata": {
        "id": "iiARrJZJ6ATh"
      },
      "source": [
        "## Sentiment Analysis: NLTK & TextBlob"
      ]
    },
    {
      "cell_type": "code",
      "metadata": {
        "id": "bgavmkFs55uR",
        "colab": {
          "base_uri": "https://localhost:8080/",
          "height": 171
        },
        "outputId": "351fd45d-fea8-4329-b074-93ae8de60d9b"
      },
      "source": [
        "df.groupby(\"Gender\").nltkpolarity.describe()"
      ],
      "execution_count": null,
      "outputs": [
        {
          "output_type": "execute_result",
          "data": {
            "text/html": [
              "<div>\n",
              "<style scoped>\n",
              "    .dataframe tbody tr th:only-of-type {\n",
              "        vertical-align: middle;\n",
              "    }\n",
              "\n",
              "    .dataframe tbody tr th {\n",
              "        vertical-align: top;\n",
              "    }\n",
              "\n",
              "    .dataframe thead th {\n",
              "        text-align: right;\n",
              "    }\n",
              "</style>\n",
              "<table border=\"1\" class=\"dataframe\">\n",
              "  <thead>\n",
              "    <tr style=\"text-align: right;\">\n",
              "      <th></th>\n",
              "      <th>count</th>\n",
              "      <th>mean</th>\n",
              "      <th>std</th>\n",
              "      <th>min</th>\n",
              "      <th>25%</th>\n",
              "      <th>50%</th>\n",
              "      <th>75%</th>\n",
              "      <th>max</th>\n",
              "    </tr>\n",
              "    <tr>\n",
              "      <th>Gender</th>\n",
              "      <th></th>\n",
              "      <th></th>\n",
              "      <th></th>\n",
              "      <th></th>\n",
              "      <th></th>\n",
              "      <th></th>\n",
              "      <th></th>\n",
              "      <th></th>\n",
              "    </tr>\n",
              "  </thead>\n",
              "  <tbody>\n",
              "    <tr>\n",
              "      <th>female</th>\n",
              "      <td>10000.0</td>\n",
              "      <td>0.296698</td>\n",
              "      <td>0.434840</td>\n",
              "      <td>-0.9877</td>\n",
              "      <td>0.0</td>\n",
              "      <td>0.3612</td>\n",
              "      <td>0.66615</td>\n",
              "      <td>0.9984</td>\n",
              "    </tr>\n",
              "    <tr>\n",
              "      <th>male</th>\n",
              "      <td>10000.0</td>\n",
              "      <td>0.263783</td>\n",
              "      <td>0.450395</td>\n",
              "      <td>-0.9950</td>\n",
              "      <td>0.0</td>\n",
              "      <td>0.2960</td>\n",
              "      <td>0.63690</td>\n",
              "      <td>0.9983</td>\n",
              "    </tr>\n",
              "    <tr>\n",
              "      <th>nonbinary</th>\n",
              "      <td>10000.0</td>\n",
              "      <td>0.302095</td>\n",
              "      <td>0.471640</td>\n",
              "      <td>-0.9944</td>\n",
              "      <td>0.0</td>\n",
              "      <td>0.3612</td>\n",
              "      <td>0.71065</td>\n",
              "      <td>0.9993</td>\n",
              "    </tr>\n",
              "  </tbody>\n",
              "</table>\n",
              "</div>"
            ],
            "text/plain": [
              "             count      mean       std     min  25%     50%      75%     max\n",
              "Gender                                                                      \n",
              "female     10000.0  0.296698  0.434840 -0.9877  0.0  0.3612  0.66615  0.9984\n",
              "male       10000.0  0.263783  0.450395 -0.9950  0.0  0.2960  0.63690  0.9983\n",
              "nonbinary  10000.0  0.302095  0.471640 -0.9944  0.0  0.3612  0.71065  0.9993"
            ]
          },
          "metadata": {
            "tags": []
          },
          "execution_count": 73
        }
      ]
    },
    {
      "cell_type": "code",
      "metadata": {
        "id": "RTkM4MTK55o-",
        "colab": {
          "base_uri": "https://localhost:8080/",
          "height": 171
        },
        "outputId": "58137bf8-f661-4249-d385-46fbdb4c319c"
      },
      "source": [
        "df.groupby(\"Gender\").tbpolarity.describe()"
      ],
      "execution_count": null,
      "outputs": [
        {
          "output_type": "execute_result",
          "data": {
            "text/html": [
              "<div>\n",
              "<style scoped>\n",
              "    .dataframe tbody tr th:only-of-type {\n",
              "        vertical-align: middle;\n",
              "    }\n",
              "\n",
              "    .dataframe tbody tr th {\n",
              "        vertical-align: top;\n",
              "    }\n",
              "\n",
              "    .dataframe thead th {\n",
              "        text-align: right;\n",
              "    }\n",
              "</style>\n",
              "<table border=\"1\" class=\"dataframe\">\n",
              "  <thead>\n",
              "    <tr style=\"text-align: right;\">\n",
              "      <th></th>\n",
              "      <th>count</th>\n",
              "      <th>mean</th>\n",
              "      <th>std</th>\n",
              "      <th>min</th>\n",
              "      <th>25%</th>\n",
              "      <th>50%</th>\n",
              "      <th>75%</th>\n",
              "      <th>max</th>\n",
              "    </tr>\n",
              "    <tr>\n",
              "      <th>Gender</th>\n",
              "      <th></th>\n",
              "      <th></th>\n",
              "      <th></th>\n",
              "      <th></th>\n",
              "      <th></th>\n",
              "      <th></th>\n",
              "      <th></th>\n",
              "      <th></th>\n",
              "    </tr>\n",
              "  </thead>\n",
              "  <tbody>\n",
              "    <tr>\n",
              "      <th>female</th>\n",
              "      <td>10000.0</td>\n",
              "      <td>0.202174</td>\n",
              "      <td>0.324194</td>\n",
              "      <td>-1.0</td>\n",
              "      <td>0.0</td>\n",
              "      <td>0.100000</td>\n",
              "      <td>0.450710</td>\n",
              "      <td>1.0</td>\n",
              "    </tr>\n",
              "    <tr>\n",
              "      <th>male</th>\n",
              "      <td>10000.0</td>\n",
              "      <td>0.180773</td>\n",
              "      <td>0.330956</td>\n",
              "      <td>-1.0</td>\n",
              "      <td>0.0</td>\n",
              "      <td>0.050000</td>\n",
              "      <td>0.433333</td>\n",
              "      <td>1.0</td>\n",
              "    </tr>\n",
              "    <tr>\n",
              "      <th>nonbinary</th>\n",
              "      <td>10000.0</td>\n",
              "      <td>0.196468</td>\n",
              "      <td>0.320421</td>\n",
              "      <td>-1.0</td>\n",
              "      <td>0.0</td>\n",
              "      <td>0.133333</td>\n",
              "      <td>0.400000</td>\n",
              "      <td>1.0</td>\n",
              "    </tr>\n",
              "  </tbody>\n",
              "</table>\n",
              "</div>"
            ],
            "text/plain": [
              "             count      mean       std  min  25%       50%       75%  max\n",
              "Gender                                                                   \n",
              "female     10000.0  0.202174  0.324194 -1.0  0.0  0.100000  0.450710  1.0\n",
              "male       10000.0  0.180773  0.330956 -1.0  0.0  0.050000  0.433333  1.0\n",
              "nonbinary  10000.0  0.196468  0.320421 -1.0  0.0  0.133333  0.400000  1.0"
            ]
          },
          "metadata": {
            "tags": []
          },
          "execution_count": 74
        }
      ]
    },
    {
      "cell_type": "code",
      "metadata": {
        "id": "x0xiIVf555mB",
        "colab": {
          "base_uri": "https://localhost:8080/",
          "height": 171
        },
        "outputId": "fcf72e92-262c-4898-f11d-5354c9d0a5ef"
      },
      "source": [
        "df.groupby(\"Gender\").clean_nltkpolarity.describe()"
      ],
      "execution_count": null,
      "outputs": [
        {
          "output_type": "execute_result",
          "data": {
            "text/html": [
              "<div>\n",
              "<style scoped>\n",
              "    .dataframe tbody tr th:only-of-type {\n",
              "        vertical-align: middle;\n",
              "    }\n",
              "\n",
              "    .dataframe tbody tr th {\n",
              "        vertical-align: top;\n",
              "    }\n",
              "\n",
              "    .dataframe thead th {\n",
              "        text-align: right;\n",
              "    }\n",
              "</style>\n",
              "<table border=\"1\" class=\"dataframe\">\n",
              "  <thead>\n",
              "    <tr style=\"text-align: right;\">\n",
              "      <th></th>\n",
              "      <th>count</th>\n",
              "      <th>mean</th>\n",
              "      <th>std</th>\n",
              "      <th>min</th>\n",
              "      <th>25%</th>\n",
              "      <th>50%</th>\n",
              "      <th>75%</th>\n",
              "      <th>max</th>\n",
              "    </tr>\n",
              "    <tr>\n",
              "      <th>Gender</th>\n",
              "      <th></th>\n",
              "      <th></th>\n",
              "      <th></th>\n",
              "      <th></th>\n",
              "      <th></th>\n",
              "      <th></th>\n",
              "      <th></th>\n",
              "      <th></th>\n",
              "    </tr>\n",
              "  </thead>\n",
              "  <tbody>\n",
              "    <tr>\n",
              "      <th>female</th>\n",
              "      <td>10000.0</td>\n",
              "      <td>0.291762</td>\n",
              "      <td>0.413657</td>\n",
              "      <td>-0.9870</td>\n",
              "      <td>0.0</td>\n",
              "      <td>0.36120</td>\n",
              "      <td>0.6369</td>\n",
              "      <td>0.9976</td>\n",
              "    </tr>\n",
              "    <tr>\n",
              "      <th>male</th>\n",
              "      <td>10000.0</td>\n",
              "      <td>0.262257</td>\n",
              "      <td>0.430028</td>\n",
              "      <td>-0.9848</td>\n",
              "      <td>0.0</td>\n",
              "      <td>0.30105</td>\n",
              "      <td>0.6369</td>\n",
              "      <td>0.9987</td>\n",
              "    </tr>\n",
              "    <tr>\n",
              "      <th>nonbinary</th>\n",
              "      <td>10000.0</td>\n",
              "      <td>0.305482</td>\n",
              "      <td>0.446901</td>\n",
              "      <td>-0.9934</td>\n",
              "      <td>0.0</td>\n",
              "      <td>0.36120</td>\n",
              "      <td>0.6597</td>\n",
              "      <td>0.9993</td>\n",
              "    </tr>\n",
              "  </tbody>\n",
              "</table>\n",
              "</div>"
            ],
            "text/plain": [
              "             count      mean       std     min  25%      50%     75%     max\n",
              "Gender                                                                      \n",
              "female     10000.0  0.291762  0.413657 -0.9870  0.0  0.36120  0.6369  0.9976\n",
              "male       10000.0  0.262257  0.430028 -0.9848  0.0  0.30105  0.6369  0.9987\n",
              "nonbinary  10000.0  0.305482  0.446901 -0.9934  0.0  0.36120  0.6597  0.9993"
            ]
          },
          "metadata": {
            "tags": []
          },
          "execution_count": 75
        }
      ]
    },
    {
      "cell_type": "code",
      "metadata": {
        "id": "SUfKm5uq6LSX",
        "colab": {
          "base_uri": "https://localhost:8080/",
          "height": 171
        },
        "outputId": "72999037-86b1-4a45-950a-184e151135c0"
      },
      "source": [
        "df.groupby(\"Gender\").clean_tbpolarity.describe()"
      ],
      "execution_count": null,
      "outputs": [
        {
          "output_type": "execute_result",
          "data": {
            "text/html": [
              "<div>\n",
              "<style scoped>\n",
              "    .dataframe tbody tr th:only-of-type {\n",
              "        vertical-align: middle;\n",
              "    }\n",
              "\n",
              "    .dataframe tbody tr th {\n",
              "        vertical-align: top;\n",
              "    }\n",
              "\n",
              "    .dataframe thead th {\n",
              "        text-align: right;\n",
              "    }\n",
              "</style>\n",
              "<table border=\"1\" class=\"dataframe\">\n",
              "  <thead>\n",
              "    <tr style=\"text-align: right;\">\n",
              "      <th></th>\n",
              "      <th>count</th>\n",
              "      <th>mean</th>\n",
              "      <th>std</th>\n",
              "      <th>min</th>\n",
              "      <th>25%</th>\n",
              "      <th>50%</th>\n",
              "      <th>75%</th>\n",
              "      <th>max</th>\n",
              "    </tr>\n",
              "    <tr>\n",
              "      <th>Gender</th>\n",
              "      <th></th>\n",
              "      <th></th>\n",
              "      <th></th>\n",
              "      <th></th>\n",
              "      <th></th>\n",
              "      <th></th>\n",
              "      <th></th>\n",
              "      <th></th>\n",
              "    </tr>\n",
              "  </thead>\n",
              "  <tbody>\n",
              "    <tr>\n",
              "      <th>female</th>\n",
              "      <td>10000.0</td>\n",
              "      <td>0.185872</td>\n",
              "      <td>0.306890</td>\n",
              "      <td>-1.0</td>\n",
              "      <td>0.0</td>\n",
              "      <td>0.089583</td>\n",
              "      <td>0.410278</td>\n",
              "      <td>1.0</td>\n",
              "    </tr>\n",
              "    <tr>\n",
              "      <th>male</th>\n",
              "      <td>10000.0</td>\n",
              "      <td>0.168323</td>\n",
              "      <td>0.315032</td>\n",
              "      <td>-1.0</td>\n",
              "      <td>0.0</td>\n",
              "      <td>0.025000</td>\n",
              "      <td>0.400000</td>\n",
              "      <td>1.0</td>\n",
              "    </tr>\n",
              "    <tr>\n",
              "      <th>nonbinary</th>\n",
              "      <td>10000.0</td>\n",
              "      <td>0.177027</td>\n",
              "      <td>0.300299</td>\n",
              "      <td>-1.0</td>\n",
              "      <td>0.0</td>\n",
              "      <td>0.100000</td>\n",
              "      <td>0.380000</td>\n",
              "      <td>1.0</td>\n",
              "    </tr>\n",
              "  </tbody>\n",
              "</table>\n",
              "</div>"
            ],
            "text/plain": [
              "             count      mean       std  min  25%       50%       75%  max\n",
              "Gender                                                                   \n",
              "female     10000.0  0.185872  0.306890 -1.0  0.0  0.089583  0.410278  1.0\n",
              "male       10000.0  0.168323  0.315032 -1.0  0.0  0.025000  0.400000  1.0\n",
              "nonbinary  10000.0  0.177027  0.300299 -1.0  0.0  0.100000  0.380000  1.0"
            ]
          },
          "metadata": {
            "tags": []
          },
          "execution_count": 76
        }
      ]
    },
    {
      "cell_type": "markdown",
      "metadata": {
        "id": "QAVbwBad7kAO"
      },
      "source": [
        "### defining different gender groupings by method of scoring and cleaning"
      ]
    },
    {
      "cell_type": "code",
      "metadata": {
        "id": "j6-uoeDo6zXy"
      },
      "source": [
        "#defining groups of variables for the tests\n",
        "#see, nltkpolarity, tbpolarity, clean_nltkpolarity, clean_tbpolarity\n",
        "# nltk were scored with nltk, tb were scored with textblob\n",
        "#'clean_' variables were cleaned with nltk, others were not cleaned\n",
        "\n",
        "#defining nltk polarity between genders for paired t tests and anova testing\n",
        "male1 = df[df[\"Gender\"] == \"male\"][\"nltkpolarity\"]\n",
        "female1 = df[df[\"Gender\"] == \"female\"][\"nltkpolarity\"]\n",
        "nonbinary1 = df[df[\"Gender\"] == \"nonbinary\"][\"nltkpolarity\"]\n",
        "#defining cleaned nltkpolarity between genders for paired t tests and anova testing\n",
        "male2 = df[df[\"Gender\"] == \"male\"][\"clean_nltkpolarity\"]\n",
        "female2 = df[df[\"Gender\"] == \"female\"][\"clean_nltkpolarity\"]\n",
        "nonbinary2 = df[df[\"Gender\"] == \"nonbinary\"][\"clean_nltkpolarity\"]\n",
        "#defining tbpolarity between genders for paired t tests and anova testing\n",
        "male3 = df[df[\"Gender\"] == \"male\"][\"tbpolarity\"]\n",
        "female3 = df[df[\"Gender\"] == \"female\"][\"tbpolarity\"]\n",
        "nonbinary3 = df[df[\"Gender\"] == \"nonbinary\"][\"tbpolarity\"]\n",
        "#defining cleaned tbpolarity between genders for paired t tests and anova testing\n",
        "male4 = df[df[\"Gender\"] == \"male\"][\"clean_tbpolarity\"]\n",
        "female4 = df[df[\"Gender\"] == \"female\"][\"clean_tbpolarity\"]\n",
        "nonbinary4 = df[df[\"Gender\"] == \"nonbinary\"][\"clean_tbpolarity\"]"
      ],
      "execution_count": null,
      "outputs": []
    },
    {
      "cell_type": "markdown",
      "metadata": {
        "id": "sAqfooz47OAz"
      },
      "source": [
        "### Paired t tests for males between scoring methods"
      ]
    },
    {
      "cell_type": "code",
      "metadata": {
        "id": "R_oKQ28G65e_",
        "colab": {
          "base_uri": "https://localhost:8080/"
        },
        "outputId": "6f079be3-1171-4392-fa7f-a353cb300864"
      },
      "source": [
        "stats.ttest_rel(male1, male2)"
      ],
      "execution_count": null,
      "outputs": [
        {
          "output_type": "execute_result",
          "data": {
            "text/plain": [
              "Ttest_relResult(statistic=0.8139519501688041, pvalue=0.4156918607556326)"
            ]
          },
          "metadata": {
            "tags": []
          },
          "execution_count": 78
        }
      ]
    },
    {
      "cell_type": "code",
      "metadata": {
        "id": "xlLIMRNu7--8",
        "colab": {
          "base_uri": "https://localhost:8080/"
        },
        "outputId": "fe186e95-a9c3-487b-c69d-f90acdf799b3"
      },
      "source": [
        "stats.ttest_rel(male1, male3)"
      ],
      "execution_count": null,
      "outputs": [
        {
          "output_type": "execute_result",
          "data": {
            "text/plain": [
              "Ttest_relResult(statistic=23.040327766201766, pvalue=1.704624611769648e-114)"
            ]
          },
          "metadata": {
            "tags": []
          },
          "execution_count": 79
        }
      ]
    },
    {
      "cell_type": "code",
      "metadata": {
        "id": "1pJzM2_G7-ul",
        "colab": {
          "base_uri": "https://localhost:8080/"
        },
        "outputId": "0bfd766d-f281-4b38-daf4-66d5c6a7ef14"
      },
      "source": [
        "stats.ttest_rel(male1, male4)"
      ],
      "execution_count": null,
      "outputs": [
        {
          "output_type": "execute_result",
          "data": {
            "text/plain": [
              "Ttest_relResult(statistic=26.258988312422872, pvalue=5.046811084098368e-147)"
            ]
          },
          "metadata": {
            "tags": []
          },
          "execution_count": 80
        }
      ]
    },
    {
      "cell_type": "code",
      "metadata": {
        "id": "CV8ap_C_7-pi",
        "colab": {
          "base_uri": "https://localhost:8080/"
        },
        "outputId": "9d84d0ab-cf79-4a21-808d-e9c91770acf6"
      },
      "source": [
        "stats.ttest_rel(male2, male3)"
      ],
      "execution_count": null,
      "outputs": [
        {
          "output_type": "execute_result",
          "data": {
            "text/plain": [
              "Ttest_relResult(statistic=22.90607694664915, pvalue=3.20858932776915e-113)"
            ]
          },
          "metadata": {
            "tags": []
          },
          "execution_count": 81
        }
      ]
    },
    {
      "cell_type": "code",
      "metadata": {
        "id": "oVct5TwS7-nP",
        "colab": {
          "base_uri": "https://localhost:8080/"
        },
        "outputId": "93115f1c-aa3a-42ff-8730-1f0c4f18ba08"
      },
      "source": [
        "stats.ttest_rel(male2, male4)"
      ],
      "execution_count": null,
      "outputs": [
        {
          "output_type": "execute_result",
          "data": {
            "text/plain": [
              "Ttest_relResult(statistic=27.757607045959425, pvalue=1.988098133873589e-163)"
            ]
          },
          "metadata": {
            "tags": []
          },
          "execution_count": 82
        }
      ]
    },
    {
      "cell_type": "code",
      "metadata": {
        "id": "5-_w89YZ7-jw",
        "colab": {
          "base_uri": "https://localhost:8080/"
        },
        "outputId": "1c729e5b-987a-45eb-a8a4-d1ccdff857d8"
      },
      "source": [
        "stats.ttest_rel(male3, male4)"
      ],
      "execution_count": null,
      "outputs": [
        {
          "output_type": "execute_result",
          "data": {
            "text/plain": [
              "Ttest_relResult(statistic=8.927826671766605, pvalue=5.108385343311947e-19)"
            ]
          },
          "metadata": {
            "tags": []
          },
          "execution_count": 83
        }
      ]
    },
    {
      "cell_type": "markdown",
      "metadata": {
        "id": "lcsbz7G97RiX"
      },
      "source": [
        "### Paired t tests for females between scoring methods"
      ]
    },
    {
      "cell_type": "code",
      "metadata": {
        "id": "fk9XuNy_8G3Y",
        "colab": {
          "base_uri": "https://localhost:8080/"
        },
        "outputId": "7d25a27a-cb8b-44fe-85b5-17c5c475c8af"
      },
      "source": [
        "stats.ttest_rel(female1, female2)"
      ],
      "execution_count": null,
      "outputs": [
        {
          "output_type": "execute_result",
          "data": {
            "text/plain": [
              "Ttest_relResult(statistic=2.76943634511887, pvalue=0.0056256899360252926)"
            ]
          },
          "metadata": {
            "tags": []
          },
          "execution_count": 84
        }
      ]
    },
    {
      "cell_type": "code",
      "metadata": {
        "id": "44cUsSab8G0w",
        "colab": {
          "base_uri": "https://localhost:8080/"
        },
        "outputId": "3a7122b5-4b4c-4b87-cf7d-f55b6b19edea"
      },
      "source": [
        "stats.ttest_rel(female1, female3)"
      ],
      "execution_count": null,
      "outputs": [
        {
          "output_type": "execute_result",
          "data": {
            "text/plain": [
              "Ttest_relResult(statistic=26.92234724656877, pvalue=3.4541166142158045e-154)"
            ]
          },
          "metadata": {
            "tags": []
          },
          "execution_count": 85
        }
      ]
    },
    {
      "cell_type": "code",
      "metadata": {
        "id": "JZqn7RJj8Gx1",
        "colab": {
          "base_uri": "https://localhost:8080/"
        },
        "outputId": "0afd74f5-1cfe-464d-bc0c-ae9892309d8d"
      },
      "source": [
        "stats.ttest_rel(female1, female4)"
      ],
      "execution_count": null,
      "outputs": [
        {
          "output_type": "execute_result",
          "data": {
            "text/plain": [
              "Ttest_relResult(statistic=31.230120086976836, pvalue=2.1978448578137746e-204)"
            ]
          },
          "metadata": {
            "tags": []
          },
          "execution_count": 86
        }
      ]
    },
    {
      "cell_type": "code",
      "metadata": {
        "id": "nX-Cd-bY8Gva",
        "colab": {
          "base_uri": "https://localhost:8080/"
        },
        "outputId": "4a0cf503-39b7-4c81-bced-5ac01bbfeefc"
      },
      "source": [
        "stats.ttest_rel(female2, female3)"
      ],
      "execution_count": null,
      "outputs": [
        {
          "output_type": "execute_result",
          "data": {
            "text/plain": [
              "Ttest_relResult(statistic=25.96335700963994, pvalue=7.015239779766603e-144)"
            ]
          },
          "metadata": {
            "tags": []
          },
          "execution_count": 87
        }
      ]
    },
    {
      "cell_type": "code",
      "metadata": {
        "id": "i1XldWbS8GtE",
        "colab": {
          "base_uri": "https://localhost:8080/"
        },
        "outputId": "41c76a60-faa8-42d2-8810-f7dec14e8294"
      },
      "source": [
        "stats.ttest_rel(female2, female4)"
      ],
      "execution_count": null,
      "outputs": [
        {
          "output_type": "execute_result",
          "data": {
            "text/plain": [
              "Ttest_relResult(statistic=32.15703670972929, pvalue=5.457103412338606e-216)"
            ]
          },
          "metadata": {
            "tags": []
          },
          "execution_count": 88
        }
      ]
    },
    {
      "cell_type": "code",
      "metadata": {
        "id": "IALzG-Y77TU0",
        "colab": {
          "base_uri": "https://localhost:8080/"
        },
        "outputId": "61828eb4-3b11-4346-be50-d0bb244853bc"
      },
      "source": [
        "stats.ttest_rel(female3, female4)"
      ],
      "execution_count": null,
      "outputs": [
        {
          "output_type": "execute_result",
          "data": {
            "text/plain": [
              "Ttest_relResult(statistic=11.650738184071887, pvalue=3.6152452741047846e-31)"
            ]
          },
          "metadata": {
            "tags": []
          },
          "execution_count": 89
        }
      ]
    },
    {
      "cell_type": "markdown",
      "metadata": {
        "id": "9iig1opA7ToM"
      },
      "source": [
        "### Paired t tests for nonbinary between scoring methods"
      ]
    },
    {
      "cell_type": "code",
      "metadata": {
        "id": "-XRWmBtq8S70",
        "colab": {
          "base_uri": "https://localhost:8080/"
        },
        "outputId": "23bd52e6-96e9-47f5-979a-b2f5abb0e3f1"
      },
      "source": [
        "stats.ttest_rel(nonbinary1, nonbinary2)"
      ],
      "execution_count": null,
      "outputs": [
        {
          "output_type": "execute_result",
          "data": {
            "text/plain": [
              "Ttest_relResult(statistic=-1.6728013695504276, pvalue=0.0943976886446178)"
            ]
          },
          "metadata": {
            "tags": []
          },
          "execution_count": 90
        }
      ]
    },
    {
      "cell_type": "code",
      "metadata": {
        "id": "sgSjux9c8S8E",
        "colab": {
          "base_uri": "https://localhost:8080/"
        },
        "outputId": "eeb373d9-2ae9-4b04-d50c-4389a6597cdf"
      },
      "source": [
        "stats.ttest_rel(nonbinary1, nonbinary3)"
      ],
      "execution_count": null,
      "outputs": [
        {
          "output_type": "execute_result",
          "data": {
            "text/plain": [
              "Ttest_relResult(statistic=26.599777311941583, pvalue=1.1005290700771404e-150)"
            ]
          },
          "metadata": {
            "tags": []
          },
          "execution_count": 91
        }
      ]
    },
    {
      "cell_type": "code",
      "metadata": {
        "id": "tirbmgUh8S8F",
        "colab": {
          "base_uri": "https://localhost:8080/"
        },
        "outputId": "c1823716-9ce4-493d-d2a3-e2a96f64287e"
      },
      "source": [
        "stats.ttest_rel(nonbinary1, nonbinary4)"
      ],
      "execution_count": null,
      "outputs": [
        {
          "output_type": "execute_result",
          "data": {
            "text/plain": [
              "Ttest_relResult(statistic=31.650628287179707, pvalue=1.2927803028022503e-209)"
            ]
          },
          "metadata": {
            "tags": []
          },
          "execution_count": 92
        }
      ]
    },
    {
      "cell_type": "code",
      "metadata": {
        "id": "i9D3Gwu78S8F",
        "colab": {
          "base_uri": "https://localhost:8080/"
        },
        "outputId": "5e7ea207-4d38-4180-8c08-f7bd1d318f1e"
      },
      "source": [
        "stats.ttest_rel(nonbinary2, nonbinary3)"
      ],
      "execution_count": null,
      "outputs": [
        {
          "output_type": "execute_result",
          "data": {
            "text/plain": [
              "Ttest_relResult(statistic=28.37348578701169, pvalue=2.143286400883557e-170)"
            ]
          },
          "metadata": {
            "tags": []
          },
          "execution_count": 93
        }
      ]
    },
    {
      "cell_type": "code",
      "metadata": {
        "id": "FnkhZp918S8F",
        "colab": {
          "base_uri": "https://localhost:8080/"
        },
        "outputId": "ed282f3a-43c1-4d1a-e021-ebae343299f7"
      },
      "source": [
        "stats.ttest_rel(nonbinary2, nonbinary4)"
      ],
      "execution_count": null,
      "outputs": [
        {
          "output_type": "execute_result",
          "data": {
            "text/plain": [
              "Ttest_relResult(statistic=35.04213521257874, pvalue=7.602397812150478e-254)"
            ]
          },
          "metadata": {
            "tags": []
          },
          "execution_count": 94
        }
      ]
    },
    {
      "cell_type": "code",
      "metadata": {
        "id": "GhikNLaB8S8G",
        "colab": {
          "base_uri": "https://localhost:8080/"
        },
        "outputId": "0fbe168a-1b08-44d0-f683-afe57568f8bc"
      },
      "source": [
        "stats.ttest_rel(nonbinary3, nonbinary4)"
      ],
      "execution_count": null,
      "outputs": [
        {
          "output_type": "execute_result",
          "data": {
            "text/plain": [
              "Ttest_relResult(statistic=14.979368527897448, pvalue=3.500809078922403e-50)"
            ]
          },
          "metadata": {
            "tags": []
          },
          "execution_count": 95
        }
      ]
    },
    {
      "cell_type": "markdown",
      "metadata": {
        "id": "peso2p05R4Fb"
      },
      "source": [
        "Every paired t test above has a pvalue extremely close to 0 EXCEPT for the test with male1 & male2, which is nltkpolarity & clean_nltkpolarity, which has a p value of 0.41569, which is above 0.05 and quite high for a pvalue\n",
        "\n",
        "Explanations for this could be...\n",
        "\n",
        "*   The comments sampled from the male content creators' videos are extremely similar both before and after cleaning & tokenization leading to minimal difference in sentiment scores\n",
        "*   The tokenization didn't work sufficiently (when looking at it, it isn't perfect...) which led to the rest of the scores being different (pvalues close to 0) and this nltk male group paired t test is coincidentally the right one\n",
        "*   or we messed something up"
      ]
    },
    {
      "cell_type": "markdown",
      "metadata": {
        "id": "_qYH-3Vn7pKE"
      },
      "source": [
        "### One-way anova testing for each grouping between genders"
      ]
    },
    {
      "cell_type": "code",
      "metadata": {
        "id": "hZxW_1nd72ms",
        "colab": {
          "base_uri": "https://localhost:8080/"
        },
        "outputId": "22e99e71-f92a-415e-aac5-2c3f088a74dc"
      },
      "source": [
        "f_oneway(male1, female1, nonbinary1)\n",
        "#should show F_onewayResult(statistic=20.999276818277032, pvalue=7.700312114297252e-10)"
      ],
      "execution_count": null,
      "outputs": [
        {
          "output_type": "execute_result",
          "data": {
            "text/plain": [
              "F_onewayResult(statistic=20.999276818277032, pvalue=7.700312114297252e-10)"
            ]
          },
          "metadata": {
            "tags": []
          },
          "execution_count": 96
        }
      ]
    },
    {
      "cell_type": "code",
      "metadata": {
        "id": "rjOBn4_O71BE",
        "colab": {
          "base_uri": "https://localhost:8080/"
        },
        "outputId": "a8b77482-c437-41ef-bbe0-3f927e6c85cb"
      },
      "source": [
        "f_oneway(male2, female2, nonbinary2)\n",
        "#should show F_onewayResult(statistic=26.33498410192804, pvalue=3.740166058631233e-12)"
      ],
      "execution_count": null,
      "outputs": [
        {
          "output_type": "execute_result",
          "data": {
            "text/plain": [
              "F_onewayResult(statistic=26.33498410192804, pvalue=3.740166058631233e-12)"
            ]
          },
          "metadata": {
            "tags": []
          },
          "execution_count": 97
        }
      ]
    },
    {
      "cell_type": "code",
      "metadata": {
        "id": "vxhK2f1p7051",
        "colab": {
          "base_uri": "https://localhost:8080/"
        },
        "outputId": "e7bb8dbc-847c-4b79-f3f5-b0f67dbd2400"
      },
      "source": [
        "f_oneway(male3, female3, nonbinary3)\n",
        "#should show F_onewayResult(statistic=11.612230017676374, pvalue=9.095442529711014e-06)"
      ],
      "execution_count": null,
      "outputs": [
        {
          "output_type": "execute_result",
          "data": {
            "text/plain": [
              "F_onewayResult(statistic=11.612230017676374, pvalue=9.095442529711014e-06)"
            ]
          },
          "metadata": {
            "tags": []
          },
          "execution_count": 98
        }
      ]
    },
    {
      "cell_type": "code",
      "metadata": {
        "id": "x8PaOvN170uo",
        "colab": {
          "base_uri": "https://localhost:8080/"
        },
        "outputId": "880b8bda-4150-402d-e60b-f922065e5152"
      },
      "source": [
        "f_oneway(male4, female4, nonbinary4)\n",
        "#should show F_onewayResult(statistic=8.144949886806353, pvalue=0.0002908394603503142)"
      ],
      "execution_count": null,
      "outputs": [
        {
          "output_type": "execute_result",
          "data": {
            "text/plain": [
              "F_onewayResult(statistic=8.144949886806353, pvalue=0.0002908394603503142)"
            ]
          },
          "metadata": {
            "tags": []
          },
          "execution_count": 99
        }
      ]
    },
    {
      "cell_type": "markdown",
      "metadata": {
        "id": "JcU4oQWATex8"
      },
      "source": [
        "these pvalues are all very close to 0"
      ]
    },
    {
      "cell_type": "markdown",
      "metadata": {
        "id": "AJplHRtJzKk0"
      },
      "source": [
        "## Sentiment Analysis: Emojis (with Emojisent & Emosent)\n"
      ]
    },
    {
      "cell_type": "code",
      "metadata": {
        "id": "uTR6EIhOEbON"
      },
      "source": [
        "#Emojisent is for ____\n",
        "#Emosent is for ____"
      ],
      "execution_count": null,
      "outputs": []
    },
    {
      "cell_type": "code",
      "metadata": {
        "id": "ufFgwL_46RKI"
      },
      "source": [
        "#extracting emojis function\n",
        "def extract_emojis(s):\n",
        "  return ''.join(c for c in s if c in emoji.UNICODE_EMOJI['en'])"
      ],
      "execution_count": null,
      "outputs": []
    },
    {
      "cell_type": "code",
      "metadata": {
        "id": "3ECXVWt26RHY"
      },
      "source": [
        "#extracting emojis and saving them in an extra column\n",
        "#if not working: first run df[\"text1\"] = df.clean_text.astype(str) \n",
        "df[\"emojis\"] = df.clean_text.apply(extract_emojis)"
      ],
      "execution_count": null,
      "outputs": []
    },
    {
      "cell_type": "code",
      "metadata": {
        "id": "yO3dhzv56RAQ",
        "colab": {
          "base_uri": "https://localhost:8080/"
        },
        "outputId": "996202d2-3e78-47a2-e147-8ea1cbf94ef2"
      },
      "source": [
        "df[\"emojis\"]"
      ],
      "execution_count": null,
      "outputs": [
        {
          "output_type": "execute_result",
          "data": {
            "text/plain": [
              "0          \n",
              "1          \n",
              "2          \n",
              "3          \n",
              "4         ™\n",
              "         ..\n",
              "29995      \n",
              "29996      \n",
              "29997      \n",
              "29998    ❤❤\n",
              "29999      \n",
              "Name: emojis, Length: 30000, dtype: object"
            ]
          },
          "metadata": {
            "tags": []
          },
          "execution_count": 103
        }
      ]
    },
    {
      "cell_type": "code",
      "metadata": {
        "id": "e1Urt8nUB5sQ"
      },
      "source": [
        "df[\"emoji_count\"] = df[\"emojis\"].apply(len)"
      ],
      "execution_count": null,
      "outputs": []
    },
    {
      "cell_type": "code",
      "metadata": {
        "id": "iUY5vOhNCUoU"
      },
      "source": [
        "#defining function to count emojis\n",
        "def count_emojis(text_column):\n",
        "    emoji_counter = Counter()\n",
        "    text_column.str.split().apply(emoji_counter.update)\n",
        "    return emoji_counter"
      ],
      "execution_count": null,
      "outputs": []
    },
    {
      "cell_type": "markdown",
      "metadata": {
        "id": "ZRwew0QnDbVd"
      },
      "source": [
        "Sentiment Analysis: Emojis: Counting"
      ]
    },
    {
      "cell_type": "code",
      "metadata": {
        "id": "UiVnZDu2ChyG",
        "colab": {
          "base_uri": "https://localhost:8080/"
        },
        "outputId": "ec9a746b-4edc-4486-9d8a-c3dd02b24a0a"
      },
      "source": [
        "#overall most common emojis - different number of emojis considered different emojis\n",
        "count_emojis(df.emojis).most_common(10)"
      ],
      "execution_count": null,
      "outputs": [
        {
          "output_type": "execute_result",
          "data": {
            "text/plain": [
              "[('™', 976),\n",
              " ('❤', 384),\n",
              " ('😂', 345),\n",
              " ('™™', 315),\n",
              " ('😭', 161),\n",
              " ('™™™', 151),\n",
              " ('😍', 149),\n",
              " ('🤣', 91),\n",
              " ('🥰', 87),\n",
              " ('😂😂😂', 77)]"
            ]
          },
          "metadata": {
            "tags": []
          },
          "execution_count": 106
        }
      ]
    },
    {
      "cell_type": "code",
      "metadata": {
        "id": "f0-tO9V3CjZC",
        "colab": {
          "base_uri": "https://localhost:8080/"
        },
        "outputId": "80a7e5b4-bb3f-4aa9-f07b-79bd15756b20"
      },
      "source": [
        "#average number of emojis per comment\n",
        "df.emoji_count.describe()"
      ],
      "execution_count": null,
      "outputs": [
        {
          "output_type": "execute_result",
          "data": {
            "text/plain": [
              "count    30000.000000\n",
              "mean         0.691700\n",
              "std          7.634863\n",
              "min          0.000000\n",
              "25%          0.000000\n",
              "50%          0.000000\n",
              "75%          1.000000\n",
              "max       1205.000000\n",
              "Name: emoji_count, dtype: float64"
            ]
          },
          "metadata": {
            "tags": []
          },
          "execution_count": 107
        }
      ]
    },
    {
      "cell_type": "code",
      "metadata": {
        "id": "lQtYWKViCqih",
        "colab": {
          "base_uri": "https://localhost:8080/"
        },
        "outputId": "0cb1d096-026f-4e6b-e2c1-d547a165c265"
      },
      "source": [
        "df.emoji_count.median()"
      ],
      "execution_count": null,
      "outputs": [
        {
          "output_type": "execute_result",
          "data": {
            "text/plain": [
              "0.0"
            ]
          },
          "metadata": {
            "tags": []
          },
          "execution_count": 108
        }
      ]
    },
    {
      "cell_type": "code",
      "metadata": {
        "id": "AsPlhvytCxVG",
        "colab": {
          "base_uri": "https://localhost:8080/",
          "height": 171
        },
        "outputId": "5d548da8-128e-442b-8b1d-67ebc06386ee"
      },
      "source": [
        "#average number of emojis per comment based on gender \n",
        "df.groupby(\"Gender\").emoji_count.describe()"
      ],
      "execution_count": null,
      "outputs": [
        {
          "output_type": "execute_result",
          "data": {
            "text/html": [
              "<div>\n",
              "<style scoped>\n",
              "    .dataframe tbody tr th:only-of-type {\n",
              "        vertical-align: middle;\n",
              "    }\n",
              "\n",
              "    .dataframe tbody tr th {\n",
              "        vertical-align: top;\n",
              "    }\n",
              "\n",
              "    .dataframe thead th {\n",
              "        text-align: right;\n",
              "    }\n",
              "</style>\n",
              "<table border=\"1\" class=\"dataframe\">\n",
              "  <thead>\n",
              "    <tr style=\"text-align: right;\">\n",
              "      <th></th>\n",
              "      <th>count</th>\n",
              "      <th>mean</th>\n",
              "      <th>std</th>\n",
              "      <th>min</th>\n",
              "      <th>25%</th>\n",
              "      <th>50%</th>\n",
              "      <th>75%</th>\n",
              "      <th>max</th>\n",
              "    </tr>\n",
              "    <tr>\n",
              "      <th>Gender</th>\n",
              "      <th></th>\n",
              "      <th></th>\n",
              "      <th></th>\n",
              "      <th></th>\n",
              "      <th></th>\n",
              "      <th></th>\n",
              "      <th></th>\n",
              "      <th></th>\n",
              "    </tr>\n",
              "  </thead>\n",
              "  <tbody>\n",
              "    <tr>\n",
              "      <th>female</th>\n",
              "      <td>10000.0</td>\n",
              "      <td>0.8045</td>\n",
              "      <td>2.831763</td>\n",
              "      <td>0.0</td>\n",
              "      <td>0.0</td>\n",
              "      <td>0.0</td>\n",
              "      <td>1.0</td>\n",
              "      <td>161.0</td>\n",
              "    </tr>\n",
              "    <tr>\n",
              "      <th>male</th>\n",
              "      <td>10000.0</td>\n",
              "      <td>0.9367</td>\n",
              "      <td>12.863516</td>\n",
              "      <td>0.0</td>\n",
              "      <td>0.0</td>\n",
              "      <td>0.0</td>\n",
              "      <td>1.0</td>\n",
              "      <td>1205.0</td>\n",
              "    </tr>\n",
              "    <tr>\n",
              "      <th>nonbinary</th>\n",
              "      <td>10000.0</td>\n",
              "      <td>0.3339</td>\n",
              "      <td>1.093312</td>\n",
              "      <td>0.0</td>\n",
              "      <td>0.0</td>\n",
              "      <td>0.0</td>\n",
              "      <td>0.0</td>\n",
              "      <td>40.0</td>\n",
              "    </tr>\n",
              "  </tbody>\n",
              "</table>\n",
              "</div>"
            ],
            "text/plain": [
              "             count    mean        std  min  25%  50%  75%     max\n",
              "Gender                                                           \n",
              "female     10000.0  0.8045   2.831763  0.0  0.0  0.0  1.0   161.0\n",
              "male       10000.0  0.9367  12.863516  0.0  0.0  0.0  1.0  1205.0\n",
              "nonbinary  10000.0  0.3339   1.093312  0.0  0.0  0.0  0.0    40.0"
            ]
          },
          "metadata": {
            "tags": []
          },
          "execution_count": 110
        }
      ]
    },
    {
      "cell_type": "code",
      "metadata": {
        "id": "cnYo7cEWC7Hp"
      },
      "source": [
        "#splitting emojis - assumption: when we do sentiment analysis on emojis later, the overall emotion can be aggregated (baisic sum) from emojis\n",
        "    #eg. if one laughy face= score 5, then 5 laughy faces in a row = 5*5"
      ],
      "execution_count": null,
      "outputs": []
    },
    {
      "cell_type": "code",
      "metadata": {
        "id": "ulRbcmToC9kI"
      },
      "source": [
        "#defining function splitt to split emojis\n",
        "def splitt(j):\n",
        "    return [char for char in j]\n",
        "\n",
        "df[\"split_emojis\"] = df.emojis.apply(splitt)"
      ],
      "execution_count": null,
      "outputs": []
    },
    {
      "cell_type": "code",
      "metadata": {
        "id": "hWcysqChDFW3"
      },
      "source": [
        "#creating an extra column for split emojis, which will be easier to count\n",
        "df['split_emojis'] = df.split_emojis.apply(lambda x: ' '.join([str(i) for i in x])) #converting list of split emojis into string"
      ],
      "execution_count": null,
      "outputs": []
    },
    {
      "cell_type": "code",
      "metadata": {
        "id": "I5LODKLrDG7x",
        "colab": {
          "base_uri": "https://localhost:8080/"
        },
        "outputId": "6bd29dd8-bf03-407a-bc5d-52d82dd1d538"
      },
      "source": [
        "#checking df to confirm column creation\n",
        "df['split_emojis']"
      ],
      "execution_count": null,
      "outputs": [
        {
          "output_type": "execute_result",
          "data": {
            "text/plain": [
              "0           \n",
              "1           \n",
              "2           \n",
              "3           \n",
              "4          ™\n",
              "        ... \n",
              "29995       \n",
              "29996       \n",
              "29997       \n",
              "29998    ❤ ❤\n",
              "29999       \n",
              "Name: split_emojis, Length: 30000, dtype: object"
            ]
          },
          "metadata": {
            "tags": []
          },
          "execution_count": 114
        }
      ]
    },
    {
      "cell_type": "code",
      "metadata": {
        "id": "TZlqVwsaDMee",
        "colab": {
          "base_uri": "https://localhost:8080/"
        },
        "outputId": "30f4b7b5-4d4a-4482-be62-389bf47b7749"
      },
      "source": [
        "#counting most common individual emojis\n",
        "count_emojis(df.split_emojis).most_common(30)"
      ],
      "execution_count": null,
      "outputs": [
        {
          "output_type": "execute_result",
          "data": {
            "text/plain": [
              "[('™', 3127),\n",
              " ('❤', 1868),\n",
              " ('😂', 1392),\n",
              " ('💕', 1119),\n",
              " ('😭', 710),\n",
              " ('😍', 702),\n",
              " ('💖', 701),\n",
              " ('🌹', 602),\n",
              " ('🤣', 543),\n",
              " ('🥰', 450),\n",
              " ('🧡', 354),\n",
              " ('🥺', 319),\n",
              " ('✨', 297),\n",
              " ('🙏', 235),\n",
              " ('😘', 234),\n",
              " ('💜', 226),\n",
              " ('♥', 221),\n",
              " ('🏻', 215),\n",
              " ('©', 192),\n",
              " ('🏼', 186),\n",
              " ('👏', 167),\n",
              " ('😊', 155),\n",
              " ('💙', 152),\n",
              " ('💗', 137),\n",
              " ('😩', 127),\n",
              " ('😅', 126),\n",
              " ('👁', 118),\n",
              " ('🔥', 116),\n",
              " ('💀', 116),\n",
              " ('😁', 116)]"
            ]
          },
          "metadata": {
            "tags": []
          },
          "execution_count": 115
        }
      ]
    },
    {
      "cell_type": "code",
      "metadata": {
        "id": "x-H2j1XnDT7k",
        "colab": {
          "base_uri": "https://localhost:8080/"
        },
        "outputId": "e4846266-9cb2-425c-a783-e59b31a1d068"
      },
      "source": [
        "#saving a list of most popular emojis\n",
        "pop_emojis = count_emojis(df.split_emojis).most_common(30)\n",
        "\n",
        "pop_emojis"
      ],
      "execution_count": null,
      "outputs": [
        {
          "output_type": "execute_result",
          "data": {
            "text/plain": [
              "[('™', 3127),\n",
              " ('❤', 1868),\n",
              " ('😂', 1392),\n",
              " ('💕', 1119),\n",
              " ('😭', 710),\n",
              " ('😍', 702),\n",
              " ('💖', 701),\n",
              " ('🌹', 602),\n",
              " ('🤣', 543),\n",
              " ('🥰', 450),\n",
              " ('🧡', 354),\n",
              " ('🥺', 319),\n",
              " ('✨', 297),\n",
              " ('🙏', 235),\n",
              " ('😘', 234),\n",
              " ('💜', 226),\n",
              " ('♥', 221),\n",
              " ('🏻', 215),\n",
              " ('©', 192),\n",
              " ('🏼', 186),\n",
              " ('👏', 167),\n",
              " ('😊', 155),\n",
              " ('💙', 152),\n",
              " ('💗', 137),\n",
              " ('😩', 127),\n",
              " ('😅', 126),\n",
              " ('👁', 118),\n",
              " ('🔥', 116),\n",
              " ('💀', 116),\n",
              " ('😁', 116)]"
            ]
          },
          "metadata": {
            "tags": []
          },
          "execution_count": 116
        }
      ]
    },
    {
      "cell_type": "code",
      "metadata": {
        "id": "eL-b-LwaD8gS",
        "colab": {
          "base_uri": "https://localhost:8080/"
        },
        "outputId": "98885a3d-3be6-497c-88e1-1ae01f9ff3ba"
      },
      "source": [
        "#male\n",
        "wordcounter_em = count_emojis(df[df['Gender']==\"male\"]['split_emojis']) \n",
        "wordcounter_em.most_common(10)"
      ],
      "execution_count": null,
      "outputs": [
        {
          "output_type": "execute_result",
          "data": {
            "text/plain": [
              "[('❤', 920),\n",
              " ('💕', 913),\n",
              " ('😂', 702),\n",
              " ('💖', 597),\n",
              " ('😭', 358),\n",
              " ('🤣', 351),\n",
              " ('😍', 348),\n",
              " ('🥰', 241),\n",
              " ('✨', 173),\n",
              " ('🙏', 162)]"
            ]
          },
          "metadata": {
            "tags": []
          },
          "execution_count": 117
        }
      ]
    },
    {
      "cell_type": "code",
      "metadata": {
        "id": "gQo-dIPVD9OS",
        "colab": {
          "base_uri": "https://localhost:8080/"
        },
        "outputId": "c01a3962-8bd9-4bec-8528-78b88185b02f"
      },
      "source": [
        "#female\n",
        "wordcounter_fem = count_emojis(df[df['Gender']==\"female\"]['split_emojis']) \n",
        "wordcounter_fem.most_common(10)"
      ],
      "execution_count": null,
      "outputs": [
        {
          "output_type": "execute_result",
          "data": {
            "text/plain": [
              "[('❤', 948),\n",
              " ('😂', 690),\n",
              " ('🌹', 598),\n",
              " ('😍', 354),\n",
              " ('😭', 352),\n",
              " ('🧡', 328),\n",
              " ('🥰', 209),\n",
              " ('💕', 206),\n",
              " ('🤣', 192),\n",
              " ('🥺', 168)]"
            ]
          },
          "metadata": {
            "tags": []
          },
          "execution_count": 118
        }
      ]
    },
    {
      "cell_type": "code",
      "metadata": {
        "id": "8HIKYMA2D_bh",
        "colab": {
          "base_uri": "https://localhost:8080/"
        },
        "outputId": "e8d4a266-be35-4904-f811-9d6318f0bb92"
      },
      "source": [
        "#nonbinary\n",
        "wordcounter_nonb = count_emojis(df[df['Gender']==\"nonbinary\"]['split_emojis']) \n",
        "wordcounter_nonb.most_common(10)"
      ],
      "execution_count": null,
      "outputs": [
        {
          "output_type": "execute_result",
          "data": {
            "text/plain": [
              "[('™', 3126), ('©', 192), ('®', 21)]"
            ]
          },
          "metadata": {
            "tags": []
          },
          "execution_count": 119
        }
      ]
    },
    {
      "cell_type": "markdown",
      "metadata": {
        "id": "DvT5VEmCEo8d"
      },
      "source": [
        "Sentiment Analysis: Emojis: Sentiment with emosent"
      ]
    },
    {
      "cell_type": "code",
      "metadata": {
        "id": "x-AaUe7xEtD-",
        "colab": {
          "base_uri": "https://localhost:8080/"
        },
        "outputId": "8cc22bb9-fc01-4641-dbfb-f380e35e2946"
      },
      "source": [
        "#checking imports work\n",
        "get_emoji_sentiment_rank(\"😂\")"
      ],
      "execution_count": null,
      "outputs": [
        {
          "output_type": "execute_result",
          "data": {
            "text/plain": [
              "{'negative': 3614.0,\n",
              " 'neutral': 4163.0,\n",
              " 'occurrences': 14622,\n",
              " 'position': 0.805100583,\n",
              " 'positive': 6845.0,\n",
              " 'sentiment_score': 0.221,\n",
              " 'unicode_block': 'Emoticons',\n",
              " 'unicode_codepoint': '0x1f602',\n",
              " 'unicode_name': 'FACE WITH TEARS OF JOY'}"
            ]
          },
          "metadata": {
            "tags": []
          },
          "execution_count": 120
        }
      ]
    },
    {
      "cell_type": "code",
      "metadata": {
        "id": "mATig174FWfR"
      },
      "source": [
        "df[\"emoji_x\"]= df.emojis.apply(str.strip)"
      ],
      "execution_count": null,
      "outputs": []
    },
    {
      "cell_type": "code",
      "metadata": {
        "id": "PV7ZQB2SFYEE"
      },
      "source": [
        "def get_emoji_sentx(e):\n",
        "    if e and len(e) > 0:\n",
        "       for c in e:\n",
        "         try:\n",
        "              score = 0\n",
        "              sth = get_emoji_sentiment_rank(c)[\"sentiment_score\"]\n",
        "              score += sth\n",
        "         except:\n",
        "              sth = 0\n",
        "       return score\n",
        "    else:\n",
        "        print(e)\n",
        "        return \"empty\""
      ],
      "execution_count": null,
      "outputs": []
    },
    {
      "cell_type": "code",
      "metadata": {
        "id": "VqQWxwaaFbTJ",
        "colab": {
          "base_uri": "https://localhost:8080/"
        },
        "outputId": "002b0d29-9da6-43e8-b5e7-0b788b9cfbe6"
      },
      "source": [
        "df[\"emoji_sent\"] = df.emoji_x.apply(lambda x: get_emoji_sentx(x))"
      ],
      "execution_count": null,
      "outputs": [
        {
          "output_type": "stream",
          "text": [
            "\u001b[1;30;43mStreaming output truncated to the last 5000 lines.\u001b[0m\n",
            "\n",
            "\n",
            "\n",
            "\n",
            "\n",
            "\n",
            "\n",
            "\n",
            "\n",
            "\n",
            "\n",
            "\n",
            "\n",
            "\n",
            "\n",
            "\n",
            "\n",
            "\n",
            "\n",
            "\n",
            "\n",
            "\n",
            "\n",
            "\n",
            "\n",
            "\n",
            "\n",
            "\n",
            "\n",
            "\n",
            "\n",
            "\n",
            "\n",
            "\n",
            "\n",
            "\n",
            "\n",
            "\n",
            "\n",
            "\n",
            "\n",
            "\n",
            "\n",
            "\n",
            "\n",
            "\n",
            "\n",
            "\n",
            "\n",
            "\n",
            "\n",
            "\n",
            "\n",
            "\n",
            "\n",
            "\n",
            "\n",
            "\n",
            "\n",
            "\n",
            "\n",
            "\n",
            "\n",
            "\n",
            "\n",
            "\n",
            "\n",
            "\n",
            "\n",
            "\n",
            "\n",
            "\n",
            "\n",
            "\n",
            "\n",
            "\n",
            "\n",
            "\n",
            "\n",
            "\n",
            "\n",
            "\n",
            "\n",
            "\n",
            "\n",
            "\n",
            "\n",
            "\n",
            "\n",
            "\n",
            "\n",
            "\n",
            "\n",
            "\n",
            "\n",
            "\n",
            "\n",
            "\n",
            "\n",
            "\n",
            "\n",
            "\n",
            "\n",
            "\n",
            "\n",
            "\n",
            "\n",
            "\n",
            "\n",
            "\n",
            "\n",
            "\n",
            "\n",
            "\n",
            "\n",
            "\n",
            "\n",
            "\n",
            "\n",
            "\n",
            "\n",
            "\n",
            "\n",
            "\n",
            "\n",
            "\n",
            "\n",
            "\n",
            "\n",
            "\n",
            "\n",
            "\n",
            "\n",
            "\n",
            "\n",
            "\n",
            "\n",
            "\n",
            "\n",
            "\n",
            "\n",
            "\n",
            "\n",
            "\n",
            "\n",
            "\n",
            "\n",
            "\n",
            "\n",
            "\n",
            "\n",
            "\n",
            "\n",
            "\n",
            "\n",
            "\n",
            "\n",
            "\n",
            "\n",
            "\n",
            "\n",
            "\n",
            "\n",
            "\n",
            "\n",
            "\n",
            "\n",
            "\n",
            "\n",
            "\n",
            "\n",
            "\n",
            "\n",
            "\n",
            "\n",
            "\n",
            "\n",
            "\n",
            "\n",
            "\n",
            "\n",
            "\n",
            "\n",
            "\n",
            "\n",
            "\n",
            "\n",
            "\n",
            "\n",
            "\n",
            "\n",
            "\n",
            "\n",
            "\n",
            "\n",
            "\n",
            "\n",
            "\n",
            "\n",
            "\n",
            "\n",
            "\n",
            "\n",
            "\n",
            "\n",
            "\n",
            "\n",
            "\n",
            "\n",
            "\n",
            "\n",
            "\n",
            "\n",
            "\n",
            "\n",
            "\n",
            "\n",
            "\n",
            "\n",
            "\n",
            "\n",
            "\n",
            "\n",
            "\n",
            "\n",
            "\n",
            "\n",
            "\n",
            "\n",
            "\n",
            "\n",
            "\n",
            "\n",
            "\n",
            "\n",
            "\n",
            "\n",
            "\n",
            "\n",
            "\n",
            "\n",
            "\n",
            "\n",
            "\n",
            "\n",
            "\n",
            "\n",
            "\n",
            "\n",
            "\n",
            "\n",
            "\n",
            "\n",
            "\n",
            "\n",
            "\n",
            "\n",
            "\n",
            "\n",
            "\n",
            "\n",
            "\n",
            "\n",
            "\n",
            "\n",
            "\n",
            "\n",
            "\n",
            "\n",
            "\n",
            "\n",
            "\n",
            "\n",
            "\n",
            "\n",
            "\n",
            "\n",
            "\n",
            "\n",
            "\n",
            "\n",
            "\n",
            "\n",
            "\n",
            "\n",
            "\n",
            "\n",
            "\n",
            "\n",
            "\n",
            "\n",
            "\n",
            "\n",
            "\n",
            "\n",
            "\n",
            "\n",
            "\n",
            "\n",
            "\n",
            "\n",
            "\n",
            "\n",
            "\n",
            "\n",
            "\n",
            "\n",
            "\n",
            "\n",
            "\n",
            "\n",
            "\n",
            "\n",
            "\n",
            "\n",
            "\n",
            "\n",
            "\n",
            "\n",
            "\n",
            "\n",
            "\n",
            "\n",
            "\n",
            "\n",
            "\n",
            "\n",
            "\n",
            "\n",
            "\n",
            "\n",
            "\n",
            "\n",
            "\n",
            "\n",
            "\n",
            "\n",
            "\n",
            "\n",
            "\n",
            "\n",
            "\n",
            "\n",
            "\n",
            "\n",
            "\n",
            "\n",
            "\n",
            "\n",
            "\n",
            "\n",
            "\n",
            "\n",
            "\n",
            "\n",
            "\n",
            "\n",
            "\n",
            "\n",
            "\n",
            "\n",
            "\n",
            "\n",
            "\n",
            "\n",
            "\n",
            "\n",
            "\n",
            "\n",
            "\n",
            "\n",
            "\n",
            "\n",
            "\n",
            "\n",
            "\n",
            "\n",
            "\n",
            "\n",
            "\n",
            "\n",
            "\n",
            "\n",
            "\n",
            "\n",
            "\n",
            "\n",
            "\n",
            "\n",
            "\n",
            "\n",
            "\n",
            "\n",
            "\n",
            "\n",
            "\n",
            "\n",
            "\n",
            "\n",
            "\n",
            "\n",
            "\n",
            "\n",
            "\n",
            "\n",
            "\n",
            "\n",
            "\n",
            "\n",
            "\n",
            "\n",
            "\n",
            "\n",
            "\n",
            "\n",
            "\n",
            "\n",
            "\n",
            "\n",
            "\n",
            "\n",
            "\n",
            "\n",
            "\n",
            "\n",
            "\n",
            "\n",
            "\n",
            "\n",
            "\n",
            "\n",
            "\n",
            "\n",
            "\n",
            "\n",
            "\n",
            "\n",
            "\n",
            "\n",
            "\n",
            "\n",
            "\n",
            "\n",
            "\n",
            "\n",
            "\n",
            "\n",
            "\n",
            "\n",
            "\n",
            "\n",
            "\n",
            "\n",
            "\n",
            "\n",
            "\n",
            "\n",
            "\n",
            "\n",
            "\n",
            "\n",
            "\n",
            "\n",
            "\n",
            "\n",
            "\n",
            "\n",
            "\n",
            "\n",
            "\n",
            "\n",
            "\n",
            "\n",
            "\n",
            "\n",
            "\n",
            "\n",
            "\n",
            "\n",
            "\n",
            "\n",
            "\n",
            "\n",
            "\n",
            "\n",
            "\n",
            "\n",
            "\n",
            "\n",
            "\n",
            "\n",
            "\n",
            "\n",
            "\n",
            "\n",
            "\n",
            "\n",
            "\n",
            "\n",
            "\n",
            "\n",
            "\n",
            "\n",
            "\n",
            "\n",
            "\n",
            "\n",
            "\n",
            "\n",
            "\n",
            "\n",
            "\n",
            "\n",
            "\n",
            "\n",
            "\n",
            "\n",
            "\n",
            "\n",
            "\n",
            "\n",
            "\n",
            "\n",
            "\n",
            "\n",
            "\n",
            "\n",
            "\n",
            "\n",
            "\n",
            "\n",
            "\n",
            "\n",
            "\n",
            "\n",
            "\n",
            "\n",
            "\n",
            "\n",
            "\n",
            "\n",
            "\n",
            "\n",
            "\n",
            "\n",
            "\n",
            "\n",
            "\n",
            "\n",
            "\n",
            "\n",
            "\n",
            "\n",
            "\n",
            "\n",
            "\n",
            "\n",
            "\n",
            "\n",
            "\n",
            "\n",
            "\n",
            "\n",
            "\n",
            "\n",
            "\n",
            "\n",
            "\n",
            "\n",
            "\n",
            "\n",
            "\n",
            "\n",
            "\n",
            "\n",
            "\n",
            "\n",
            "\n",
            "\n",
            "\n",
            "\n",
            "\n",
            "\n",
            "\n",
            "\n",
            "\n",
            "\n",
            "\n",
            "\n",
            "\n",
            "\n",
            "\n",
            "\n",
            "\n",
            "\n",
            "\n",
            "\n",
            "\n",
            "\n",
            "\n",
            "\n",
            "\n",
            "\n",
            "\n",
            "\n",
            "\n",
            "\n",
            "\n",
            "\n",
            "\n",
            "\n",
            "\n",
            "\n",
            "\n",
            "\n",
            "\n",
            "\n",
            "\n",
            "\n",
            "\n",
            "\n",
            "\n",
            "\n",
            "\n",
            "\n",
            "\n",
            "\n",
            "\n",
            "\n",
            "\n",
            "\n",
            "\n",
            "\n",
            "\n",
            "\n",
            "\n",
            "\n",
            "\n",
            "\n",
            "\n",
            "\n",
            "\n",
            "\n",
            "\n",
            "\n",
            "\n",
            "\n",
            "\n",
            "\n",
            "\n",
            "\n",
            "\n",
            "\n",
            "\n",
            "\n",
            "\n",
            "\n",
            "\n",
            "\n",
            "\n",
            "\n",
            "\n",
            "\n",
            "\n",
            "\n",
            "\n",
            "\n",
            "\n",
            "\n",
            "\n",
            "\n",
            "\n",
            "\n",
            "\n",
            "\n",
            "\n",
            "\n",
            "\n",
            "\n",
            "\n",
            "\n",
            "\n",
            "\n",
            "\n",
            "\n",
            "\n",
            "\n",
            "\n",
            "\n",
            "\n",
            "\n",
            "\n",
            "\n",
            "\n",
            "\n",
            "\n",
            "\n",
            "\n",
            "\n",
            "\n",
            "\n",
            "\n",
            "\n",
            "\n",
            "\n",
            "\n",
            "\n",
            "\n",
            "\n",
            "\n",
            "\n",
            "\n",
            "\n",
            "\n",
            "\n",
            "\n",
            "\n",
            "\n",
            "\n",
            "\n",
            "\n",
            "\n",
            "\n",
            "\n",
            "\n",
            "\n",
            "\n",
            "\n",
            "\n",
            "\n",
            "\n",
            "\n",
            "\n",
            "\n",
            "\n",
            "\n",
            "\n",
            "\n",
            "\n",
            "\n",
            "\n",
            "\n",
            "\n",
            "\n",
            "\n",
            "\n",
            "\n",
            "\n",
            "\n",
            "\n",
            "\n",
            "\n",
            "\n",
            "\n",
            "\n",
            "\n",
            "\n",
            "\n",
            "\n",
            "\n",
            "\n",
            "\n",
            "\n",
            "\n",
            "\n",
            "\n",
            "\n",
            "\n",
            "\n",
            "\n",
            "\n",
            "\n",
            "\n",
            "\n",
            "\n",
            "\n",
            "\n",
            "\n",
            "\n",
            "\n",
            "\n",
            "\n",
            "\n",
            "\n",
            "\n",
            "\n",
            "\n",
            "\n",
            "\n",
            "\n",
            "\n",
            "\n",
            "\n",
            "\n",
            "\n",
            "\n",
            "\n",
            "\n",
            "\n",
            "\n",
            "\n",
            "\n",
            "\n",
            "\n",
            "\n",
            "\n",
            "\n",
            "\n",
            "\n",
            "\n",
            "\n",
            "\n",
            "\n",
            "\n",
            "\n",
            "\n",
            "\n",
            "\n",
            "\n",
            "\n",
            "\n",
            "\n",
            "\n",
            "\n",
            "\n",
            "\n",
            "\n",
            "\n",
            "\n",
            "\n",
            "\n",
            "\n",
            "\n",
            "\n",
            "\n",
            "\n",
            "\n",
            "\n",
            "\n",
            "\n",
            "\n",
            "\n",
            "\n",
            "\n",
            "\n",
            "\n",
            "\n",
            "\n",
            "\n",
            "\n",
            "\n",
            "\n",
            "\n",
            "\n",
            "\n",
            "\n",
            "\n",
            "\n",
            "\n",
            "\n",
            "\n",
            "\n",
            "\n",
            "\n",
            "\n",
            "\n",
            "\n",
            "\n",
            "\n",
            "\n",
            "\n",
            "\n",
            "\n",
            "\n",
            "\n",
            "\n",
            "\n",
            "\n",
            "\n",
            "\n",
            "\n",
            "\n",
            "\n",
            "\n",
            "\n",
            "\n",
            "\n",
            "\n",
            "\n",
            "\n",
            "\n",
            "\n",
            "\n",
            "\n",
            "\n",
            "\n",
            "\n",
            "\n",
            "\n",
            "\n",
            "\n",
            "\n",
            "\n",
            "\n",
            "\n",
            "\n",
            "\n",
            "\n",
            "\n",
            "\n",
            "\n",
            "\n",
            "\n",
            "\n",
            "\n",
            "\n",
            "\n",
            "\n",
            "\n",
            "\n",
            "\n",
            "\n",
            "\n",
            "\n",
            "\n",
            "\n",
            "\n",
            "\n",
            "\n",
            "\n",
            "\n",
            "\n",
            "\n",
            "\n",
            "\n",
            "\n",
            "\n",
            "\n",
            "\n",
            "\n",
            "\n",
            "\n",
            "\n",
            "\n",
            "\n",
            "\n",
            "\n",
            "\n",
            "\n",
            "\n",
            "\n",
            "\n",
            "\n",
            "\n",
            "\n",
            "\n",
            "\n",
            "\n",
            "\n",
            "\n",
            "\n",
            "\n",
            "\n",
            "\n",
            "\n",
            "\n",
            "\n",
            "\n",
            "\n",
            "\n",
            "\n",
            "\n",
            "\n",
            "\n",
            "\n",
            "\n",
            "\n",
            "\n",
            "\n",
            "\n",
            "\n",
            "\n",
            "\n",
            "\n",
            "\n",
            "\n",
            "\n",
            "\n",
            "\n",
            "\n",
            "\n",
            "\n",
            "\n",
            "\n",
            "\n",
            "\n",
            "\n",
            "\n",
            "\n",
            "\n",
            "\n",
            "\n",
            "\n",
            "\n",
            "\n",
            "\n",
            "\n",
            "\n",
            "\n",
            "\n",
            "\n",
            "\n",
            "\n",
            "\n",
            "\n",
            "\n",
            "\n",
            "\n",
            "\n",
            "\n",
            "\n",
            "\n",
            "\n",
            "\n",
            "\n",
            "\n",
            "\n",
            "\n",
            "\n",
            "\n",
            "\n",
            "\n",
            "\n",
            "\n",
            "\n",
            "\n",
            "\n",
            "\n",
            "\n",
            "\n",
            "\n",
            "\n",
            "\n",
            "\n",
            "\n",
            "\n",
            "\n",
            "\n",
            "\n",
            "\n",
            "\n",
            "\n",
            "\n",
            "\n",
            "\n",
            "\n",
            "\n",
            "\n",
            "\n",
            "\n",
            "\n",
            "\n",
            "\n",
            "\n",
            "\n",
            "\n",
            "\n",
            "\n",
            "\n",
            "\n",
            "\n",
            "\n",
            "\n",
            "\n",
            "\n",
            "\n",
            "\n",
            "\n",
            "\n",
            "\n",
            "\n",
            "\n",
            "\n",
            "\n",
            "\n",
            "\n",
            "\n",
            "\n",
            "\n",
            "\n",
            "\n",
            "\n",
            "\n",
            "\n",
            "\n",
            "\n",
            "\n",
            "\n",
            "\n",
            "\n",
            "\n",
            "\n",
            "\n",
            "\n",
            "\n",
            "\n",
            "\n",
            "\n",
            "\n",
            "\n",
            "\n",
            "\n",
            "\n",
            "\n",
            "\n",
            "\n",
            "\n",
            "\n",
            "\n",
            "\n",
            "\n",
            "\n",
            "\n",
            "\n",
            "\n",
            "\n",
            "\n",
            "\n",
            "\n",
            "\n",
            "\n",
            "\n",
            "\n",
            "\n",
            "\n",
            "\n",
            "\n",
            "\n",
            "\n",
            "\n",
            "\n",
            "\n",
            "\n",
            "\n",
            "\n",
            "\n",
            "\n",
            "\n",
            "\n",
            "\n",
            "\n",
            "\n",
            "\n",
            "\n",
            "\n",
            "\n",
            "\n",
            "\n",
            "\n",
            "\n",
            "\n",
            "\n",
            "\n",
            "\n",
            "\n",
            "\n",
            "\n",
            "\n",
            "\n",
            "\n",
            "\n",
            "\n",
            "\n",
            "\n",
            "\n",
            "\n",
            "\n",
            "\n",
            "\n",
            "\n",
            "\n",
            "\n",
            "\n",
            "\n",
            "\n",
            "\n",
            "\n",
            "\n",
            "\n",
            "\n",
            "\n",
            "\n",
            "\n",
            "\n",
            "\n",
            "\n",
            "\n",
            "\n",
            "\n",
            "\n",
            "\n",
            "\n",
            "\n",
            "\n",
            "\n",
            "\n",
            "\n",
            "\n",
            "\n",
            "\n",
            "\n",
            "\n",
            "\n",
            "\n",
            "\n",
            "\n",
            "\n",
            "\n",
            "\n",
            "\n",
            "\n",
            "\n",
            "\n",
            "\n",
            "\n",
            "\n",
            "\n",
            "\n",
            "\n",
            "\n",
            "\n",
            "\n",
            "\n",
            "\n",
            "\n",
            "\n",
            "\n",
            "\n",
            "\n",
            "\n",
            "\n",
            "\n",
            "\n",
            "\n",
            "\n",
            "\n",
            "\n",
            "\n",
            "\n",
            "\n",
            "\n",
            "\n",
            "\n",
            "\n",
            "\n",
            "\n",
            "\n",
            "\n",
            "\n",
            "\n",
            "\n",
            "\n",
            "\n",
            "\n",
            "\n",
            "\n",
            "\n",
            "\n",
            "\n",
            "\n",
            "\n",
            "\n",
            "\n",
            "\n",
            "\n",
            "\n",
            "\n",
            "\n",
            "\n",
            "\n",
            "\n",
            "\n",
            "\n",
            "\n",
            "\n",
            "\n",
            "\n",
            "\n",
            "\n",
            "\n",
            "\n",
            "\n",
            "\n",
            "\n",
            "\n",
            "\n",
            "\n",
            "\n",
            "\n",
            "\n",
            "\n",
            "\n",
            "\n",
            "\n",
            "\n",
            "\n",
            "\n",
            "\n",
            "\n",
            "\n",
            "\n",
            "\n",
            "\n",
            "\n",
            "\n",
            "\n",
            "\n",
            "\n",
            "\n",
            "\n",
            "\n",
            "\n",
            "\n",
            "\n",
            "\n",
            "\n",
            "\n",
            "\n",
            "\n",
            "\n",
            "\n",
            "\n",
            "\n",
            "\n",
            "\n",
            "\n",
            "\n",
            "\n",
            "\n",
            "\n",
            "\n",
            "\n",
            "\n",
            "\n",
            "\n",
            "\n",
            "\n",
            "\n",
            "\n",
            "\n",
            "\n",
            "\n",
            "\n",
            "\n",
            "\n",
            "\n",
            "\n",
            "\n",
            "\n",
            "\n",
            "\n",
            "\n",
            "\n",
            "\n",
            "\n",
            "\n",
            "\n",
            "\n",
            "\n",
            "\n",
            "\n",
            "\n",
            "\n",
            "\n",
            "\n",
            "\n",
            "\n",
            "\n",
            "\n",
            "\n",
            "\n",
            "\n",
            "\n",
            "\n",
            "\n",
            "\n",
            "\n",
            "\n",
            "\n",
            "\n",
            "\n",
            "\n",
            "\n",
            "\n",
            "\n",
            "\n",
            "\n",
            "\n",
            "\n",
            "\n",
            "\n",
            "\n",
            "\n",
            "\n",
            "\n",
            "\n",
            "\n",
            "\n",
            "\n",
            "\n",
            "\n",
            "\n",
            "\n",
            "\n",
            "\n",
            "\n",
            "\n",
            "\n",
            "\n",
            "\n",
            "\n",
            "\n",
            "\n",
            "\n",
            "\n",
            "\n",
            "\n",
            "\n",
            "\n",
            "\n",
            "\n",
            "\n",
            "\n",
            "\n",
            "\n",
            "\n",
            "\n",
            "\n",
            "\n",
            "\n",
            "\n",
            "\n",
            "\n",
            "\n",
            "\n",
            "\n",
            "\n",
            "\n",
            "\n",
            "\n",
            "\n",
            "\n",
            "\n",
            "\n",
            "\n",
            "\n",
            "\n",
            "\n",
            "\n",
            "\n",
            "\n",
            "\n",
            "\n",
            "\n",
            "\n",
            "\n",
            "\n",
            "\n",
            "\n",
            "\n",
            "\n",
            "\n",
            "\n",
            "\n",
            "\n",
            "\n",
            "\n",
            "\n",
            "\n",
            "\n",
            "\n",
            "\n",
            "\n",
            "\n",
            "\n",
            "\n",
            "\n",
            "\n",
            "\n",
            "\n",
            "\n",
            "\n",
            "\n",
            "\n",
            "\n",
            "\n",
            "\n",
            "\n",
            "\n",
            "\n",
            "\n",
            "\n",
            "\n",
            "\n",
            "\n",
            "\n",
            "\n",
            "\n",
            "\n",
            "\n",
            "\n",
            "\n",
            "\n",
            "\n",
            "\n",
            "\n",
            "\n",
            "\n",
            "\n",
            "\n",
            "\n",
            "\n",
            "\n",
            "\n",
            "\n",
            "\n",
            "\n",
            "\n",
            "\n",
            "\n",
            "\n",
            "\n",
            "\n",
            "\n",
            "\n",
            "\n",
            "\n",
            "\n",
            "\n",
            "\n",
            "\n",
            "\n",
            "\n",
            "\n",
            "\n",
            "\n",
            "\n",
            "\n",
            "\n",
            "\n",
            "\n",
            "\n",
            "\n",
            "\n",
            "\n",
            "\n",
            "\n",
            "\n",
            "\n",
            "\n",
            "\n",
            "\n",
            "\n",
            "\n",
            "\n",
            "\n",
            "\n",
            "\n",
            "\n",
            "\n",
            "\n",
            "\n",
            "\n",
            "\n",
            "\n",
            "\n",
            "\n",
            "\n",
            "\n",
            "\n",
            "\n",
            "\n",
            "\n",
            "\n",
            "\n",
            "\n",
            "\n",
            "\n",
            "\n",
            "\n",
            "\n",
            "\n",
            "\n",
            "\n",
            "\n",
            "\n",
            "\n",
            "\n",
            "\n",
            "\n",
            "\n",
            "\n",
            "\n",
            "\n",
            "\n",
            "\n",
            "\n",
            "\n",
            "\n",
            "\n",
            "\n",
            "\n",
            "\n",
            "\n",
            "\n",
            "\n",
            "\n",
            "\n",
            "\n",
            "\n",
            "\n",
            "\n",
            "\n",
            "\n",
            "\n",
            "\n",
            "\n",
            "\n",
            "\n",
            "\n",
            "\n",
            "\n",
            "\n",
            "\n",
            "\n",
            "\n",
            "\n",
            "\n",
            "\n",
            "\n",
            "\n",
            "\n",
            "\n",
            "\n",
            "\n",
            "\n",
            "\n",
            "\n",
            "\n",
            "\n",
            "\n",
            "\n",
            "\n",
            "\n",
            "\n",
            "\n",
            "\n",
            "\n",
            "\n",
            "\n",
            "\n",
            "\n",
            "\n",
            "\n",
            "\n",
            "\n",
            "\n",
            "\n",
            "\n",
            "\n",
            "\n",
            "\n",
            "\n",
            "\n",
            "\n",
            "\n",
            "\n",
            "\n",
            "\n",
            "\n",
            "\n",
            "\n",
            "\n",
            "\n",
            "\n",
            "\n",
            "\n",
            "\n",
            "\n",
            "\n",
            "\n",
            "\n",
            "\n",
            "\n",
            "\n",
            "\n",
            "\n",
            "\n",
            "\n",
            "\n",
            "\n",
            "\n",
            "\n",
            "\n",
            "\n",
            "\n",
            "\n",
            "\n",
            "\n",
            "\n",
            "\n",
            "\n",
            "\n",
            "\n",
            "\n",
            "\n",
            "\n",
            "\n",
            "\n",
            "\n",
            "\n",
            "\n",
            "\n",
            "\n",
            "\n",
            "\n",
            "\n",
            "\n",
            "\n",
            "\n",
            "\n",
            "\n",
            "\n",
            "\n",
            "\n",
            "\n",
            "\n",
            "\n",
            "\n",
            "\n",
            "\n",
            "\n",
            "\n",
            "\n",
            "\n",
            "\n",
            "\n",
            "\n",
            "\n",
            "\n",
            "\n",
            "\n",
            "\n",
            "\n",
            "\n",
            "\n",
            "\n",
            "\n",
            "\n",
            "\n",
            "\n",
            "\n",
            "\n",
            "\n",
            "\n",
            "\n",
            "\n",
            "\n",
            "\n",
            "\n",
            "\n",
            "\n",
            "\n",
            "\n",
            "\n",
            "\n",
            "\n",
            "\n",
            "\n",
            "\n",
            "\n",
            "\n",
            "\n",
            "\n",
            "\n",
            "\n",
            "\n",
            "\n",
            "\n",
            "\n",
            "\n",
            "\n",
            "\n",
            "\n",
            "\n",
            "\n",
            "\n",
            "\n",
            "\n",
            "\n",
            "\n",
            "\n",
            "\n",
            "\n",
            "\n",
            "\n",
            "\n",
            "\n",
            "\n",
            "\n",
            "\n",
            "\n",
            "\n",
            "\n",
            "\n",
            "\n",
            "\n",
            "\n",
            "\n",
            "\n",
            "\n",
            "\n",
            "\n",
            "\n",
            "\n",
            "\n",
            "\n",
            "\n",
            "\n",
            "\n",
            "\n",
            "\n",
            "\n",
            "\n",
            "\n",
            "\n",
            "\n",
            "\n",
            "\n",
            "\n",
            "\n",
            "\n",
            "\n",
            "\n",
            "\n",
            "\n",
            "\n",
            "\n",
            "\n",
            "\n",
            "\n",
            "\n",
            "\n",
            "\n",
            "\n",
            "\n",
            "\n",
            "\n",
            "\n",
            "\n",
            "\n",
            "\n",
            "\n",
            "\n",
            "\n",
            "\n",
            "\n",
            "\n",
            "\n",
            "\n",
            "\n",
            "\n",
            "\n",
            "\n",
            "\n",
            "\n",
            "\n",
            "\n",
            "\n",
            "\n",
            "\n",
            "\n",
            "\n",
            "\n",
            "\n",
            "\n",
            "\n",
            "\n",
            "\n",
            "\n",
            "\n",
            "\n",
            "\n",
            "\n",
            "\n",
            "\n",
            "\n",
            "\n",
            "\n",
            "\n",
            "\n",
            "\n",
            "\n",
            "\n",
            "\n",
            "\n",
            "\n",
            "\n",
            "\n",
            "\n",
            "\n",
            "\n",
            "\n",
            "\n",
            "\n",
            "\n",
            "\n",
            "\n",
            "\n",
            "\n",
            "\n",
            "\n",
            "\n",
            "\n",
            "\n",
            "\n",
            "\n",
            "\n",
            "\n",
            "\n",
            "\n",
            "\n",
            "\n",
            "\n",
            "\n",
            "\n",
            "\n",
            "\n",
            "\n",
            "\n",
            "\n",
            "\n",
            "\n",
            "\n",
            "\n",
            "\n",
            "\n",
            "\n",
            "\n",
            "\n",
            "\n",
            "\n",
            "\n",
            "\n",
            "\n",
            "\n",
            "\n",
            "\n",
            "\n",
            "\n",
            "\n",
            "\n",
            "\n",
            "\n",
            "\n",
            "\n",
            "\n",
            "\n",
            "\n",
            "\n",
            "\n",
            "\n",
            "\n",
            "\n",
            "\n",
            "\n",
            "\n",
            "\n",
            "\n",
            "\n",
            "\n",
            "\n",
            "\n",
            "\n",
            "\n",
            "\n",
            "\n",
            "\n",
            "\n",
            "\n",
            "\n",
            "\n",
            "\n",
            "\n",
            "\n",
            "\n",
            "\n",
            "\n",
            "\n",
            "\n",
            "\n",
            "\n",
            "\n",
            "\n",
            "\n",
            "\n",
            "\n",
            "\n",
            "\n",
            "\n",
            "\n",
            "\n",
            "\n",
            "\n",
            "\n",
            "\n",
            "\n",
            "\n",
            "\n",
            "\n",
            "\n",
            "\n",
            "\n",
            "\n",
            "\n",
            "\n",
            "\n",
            "\n",
            "\n",
            "\n",
            "\n",
            "\n",
            "\n",
            "\n",
            "\n",
            "\n",
            "\n",
            "\n",
            "\n",
            "\n",
            "\n",
            "\n",
            "\n",
            "\n",
            "\n",
            "\n",
            "\n",
            "\n",
            "\n",
            "\n",
            "\n",
            "\n",
            "\n",
            "\n",
            "\n",
            "\n",
            "\n",
            "\n",
            "\n",
            "\n",
            "\n",
            "\n",
            "\n",
            "\n",
            "\n",
            "\n",
            "\n",
            "\n",
            "\n",
            "\n",
            "\n",
            "\n",
            "\n",
            "\n",
            "\n",
            "\n",
            "\n",
            "\n",
            "\n",
            "\n",
            "\n",
            "\n",
            "\n",
            "\n",
            "\n",
            "\n",
            "\n",
            "\n",
            "\n",
            "\n",
            "\n",
            "\n",
            "\n",
            "\n",
            "\n",
            "\n",
            "\n",
            "\n",
            "\n",
            "\n",
            "\n",
            "\n",
            "\n",
            "\n",
            "\n",
            "\n",
            "\n",
            "\n",
            "\n",
            "\n",
            "\n",
            "\n",
            "\n",
            "\n",
            "\n",
            "\n",
            "\n",
            "\n",
            "\n",
            "\n",
            "\n",
            "\n",
            "\n",
            "\n",
            "\n",
            "\n",
            "\n",
            "\n",
            "\n",
            "\n",
            "\n",
            "\n",
            "\n",
            "\n",
            "\n",
            "\n",
            "\n",
            "\n",
            "\n",
            "\n",
            "\n",
            "\n",
            "\n",
            "\n",
            "\n",
            "\n",
            "\n",
            "\n",
            "\n",
            "\n",
            "\n",
            "\n",
            "\n",
            "\n",
            "\n",
            "\n",
            "\n",
            "\n",
            "\n",
            "\n",
            "\n",
            "\n",
            "\n",
            "\n",
            "\n",
            "\n",
            "\n",
            "\n",
            "\n",
            "\n",
            "\n",
            "\n",
            "\n",
            "\n",
            "\n",
            "\n",
            "\n",
            "\n",
            "\n",
            "\n",
            "\n",
            "\n",
            "\n",
            "\n",
            "\n",
            "\n",
            "\n",
            "\n",
            "\n",
            "\n",
            "\n",
            "\n",
            "\n",
            "\n",
            "\n",
            "\n",
            "\n",
            "\n",
            "\n",
            "\n",
            "\n",
            "\n",
            "\n",
            "\n",
            "\n",
            "\n",
            "\n",
            "\n",
            "\n",
            "\n",
            "\n",
            "\n",
            "\n",
            "\n",
            "\n",
            "\n",
            "\n",
            "\n",
            "\n",
            "\n",
            "\n",
            "\n",
            "\n",
            "\n",
            "\n",
            "\n",
            "\n",
            "\n",
            "\n",
            "\n",
            "\n",
            "\n",
            "\n",
            "\n",
            "\n",
            "\n",
            "\n",
            "\n",
            "\n",
            "\n",
            "\n",
            "\n",
            "\n",
            "\n",
            "\n",
            "\n",
            "\n",
            "\n",
            "\n",
            "\n",
            "\n",
            "\n",
            "\n",
            "\n",
            "\n",
            "\n",
            "\n",
            "\n",
            "\n",
            "\n",
            "\n",
            "\n",
            "\n",
            "\n",
            "\n",
            "\n",
            "\n",
            "\n",
            "\n",
            "\n",
            "\n",
            "\n",
            "\n",
            "\n",
            "\n",
            "\n",
            "\n",
            "\n",
            "\n",
            "\n",
            "\n",
            "\n",
            "\n",
            "\n",
            "\n",
            "\n",
            "\n",
            "\n",
            "\n",
            "\n",
            "\n",
            "\n",
            "\n",
            "\n",
            "\n",
            "\n",
            "\n",
            "\n",
            "\n",
            "\n",
            "\n",
            "\n",
            "\n",
            "\n",
            "\n",
            "\n",
            "\n",
            "\n",
            "\n",
            "\n",
            "\n",
            "\n",
            "\n",
            "\n",
            "\n",
            "\n",
            "\n",
            "\n",
            "\n",
            "\n",
            "\n",
            "\n",
            "\n",
            "\n",
            "\n",
            "\n",
            "\n",
            "\n",
            "\n",
            "\n",
            "\n",
            "\n",
            "\n",
            "\n",
            "\n",
            "\n",
            "\n",
            "\n",
            "\n",
            "\n",
            "\n",
            "\n",
            "\n",
            "\n",
            "\n",
            "\n",
            "\n",
            "\n",
            "\n",
            "\n",
            "\n",
            "\n",
            "\n",
            "\n",
            "\n",
            "\n",
            "\n",
            "\n",
            "\n",
            "\n",
            "\n",
            "\n",
            "\n",
            "\n",
            "\n",
            "\n",
            "\n",
            "\n",
            "\n",
            "\n",
            "\n",
            "\n",
            "\n",
            "\n",
            "\n",
            "\n",
            "\n",
            "\n",
            "\n",
            "\n",
            "\n",
            "\n",
            "\n",
            "\n",
            "\n",
            "\n",
            "\n",
            "\n",
            "\n",
            "\n",
            "\n",
            "\n",
            "\n",
            "\n",
            "\n",
            "\n",
            "\n",
            "\n",
            "\n",
            "\n",
            "\n",
            "\n",
            "\n",
            "\n",
            "\n",
            "\n",
            "\n",
            "\n",
            "\n",
            "\n",
            "\n",
            "\n",
            "\n",
            "\n",
            "\n",
            "\n",
            "\n",
            "\n",
            "\n",
            "\n",
            "\n",
            "\n",
            "\n",
            "\n",
            "\n",
            "\n",
            "\n",
            "\n",
            "\n",
            "\n",
            "\n",
            "\n",
            "\n",
            "\n",
            "\n",
            "\n",
            "\n",
            "\n",
            "\n",
            "\n",
            "\n",
            "\n",
            "\n",
            "\n",
            "\n",
            "\n",
            "\n",
            "\n",
            "\n",
            "\n",
            "\n",
            "\n",
            "\n",
            "\n",
            "\n",
            "\n",
            "\n",
            "\n",
            "\n",
            "\n",
            "\n",
            "\n",
            "\n",
            "\n",
            "\n",
            "\n",
            "\n",
            "\n",
            "\n",
            "\n",
            "\n",
            "\n",
            "\n",
            "\n",
            "\n",
            "\n",
            "\n",
            "\n",
            "\n",
            "\n",
            "\n",
            "\n",
            "\n",
            "\n",
            "\n",
            "\n",
            "\n",
            "\n",
            "\n",
            "\n",
            "\n",
            "\n",
            "\n",
            "\n",
            "\n",
            "\n",
            "\n",
            "\n",
            "\n",
            "\n",
            "\n",
            "\n",
            "\n",
            "\n",
            "\n",
            "\n",
            "\n",
            "\n",
            "\n",
            "\n",
            "\n",
            "\n",
            "\n",
            "\n",
            "\n",
            "\n",
            "\n",
            "\n",
            "\n",
            "\n",
            "\n",
            "\n",
            "\n",
            "\n",
            "\n",
            "\n",
            "\n",
            "\n",
            "\n",
            "\n",
            "\n",
            "\n",
            "\n",
            "\n",
            "\n",
            "\n",
            "\n",
            "\n",
            "\n",
            "\n",
            "\n",
            "\n",
            "\n",
            "\n",
            "\n",
            "\n",
            "\n",
            "\n",
            "\n",
            "\n",
            "\n",
            "\n",
            "\n",
            "\n",
            "\n",
            "\n",
            "\n",
            "\n",
            "\n",
            "\n",
            "\n",
            "\n",
            "\n",
            "\n",
            "\n",
            "\n",
            "\n",
            "\n",
            "\n",
            "\n",
            "\n",
            "\n",
            "\n",
            "\n",
            "\n",
            "\n",
            "\n",
            "\n",
            "\n",
            "\n",
            "\n",
            "\n",
            "\n",
            "\n",
            "\n",
            "\n",
            "\n",
            "\n",
            "\n",
            "\n",
            "\n",
            "\n",
            "\n",
            "\n",
            "\n",
            "\n",
            "\n",
            "\n",
            "\n",
            "\n",
            "\n",
            "\n",
            "\n",
            "\n",
            "\n",
            "\n",
            "\n",
            "\n",
            "\n",
            "\n",
            "\n",
            "\n",
            "\n",
            "\n",
            "\n",
            "\n",
            "\n",
            "\n",
            "\n",
            "\n",
            "\n",
            "\n",
            "\n",
            "\n",
            "\n",
            "\n",
            "\n",
            "\n",
            "\n",
            "\n",
            "\n",
            "\n",
            "\n",
            "\n",
            "\n",
            "\n",
            "\n",
            "\n",
            "\n",
            "\n",
            "\n",
            "\n",
            "\n",
            "\n",
            "\n",
            "\n",
            "\n",
            "\n",
            "\n",
            "\n",
            "\n",
            "\n",
            "\n",
            "\n",
            "\n",
            "\n",
            "\n",
            "\n",
            "\n",
            "\n",
            "\n",
            "\n",
            "\n",
            "\n",
            "\n",
            "\n",
            "\n",
            "\n",
            "\n",
            "\n",
            "\n",
            "\n",
            "\n",
            "\n",
            "\n",
            "\n",
            "\n",
            "\n",
            "\n",
            "\n",
            "\n",
            "\n",
            "\n",
            "\n",
            "\n",
            "\n",
            "\n",
            "\n",
            "\n",
            "\n",
            "\n",
            "\n",
            "\n",
            "\n",
            "\n",
            "\n",
            "\n",
            "\n",
            "\n",
            "\n",
            "\n",
            "\n",
            "\n",
            "\n",
            "\n",
            "\n",
            "\n",
            "\n",
            "\n",
            "\n",
            "\n",
            "\n",
            "\n",
            "\n",
            "\n",
            "\n",
            "\n",
            "\n",
            "\n",
            "\n",
            "\n",
            "\n",
            "\n",
            "\n",
            "\n",
            "\n",
            "\n",
            "\n",
            "\n",
            "\n",
            "\n",
            "\n",
            "\n",
            "\n",
            "\n",
            "\n",
            "\n",
            "\n",
            "\n",
            "\n",
            "\n",
            "\n",
            "\n",
            "\n",
            "\n",
            "\n",
            "\n",
            "\n",
            "\n",
            "\n",
            "\n",
            "\n",
            "\n",
            "\n",
            "\n",
            "\n",
            "\n",
            "\n",
            "\n",
            "\n",
            "\n",
            "\n",
            "\n",
            "\n",
            "\n",
            "\n",
            "\n",
            "\n",
            "\n",
            "\n",
            "\n",
            "\n",
            "\n",
            "\n",
            "\n",
            "\n",
            "\n",
            "\n",
            "\n",
            "\n",
            "\n",
            "\n",
            "\n",
            "\n",
            "\n",
            "\n",
            "\n",
            "\n",
            "\n",
            "\n",
            "\n",
            "\n",
            "\n",
            "\n",
            "\n",
            "\n",
            "\n",
            "\n",
            "\n",
            "\n",
            "\n",
            "\n",
            "\n",
            "\n",
            "\n",
            "\n",
            "\n",
            "\n",
            "\n",
            "\n",
            "\n",
            "\n",
            "\n",
            "\n",
            "\n",
            "\n",
            "\n",
            "\n",
            "\n",
            "\n",
            "\n",
            "\n",
            "\n",
            "\n",
            "\n",
            "\n",
            "\n",
            "\n",
            "\n",
            "\n",
            "\n",
            "\n",
            "\n",
            "\n",
            "\n",
            "\n",
            "\n",
            "\n",
            "\n",
            "\n",
            "\n",
            "\n",
            "\n",
            "\n",
            "\n",
            "\n",
            "\n",
            "\n",
            "\n",
            "\n",
            "\n",
            "\n",
            "\n",
            "\n",
            "\n",
            "\n",
            "\n",
            "\n",
            "\n",
            "\n",
            "\n",
            "\n",
            "\n",
            "\n",
            "\n",
            "\n",
            "\n",
            "\n",
            "\n",
            "\n",
            "\n",
            "\n",
            "\n",
            "\n",
            "\n",
            "\n",
            "\n",
            "\n",
            "\n",
            "\n",
            "\n",
            "\n",
            "\n",
            "\n",
            "\n",
            "\n",
            "\n",
            "\n",
            "\n",
            "\n",
            "\n",
            "\n",
            "\n",
            "\n",
            "\n",
            "\n",
            "\n",
            "\n",
            "\n",
            "\n",
            "\n",
            "\n",
            "\n",
            "\n",
            "\n",
            "\n",
            "\n",
            "\n",
            "\n",
            "\n",
            "\n",
            "\n",
            "\n",
            "\n",
            "\n",
            "\n",
            "\n",
            "\n",
            "\n",
            "\n",
            "\n",
            "\n",
            "\n",
            "\n",
            "\n",
            "\n",
            "\n",
            "\n",
            "\n",
            "\n",
            "\n",
            "\n",
            "\n",
            "\n",
            "\n",
            "\n",
            "\n",
            "\n",
            "\n",
            "\n",
            "\n",
            "\n",
            "\n",
            "\n",
            "\n",
            "\n",
            "\n",
            "\n",
            "\n",
            "\n",
            "\n",
            "\n",
            "\n",
            "\n",
            "\n",
            "\n",
            "\n",
            "\n",
            "\n",
            "\n",
            "\n",
            "\n",
            "\n",
            "\n",
            "\n",
            "\n",
            "\n",
            "\n",
            "\n",
            "\n",
            "\n",
            "\n",
            "\n",
            "\n",
            "\n",
            "\n",
            "\n",
            "\n",
            "\n",
            "\n",
            "\n",
            "\n",
            "\n",
            "\n",
            "\n",
            "\n",
            "\n",
            "\n",
            "\n",
            "\n",
            "\n",
            "\n",
            "\n",
            "\n",
            "\n",
            "\n",
            "\n",
            "\n",
            "\n",
            "\n",
            "\n",
            "\n",
            "\n",
            "\n",
            "\n",
            "\n",
            "\n",
            "\n",
            "\n",
            "\n",
            "\n",
            "\n",
            "\n",
            "\n",
            "\n",
            "\n",
            "\n",
            "\n",
            "\n",
            "\n",
            "\n",
            "\n",
            "\n",
            "\n",
            "\n",
            "\n",
            "\n",
            "\n",
            "\n",
            "\n",
            "\n",
            "\n",
            "\n",
            "\n",
            "\n",
            "\n",
            "\n",
            "\n",
            "\n",
            "\n",
            "\n",
            "\n",
            "\n",
            "\n",
            "\n",
            "\n",
            "\n",
            "\n",
            "\n",
            "\n",
            "\n",
            "\n",
            "\n",
            "\n",
            "\n",
            "\n",
            "\n",
            "\n",
            "\n",
            "\n",
            "\n",
            "\n",
            "\n",
            "\n",
            "\n",
            "\n",
            "\n",
            "\n",
            "\n",
            "\n",
            "\n",
            "\n",
            "\n",
            "\n",
            "\n",
            "\n",
            "\n",
            "\n",
            "\n",
            "\n",
            "\n",
            "\n",
            "\n",
            "\n",
            "\n",
            "\n",
            "\n",
            "\n",
            "\n",
            "\n",
            "\n",
            "\n",
            "\n",
            "\n",
            "\n",
            "\n",
            "\n",
            "\n",
            "\n",
            "\n",
            "\n",
            "\n",
            "\n",
            "\n",
            "\n",
            "\n",
            "\n",
            "\n",
            "\n",
            "\n",
            "\n",
            "\n",
            "\n",
            "\n",
            "\n",
            "\n",
            "\n",
            "\n",
            "\n",
            "\n",
            "\n",
            "\n",
            "\n",
            "\n",
            "\n",
            "\n",
            "\n",
            "\n",
            "\n",
            "\n",
            "\n",
            "\n",
            "\n",
            "\n",
            "\n",
            "\n",
            "\n",
            "\n",
            "\n",
            "\n",
            "\n",
            "\n",
            "\n",
            "\n",
            "\n",
            "\n",
            "\n",
            "\n",
            "\n",
            "\n",
            "\n",
            "\n",
            "\n",
            "\n",
            "\n",
            "\n",
            "\n",
            "\n",
            "\n",
            "\n",
            "\n",
            "\n",
            "\n",
            "\n",
            "\n",
            "\n",
            "\n",
            "\n",
            "\n",
            "\n",
            "\n",
            "\n",
            "\n",
            "\n",
            "\n",
            "\n",
            "\n",
            "\n",
            "\n",
            "\n",
            "\n",
            "\n",
            "\n",
            "\n",
            "\n",
            "\n",
            "\n",
            "\n",
            "\n",
            "\n",
            "\n",
            "\n",
            "\n",
            "\n",
            "\n",
            "\n",
            "\n",
            "\n",
            "\n",
            "\n",
            "\n",
            "\n",
            "\n",
            "\n",
            "\n",
            "\n",
            "\n",
            "\n",
            "\n",
            "\n",
            "\n",
            "\n",
            "\n",
            "\n",
            "\n",
            "\n",
            "\n",
            "\n",
            "\n",
            "\n",
            "\n",
            "\n",
            "\n",
            "\n",
            "\n",
            "\n",
            "\n",
            "\n",
            "\n",
            "\n",
            "\n",
            "\n",
            "\n",
            "\n",
            "\n",
            "\n",
            "\n",
            "\n",
            "\n",
            "\n",
            "\n",
            "\n",
            "\n",
            "\n",
            "\n",
            "\n",
            "\n",
            "\n",
            "\n",
            "\n",
            "\n",
            "\n",
            "\n",
            "\n",
            "\n",
            "\n",
            "\n",
            "\n",
            "\n",
            "\n",
            "\n",
            "\n",
            "\n",
            "\n",
            "\n",
            "\n",
            "\n",
            "\n",
            "\n",
            "\n",
            "\n",
            "\n",
            "\n",
            "\n",
            "\n",
            "\n",
            "\n",
            "\n",
            "\n",
            "\n",
            "\n",
            "\n",
            "\n",
            "\n",
            "\n",
            "\n",
            "\n",
            "\n",
            "\n",
            "\n",
            "\n",
            "\n",
            "\n",
            "\n",
            "\n",
            "\n",
            "\n",
            "\n",
            "\n",
            "\n",
            "\n",
            "\n",
            "\n",
            "\n",
            "\n",
            "\n",
            "\n",
            "\n",
            "\n",
            "\n",
            "\n",
            "\n",
            "\n",
            "\n",
            "\n",
            "\n",
            "\n",
            "\n",
            "\n",
            "\n",
            "\n",
            "\n",
            "\n",
            "\n",
            "\n",
            "\n",
            "\n",
            "\n",
            "\n",
            "\n",
            "\n",
            "\n",
            "\n",
            "\n",
            "\n",
            "\n",
            "\n",
            "\n",
            "\n",
            "\n",
            "\n",
            "\n",
            "\n",
            "\n",
            "\n",
            "\n",
            "\n",
            "\n",
            "\n",
            "\n",
            "\n",
            "\n",
            "\n",
            "\n",
            "\n",
            "\n",
            "\n",
            "\n",
            "\n",
            "\n",
            "\n",
            "\n",
            "\n",
            "\n",
            "\n",
            "\n",
            "\n",
            "\n",
            "\n",
            "\n",
            "\n",
            "\n",
            "\n",
            "\n",
            "\n",
            "\n",
            "\n",
            "\n",
            "\n",
            "\n",
            "\n",
            "\n",
            "\n",
            "\n",
            "\n",
            "\n",
            "\n",
            "\n",
            "\n",
            "\n",
            "\n",
            "\n",
            "\n",
            "\n",
            "\n",
            "\n",
            "\n",
            "\n",
            "\n",
            "\n",
            "\n",
            "\n",
            "\n",
            "\n",
            "\n",
            "\n",
            "\n",
            "\n",
            "\n",
            "\n",
            "\n",
            "\n",
            "\n",
            "\n",
            "\n",
            "\n",
            "\n",
            "\n",
            "\n",
            "\n",
            "\n",
            "\n",
            "\n",
            "\n",
            "\n",
            "\n",
            "\n",
            "\n",
            "\n",
            "\n",
            "\n",
            "\n",
            "\n",
            "\n",
            "\n",
            "\n",
            "\n",
            "\n",
            "\n",
            "\n",
            "\n",
            "\n",
            "\n",
            "\n",
            "\n",
            "\n",
            "\n",
            "\n",
            "\n",
            "\n",
            "\n",
            "\n",
            "\n",
            "\n",
            "\n",
            "\n",
            "\n",
            "\n",
            "\n",
            "\n",
            "\n",
            "\n",
            "\n",
            "\n",
            "\n",
            "\n",
            "\n",
            "\n",
            "\n",
            "\n",
            "\n",
            "\n",
            "\n",
            "\n",
            "\n",
            "\n",
            "\n",
            "\n",
            "\n",
            "\n",
            "\n",
            "\n",
            "\n",
            "\n",
            "\n",
            "\n",
            "\n",
            "\n",
            "\n",
            "\n",
            "\n",
            "\n",
            "\n",
            "\n",
            "\n",
            "\n",
            "\n",
            "\n",
            "\n",
            "\n",
            "\n",
            "\n",
            "\n",
            "\n",
            "\n",
            "\n",
            "\n",
            "\n",
            "\n",
            "\n",
            "\n",
            "\n",
            "\n",
            "\n",
            "\n",
            "\n",
            "\n",
            "\n",
            "\n",
            "\n",
            "\n",
            "\n",
            "\n",
            "\n",
            "\n",
            "\n",
            "\n",
            "\n",
            "\n",
            "\n",
            "\n",
            "\n",
            "\n",
            "\n",
            "\n",
            "\n",
            "\n",
            "\n",
            "\n",
            "\n",
            "\n",
            "\n",
            "\n",
            "\n",
            "\n",
            "\n",
            "\n",
            "\n",
            "\n",
            "\n",
            "\n",
            "\n",
            "\n",
            "\n",
            "\n",
            "\n",
            "\n",
            "\n",
            "\n",
            "\n",
            "\n",
            "\n",
            "\n",
            "\n",
            "\n",
            "\n",
            "\n",
            "\n",
            "\n",
            "\n",
            "\n",
            "\n",
            "\n",
            "\n",
            "\n",
            "\n",
            "\n",
            "\n",
            "\n",
            "\n",
            "\n",
            "\n",
            "\n",
            "\n",
            "\n",
            "\n",
            "\n",
            "\n",
            "\n",
            "\n",
            "\n",
            "\n",
            "\n",
            "\n",
            "\n",
            "\n",
            "\n",
            "\n",
            "\n",
            "\n",
            "\n",
            "\n",
            "\n",
            "\n",
            "\n",
            "\n",
            "\n",
            "\n",
            "\n",
            "\n",
            "\n",
            "\n",
            "\n",
            "\n",
            "\n",
            "\n",
            "\n",
            "\n",
            "\n",
            "\n",
            "\n",
            "\n",
            "\n",
            "\n",
            "\n",
            "\n",
            "\n",
            "\n",
            "\n",
            "\n",
            "\n",
            "\n",
            "\n",
            "\n",
            "\n",
            "\n",
            "\n",
            "\n",
            "\n",
            "\n",
            "\n",
            "\n",
            "\n",
            "\n",
            "\n",
            "\n",
            "\n",
            "\n",
            "\n",
            "\n",
            "\n",
            "\n",
            "\n",
            "\n",
            "\n",
            "\n",
            "\n",
            "\n",
            "\n",
            "\n",
            "\n",
            "\n",
            "\n",
            "\n",
            "\n",
            "\n",
            "\n",
            "\n",
            "\n",
            "\n",
            "\n",
            "\n",
            "\n",
            "\n",
            "\n",
            "\n",
            "\n",
            "\n",
            "\n",
            "\n",
            "\n",
            "\n",
            "\n",
            "\n",
            "\n",
            "\n",
            "\n",
            "\n",
            "\n",
            "\n",
            "\n",
            "\n",
            "\n",
            "\n",
            "\n",
            "\n",
            "\n",
            "\n",
            "\n",
            "\n",
            "\n",
            "\n",
            "\n",
            "\n",
            "\n",
            "\n",
            "\n",
            "\n",
            "\n",
            "\n",
            "\n",
            "\n",
            "\n",
            "\n",
            "\n",
            "\n",
            "\n",
            "\n",
            "\n",
            "\n",
            "\n",
            "\n",
            "\n",
            "\n",
            "\n",
            "\n",
            "\n",
            "\n",
            "\n",
            "\n",
            "\n",
            "\n",
            "\n",
            "\n",
            "\n",
            "\n",
            "\n",
            "\n",
            "\n",
            "\n",
            "\n",
            "\n",
            "\n",
            "\n",
            "\n",
            "\n",
            "\n",
            "\n",
            "\n",
            "\n",
            "\n",
            "\n",
            "\n",
            "\n",
            "\n",
            "\n",
            "\n",
            "\n",
            "\n",
            "\n",
            "\n",
            "\n",
            "\n",
            "\n",
            "\n",
            "\n",
            "\n",
            "\n",
            "\n",
            "\n",
            "\n",
            "\n",
            "\n",
            "\n",
            "\n",
            "\n",
            "\n",
            "\n",
            "\n",
            "\n",
            "\n",
            "\n",
            "\n",
            "\n",
            "\n",
            "\n",
            "\n",
            "\n",
            "\n",
            "\n",
            "\n",
            "\n",
            "\n",
            "\n",
            "\n",
            "\n",
            "\n",
            "\n",
            "\n",
            "\n",
            "\n",
            "\n",
            "\n",
            "\n",
            "\n",
            "\n",
            "\n",
            "\n",
            "\n",
            "\n",
            "\n",
            "\n",
            "\n",
            "\n",
            "\n",
            "\n",
            "\n",
            "\n",
            "\n",
            "\n",
            "\n",
            "\n",
            "\n",
            "\n",
            "\n",
            "\n",
            "\n",
            "\n",
            "\n",
            "\n",
            "\n",
            "\n",
            "\n",
            "\n",
            "\n",
            "\n",
            "\n",
            "\n",
            "\n",
            "\n",
            "\n",
            "\n",
            "\n",
            "\n",
            "\n",
            "\n",
            "\n",
            "\n",
            "\n",
            "\n",
            "\n",
            "\n",
            "\n",
            "\n",
            "\n",
            "\n",
            "\n",
            "\n",
            "\n",
            "\n",
            "\n",
            "\n",
            "\n",
            "\n",
            "\n",
            "\n",
            "\n",
            "\n",
            "\n",
            "\n",
            "\n",
            "\n",
            "\n",
            "\n",
            "\n",
            "\n",
            "\n",
            "\n",
            "\n",
            "\n",
            "\n",
            "\n",
            "\n",
            "\n",
            "\n",
            "\n",
            "\n",
            "\n",
            "\n",
            "\n",
            "\n",
            "\n",
            "\n",
            "\n",
            "\n",
            "\n",
            "\n",
            "\n",
            "\n",
            "\n",
            "\n",
            "\n",
            "\n",
            "\n",
            "\n",
            "\n",
            "\n",
            "\n",
            "\n",
            "\n",
            "\n",
            "\n",
            "\n",
            "\n",
            "\n",
            "\n",
            "\n",
            "\n",
            "\n",
            "\n",
            "\n",
            "\n",
            "\n",
            "\n",
            "\n",
            "\n",
            "\n",
            "\n",
            "\n",
            "\n",
            "\n",
            "\n",
            "\n",
            "\n",
            "\n",
            "\n",
            "\n",
            "\n",
            "\n",
            "\n",
            "\n",
            "\n",
            "\n",
            "\n",
            "\n",
            "\n",
            "\n",
            "\n",
            "\n",
            "\n",
            "\n",
            "\n",
            "\n",
            "\n",
            "\n",
            "\n",
            "\n",
            "\n",
            "\n",
            "\n",
            "\n",
            "\n",
            "\n",
            "\n",
            "\n",
            "\n",
            "\n",
            "\n",
            "\n",
            "\n",
            "\n",
            "\n",
            "\n",
            "\n",
            "\n",
            "\n",
            "\n",
            "\n",
            "\n",
            "\n",
            "\n",
            "\n",
            "\n",
            "\n",
            "\n",
            "\n",
            "\n",
            "\n",
            "\n",
            "\n",
            "\n",
            "\n",
            "\n",
            "\n",
            "\n",
            "\n",
            "\n",
            "\n",
            "\n",
            "\n",
            "\n",
            "\n",
            "\n",
            "\n",
            "\n",
            "\n",
            "\n",
            "\n",
            "\n",
            "\n",
            "\n",
            "\n",
            "\n",
            "\n",
            "\n",
            "\n",
            "\n",
            "\n",
            "\n",
            "\n",
            "\n",
            "\n",
            "\n",
            "\n",
            "\n",
            "\n",
            "\n",
            "\n",
            "\n",
            "\n",
            "\n",
            "\n",
            "\n",
            "\n",
            "\n",
            "\n",
            "\n",
            "\n",
            "\n",
            "\n",
            "\n",
            "\n",
            "\n",
            "\n",
            "\n",
            "\n",
            "\n",
            "\n",
            "\n",
            "\n",
            "\n",
            "\n",
            "\n",
            "\n",
            "\n",
            "\n",
            "\n",
            "\n",
            "\n",
            "\n",
            "\n",
            "\n",
            "\n",
            "\n",
            "\n",
            "\n",
            "\n",
            "\n",
            "\n",
            "\n",
            "\n",
            "\n",
            "\n",
            "\n",
            "\n",
            "\n",
            "\n",
            "\n",
            "\n",
            "\n",
            "\n",
            "\n",
            "\n",
            "\n",
            "\n",
            "\n",
            "\n",
            "\n",
            "\n",
            "\n",
            "\n",
            "\n",
            "\n",
            "\n",
            "\n",
            "\n",
            "\n",
            "\n",
            "\n",
            "\n",
            "\n",
            "\n",
            "\n",
            "\n",
            "\n",
            "\n",
            "\n",
            "\n",
            "\n",
            "\n",
            "\n",
            "\n",
            "\n",
            "\n",
            "\n",
            "\n",
            "\n",
            "\n",
            "\n",
            "\n",
            "\n",
            "\n",
            "\n",
            "\n",
            "\n",
            "\n",
            "\n",
            "\n",
            "\n",
            "\n",
            "\n",
            "\n",
            "\n",
            "\n",
            "\n",
            "\n",
            "\n",
            "\n",
            "\n",
            "\n",
            "\n",
            "\n",
            "\n",
            "\n",
            "\n",
            "\n",
            "\n",
            "\n",
            "\n",
            "\n",
            "\n",
            "\n",
            "\n",
            "\n",
            "\n",
            "\n",
            "\n",
            "\n",
            "\n",
            "\n",
            "\n",
            "\n",
            "\n",
            "\n",
            "\n",
            "\n",
            "\n",
            "\n",
            "\n",
            "\n",
            "\n",
            "\n",
            "\n",
            "\n",
            "\n",
            "\n",
            "\n",
            "\n",
            "\n",
            "\n",
            "\n",
            "\n",
            "\n",
            "\n",
            "\n",
            "\n",
            "\n",
            "\n",
            "\n",
            "\n",
            "\n",
            "\n",
            "\n",
            "\n",
            "\n",
            "\n",
            "\n",
            "\n",
            "\n",
            "\n",
            "\n",
            "\n",
            "\n",
            "\n",
            "\n",
            "\n",
            "\n",
            "\n",
            "\n",
            "\n",
            "\n",
            "\n",
            "\n",
            "\n",
            "\n",
            "\n",
            "\n",
            "\n",
            "\n",
            "\n",
            "\n",
            "\n",
            "\n",
            "\n",
            "\n",
            "\n",
            "\n",
            "\n",
            "\n",
            "\n",
            "\n",
            "\n",
            "\n",
            "\n",
            "\n",
            "\n",
            "\n",
            "\n",
            "\n",
            "\n",
            "\n",
            "\n",
            "\n",
            "\n",
            "\n",
            "\n",
            "\n",
            "\n",
            "\n",
            "\n",
            "\n",
            "\n",
            "\n",
            "\n",
            "\n",
            "\n",
            "\n",
            "\n",
            "\n",
            "\n",
            "\n",
            "\n",
            "\n",
            "\n",
            "\n",
            "\n",
            "\n",
            "\n",
            "\n",
            "\n",
            "\n",
            "\n",
            "\n",
            "\n",
            "\n",
            "\n",
            "\n",
            "\n",
            "\n",
            "\n",
            "\n",
            "\n",
            "\n",
            "\n",
            "\n",
            "\n",
            "\n",
            "\n",
            "\n",
            "\n",
            "\n",
            "\n",
            "\n",
            "\n",
            "\n",
            "\n",
            "\n",
            "\n",
            "\n",
            "\n",
            "\n",
            "\n",
            "\n",
            "\n",
            "\n",
            "\n",
            "\n",
            "\n",
            "\n",
            "\n",
            "\n",
            "\n",
            "\n",
            "\n",
            "\n",
            "\n",
            "\n",
            "\n",
            "\n",
            "\n",
            "\n",
            "\n",
            "\n",
            "\n",
            "\n",
            "\n",
            "\n",
            "\n",
            "\n",
            "\n",
            "\n",
            "\n",
            "\n",
            "\n",
            "\n",
            "\n",
            "\n",
            "\n",
            "\n",
            "\n",
            "\n",
            "\n",
            "\n",
            "\n",
            "\n",
            "\n",
            "\n",
            "\n",
            "\n",
            "\n",
            "\n",
            "\n",
            "\n",
            "\n",
            "\n",
            "\n",
            "\n",
            "\n",
            "\n",
            "\n",
            "\n",
            "\n",
            "\n",
            "\n",
            "\n",
            "\n",
            "\n",
            "\n",
            "\n",
            "\n",
            "\n",
            "\n",
            "\n",
            "\n",
            "\n",
            "\n",
            "\n",
            "\n",
            "\n",
            "\n",
            "\n",
            "\n",
            "\n",
            "\n",
            "\n",
            "\n",
            "\n",
            "\n",
            "\n",
            "\n",
            "\n",
            "\n",
            "\n",
            "\n",
            "\n",
            "\n",
            "\n",
            "\n",
            "\n",
            "\n",
            "\n",
            "\n",
            "\n",
            "\n",
            "\n",
            "\n",
            "\n",
            "\n",
            "\n",
            "\n",
            "\n",
            "\n",
            "\n",
            "\n",
            "\n",
            "\n",
            "\n",
            "\n",
            "\n",
            "\n",
            "\n",
            "\n",
            "\n",
            "\n",
            "\n",
            "\n",
            "\n",
            "\n",
            "\n",
            "\n",
            "\n",
            "\n",
            "\n",
            "\n",
            "\n",
            "\n",
            "\n",
            "\n",
            "\n",
            "\n",
            "\n",
            "\n",
            "\n",
            "\n",
            "\n",
            "\n",
            "\n",
            "\n",
            "\n",
            "\n",
            "\n",
            "\n",
            "\n",
            "\n",
            "\n",
            "\n",
            "\n",
            "\n",
            "\n",
            "\n",
            "\n",
            "\n",
            "\n",
            "\n",
            "\n",
            "\n",
            "\n",
            "\n",
            "\n",
            "\n",
            "\n",
            "\n",
            "\n",
            "\n",
            "\n",
            "\n",
            "\n",
            "\n",
            "\n",
            "\n",
            "\n",
            "\n",
            "\n",
            "\n",
            "\n",
            "\n",
            "\n",
            "\n",
            "\n",
            "\n",
            "\n",
            "\n",
            "\n",
            "\n",
            "\n",
            "\n",
            "\n",
            "\n",
            "\n",
            "\n",
            "\n",
            "\n",
            "\n",
            "\n",
            "\n",
            "\n",
            "\n",
            "\n",
            "\n",
            "\n",
            "\n",
            "\n",
            "\n",
            "\n",
            "\n",
            "\n",
            "\n",
            "\n",
            "\n",
            "\n",
            "\n",
            "\n",
            "\n",
            "\n",
            "\n",
            "\n",
            "\n",
            "\n",
            "\n",
            "\n",
            "\n",
            "\n",
            "\n",
            "\n",
            "\n",
            "\n",
            "\n",
            "\n",
            "\n",
            "\n",
            "\n",
            "\n",
            "\n",
            "\n",
            "\n",
            "\n",
            "\n",
            "\n",
            "\n",
            "\n",
            "\n",
            "\n",
            "\n",
            "\n",
            "\n",
            "\n",
            "\n",
            "\n",
            "\n",
            "\n",
            "\n",
            "\n",
            "\n",
            "\n",
            "\n",
            "\n",
            "\n",
            "\n",
            "\n",
            "\n",
            "\n",
            "\n",
            "\n",
            "\n",
            "\n",
            "\n",
            "\n",
            "\n",
            "\n",
            "\n",
            "\n",
            "\n",
            "\n",
            "\n",
            "\n",
            "\n",
            "\n",
            "\n",
            "\n",
            "\n",
            "\n",
            "\n",
            "\n",
            "\n",
            "\n",
            "\n",
            "\n",
            "\n",
            "\n",
            "\n",
            "\n",
            "\n",
            "\n",
            "\n",
            "\n",
            "\n",
            "\n",
            "\n",
            "\n",
            "\n",
            "\n",
            "\n",
            "\n",
            "\n",
            "\n",
            "\n",
            "\n",
            "\n",
            "\n",
            "\n",
            "\n",
            "\n",
            "\n",
            "\n",
            "\n",
            "\n",
            "\n",
            "\n",
            "\n",
            "\n",
            "\n",
            "\n",
            "\n",
            "\n",
            "\n",
            "\n",
            "\n",
            "\n",
            "\n",
            "\n",
            "\n",
            "\n",
            "\n",
            "\n",
            "\n",
            "\n",
            "\n",
            "\n",
            "\n",
            "\n",
            "\n",
            "\n",
            "\n",
            "\n",
            "\n",
            "\n",
            "\n",
            "\n",
            "\n",
            "\n",
            "\n",
            "\n",
            "\n",
            "\n",
            "\n",
            "\n",
            "\n",
            "\n",
            "\n",
            "\n",
            "\n",
            "\n",
            "\n",
            "\n",
            "\n",
            "\n",
            "\n",
            "\n",
            "\n",
            "\n",
            "\n",
            "\n",
            "\n",
            "\n",
            "\n",
            "\n",
            "\n",
            "\n",
            "\n",
            "\n",
            "\n",
            "\n",
            "\n",
            "\n",
            "\n",
            "\n",
            "\n",
            "\n",
            "\n",
            "\n",
            "\n",
            "\n",
            "\n",
            "\n",
            "\n",
            "\n",
            "\n",
            "\n",
            "\n",
            "\n",
            "\n",
            "\n",
            "\n",
            "\n",
            "\n",
            "\n",
            "\n",
            "\n",
            "\n",
            "\n",
            "\n",
            "\n",
            "\n",
            "\n",
            "\n",
            "\n",
            "\n",
            "\n",
            "\n",
            "\n",
            "\n",
            "\n",
            "\n",
            "\n",
            "\n",
            "\n",
            "\n",
            "\n",
            "\n",
            "\n",
            "\n",
            "\n",
            "\n",
            "\n",
            "\n",
            "\n",
            "\n",
            "\n",
            "\n",
            "\n",
            "\n",
            "\n",
            "\n",
            "\n",
            "\n",
            "\n",
            "\n",
            "\n",
            "\n",
            "\n",
            "\n",
            "\n",
            "\n",
            "\n",
            "\n",
            "\n",
            "\n",
            "\n",
            "\n",
            "\n",
            "\n",
            "\n",
            "\n",
            "\n",
            "\n",
            "\n",
            "\n",
            "\n",
            "\n",
            "\n",
            "\n",
            "\n",
            "\n",
            "\n",
            "\n",
            "\n",
            "\n",
            "\n",
            "\n",
            "\n",
            "\n",
            "\n",
            "\n",
            "\n",
            "\n",
            "\n",
            "\n",
            "\n",
            "\n",
            "\n",
            "\n",
            "\n",
            "\n",
            "\n",
            "\n",
            "\n",
            "\n",
            "\n",
            "\n",
            "\n",
            "\n",
            "\n",
            "\n",
            "\n",
            "\n",
            "\n",
            "\n",
            "\n",
            "\n",
            "\n",
            "\n",
            "\n",
            "\n",
            "\n",
            "\n",
            "\n",
            "\n",
            "\n",
            "\n",
            "\n",
            "\n",
            "\n",
            "\n",
            "\n",
            "\n",
            "\n",
            "\n",
            "\n",
            "\n",
            "\n",
            "\n",
            "\n",
            "\n",
            "\n",
            "\n",
            "\n",
            "\n",
            "\n",
            "\n",
            "\n",
            "\n",
            "\n",
            "\n",
            "\n",
            "\n",
            "\n",
            "\n",
            "\n",
            "\n",
            "\n",
            "\n",
            "\n",
            "\n",
            "\n",
            "\n",
            "\n",
            "\n",
            "\n",
            "\n",
            "\n",
            "\n",
            "\n",
            "\n",
            "\n",
            "\n",
            "\n",
            "\n",
            "\n",
            "\n",
            "\n",
            "\n",
            "\n",
            "\n",
            "\n",
            "\n",
            "\n",
            "\n",
            "\n",
            "\n",
            "\n",
            "\n",
            "\n",
            "\n",
            "\n",
            "\n",
            "\n",
            "\n",
            "\n",
            "\n",
            "\n",
            "\n",
            "\n",
            "\n",
            "\n",
            "\n",
            "\n",
            "\n",
            "\n",
            "\n",
            "\n",
            "\n",
            "\n",
            "\n",
            "\n",
            "\n",
            "\n",
            "\n",
            "\n",
            "\n",
            "\n",
            "\n",
            "\n",
            "\n",
            "\n",
            "\n",
            "\n",
            "\n",
            "\n",
            "\n",
            "\n",
            "\n",
            "\n",
            "\n",
            "\n",
            "\n",
            "\n",
            "\n",
            "\n",
            "\n",
            "\n",
            "\n",
            "\n",
            "\n",
            "\n",
            "\n",
            "\n",
            "\n",
            "\n",
            "\n",
            "\n",
            "\n",
            "\n",
            "\n",
            "\n",
            "\n",
            "\n",
            "\n",
            "\n",
            "\n",
            "\n",
            "\n",
            "\n",
            "\n",
            "\n",
            "\n",
            "\n",
            "\n",
            "\n",
            "\n",
            "\n",
            "\n",
            "\n",
            "\n",
            "\n",
            "\n",
            "\n",
            "\n",
            "\n",
            "\n",
            "\n",
            "\n",
            "\n",
            "\n",
            "\n",
            "\n",
            "\n",
            "\n",
            "\n",
            "\n",
            "\n",
            "\n",
            "\n",
            "\n",
            "\n",
            "\n",
            "\n",
            "\n",
            "\n",
            "\n",
            "\n"
          ],
          "name": "stdout"
        }
      ]
    },
    {
      "cell_type": "code",
      "metadata": {
        "id": "kRMpRVEVFdcy"
      },
      "source": [
        "df[\"emoji_sent\"] = df['emoji_sent'].replace('empty', np.NaN)"
      ],
      "execution_count": null,
      "outputs": []
    },
    {
      "cell_type": "code",
      "metadata": {
        "id": "BIk6oLgOFqEO",
        "colab": {
          "base_uri": "https://localhost:8080/",
          "height": 984
        },
        "outputId": "48021c8f-1fcd-4514-c345-1f2c46141be8"
      },
      "source": [
        "df # checking if column was appended and comments without emojis display NaN"
      ],
      "execution_count": null,
      "outputs": [
        {
          "output_type": "execute_result",
          "data": {
            "text/html": [
              "<div>\n",
              "<style scoped>\n",
              "    .dataframe tbody tr th:only-of-type {\n",
              "        vertical-align: middle;\n",
              "    }\n",
              "\n",
              "    .dataframe tbody tr th {\n",
              "        vertical-align: top;\n",
              "    }\n",
              "\n",
              "    .dataframe thead th {\n",
              "        text-align: right;\n",
              "    }\n",
              "</style>\n",
              "<table border=\"1\" class=\"dataframe\">\n",
              "  <thead>\n",
              "    <tr style=\"text-align: right;\">\n",
              "      <th></th>\n",
              "      <th>Unnamed: 0</th>\n",
              "      <th>Unnamed: 0.1</th>\n",
              "      <th>id</th>\n",
              "      <th>text</th>\n",
              "      <th>author_name</th>\n",
              "      <th>author_id</th>\n",
              "      <th>like_count</th>\n",
              "      <th>published_at</th>\n",
              "      <th>updated_at</th>\n",
              "      <th>reply_count</th>\n",
              "      <th>video_id</th>\n",
              "      <th>channel_id</th>\n",
              "      <th>filtered_text</th>\n",
              "      <th>wordcount</th>\n",
              "      <th>filteredtext</th>\n",
              "      <th>Gender</th>\n",
              "      <th>word count</th>\n",
              "      <th>clean_text_nltk</th>\n",
              "      <th>tbpolarity</th>\n",
              "      <th>clean_tbpolarity</th>\n",
              "      <th>nltkpolarity</th>\n",
              "      <th>clean_nltkpolarity</th>\n",
              "      <th>emojis</th>\n",
              "      <th>emoji_count</th>\n",
              "      <th>split_emojis</th>\n",
              "      <th>emoji_x</th>\n",
              "      <th>emoji_sent</th>\n",
              "    </tr>\n",
              "  </thead>\n",
              "  <tbody>\n",
              "    <tr>\n",
              "      <th>0</th>\n",
              "      <td>0</td>\n",
              "      <td>3499.0</td>\n",
              "      <td>Ugw4ZKa65d3HHXcmmqF4AaABAg</td>\n",
              "      <td>Cool Lev reminds me of bad bunny đź�­ âť¤ď¸Ź</td>\n",
              "      <td>Christian Valenzuela</td>\n",
              "      <td>UCkxRHkiWVOUIWnxpA6cywlA</td>\n",
              "      <td>1.0</td>\n",
              "      <td>2021-06-05T03:20:49Z</td>\n",
              "      <td>2021-06-05T03:20:49Z</td>\n",
              "      <td>0.0</td>\n",
              "      <td>by4_sZCP52s</td>\n",
              "      <td>UCJyw_54aiqanw8s39eq6HbA</td>\n",
              "      <td>Cool Lev reminds me of bad bunny đź�­ âť¤ď¸Ź</td>\n",
              "      <td>7.0</td>\n",
              "      <td>Cool Lev reminds me of bad bunny đź�­ âť¤ď¸Ź</td>\n",
              "      <td>nonbinary</td>\n",
              "      <td>44</td>\n",
              "      <td>cool lev reminds bad bunny đź � ­ âť ¤ ď ¸ ź</td>\n",
              "      <td>-0.175000</td>\n",
              "      <td>-0.175000</td>\n",
              "      <td>-0.2960</td>\n",
              "      <td>-0.2960</td>\n",
              "      <td></td>\n",
              "      <td>0</td>\n",
              "      <td></td>\n",
              "      <td></td>\n",
              "      <td>NaN</td>\n",
              "    </tr>\n",
              "    <tr>\n",
              "      <th>1</th>\n",
              "      <td>1</td>\n",
              "      <td>11690.0</td>\n",
              "      <td>UgyTTDd4SS3YRUIP0rd4AaABAg</td>\n",
              "      <td>Not with Willa Ford! Lol. This was everything....</td>\n",
              "      <td>TheALBox</td>\n",
              "      <td>UCSHD6JwkQR-xkgWUxGpOrLg</td>\n",
              "      <td>4.0</td>\n",
              "      <td>2021-03-17T05:35:00Z</td>\n",
              "      <td>2021-03-17T05:35:00Z</td>\n",
              "      <td>0.0</td>\n",
              "      <td>LrpsvUFHzgE</td>\n",
              "      <td>UCeNgRHpH7OHZetYjC5JZXGw</td>\n",
              "      <td>Not with Willa Ford! Lol. This was everything....</td>\n",
              "      <td>21.0</td>\n",
              "      <td>Not with Willa Ford! Lol. This was everything....</td>\n",
              "      <td>nonbinary</td>\n",
              "      <td>115</td>\n",
              "      <td>willa ford  lol  everything  even throwing bac...</td>\n",
              "      <td>0.291667</td>\n",
              "      <td>0.291667</td>\n",
              "      <td>0.4753</td>\n",
              "      <td>0.4215</td>\n",
              "      <td></td>\n",
              "      <td>0</td>\n",
              "      <td></td>\n",
              "      <td></td>\n",
              "      <td>NaN</td>\n",
              "    </tr>\n",
              "    <tr>\n",
              "      <th>2</th>\n",
              "      <td>2</td>\n",
              "      <td>765.0</td>\n",
              "      <td>UgxElE4CNAZ3GRGhmD94AaABAg</td>\n",
              "      <td>FINALLYY!! OMG MY FAVORITE DUOOO đź’–</td>\n",
              "      <td>Lyle Matubis</td>\n",
              "      <td>UC3UVSBFMWIZD0ebE-YMvVjQ</td>\n",
              "      <td>0.0</td>\n",
              "      <td>2021-06-11T22:03:16Z</td>\n",
              "      <td>2021-06-11T22:03:16Z</td>\n",
              "      <td>0.0</td>\n",
              "      <td>4ULR-YsglO0</td>\n",
              "      <td>UCbLunbaq3ia4-FLfOHrHngQ</td>\n",
              "      <td>FINALLYY!! OMG MY FAVORITE DUOOO đź’–</td>\n",
              "      <td>5.0</td>\n",
              "      <td>FINALLYY!! OMG MY FAVORITE DUOOO đź’–</td>\n",
              "      <td>nonbinary</td>\n",
              "      <td>37</td>\n",
              "      <td>finallyy   omg favorite duooo đź ’ –</td>\n",
              "      <td>0.500000</td>\n",
              "      <td>0.500000</td>\n",
              "      <td>0.6505</td>\n",
              "      <td>0.4588</td>\n",
              "      <td></td>\n",
              "      <td>0</td>\n",
              "      <td></td>\n",
              "      <td></td>\n",
              "      <td>NaN</td>\n",
              "    </tr>\n",
              "    <tr>\n",
              "      <th>3</th>\n",
              "      <td>3</td>\n",
              "      <td>1991.0</td>\n",
              "      <td>UgxbCP_a4jq3apZ4T654AaABAg</td>\n",
              "      <td>I just watched a 4 minute add to support the c...</td>\n",
              "      <td>Jaime Flowers Ashley</td>\n",
              "      <td>UCRQTy6yjOZwA6RIcUUTY8KQ</td>\n",
              "      <td>0.0</td>\n",
              "      <td>2021-05-11T20:27:40Z</td>\n",
              "      <td>2021-05-11T20:27:40Z</td>\n",
              "      <td>0.0</td>\n",
              "      <td>iE9Y8YshvN8</td>\n",
              "      <td>UCbLunbaq3ia4-FLfOHrHngQ</td>\n",
              "      <td>I just watched a 4 minute add to support the c...</td>\n",
              "      <td>16.0</td>\n",
              "      <td>I just watched a 4 minute add to support the c...</td>\n",
              "      <td>nonbinary</td>\n",
              "      <td>77</td>\n",
              "      <td>watched 4 minute add support channel  love work</td>\n",
              "      <td>0.625000</td>\n",
              "      <td>0.500000</td>\n",
              "      <td>0.8016</td>\n",
              "      <td>0.7845</td>\n",
              "      <td></td>\n",
              "      <td>0</td>\n",
              "      <td></td>\n",
              "      <td></td>\n",
              "      <td>NaN</td>\n",
              "    </tr>\n",
              "    <tr>\n",
              "      <th>4</th>\n",
              "      <td>4</td>\n",
              "      <td>11154.0</td>\n",
              "      <td>UgwS43_J41mC90PqpCB4AaABAg</td>\n",
              "      <td>Iâ€™m gonna dream about this later I can feel it</td>\n",
              "      <td>Petals</td>\n",
              "      <td>UCM5o1aeMLh_df-lJSfoaFZA</td>\n",
              "      <td>3.0</td>\n",
              "      <td>2021-05-02T01:00:23Z</td>\n",
              "      <td>2021-05-02T01:00:23Z</td>\n",
              "      <td>0.0</td>\n",
              "      <td>JeNBq1SSwZI</td>\n",
              "      <td>UCeNgRHpH7OHZetYjC5JZXGw</td>\n",
              "      <td>Iâ€™m gonna dream about this later I can feel it</td>\n",
              "      <td>11.0</td>\n",
              "      <td>Iâ€™m gonna dream about this later I can feel it</td>\n",
              "      <td>nonbinary</td>\n",
              "      <td>48</td>\n",
              "      <td>iâ € ™ gonna dream later feel</td>\n",
              "      <td>0.000000</td>\n",
              "      <td>0.000000</td>\n",
              "      <td>0.2500</td>\n",
              "      <td>0.2500</td>\n",
              "      <td>™</td>\n",
              "      <td>1</td>\n",
              "      <td>™</td>\n",
              "      <td>™</td>\n",
              "      <td>0.000</td>\n",
              "    </tr>\n",
              "    <tr>\n",
              "      <th>...</th>\n",
              "      <td>...</td>\n",
              "      <td>...</td>\n",
              "      <td>...</td>\n",
              "      <td>...</td>\n",
              "      <td>...</td>\n",
              "      <td>...</td>\n",
              "      <td>...</td>\n",
              "      <td>...</td>\n",
              "      <td>...</td>\n",
              "      <td>...</td>\n",
              "      <td>...</td>\n",
              "      <td>...</td>\n",
              "      <td>...</td>\n",
              "      <td>...</td>\n",
              "      <td>...</td>\n",
              "      <td>...</td>\n",
              "      <td>...</td>\n",
              "      <td>...</td>\n",
              "      <td>...</td>\n",
              "      <td>...</td>\n",
              "      <td>...</td>\n",
              "      <td>...</td>\n",
              "      <td>...</td>\n",
              "      <td>...</td>\n",
              "      <td>...</td>\n",
              "      <td>...</td>\n",
              "      <td>...</td>\n",
              "    </tr>\n",
              "    <tr>\n",
              "      <th>29995</th>\n",
              "      <td>29995</td>\n",
              "      <td>244259.0</td>\n",
              "      <td>Ugxs9IQpdOeEJkaB2gl4AaABAg</td>\n",
              "      <td>I'm sad, scared, and very very very very very ...</td>\n",
              "      <td>Elly</td>\n",
              "      <td>UCiyBJ7UVF7UGhGCRLbvO_mw</td>\n",
              "      <td>0.0</td>\n",
              "      <td>2020-10-08T19:59:35Z</td>\n",
              "      <td>2020-10-08T19:59:35Z</td>\n",
              "      <td>0.0</td>\n",
              "      <td>HQ9vRS1GbwQ</td>\n",
              "      <td>UCoziFm3M4sHDq1kkx0UwtRw</td>\n",
              "      <td>I'm sad, scared, and very very very very very ...</td>\n",
              "      <td>20.0</td>\n",
              "      <td>I'm sad, scared, and very very very very very ...</td>\n",
              "      <td>female</td>\n",
              "      <td>107</td>\n",
              "      <td>im sad  scared  disgusted stupid serial killer...</td>\n",
              "      <td>-0.833333</td>\n",
              "      <td>-0.766667</td>\n",
              "      <td>-0.9395</td>\n",
              "      <td>-0.9260</td>\n",
              "      <td></td>\n",
              "      <td>0</td>\n",
              "      <td></td>\n",
              "      <td></td>\n",
              "      <td>NaN</td>\n",
              "    </tr>\n",
              "    <tr>\n",
              "      <th>29996</th>\n",
              "      <td>29996</td>\n",
              "      <td>NaN</td>\n",
              "      <td>UgzRxnA4_Muxm6Z95Zp4AaABAg</td>\n",
              "      <td>are u 32, my dad is 35 and im 10</td>\n",
              "      <td>62 Productions</td>\n",
              "      <td>UCgZ_4iKW8ovnXWo1maJeyiw</td>\n",
              "      <td>0.0</td>\n",
              "      <td>2019-09-21T22:03:49Z</td>\n",
              "      <td>2019-09-21T22:03:49Z</td>\n",
              "      <td>0.0</td>\n",
              "      <td>RP5vuMYpAKE</td>\n",
              "      <td>UC0YvTCy1I4_a-3pn47_5DBA</td>\n",
              "      <td>are u 32, my dad is 35 and im 10</td>\n",
              "      <td>10.0</td>\n",
              "      <td>are u 32, my dad is 35 and im 10</td>\n",
              "      <td>female</td>\n",
              "      <td>32</td>\n",
              "      <td>u 32  dad 35 im 10</td>\n",
              "      <td>0.000000</td>\n",
              "      <td>0.000000</td>\n",
              "      <td>0.0000</td>\n",
              "      <td>0.0000</td>\n",
              "      <td></td>\n",
              "      <td>0</td>\n",
              "      <td></td>\n",
              "      <td></td>\n",
              "      <td>NaN</td>\n",
              "    </tr>\n",
              "    <tr>\n",
              "      <th>29997</th>\n",
              "      <td>29997</td>\n",
              "      <td>NaN</td>\n",
              "      <td>UgwWu4b3oijE4kL2RaZ4AaABAg</td>\n",
              "      <td>OMGGGGGG the Queen is back!! Love you TATI!!</td>\n",
              "      <td>Nadia Fuzi</td>\n",
              "      <td>UC4P3OEMYtoZUn8RLxm0wNXg</td>\n",
              "      <td>0.0</td>\n",
              "      <td>2021-06-22T04:53:00Z</td>\n",
              "      <td>2021-06-22T04:53:00Z</td>\n",
              "      <td>0.0</td>\n",
              "      <td>xL6sY85O77I</td>\n",
              "      <td>UC4qk9TtGhBKCkoWz5qGJcGg</td>\n",
              "      <td>OMGGGGGG the Queen is back!! Love you TATI!!</td>\n",
              "      <td>8.0</td>\n",
              "      <td>OMGGGGGG the Queen is back!! Love you TATI!!</td>\n",
              "      <td>female</td>\n",
              "      <td>44</td>\n",
              "      <td>omgggggg queen back   love tati</td>\n",
              "      <td>0.390625</td>\n",
              "      <td>0.250000</td>\n",
              "      <td>0.7482</td>\n",
              "      <td>0.6369</td>\n",
              "      <td></td>\n",
              "      <td>0</td>\n",
              "      <td></td>\n",
              "      <td></td>\n",
              "      <td>NaN</td>\n",
              "    </tr>\n",
              "    <tr>\n",
              "      <th>29998</th>\n",
              "      <td>29998</td>\n",
              "      <td>207622.0</td>\n",
              "      <td>UgyhfOXk3mxGOEje3MF4AaABAg</td>\n",
              "      <td>I love your channel it makes me smile!! ❤❤ ItS...</td>\n",
              "      <td>keori webb</td>\n",
              "      <td>UCjxXyQXbtqKNQrIJsqSpuLg</td>\n",
              "      <td>1.0</td>\n",
              "      <td>2021-03-27T19:00:04Z</td>\n",
              "      <td>2021-03-27T19:00:04Z</td>\n",
              "      <td>0.0</td>\n",
              "      <td>wGhMvWjOxfU</td>\n",
              "      <td>UCGCVyTWogzQ4D170BLy2Arw</td>\n",
              "      <td>I love your channel it makes me smile!! ❤❤ ItS...</td>\n",
              "      <td>13.0</td>\n",
              "      <td>I love your channel it makes me smile!! ❤❤ ItS...</td>\n",
              "      <td>female</td>\n",
              "      <td>68</td>\n",
              "      <td>love channel makes smile   ❤ ❤ problem anymore</td>\n",
              "      <td>0.484375</td>\n",
              "      <td>0.400000</td>\n",
              "      <td>0.8605</td>\n",
              "      <td>0.6124</td>\n",
              "      <td>❤❤</td>\n",
              "      <td>2</td>\n",
              "      <td>❤ ❤</td>\n",
              "      <td>❤❤</td>\n",
              "      <td>0.746</td>\n",
              "    </tr>\n",
              "    <tr>\n",
              "      <th>29999</th>\n",
              "      <td>29999</td>\n",
              "      <td>246214.0</td>\n",
              "      <td>UgzSfTQ6qOoxTuIFHb54AaABAg</td>\n",
              "      <td>Moral of the story \\nMykie just likes Leonardo...</td>\n",
              "      <td>Miss Morte</td>\n",
              "      <td>UCv5qXvOHhYZGm6yDohWYe1g</td>\n",
              "      <td>0.0</td>\n",
              "      <td>2020-09-29T02:51:18Z</td>\n",
              "      <td>2020-09-29T02:51:18Z</td>\n",
              "      <td>0.0</td>\n",
              "      <td>yEdEG7Stp3U</td>\n",
              "      <td>UCoziFm3M4sHDq1kkx0UwtRw</td>\n",
              "      <td>Moral of the story Mykie just likes Leonardo D...</td>\n",
              "      <td>9.0</td>\n",
              "      <td>Moral of the story Mykie just likes Leonardo D...</td>\n",
              "      <td>female</td>\n",
              "      <td>54</td>\n",
              "      <td>moral story mykie likes leonardo dicaprio</td>\n",
              "      <td>0.000000</td>\n",
              "      <td>0.000000</td>\n",
              "      <td>0.4215</td>\n",
              "      <td>0.4215</td>\n",
              "      <td></td>\n",
              "      <td>0</td>\n",
              "      <td></td>\n",
              "      <td></td>\n",
              "      <td>NaN</td>\n",
              "    </tr>\n",
              "  </tbody>\n",
              "</table>\n",
              "<p>30000 rows × 27 columns</p>\n",
              "</div>"
            ],
            "text/plain": [
              "       Unnamed: 0  Unnamed: 0.1  ... emoji_x emoji_sent\n",
              "0               0        3499.0  ...                NaN\n",
              "1               1       11690.0  ...                NaN\n",
              "2               2         765.0  ...                NaN\n",
              "3               3        1991.0  ...                NaN\n",
              "4               4       11154.0  ...       ™      0.000\n",
              "...           ...           ...  ...     ...        ...\n",
              "29995       29995      244259.0  ...                NaN\n",
              "29996       29996           NaN  ...                NaN\n",
              "29997       29997           NaN  ...                NaN\n",
              "29998       29998      207622.0  ...      ❤❤      0.746\n",
              "29999       29999      246214.0  ...                NaN\n",
              "\n",
              "[30000 rows x 27 columns]"
            ]
          },
          "metadata": {
            "tags": []
          },
          "execution_count": 125
        }
      ]
    },
    {
      "cell_type": "code",
      "metadata": {
        "id": "KW-Lzk4TFe3h",
        "colab": {
          "base_uri": "https://localhost:8080/",
          "height": 171
        },
        "outputId": "c0b7eec5-fc70-4662-f6f1-6ffea3c44000"
      },
      "source": [
        "#checking gender stats of emoji sentiment analysis\n",
        "df.groupby(\"Gender\").emoji_sent.describe()"
      ],
      "execution_count": null,
      "outputs": [
        {
          "output_type": "execute_result",
          "data": {
            "text/html": [
              "<div>\n",
              "<style scoped>\n",
              "    .dataframe tbody tr th:only-of-type {\n",
              "        vertical-align: middle;\n",
              "    }\n",
              "\n",
              "    .dataframe tbody tr th {\n",
              "        vertical-align: top;\n",
              "    }\n",
              "\n",
              "    .dataframe thead th {\n",
              "        text-align: right;\n",
              "    }\n",
              "</style>\n",
              "<table border=\"1\" class=\"dataframe\">\n",
              "  <thead>\n",
              "    <tr style=\"text-align: right;\">\n",
              "      <th></th>\n",
              "      <th>count</th>\n",
              "      <th>mean</th>\n",
              "      <th>std</th>\n",
              "      <th>min</th>\n",
              "      <th>25%</th>\n",
              "      <th>50%</th>\n",
              "      <th>75%</th>\n",
              "      <th>max</th>\n",
              "    </tr>\n",
              "    <tr>\n",
              "      <th>Gender</th>\n",
              "      <th></th>\n",
              "      <th></th>\n",
              "      <th></th>\n",
              "      <th></th>\n",
              "      <th></th>\n",
              "      <th></th>\n",
              "      <th></th>\n",
              "      <th></th>\n",
              "    </tr>\n",
              "  </thead>\n",
              "  <tbody>\n",
              "    <tr>\n",
              "      <th>female</th>\n",
              "      <td>2955.0</td>\n",
              "      <td>0.352518</td>\n",
              "      <td>0.326794</td>\n",
              "      <td>-0.6</td>\n",
              "      <td>0.0</td>\n",
              "      <td>0.353</td>\n",
              "      <td>0.678</td>\n",
              "      <td>1.000</td>\n",
              "    </tr>\n",
              "    <tr>\n",
              "      <th>male</th>\n",
              "      <td>3175.0</td>\n",
              "      <td>0.325413</td>\n",
              "      <td>0.335444</td>\n",
              "      <td>-1.0</td>\n",
              "      <td>0.0</td>\n",
              "      <td>0.278</td>\n",
              "      <td>0.678</td>\n",
              "      <td>1.000</td>\n",
              "    </tr>\n",
              "    <tr>\n",
              "      <th>nonbinary</th>\n",
              "      <td>1762.0</td>\n",
              "      <td>0.010585</td>\n",
              "      <td>0.039964</td>\n",
              "      <td>0.0</td>\n",
              "      <td>0.0</td>\n",
              "      <td>0.000</td>\n",
              "      <td>0.000</td>\n",
              "      <td>0.285</td>\n",
              "    </tr>\n",
              "  </tbody>\n",
              "</table>\n",
              "</div>"
            ],
            "text/plain": [
              "            count      mean       std  min  25%    50%    75%    max\n",
              "Gender                                                              \n",
              "female     2955.0  0.352518  0.326794 -0.6  0.0  0.353  0.678  1.000\n",
              "male       3175.0  0.325413  0.335444 -1.0  0.0  0.278  0.678  1.000\n",
              "nonbinary  1762.0  0.010585  0.039964  0.0  0.0  0.000  0.000  0.285"
            ]
          },
          "metadata": {
            "tags": []
          },
          "execution_count": 126
        }
      ]
    },
    {
      "cell_type": "markdown",
      "metadata": {
        "id": "hvBcYCu0MeQ-"
      },
      "source": [
        "### emo Paired t tests for males between scoring methods"
      ]
    },
    {
      "cell_type": "code",
      "metadata": {
        "id": "JRgmFWsr7B5q"
      },
      "source": [
        "#For t-test analysis with the non-emoji sentiment scores\n",
        "male5 = df[df[\"Gender\"] == \"male\"][\"emoji_sent\"]\n",
        "female5 = df[df[\"Gender\"] == \"female\"][\"emoji_sent\"]\n",
        "nonbinary5 = df[df[\"Gender\"] == \"nonbinary\"][\"emoji_sent\"]\n",
        "\n"
      ],
      "execution_count": null,
      "outputs": []
    },
    {
      "cell_type": "code",
      "metadata": {
        "id": "l424XvujMAn-",
        "colab": {
          "base_uri": "https://localhost:8080/"
        },
        "outputId": "038cbe0a-734a-43bc-f9b6-776610aa9b9d"
      },
      "source": [
        "stats.ttest_rel(male5, male1)"
      ],
      "execution_count": null,
      "outputs": [
        {
          "output_type": "execute_result",
          "data": {
            "text/plain": [
              "Ttest_relResult(statistic=nan, pvalue=nan)"
            ]
          },
          "metadata": {
            "tags": []
          },
          "execution_count": 150
        }
      ]
    },
    {
      "cell_type": "code",
      "metadata": {
        "id": "iSTQHsLtMO-P",
        "colab": {
          "base_uri": "https://localhost:8080/"
        },
        "outputId": "f1743397-8e10-46a4-c266-04a5eee79cbb"
      },
      "source": [
        "stats.ttest_rel(male5, male2)"
      ],
      "execution_count": null,
      "outputs": [
        {
          "output_type": "execute_result",
          "data": {
            "text/plain": [
              "Ttest_relResult(statistic=nan, pvalue=nan)"
            ]
          },
          "metadata": {
            "tags": []
          },
          "execution_count": 151
        }
      ]
    },
    {
      "cell_type": "code",
      "metadata": {
        "id": "XxQ9kqT1MO78",
        "colab": {
          "base_uri": "https://localhost:8080/"
        },
        "outputId": "eb357e35-2a53-4beb-9349-8a8f79905a24"
      },
      "source": [
        "stats.ttest_rel(male5, male3)"
      ],
      "execution_count": null,
      "outputs": [
        {
          "output_type": "execute_result",
          "data": {
            "text/plain": [
              "Ttest_relResult(statistic=nan, pvalue=nan)"
            ]
          },
          "metadata": {
            "tags": []
          },
          "execution_count": 152
        }
      ]
    },
    {
      "cell_type": "code",
      "metadata": {
        "id": "WYhBb1qqMO5e",
        "colab": {
          "base_uri": "https://localhost:8080/"
        },
        "outputId": "9aa0f392-f822-40da-d31d-e002a6087cf3"
      },
      "source": [
        "stats.ttest_rel(male5, male4)"
      ],
      "execution_count": null,
      "outputs": [
        {
          "output_type": "execute_result",
          "data": {
            "text/plain": [
              "Ttest_relResult(statistic=nan, pvalue=nan)"
            ]
          },
          "metadata": {
            "tags": []
          },
          "execution_count": 153
        }
      ]
    },
    {
      "cell_type": "markdown",
      "metadata": {
        "id": "Wwh9JrBSMgxu"
      },
      "source": [
        "### emo Paired t tests for females between scoring methods"
      ]
    },
    {
      "cell_type": "code",
      "metadata": {
        "id": "RtHnaPCpMO26",
        "colab": {
          "base_uri": "https://localhost:8080/"
        },
        "outputId": "0b1ccce4-ef52-4eb3-a00f-e3dab56a795d"
      },
      "source": [
        "stats.ttest_rel(female5, female1)"
      ],
      "execution_count": null,
      "outputs": [
        {
          "output_type": "execute_result",
          "data": {
            "text/plain": [
              "Ttest_relResult(statistic=nan, pvalue=nan)"
            ]
          },
          "metadata": {
            "tags": []
          },
          "execution_count": 158
        }
      ]
    },
    {
      "cell_type": "code",
      "metadata": {
        "id": "OEwHVSDDMO0i",
        "colab": {
          "base_uri": "https://localhost:8080/"
        },
        "outputId": "35da6254-0706-4570-e7fa-9af3044fbd67"
      },
      "source": [
        "stats.ttest_rel(female5, female2)"
      ],
      "execution_count": null,
      "outputs": [
        {
          "output_type": "execute_result",
          "data": {
            "text/plain": [
              "Ttest_relResult(statistic=nan, pvalue=nan)"
            ]
          },
          "metadata": {
            "tags": []
          },
          "execution_count": 159
        }
      ]
    },
    {
      "cell_type": "code",
      "metadata": {
        "id": "6Juf1UeQMOsU",
        "colab": {
          "base_uri": "https://localhost:8080/"
        },
        "outputId": "39901756-c232-4f97-8ef7-b613c7f6ddda"
      },
      "source": [
        "stats.ttest_rel(female5, female3)"
      ],
      "execution_count": null,
      "outputs": [
        {
          "output_type": "execute_result",
          "data": {
            "text/plain": [
              "Ttest_relResult(statistic=nan, pvalue=nan)"
            ]
          },
          "metadata": {
            "tags": []
          },
          "execution_count": 160
        }
      ]
    },
    {
      "cell_type": "code",
      "metadata": {
        "id": "mfkCdb10MVEn",
        "colab": {
          "base_uri": "https://localhost:8080/"
        },
        "outputId": "ea002dee-37d6-4c03-838c-d3f6e67e3565"
      },
      "source": [
        "stats.ttest_rel(female5, female4)"
      ],
      "execution_count": null,
      "outputs": [
        {
          "output_type": "execute_result",
          "data": {
            "text/plain": [
              "Ttest_relResult(statistic=nan, pvalue=nan)"
            ]
          },
          "metadata": {
            "tags": []
          },
          "execution_count": 161
        }
      ]
    },
    {
      "cell_type": "markdown",
      "metadata": {
        "id": "6vrAkbrLMmQY"
      },
      "source": [
        "### emo Paired t tests for nonbinary between scoring methods"
      ]
    },
    {
      "cell_type": "code",
      "metadata": {
        "id": "4Di-bEfEMWkq",
        "colab": {
          "base_uri": "https://localhost:8080/"
        },
        "outputId": "64db41e7-30d1-4997-95d2-b441bd8f3f1b"
      },
      "source": [
        "stats.ttest_rel(nonbinary5, nonbinary1)"
      ],
      "execution_count": null,
      "outputs": [
        {
          "output_type": "execute_result",
          "data": {
            "text/plain": [
              "Ttest_relResult(statistic=nan, pvalue=nan)"
            ]
          },
          "metadata": {
            "tags": []
          },
          "execution_count": 154
        }
      ]
    },
    {
      "cell_type": "code",
      "metadata": {
        "id": "6vl3tHcBMZj4",
        "colab": {
          "base_uri": "https://localhost:8080/"
        },
        "outputId": "9c92990f-374a-45fe-e5b3-8c7db7e3db2e"
      },
      "source": [
        "stats.ttest_rel(nonbinary5, nonbinary2)"
      ],
      "execution_count": null,
      "outputs": [
        {
          "output_type": "execute_result",
          "data": {
            "text/plain": [
              "Ttest_relResult(statistic=nan, pvalue=nan)"
            ]
          },
          "metadata": {
            "tags": []
          },
          "execution_count": 155
        }
      ]
    },
    {
      "cell_type": "code",
      "metadata": {
        "id": "pkJuYLrYMZhf",
        "colab": {
          "base_uri": "https://localhost:8080/"
        },
        "outputId": "e601ad4a-2ade-48d6-f338-612577dbcc9a"
      },
      "source": [
        "stats.ttest_rel(nonbinary5, nonbinary3)"
      ],
      "execution_count": null,
      "outputs": [
        {
          "output_type": "execute_result",
          "data": {
            "text/plain": [
              "Ttest_relResult(statistic=nan, pvalue=nan)"
            ]
          },
          "metadata": {
            "tags": []
          },
          "execution_count": 156
        }
      ]
    },
    {
      "cell_type": "code",
      "metadata": {
        "id": "bajBI4FxMZfQ",
        "colab": {
          "base_uri": "https://localhost:8080/"
        },
        "outputId": "50249da2-fefc-4e09-912e-d7a1884d2170"
      },
      "source": [
        "stats.ttest_rel(nonbinary5, nonbinary4)"
      ],
      "execution_count": null,
      "outputs": [
        {
          "output_type": "execute_result",
          "data": {
            "text/plain": [
              "Ttest_relResult(statistic=nan, pvalue=nan)"
            ]
          },
          "metadata": {
            "tags": []
          },
          "execution_count": 157
        }
      ]
    },
    {
      "cell_type": "markdown",
      "metadata": {
        "id": "F-yX91L4MqtS"
      },
      "source": [
        "### emo anova"
      ]
    },
    {
      "cell_type": "code",
      "metadata": {
        "id": "nmSiW-sD-E3-",
        "colab": {
          "base_uri": "https://localhost:8080/"
        },
        "outputId": "b0a99310-398a-4ce4-9c85-071341b7acd8"
      },
      "source": [
        "#checking if one way anova works on the emoji sent score gender groupings. Uncomment it to run.\n",
        "f_oneway(male5, female5, nonbinary5)"
      ],
      "execution_count": null,
      "outputs": [
        {
          "output_type": "execute_result",
          "data": {
            "text/plain": [
              "F_onewayResult(statistic=nan, pvalue=nan)"
            ]
          },
          "metadata": {
            "tags": []
          },
          "execution_count": 162
        }
      ]
    },
    {
      "cell_type": "code",
      "metadata": {
        "id": "EYzMKCzy9IGF"
      },
      "source": [
        "dft['emoji_sent'] = np.log2(dft['TOXICITY'])"
      ],
      "execution_count": null,
      "outputs": []
    },
    {
      "cell_type": "code",
      "metadata": {
        "id": "JKecF7we9WiL"
      },
      "source": [
        "df.boxplot('emoji_sent', by='Gender', figsize=(8, 6))"
      ],
      "execution_count": null,
      "outputs": []
    },
    {
      "cell_type": "code",
      "metadata": {
        "id": "J7fAQ2KK9YqU"
      },
      "source": [
        "model_e = ols('emoji_sent ~ Gender', data=df).fit()\n",
        "anova_table_e = sm.stats.anova_lm(model_e, typ=2)\n",
        "anova_table_e\n",
        "\n",
        "res = model_e.resid\n",
        "fig = sm.qqplot(res, line='s')\n",
        "plt.show()\n"
      ],
      "execution_count": null,
      "outputs": []
    },
    {
      "cell_type": "code",
      "metadata": {
        "id": "FiMcI_uJ9p0G"
      },
      "source": [
        "pg.welch_anova(dv='emoji_sent', between='Gender', data=df)"
      ],
      "execution_count": null,
      "outputs": []
    },
    {
      "cell_type": "code",
      "metadata": {
        "id": "wQ2KobFV9sWj"
      },
      "source": [
        "pg.pairwise_gameshowell(dv='emoji_sent', between='Gender', data=df)"
      ],
      "execution_count": null,
      "outputs": []
    },
    {
      "cell_type": "markdown",
      "metadata": {
        "id": "7wCjf2ulzOkc"
      },
      "source": [
        "## Sentiment Analysis: Text (NLTK & TB) + Emojisent Combined"
      ]
    },
    {
      "cell_type": "markdown",
      "metadata": {
        "id": "mHQMq2h4NhOb"
      },
      "source": [
        "### making the compound sentiment scores"
      ]
    },
    {
      "cell_type": "code",
      "metadata": {
        "id": "aNOYOnDtzR8u",
        "colab": {
          "base_uri": "https://localhost:8080/"
        },
        "outputId": "423c5d6d-7b36-4495-b225-d1800a89ee59"
      },
      "source": [
        "#Compounding average sentiment scores from TB and NLTK\n",
        "df['clean_compoundsent'] = df[['clean_tbpolarity', 'clean_nltkpolarity']].mean(axis=1)                      #clean\n",
        "df['compoundsent'] = df[['tbpolarity', 'nltkpolarity']].mean(axis=1)                                        #unclean\n",
        "df"
      ],
      "execution_count": null,
      "outputs": [
        {
          "output_type": "execute_result",
          "data": {
            "text/html": [
              "<div>\n",
              "<style scoped>\n",
              "    .dataframe tbody tr th:only-of-type {\n",
              "        vertical-align: middle;\n",
              "    }\n",
              "\n",
              "    .dataframe tbody tr th {\n",
              "        vertical-align: top;\n",
              "    }\n",
              "\n",
              "    .dataframe thead th {\n",
              "        text-align: right;\n",
              "    }\n",
              "</style>\n",
              "<table border=\"1\" class=\"dataframe\">\n",
              "  <thead>\n",
              "    <tr style=\"text-align: right;\">\n",
              "      <th></th>\n",
              "      <th>Unnamed: 0</th>\n",
              "      <th>Unnamed: 0.1</th>\n",
              "      <th>id</th>\n",
              "      <th>text</th>\n",
              "      <th>author_name</th>\n",
              "      <th>author_id</th>\n",
              "      <th>like_count</th>\n",
              "      <th>published_at</th>\n",
              "      <th>updated_at</th>\n",
              "      <th>reply_count</th>\n",
              "      <th>video_id</th>\n",
              "      <th>channel_id</th>\n",
              "      <th>filtered_text</th>\n",
              "      <th>wordcount</th>\n",
              "      <th>filteredtext</th>\n",
              "      <th>Gender</th>\n",
              "      <th>word count</th>\n",
              "      <th>clean_text_nltk</th>\n",
              "      <th>tbpolarity</th>\n",
              "      <th>clean_tbpolarity</th>\n",
              "      <th>nltkpolarity</th>\n",
              "      <th>clean_nltkpolarity</th>\n",
              "      <th>emojis</th>\n",
              "      <th>emoji_count</th>\n",
              "      <th>split_emojis</th>\n",
              "      <th>emoji_x</th>\n",
              "      <th>emoji_sent</th>\n",
              "      <th>clean_compoundsent</th>\n",
              "      <th>compoundsent</th>\n",
              "    </tr>\n",
              "  </thead>\n",
              "  <tbody>\n",
              "    <tr>\n",
              "      <th>0</th>\n",
              "      <td>0</td>\n",
              "      <td>3499.0</td>\n",
              "      <td>Ugw4ZKa65d3HHXcmmqF4AaABAg</td>\n",
              "      <td>Cool Lev reminds me of bad bunny đź�­ âť¤ď¸Ź</td>\n",
              "      <td>Christian Valenzuela</td>\n",
              "      <td>UCkxRHkiWVOUIWnxpA6cywlA</td>\n",
              "      <td>1.0</td>\n",
              "      <td>2021-06-05T03:20:49Z</td>\n",
              "      <td>2021-06-05T03:20:49Z</td>\n",
              "      <td>0.0</td>\n",
              "      <td>by4_sZCP52s</td>\n",
              "      <td>UCJyw_54aiqanw8s39eq6HbA</td>\n",
              "      <td>Cool Lev reminds me of bad bunny đź�­ âť¤ď¸Ź</td>\n",
              "      <td>7.0</td>\n",
              "      <td>Cool Lev reminds me of bad bunny đź�­ âť¤ď¸Ź</td>\n",
              "      <td>nonbinary</td>\n",
              "      <td>44</td>\n",
              "      <td>cool lev reminds bad bunny đź � ­ âť ¤ ď ¸ ź</td>\n",
              "      <td>-0.175000</td>\n",
              "      <td>-0.175000</td>\n",
              "      <td>-0.2960</td>\n",
              "      <td>-0.2960</td>\n",
              "      <td></td>\n",
              "      <td>0</td>\n",
              "      <td></td>\n",
              "      <td></td>\n",
              "      <td>NaN</td>\n",
              "      <td>-0.235500</td>\n",
              "      <td>-0.235500</td>\n",
              "    </tr>\n",
              "    <tr>\n",
              "      <th>1</th>\n",
              "      <td>1</td>\n",
              "      <td>11690.0</td>\n",
              "      <td>UgyTTDd4SS3YRUIP0rd4AaABAg</td>\n",
              "      <td>Not with Willa Ford! Lol. This was everything....</td>\n",
              "      <td>TheALBox</td>\n",
              "      <td>UCSHD6JwkQR-xkgWUxGpOrLg</td>\n",
              "      <td>4.0</td>\n",
              "      <td>2021-03-17T05:35:00Z</td>\n",
              "      <td>2021-03-17T05:35:00Z</td>\n",
              "      <td>0.0</td>\n",
              "      <td>LrpsvUFHzgE</td>\n",
              "      <td>UCeNgRHpH7OHZetYjC5JZXGw</td>\n",
              "      <td>Not with Willa Ford! Lol. This was everything....</td>\n",
              "      <td>21.0</td>\n",
              "      <td>Not with Willa Ford! Lol. This was everything....</td>\n",
              "      <td>nonbinary</td>\n",
              "      <td>115</td>\n",
              "      <td>willa ford  lol  everything  even throwing bac...</td>\n",
              "      <td>0.291667</td>\n",
              "      <td>0.291667</td>\n",
              "      <td>0.4753</td>\n",
              "      <td>0.4215</td>\n",
              "      <td></td>\n",
              "      <td>0</td>\n",
              "      <td></td>\n",
              "      <td></td>\n",
              "      <td>NaN</td>\n",
              "      <td>0.356583</td>\n",
              "      <td>0.383483</td>\n",
              "    </tr>\n",
              "    <tr>\n",
              "      <th>2</th>\n",
              "      <td>2</td>\n",
              "      <td>765.0</td>\n",
              "      <td>UgxElE4CNAZ3GRGhmD94AaABAg</td>\n",
              "      <td>FINALLYY!! OMG MY FAVORITE DUOOO đź’–</td>\n",
              "      <td>Lyle Matubis</td>\n",
              "      <td>UC3UVSBFMWIZD0ebE-YMvVjQ</td>\n",
              "      <td>0.0</td>\n",
              "      <td>2021-06-11T22:03:16Z</td>\n",
              "      <td>2021-06-11T22:03:16Z</td>\n",
              "      <td>0.0</td>\n",
              "      <td>4ULR-YsglO0</td>\n",
              "      <td>UCbLunbaq3ia4-FLfOHrHngQ</td>\n",
              "      <td>FINALLYY!! OMG MY FAVORITE DUOOO đź’–</td>\n",
              "      <td>5.0</td>\n",
              "      <td>FINALLYY!! OMG MY FAVORITE DUOOO đź’–</td>\n",
              "      <td>nonbinary</td>\n",
              "      <td>37</td>\n",
              "      <td>finallyy   omg favorite duooo đź ’ –</td>\n",
              "      <td>0.500000</td>\n",
              "      <td>0.500000</td>\n",
              "      <td>0.6505</td>\n",
              "      <td>0.4588</td>\n",
              "      <td></td>\n",
              "      <td>0</td>\n",
              "      <td></td>\n",
              "      <td></td>\n",
              "      <td>NaN</td>\n",
              "      <td>0.479400</td>\n",
              "      <td>0.575250</td>\n",
              "    </tr>\n",
              "    <tr>\n",
              "      <th>3</th>\n",
              "      <td>3</td>\n",
              "      <td>1991.0</td>\n",
              "      <td>UgxbCP_a4jq3apZ4T654AaABAg</td>\n",
              "      <td>I just watched a 4 minute add to support the c...</td>\n",
              "      <td>Jaime Flowers Ashley</td>\n",
              "      <td>UCRQTy6yjOZwA6RIcUUTY8KQ</td>\n",
              "      <td>0.0</td>\n",
              "      <td>2021-05-11T20:27:40Z</td>\n",
              "      <td>2021-05-11T20:27:40Z</td>\n",
              "      <td>0.0</td>\n",
              "      <td>iE9Y8YshvN8</td>\n",
              "      <td>UCbLunbaq3ia4-FLfOHrHngQ</td>\n",
              "      <td>I just watched a 4 minute add to support the c...</td>\n",
              "      <td>16.0</td>\n",
              "      <td>I just watched a 4 minute add to support the c...</td>\n",
              "      <td>nonbinary</td>\n",
              "      <td>77</td>\n",
              "      <td>watched 4 minute add support channel  love work</td>\n",
              "      <td>0.625000</td>\n",
              "      <td>0.500000</td>\n",
              "      <td>0.8016</td>\n",
              "      <td>0.7845</td>\n",
              "      <td></td>\n",
              "      <td>0</td>\n",
              "      <td></td>\n",
              "      <td></td>\n",
              "      <td>NaN</td>\n",
              "      <td>0.642250</td>\n",
              "      <td>0.713300</td>\n",
              "    </tr>\n",
              "    <tr>\n",
              "      <th>4</th>\n",
              "      <td>4</td>\n",
              "      <td>11154.0</td>\n",
              "      <td>UgwS43_J41mC90PqpCB4AaABAg</td>\n",
              "      <td>Iâ€™m gonna dream about this later I can feel it</td>\n",
              "      <td>Petals</td>\n",
              "      <td>UCM5o1aeMLh_df-lJSfoaFZA</td>\n",
              "      <td>3.0</td>\n",
              "      <td>2021-05-02T01:00:23Z</td>\n",
              "      <td>2021-05-02T01:00:23Z</td>\n",
              "      <td>0.0</td>\n",
              "      <td>JeNBq1SSwZI</td>\n",
              "      <td>UCeNgRHpH7OHZetYjC5JZXGw</td>\n",
              "      <td>Iâ€™m gonna dream about this later I can feel it</td>\n",
              "      <td>11.0</td>\n",
              "      <td>Iâ€™m gonna dream about this later I can feel it</td>\n",
              "      <td>nonbinary</td>\n",
              "      <td>48</td>\n",
              "      <td>iâ € ™ gonna dream later feel</td>\n",
              "      <td>0.000000</td>\n",
              "      <td>0.000000</td>\n",
              "      <td>0.2500</td>\n",
              "      <td>0.2500</td>\n",
              "      <td>™</td>\n",
              "      <td>1</td>\n",
              "      <td>™</td>\n",
              "      <td>™</td>\n",
              "      <td>0.000</td>\n",
              "      <td>0.125000</td>\n",
              "      <td>0.125000</td>\n",
              "    </tr>\n",
              "    <tr>\n",
              "      <th>...</th>\n",
              "      <td>...</td>\n",
              "      <td>...</td>\n",
              "      <td>...</td>\n",
              "      <td>...</td>\n",
              "      <td>...</td>\n",
              "      <td>...</td>\n",
              "      <td>...</td>\n",
              "      <td>...</td>\n",
              "      <td>...</td>\n",
              "      <td>...</td>\n",
              "      <td>...</td>\n",
              "      <td>...</td>\n",
              "      <td>...</td>\n",
              "      <td>...</td>\n",
              "      <td>...</td>\n",
              "      <td>...</td>\n",
              "      <td>...</td>\n",
              "      <td>...</td>\n",
              "      <td>...</td>\n",
              "      <td>...</td>\n",
              "      <td>...</td>\n",
              "      <td>...</td>\n",
              "      <td>...</td>\n",
              "      <td>...</td>\n",
              "      <td>...</td>\n",
              "      <td>...</td>\n",
              "      <td>...</td>\n",
              "      <td>...</td>\n",
              "      <td>...</td>\n",
              "    </tr>\n",
              "    <tr>\n",
              "      <th>29995</th>\n",
              "      <td>29995</td>\n",
              "      <td>244259.0</td>\n",
              "      <td>Ugxs9IQpdOeEJkaB2gl4AaABAg</td>\n",
              "      <td>I'm sad, scared, and very very very very very ...</td>\n",
              "      <td>Elly</td>\n",
              "      <td>UCiyBJ7UVF7UGhGCRLbvO_mw</td>\n",
              "      <td>0.0</td>\n",
              "      <td>2020-10-08T19:59:35Z</td>\n",
              "      <td>2020-10-08T19:59:35Z</td>\n",
              "      <td>0.0</td>\n",
              "      <td>HQ9vRS1GbwQ</td>\n",
              "      <td>UCoziFm3M4sHDq1kkx0UwtRw</td>\n",
              "      <td>I'm sad, scared, and very very very very very ...</td>\n",
              "      <td>20.0</td>\n",
              "      <td>I'm sad, scared, and very very very very very ...</td>\n",
              "      <td>female</td>\n",
              "      <td>107</td>\n",
              "      <td>im sad  scared  disgusted stupid serial killer...</td>\n",
              "      <td>-0.833333</td>\n",
              "      <td>-0.766667</td>\n",
              "      <td>-0.9395</td>\n",
              "      <td>-0.9260</td>\n",
              "      <td></td>\n",
              "      <td>0</td>\n",
              "      <td></td>\n",
              "      <td></td>\n",
              "      <td>NaN</td>\n",
              "      <td>-0.846333</td>\n",
              "      <td>-0.886417</td>\n",
              "    </tr>\n",
              "    <tr>\n",
              "      <th>29996</th>\n",
              "      <td>29996</td>\n",
              "      <td>NaN</td>\n",
              "      <td>UgzRxnA4_Muxm6Z95Zp4AaABAg</td>\n",
              "      <td>are u 32, my dad is 35 and im 10</td>\n",
              "      <td>62 Productions</td>\n",
              "      <td>UCgZ_4iKW8ovnXWo1maJeyiw</td>\n",
              "      <td>0.0</td>\n",
              "      <td>2019-09-21T22:03:49Z</td>\n",
              "      <td>2019-09-21T22:03:49Z</td>\n",
              "      <td>0.0</td>\n",
              "      <td>RP5vuMYpAKE</td>\n",
              "      <td>UC0YvTCy1I4_a-3pn47_5DBA</td>\n",
              "      <td>are u 32, my dad is 35 and im 10</td>\n",
              "      <td>10.0</td>\n",
              "      <td>are u 32, my dad is 35 and im 10</td>\n",
              "      <td>female</td>\n",
              "      <td>32</td>\n",
              "      <td>u 32  dad 35 im 10</td>\n",
              "      <td>0.000000</td>\n",
              "      <td>0.000000</td>\n",
              "      <td>0.0000</td>\n",
              "      <td>0.0000</td>\n",
              "      <td></td>\n",
              "      <td>0</td>\n",
              "      <td></td>\n",
              "      <td></td>\n",
              "      <td>NaN</td>\n",
              "      <td>0.000000</td>\n",
              "      <td>0.000000</td>\n",
              "    </tr>\n",
              "    <tr>\n",
              "      <th>29997</th>\n",
              "      <td>29997</td>\n",
              "      <td>NaN</td>\n",
              "      <td>UgwWu4b3oijE4kL2RaZ4AaABAg</td>\n",
              "      <td>OMGGGGGG the Queen is back!! Love you TATI!!</td>\n",
              "      <td>Nadia Fuzi</td>\n",
              "      <td>UC4P3OEMYtoZUn8RLxm0wNXg</td>\n",
              "      <td>0.0</td>\n",
              "      <td>2021-06-22T04:53:00Z</td>\n",
              "      <td>2021-06-22T04:53:00Z</td>\n",
              "      <td>0.0</td>\n",
              "      <td>xL6sY85O77I</td>\n",
              "      <td>UC4qk9TtGhBKCkoWz5qGJcGg</td>\n",
              "      <td>OMGGGGGG the Queen is back!! Love you TATI!!</td>\n",
              "      <td>8.0</td>\n",
              "      <td>OMGGGGGG the Queen is back!! Love you TATI!!</td>\n",
              "      <td>female</td>\n",
              "      <td>44</td>\n",
              "      <td>omgggggg queen back   love tati</td>\n",
              "      <td>0.390625</td>\n",
              "      <td>0.250000</td>\n",
              "      <td>0.7482</td>\n",
              "      <td>0.6369</td>\n",
              "      <td></td>\n",
              "      <td>0</td>\n",
              "      <td></td>\n",
              "      <td></td>\n",
              "      <td>NaN</td>\n",
              "      <td>0.443450</td>\n",
              "      <td>0.569412</td>\n",
              "    </tr>\n",
              "    <tr>\n",
              "      <th>29998</th>\n",
              "      <td>29998</td>\n",
              "      <td>207622.0</td>\n",
              "      <td>UgyhfOXk3mxGOEje3MF4AaABAg</td>\n",
              "      <td>I love your channel it makes me smile!! ❤❤ ItS...</td>\n",
              "      <td>keori webb</td>\n",
              "      <td>UCjxXyQXbtqKNQrIJsqSpuLg</td>\n",
              "      <td>1.0</td>\n",
              "      <td>2021-03-27T19:00:04Z</td>\n",
              "      <td>2021-03-27T19:00:04Z</td>\n",
              "      <td>0.0</td>\n",
              "      <td>wGhMvWjOxfU</td>\n",
              "      <td>UCGCVyTWogzQ4D170BLy2Arw</td>\n",
              "      <td>I love your channel it makes me smile!! ❤❤ ItS...</td>\n",
              "      <td>13.0</td>\n",
              "      <td>I love your channel it makes me smile!! ❤❤ ItS...</td>\n",
              "      <td>female</td>\n",
              "      <td>68</td>\n",
              "      <td>love channel makes smile   ❤ ❤ problem anymore</td>\n",
              "      <td>0.484375</td>\n",
              "      <td>0.400000</td>\n",
              "      <td>0.8605</td>\n",
              "      <td>0.6124</td>\n",
              "      <td>❤❤</td>\n",
              "      <td>2</td>\n",
              "      <td>❤ ❤</td>\n",
              "      <td>❤❤</td>\n",
              "      <td>0.746</td>\n",
              "      <td>0.506200</td>\n",
              "      <td>0.672438</td>\n",
              "    </tr>\n",
              "    <tr>\n",
              "      <th>29999</th>\n",
              "      <td>29999</td>\n",
              "      <td>246214.0</td>\n",
              "      <td>UgzSfTQ6qOoxTuIFHb54AaABAg</td>\n",
              "      <td>Moral of the story \\nMykie just likes Leonardo...</td>\n",
              "      <td>Miss Morte</td>\n",
              "      <td>UCv5qXvOHhYZGm6yDohWYe1g</td>\n",
              "      <td>0.0</td>\n",
              "      <td>2020-09-29T02:51:18Z</td>\n",
              "      <td>2020-09-29T02:51:18Z</td>\n",
              "      <td>0.0</td>\n",
              "      <td>yEdEG7Stp3U</td>\n",
              "      <td>UCoziFm3M4sHDq1kkx0UwtRw</td>\n",
              "      <td>Moral of the story Mykie just likes Leonardo D...</td>\n",
              "      <td>9.0</td>\n",
              "      <td>Moral of the story Mykie just likes Leonardo D...</td>\n",
              "      <td>female</td>\n",
              "      <td>54</td>\n",
              "      <td>moral story mykie likes leonardo dicaprio</td>\n",
              "      <td>0.000000</td>\n",
              "      <td>0.000000</td>\n",
              "      <td>0.4215</td>\n",
              "      <td>0.4215</td>\n",
              "      <td></td>\n",
              "      <td>0</td>\n",
              "      <td></td>\n",
              "      <td></td>\n",
              "      <td>NaN</td>\n",
              "      <td>0.210750</td>\n",
              "      <td>0.210750</td>\n",
              "    </tr>\n",
              "  </tbody>\n",
              "</table>\n",
              "<p>30000 rows × 29 columns</p>\n",
              "</div>"
            ],
            "text/plain": [
              "       Unnamed: 0  Unnamed: 0.1  ... clean_compoundsent compoundsent\n",
              "0               0        3499.0  ...          -0.235500    -0.235500\n",
              "1               1       11690.0  ...           0.356583     0.383483\n",
              "2               2         765.0  ...           0.479400     0.575250\n",
              "3               3        1991.0  ...           0.642250     0.713300\n",
              "4               4       11154.0  ...           0.125000     0.125000\n",
              "...           ...           ...  ...                ...          ...\n",
              "29995       29995      244259.0  ...          -0.846333    -0.886417\n",
              "29996       29996           NaN  ...           0.000000     0.000000\n",
              "29997       29997           NaN  ...           0.443450     0.569412\n",
              "29998       29998      207622.0  ...           0.506200     0.672438\n",
              "29999       29999      246214.0  ...           0.210750     0.210750\n",
              "\n",
              "[30000 rows x 29 columns]"
            ]
          },
          "metadata": {
            "tags": []
          },
          "execution_count": 163
        }
      ]
    },
    {
      "cell_type": "code",
      "metadata": {
        "id": "Lqg9Mp1I9taJ",
        "colab": {
          "base_uri": "https://localhost:8080/"
        },
        "outputId": "7b7eba6f-9040-4745-a408-fd848ffbf59b"
      },
      "source": [
        "#Compounding average sentiment scores from TB and NLTK with the Emoji sentiment\n",
        "df['emo_clean_compoundsent'] = df[['clean_tbpolarity', 'clean_nltkpolarity', 'emoji_sent']].mean(axis=1)    #clean\n",
        "df['emo_compoundsent'] = df[['tbpolarity', 'nltkpolarity', 'emoji_sent']].mean(axis=1)                      #unclean\n",
        "df"
      ],
      "execution_count": null,
      "outputs": [
        {
          "output_type": "execute_result",
          "data": {
            "text/html": [
              "<div>\n",
              "<style scoped>\n",
              "    .dataframe tbody tr th:only-of-type {\n",
              "        vertical-align: middle;\n",
              "    }\n",
              "\n",
              "    .dataframe tbody tr th {\n",
              "        vertical-align: top;\n",
              "    }\n",
              "\n",
              "    .dataframe thead th {\n",
              "        text-align: right;\n",
              "    }\n",
              "</style>\n",
              "<table border=\"1\" class=\"dataframe\">\n",
              "  <thead>\n",
              "    <tr style=\"text-align: right;\">\n",
              "      <th></th>\n",
              "      <th>Unnamed: 0</th>\n",
              "      <th>Unnamed: 0.1</th>\n",
              "      <th>id</th>\n",
              "      <th>text</th>\n",
              "      <th>author_name</th>\n",
              "      <th>author_id</th>\n",
              "      <th>like_count</th>\n",
              "      <th>published_at</th>\n",
              "      <th>updated_at</th>\n",
              "      <th>reply_count</th>\n",
              "      <th>video_id</th>\n",
              "      <th>channel_id</th>\n",
              "      <th>filtered_text</th>\n",
              "      <th>wordcount</th>\n",
              "      <th>filteredtext</th>\n",
              "      <th>Gender</th>\n",
              "      <th>word count</th>\n",
              "      <th>clean_text_nltk</th>\n",
              "      <th>tbpolarity</th>\n",
              "      <th>clean_tbpolarity</th>\n",
              "      <th>nltkpolarity</th>\n",
              "      <th>clean_nltkpolarity</th>\n",
              "      <th>emojis</th>\n",
              "      <th>emoji_count</th>\n",
              "      <th>split_emojis</th>\n",
              "      <th>emoji_x</th>\n",
              "      <th>emoji_sent</th>\n",
              "      <th>clean_compoundsent</th>\n",
              "      <th>compoundsent</th>\n",
              "      <th>emo_clean_compoundsent</th>\n",
              "      <th>emo_compoundsent</th>\n",
              "    </tr>\n",
              "  </thead>\n",
              "  <tbody>\n",
              "    <tr>\n",
              "      <th>0</th>\n",
              "      <td>0</td>\n",
              "      <td>3499.0</td>\n",
              "      <td>Ugw4ZKa65d3HHXcmmqF4AaABAg</td>\n",
              "      <td>Cool Lev reminds me of bad bunny đź�­ âť¤ď¸Ź</td>\n",
              "      <td>Christian Valenzuela</td>\n",
              "      <td>UCkxRHkiWVOUIWnxpA6cywlA</td>\n",
              "      <td>1.0</td>\n",
              "      <td>2021-06-05T03:20:49Z</td>\n",
              "      <td>2021-06-05T03:20:49Z</td>\n",
              "      <td>0.0</td>\n",
              "      <td>by4_sZCP52s</td>\n",
              "      <td>UCJyw_54aiqanw8s39eq6HbA</td>\n",
              "      <td>Cool Lev reminds me of bad bunny đź�­ âť¤ď¸Ź</td>\n",
              "      <td>7.0</td>\n",
              "      <td>Cool Lev reminds me of bad bunny đź�­ âť¤ď¸Ź</td>\n",
              "      <td>nonbinary</td>\n",
              "      <td>44</td>\n",
              "      <td>cool lev reminds bad bunny đź � ­ âť ¤ ď ¸ ź</td>\n",
              "      <td>-0.175000</td>\n",
              "      <td>-0.175000</td>\n",
              "      <td>-0.2960</td>\n",
              "      <td>-0.2960</td>\n",
              "      <td></td>\n",
              "      <td>0</td>\n",
              "      <td></td>\n",
              "      <td></td>\n",
              "      <td>NaN</td>\n",
              "      <td>-0.235500</td>\n",
              "      <td>-0.235500</td>\n",
              "      <td>-0.235500</td>\n",
              "      <td>-0.235500</td>\n",
              "    </tr>\n",
              "    <tr>\n",
              "      <th>1</th>\n",
              "      <td>1</td>\n",
              "      <td>11690.0</td>\n",
              "      <td>UgyTTDd4SS3YRUIP0rd4AaABAg</td>\n",
              "      <td>Not with Willa Ford! Lol. This was everything....</td>\n",
              "      <td>TheALBox</td>\n",
              "      <td>UCSHD6JwkQR-xkgWUxGpOrLg</td>\n",
              "      <td>4.0</td>\n",
              "      <td>2021-03-17T05:35:00Z</td>\n",
              "      <td>2021-03-17T05:35:00Z</td>\n",
              "      <td>0.0</td>\n",
              "      <td>LrpsvUFHzgE</td>\n",
              "      <td>UCeNgRHpH7OHZetYjC5JZXGw</td>\n",
              "      <td>Not with Willa Ford! Lol. This was everything....</td>\n",
              "      <td>21.0</td>\n",
              "      <td>Not with Willa Ford! Lol. This was everything....</td>\n",
              "      <td>nonbinary</td>\n",
              "      <td>115</td>\n",
              "      <td>willa ford  lol  everything  even throwing bac...</td>\n",
              "      <td>0.291667</td>\n",
              "      <td>0.291667</td>\n",
              "      <td>0.4753</td>\n",
              "      <td>0.4215</td>\n",
              "      <td></td>\n",
              "      <td>0</td>\n",
              "      <td></td>\n",
              "      <td></td>\n",
              "      <td>NaN</td>\n",
              "      <td>0.356583</td>\n",
              "      <td>0.383483</td>\n",
              "      <td>0.356583</td>\n",
              "      <td>0.383483</td>\n",
              "    </tr>\n",
              "    <tr>\n",
              "      <th>2</th>\n",
              "      <td>2</td>\n",
              "      <td>765.0</td>\n",
              "      <td>UgxElE4CNAZ3GRGhmD94AaABAg</td>\n",
              "      <td>FINALLYY!! OMG MY FAVORITE DUOOO đź’–</td>\n",
              "      <td>Lyle Matubis</td>\n",
              "      <td>UC3UVSBFMWIZD0ebE-YMvVjQ</td>\n",
              "      <td>0.0</td>\n",
              "      <td>2021-06-11T22:03:16Z</td>\n",
              "      <td>2021-06-11T22:03:16Z</td>\n",
              "      <td>0.0</td>\n",
              "      <td>4ULR-YsglO0</td>\n",
              "      <td>UCbLunbaq3ia4-FLfOHrHngQ</td>\n",
              "      <td>FINALLYY!! OMG MY FAVORITE DUOOO đź’–</td>\n",
              "      <td>5.0</td>\n",
              "      <td>FINALLYY!! OMG MY FAVORITE DUOOO đź’–</td>\n",
              "      <td>nonbinary</td>\n",
              "      <td>37</td>\n",
              "      <td>finallyy   omg favorite duooo đź ’ –</td>\n",
              "      <td>0.500000</td>\n",
              "      <td>0.500000</td>\n",
              "      <td>0.6505</td>\n",
              "      <td>0.4588</td>\n",
              "      <td></td>\n",
              "      <td>0</td>\n",
              "      <td></td>\n",
              "      <td></td>\n",
              "      <td>NaN</td>\n",
              "      <td>0.479400</td>\n",
              "      <td>0.575250</td>\n",
              "      <td>0.479400</td>\n",
              "      <td>0.575250</td>\n",
              "    </tr>\n",
              "    <tr>\n",
              "      <th>3</th>\n",
              "      <td>3</td>\n",
              "      <td>1991.0</td>\n",
              "      <td>UgxbCP_a4jq3apZ4T654AaABAg</td>\n",
              "      <td>I just watched a 4 minute add to support the c...</td>\n",
              "      <td>Jaime Flowers Ashley</td>\n",
              "      <td>UCRQTy6yjOZwA6RIcUUTY8KQ</td>\n",
              "      <td>0.0</td>\n",
              "      <td>2021-05-11T20:27:40Z</td>\n",
              "      <td>2021-05-11T20:27:40Z</td>\n",
              "      <td>0.0</td>\n",
              "      <td>iE9Y8YshvN8</td>\n",
              "      <td>UCbLunbaq3ia4-FLfOHrHngQ</td>\n",
              "      <td>I just watched a 4 minute add to support the c...</td>\n",
              "      <td>16.0</td>\n",
              "      <td>I just watched a 4 minute add to support the c...</td>\n",
              "      <td>nonbinary</td>\n",
              "      <td>77</td>\n",
              "      <td>watched 4 minute add support channel  love work</td>\n",
              "      <td>0.625000</td>\n",
              "      <td>0.500000</td>\n",
              "      <td>0.8016</td>\n",
              "      <td>0.7845</td>\n",
              "      <td></td>\n",
              "      <td>0</td>\n",
              "      <td></td>\n",
              "      <td></td>\n",
              "      <td>NaN</td>\n",
              "      <td>0.642250</td>\n",
              "      <td>0.713300</td>\n",
              "      <td>0.642250</td>\n",
              "      <td>0.713300</td>\n",
              "    </tr>\n",
              "    <tr>\n",
              "      <th>4</th>\n",
              "      <td>4</td>\n",
              "      <td>11154.0</td>\n",
              "      <td>UgwS43_J41mC90PqpCB4AaABAg</td>\n",
              "      <td>Iâ€™m gonna dream about this later I can feel it</td>\n",
              "      <td>Petals</td>\n",
              "      <td>UCM5o1aeMLh_df-lJSfoaFZA</td>\n",
              "      <td>3.0</td>\n",
              "      <td>2021-05-02T01:00:23Z</td>\n",
              "      <td>2021-05-02T01:00:23Z</td>\n",
              "      <td>0.0</td>\n",
              "      <td>JeNBq1SSwZI</td>\n",
              "      <td>UCeNgRHpH7OHZetYjC5JZXGw</td>\n",
              "      <td>Iâ€™m gonna dream about this later I can feel it</td>\n",
              "      <td>11.0</td>\n",
              "      <td>Iâ€™m gonna dream about this later I can feel it</td>\n",
              "      <td>nonbinary</td>\n",
              "      <td>48</td>\n",
              "      <td>iâ € ™ gonna dream later feel</td>\n",
              "      <td>0.000000</td>\n",
              "      <td>0.000000</td>\n",
              "      <td>0.2500</td>\n",
              "      <td>0.2500</td>\n",
              "      <td>™</td>\n",
              "      <td>1</td>\n",
              "      <td>™</td>\n",
              "      <td>™</td>\n",
              "      <td>0.000</td>\n",
              "      <td>0.125000</td>\n",
              "      <td>0.125000</td>\n",
              "      <td>0.083333</td>\n",
              "      <td>0.083333</td>\n",
              "    </tr>\n",
              "    <tr>\n",
              "      <th>...</th>\n",
              "      <td>...</td>\n",
              "      <td>...</td>\n",
              "      <td>...</td>\n",
              "      <td>...</td>\n",
              "      <td>...</td>\n",
              "      <td>...</td>\n",
              "      <td>...</td>\n",
              "      <td>...</td>\n",
              "      <td>...</td>\n",
              "      <td>...</td>\n",
              "      <td>...</td>\n",
              "      <td>...</td>\n",
              "      <td>...</td>\n",
              "      <td>...</td>\n",
              "      <td>...</td>\n",
              "      <td>...</td>\n",
              "      <td>...</td>\n",
              "      <td>...</td>\n",
              "      <td>...</td>\n",
              "      <td>...</td>\n",
              "      <td>...</td>\n",
              "      <td>...</td>\n",
              "      <td>...</td>\n",
              "      <td>...</td>\n",
              "      <td>...</td>\n",
              "      <td>...</td>\n",
              "      <td>...</td>\n",
              "      <td>...</td>\n",
              "      <td>...</td>\n",
              "      <td>...</td>\n",
              "      <td>...</td>\n",
              "    </tr>\n",
              "    <tr>\n",
              "      <th>29995</th>\n",
              "      <td>29995</td>\n",
              "      <td>244259.0</td>\n",
              "      <td>Ugxs9IQpdOeEJkaB2gl4AaABAg</td>\n",
              "      <td>I'm sad, scared, and very very very very very ...</td>\n",
              "      <td>Elly</td>\n",
              "      <td>UCiyBJ7UVF7UGhGCRLbvO_mw</td>\n",
              "      <td>0.0</td>\n",
              "      <td>2020-10-08T19:59:35Z</td>\n",
              "      <td>2020-10-08T19:59:35Z</td>\n",
              "      <td>0.0</td>\n",
              "      <td>HQ9vRS1GbwQ</td>\n",
              "      <td>UCoziFm3M4sHDq1kkx0UwtRw</td>\n",
              "      <td>I'm sad, scared, and very very very very very ...</td>\n",
              "      <td>20.0</td>\n",
              "      <td>I'm sad, scared, and very very very very very ...</td>\n",
              "      <td>female</td>\n",
              "      <td>107</td>\n",
              "      <td>im sad  scared  disgusted stupid serial killer...</td>\n",
              "      <td>-0.833333</td>\n",
              "      <td>-0.766667</td>\n",
              "      <td>-0.9395</td>\n",
              "      <td>-0.9260</td>\n",
              "      <td></td>\n",
              "      <td>0</td>\n",
              "      <td></td>\n",
              "      <td></td>\n",
              "      <td>NaN</td>\n",
              "      <td>-0.846333</td>\n",
              "      <td>-0.886417</td>\n",
              "      <td>-0.846333</td>\n",
              "      <td>-0.886417</td>\n",
              "    </tr>\n",
              "    <tr>\n",
              "      <th>29996</th>\n",
              "      <td>29996</td>\n",
              "      <td>NaN</td>\n",
              "      <td>UgzRxnA4_Muxm6Z95Zp4AaABAg</td>\n",
              "      <td>are u 32, my dad is 35 and im 10</td>\n",
              "      <td>62 Productions</td>\n",
              "      <td>UCgZ_4iKW8ovnXWo1maJeyiw</td>\n",
              "      <td>0.0</td>\n",
              "      <td>2019-09-21T22:03:49Z</td>\n",
              "      <td>2019-09-21T22:03:49Z</td>\n",
              "      <td>0.0</td>\n",
              "      <td>RP5vuMYpAKE</td>\n",
              "      <td>UC0YvTCy1I4_a-3pn47_5DBA</td>\n",
              "      <td>are u 32, my dad is 35 and im 10</td>\n",
              "      <td>10.0</td>\n",
              "      <td>are u 32, my dad is 35 and im 10</td>\n",
              "      <td>female</td>\n",
              "      <td>32</td>\n",
              "      <td>u 32  dad 35 im 10</td>\n",
              "      <td>0.000000</td>\n",
              "      <td>0.000000</td>\n",
              "      <td>0.0000</td>\n",
              "      <td>0.0000</td>\n",
              "      <td></td>\n",
              "      <td>0</td>\n",
              "      <td></td>\n",
              "      <td></td>\n",
              "      <td>NaN</td>\n",
              "      <td>0.000000</td>\n",
              "      <td>0.000000</td>\n",
              "      <td>0.000000</td>\n",
              "      <td>0.000000</td>\n",
              "    </tr>\n",
              "    <tr>\n",
              "      <th>29997</th>\n",
              "      <td>29997</td>\n",
              "      <td>NaN</td>\n",
              "      <td>UgwWu4b3oijE4kL2RaZ4AaABAg</td>\n",
              "      <td>OMGGGGGG the Queen is back!! Love you TATI!!</td>\n",
              "      <td>Nadia Fuzi</td>\n",
              "      <td>UC4P3OEMYtoZUn8RLxm0wNXg</td>\n",
              "      <td>0.0</td>\n",
              "      <td>2021-06-22T04:53:00Z</td>\n",
              "      <td>2021-06-22T04:53:00Z</td>\n",
              "      <td>0.0</td>\n",
              "      <td>xL6sY85O77I</td>\n",
              "      <td>UC4qk9TtGhBKCkoWz5qGJcGg</td>\n",
              "      <td>OMGGGGGG the Queen is back!! Love you TATI!!</td>\n",
              "      <td>8.0</td>\n",
              "      <td>OMGGGGGG the Queen is back!! Love you TATI!!</td>\n",
              "      <td>female</td>\n",
              "      <td>44</td>\n",
              "      <td>omgggggg queen back   love tati</td>\n",
              "      <td>0.390625</td>\n",
              "      <td>0.250000</td>\n",
              "      <td>0.7482</td>\n",
              "      <td>0.6369</td>\n",
              "      <td></td>\n",
              "      <td>0</td>\n",
              "      <td></td>\n",
              "      <td></td>\n",
              "      <td>NaN</td>\n",
              "      <td>0.443450</td>\n",
              "      <td>0.569412</td>\n",
              "      <td>0.443450</td>\n",
              "      <td>0.569412</td>\n",
              "    </tr>\n",
              "    <tr>\n",
              "      <th>29998</th>\n",
              "      <td>29998</td>\n",
              "      <td>207622.0</td>\n",
              "      <td>UgyhfOXk3mxGOEje3MF4AaABAg</td>\n",
              "      <td>I love your channel it makes me smile!! ❤❤ ItS...</td>\n",
              "      <td>keori webb</td>\n",
              "      <td>UCjxXyQXbtqKNQrIJsqSpuLg</td>\n",
              "      <td>1.0</td>\n",
              "      <td>2021-03-27T19:00:04Z</td>\n",
              "      <td>2021-03-27T19:00:04Z</td>\n",
              "      <td>0.0</td>\n",
              "      <td>wGhMvWjOxfU</td>\n",
              "      <td>UCGCVyTWogzQ4D170BLy2Arw</td>\n",
              "      <td>I love your channel it makes me smile!! ❤❤ ItS...</td>\n",
              "      <td>13.0</td>\n",
              "      <td>I love your channel it makes me smile!! ❤❤ ItS...</td>\n",
              "      <td>female</td>\n",
              "      <td>68</td>\n",
              "      <td>love channel makes smile   ❤ ❤ problem anymore</td>\n",
              "      <td>0.484375</td>\n",
              "      <td>0.400000</td>\n",
              "      <td>0.8605</td>\n",
              "      <td>0.6124</td>\n",
              "      <td>❤❤</td>\n",
              "      <td>2</td>\n",
              "      <td>❤ ❤</td>\n",
              "      <td>❤❤</td>\n",
              "      <td>0.746</td>\n",
              "      <td>0.506200</td>\n",
              "      <td>0.672438</td>\n",
              "      <td>0.586133</td>\n",
              "      <td>0.696958</td>\n",
              "    </tr>\n",
              "    <tr>\n",
              "      <th>29999</th>\n",
              "      <td>29999</td>\n",
              "      <td>246214.0</td>\n",
              "      <td>UgzSfTQ6qOoxTuIFHb54AaABAg</td>\n",
              "      <td>Moral of the story \\nMykie just likes Leonardo...</td>\n",
              "      <td>Miss Morte</td>\n",
              "      <td>UCv5qXvOHhYZGm6yDohWYe1g</td>\n",
              "      <td>0.0</td>\n",
              "      <td>2020-09-29T02:51:18Z</td>\n",
              "      <td>2020-09-29T02:51:18Z</td>\n",
              "      <td>0.0</td>\n",
              "      <td>yEdEG7Stp3U</td>\n",
              "      <td>UCoziFm3M4sHDq1kkx0UwtRw</td>\n",
              "      <td>Moral of the story Mykie just likes Leonardo D...</td>\n",
              "      <td>9.0</td>\n",
              "      <td>Moral of the story Mykie just likes Leonardo D...</td>\n",
              "      <td>female</td>\n",
              "      <td>54</td>\n",
              "      <td>moral story mykie likes leonardo dicaprio</td>\n",
              "      <td>0.000000</td>\n",
              "      <td>0.000000</td>\n",
              "      <td>0.4215</td>\n",
              "      <td>0.4215</td>\n",
              "      <td></td>\n",
              "      <td>0</td>\n",
              "      <td></td>\n",
              "      <td></td>\n",
              "      <td>NaN</td>\n",
              "      <td>0.210750</td>\n",
              "      <td>0.210750</td>\n",
              "      <td>0.210750</td>\n",
              "      <td>0.210750</td>\n",
              "    </tr>\n",
              "  </tbody>\n",
              "</table>\n",
              "<p>30000 rows × 31 columns</p>\n",
              "</div>"
            ],
            "text/plain": [
              "       Unnamed: 0  Unnamed: 0.1  ... emo_clean_compoundsent emo_compoundsent\n",
              "0               0        3499.0  ...              -0.235500        -0.235500\n",
              "1               1       11690.0  ...               0.356583         0.383483\n",
              "2               2         765.0  ...               0.479400         0.575250\n",
              "3               3        1991.0  ...               0.642250         0.713300\n",
              "4               4       11154.0  ...               0.083333         0.083333\n",
              "...           ...           ...  ...                    ...              ...\n",
              "29995       29995      244259.0  ...              -0.846333        -0.886417\n",
              "29996       29996           NaN  ...               0.000000         0.000000\n",
              "29997       29997           NaN  ...               0.443450         0.569412\n",
              "29998       29998      207622.0  ...               0.586133         0.696958\n",
              "29999       29999      246214.0  ...               0.210750         0.210750\n",
              "\n",
              "[30000 rows x 31 columns]"
            ]
          },
          "metadata": {
            "tags": []
          },
          "execution_count": 164
        }
      ]
    },
    {
      "cell_type": "code",
      "metadata": {
        "id": "k65I6pCa-AoV"
      },
      "source": [
        "#compounded emojisent + CLEANED NLTK and TB\n",
        "male6 = df[df[\"Gender\"] == \"male\"][\"clean_compoundsent\"]\n",
        "female6 = df[df[\"Gender\"] == \"female\"][\"clean_compoundsent\"]\n",
        "nonbinary6 = df[df[\"Gender\"] == \"nonbinary\"][\"clean_compoundsent\"]\n",
        "\n",
        "#compounded emoji sent + UNCLEANED nltk and tb\n",
        "male7 = df[df[\"Gender\"] == \"male\"][\"compoundsent\"]\n",
        "female7 = df[df[\"Gender\"] == \"female\"][\"compoundsent\"]\n",
        "nonbinary7 = df[df[\"Gender\"] == \"nonbinary\"][\"compoundsent\"]\n",
        "\n",
        "#you can tests with these for the compounded scores, but running pair t tests again but with these wouldn't be too valuable since we know that the mean differences \n",
        "#between compounded scores and non compounded scores will be non-zero since they are comprised of scores that were different (pval close to 0) and averaged into eachother"
      ],
      "execution_count": null,
      "outputs": []
    },
    {
      "cell_type": "markdown",
      "metadata": {
        "id": "JhZtENjFNdoH"
      },
      "source": [
        "### compound anovas"
      ]
    },
    {
      "cell_type": "code",
      "metadata": {
        "id": "AWnXtt8Y-ZYr",
        "colab": {
          "base_uri": "https://localhost:8080/"
        },
        "outputId": "a947fc47-f727-405a-fac6-d530c7c2ab88"
      },
      "source": [
        "f_oneway(male6, female6, nonbinary6)\n",
        "# Should show F_onewayResult(statistic=18.671712577345716, pvalue=7.870848571031673e-09), very close to 0"
      ],
      "execution_count": null,
      "outputs": [
        {
          "output_type": "execute_result",
          "data": {
            "text/plain": [
              "F_onewayResult(statistic=18.671712577345716, pvalue=7.870848571031673e-09)"
            ]
          },
          "metadata": {
            "tags": []
          },
          "execution_count": 166
        }
      ]
    },
    {
      "cell_type": "code",
      "metadata": {
        "id": "gxZoKrCI-ZQq",
        "colab": {
          "base_uri": "https://localhost:8080/"
        },
        "outputId": "366a0a1a-c29c-4ab9-abbc-a6b85d9ade93"
      },
      "source": [
        "f_oneway(male7, female7, nonbinary7)\n",
        "# Should show F_onewayResult(statistic=20.195015088567636, pvalue=1.7191578298074521e-09), very close to 0"
      ],
      "execution_count": null,
      "outputs": [
        {
          "output_type": "execute_result",
          "data": {
            "text/plain": [
              "F_onewayResult(statistic=20.195015088567636, pvalue=1.7191578298074521e-09)"
            ]
          },
          "metadata": {
            "tags": []
          },
          "execution_count": 167
        }
      ]
    },
    {
      "cell_type": "markdown",
      "metadata": {
        "id": "AeOpibjH8sVx"
      },
      "source": [
        "## Visualising Sentiment Analysis"
      ]
    },
    {
      "cell_type": "code",
      "metadata": {
        "id": "ufjmJGGG_Fuo"
      },
      "source": [
        "#Boxplots, Q-plots, and histograms for\n",
        "#tbpolarity, clean_tbpolarity, nltkpolarity, clean_nltkpolarity, emoji_sent\n",
        "#compoundsent, clean_compoundsent"
      ],
      "execution_count": null,
      "outputs": []
    },
    {
      "cell_type": "code",
      "metadata": {
        "id": "VZ5LIfdo8u9X"
      },
      "source": [
        "#tbpolarity\n",
        "df.boxplot('tbpolarity', by='Gender', figsize=(8, 6))\n",
        "#plt.savefig('tbpolarity_box.png')\n",
        "model = ols('tbpolarity ~ Gender', data=df).fit()\n",
        "anova_table = sm.stats.anova_lm(model, typ=2)\n",
        "anova_table\n",
        "\n",
        "res = model.resid\n",
        "fig = sm.qqplot(res, line='s')\n",
        "#plt.savefig('tbpolarity_qq.png')\n",
        "plt.show()\n",
        "res.plot.hist(grid=True, bins=20, rwidth=0.9, color='#607c8e')\n",
        "\n",
        "#plt.savefig('tbpolarity_histogram.png')"
      ],
      "execution_count": null,
      "outputs": []
    },
    {
      "cell_type": "code",
      "metadata": {
        "id": "uGTLe5uM8u4C"
      },
      "source": [
        "#clean_tbpolarity\n",
        "df.boxplot('clean_tbpolarity', by='Gender', figsize=(8, 6))\n",
        "#model = ols('clean_tbpolarity ~ Gender', data=df).fit()\n",
        "anova_table = sm.stats.anova_lm(model, typ=2)\n",
        "anova_table\n",
        "\n",
        "res = model.resid\n",
        "fig = sm.qqplot(res, line='s')\n",
        "#plt.savefig('cleantb_qq.png')\n",
        "plt.show()\n",
        "\n",
        "res.plot.hist(grid=True, bins=20, rwidth=0.9, color='#607c8e')\n",
        "#plt.savefig('clean_histogram.png')"
      ],
      "execution_count": null,
      "outputs": []
    },
    {
      "cell_type": "code",
      "metadata": {
        "id": "xjfuSucA8u1e"
      },
      "source": [
        "#nltkpolarity\n",
        "df.boxplot('nltkpolarity', by='Gender', figsize=(8, 6))\n",
        "#plt.savefig('nltk_box.png')\n",
        "model = ols('nltkpolarity ~ Gender', data=df).fit()\n",
        "anova_table = sm.stats.anova_lm(model, typ=2)\n",
        "anova_table\n",
        "\n",
        "res = model.resid\n",
        "fig = sm.qqplot(res, line='s')\n",
        "#plt.savefig('nltk_qq.png')\n",
        "plt.show()\n",
        "\n",
        "res.plot.hist(grid=True, bins=20, rwidth=0.9, color='#607c8e')\n",
        "#plt.savefig('nltk_histogram.png')"
      ],
      "execution_count": null,
      "outputs": []
    },
    {
      "cell_type": "code",
      "metadata": {
        "id": "1t3yJzz-8uaZ"
      },
      "source": [
        "#clean_nltkpolarity\n",
        "df.boxplot('clean_nltkpolarity', by='Gender', figsize=(8, 6))\n",
        "#plt.savefig('cleannltk_box.png')\n",
        "model = ols('clean_nltkpolarity ~ Gender', data=df).fit()\n",
        "anova_table = sm.stats.anova_lm(model, typ=2)\n",
        "anova_table\n",
        "\n",
        "res = model.resid\n",
        "fig = sm.qqplot(res, line='s')\n",
        "#plt.savefig('cleannltk_qq.png')\n",
        "plt.show()\n",
        "\n",
        "res.plot.hist(grid=True, bins=20, rwidth=0.9, color='#607c8e')\n",
        "#plt.savefig('cleannltk_histogram.png')"
      ],
      "execution_count": null,
      "outputs": []
    },
    {
      "cell_type": "code",
      "metadata": {
        "id": "UQsfDVz7AAFP"
      },
      "source": [
        "#emoji_sent\n",
        "df.boxplot('emoji_sent', by='Gender', figsize=(8, 6))\n",
        "#plt.savefig('emo_box.png')\n",
        "model = ols('emoji_sent ~ Gender', data=df).fit()\n",
        "anova_table = sm.stats.anova_lm(model, typ=2)\n",
        "anova_table\n",
        "\n",
        "res = model.resid\n",
        "fig = sm.qqplot(res, line='s')\n",
        "#plt.savefig('emo_qq.png')\n",
        "plt.show()\n",
        "\n",
        "res.plot.hist(grid=True, bins=20, rwidth=0.9, color='#607c8e')\n",
        "#plt.savefig('emo_histogram.png')"
      ],
      "execution_count": null,
      "outputs": []
    },
    {
      "cell_type": "code",
      "metadata": {
        "id": "aQqKq8Q4AFGG"
      },
      "source": [
        "#compoundsent\n",
        "df.boxplot('compoundsent', by='Gender', figsize=(8, 6))\n",
        "#plt.savefig('compound_box.png')\n",
        "model = ols('compoundsent ~ Gender', data=df).fit()\n",
        "anova_table = sm.stats.anova_lm(model, typ=2)\n",
        "anova_table\n",
        "\n",
        "res = model.resid\n",
        "fig = sm.qqplot(res, line='s')\n",
        "#plt.savefig('compound_qq.png')\n",
        "plt.show()\n",
        "\n",
        "res.plot.hist(grid=True, bins=20, rwidth=0.9, color='#607c8e')\n",
        "#plt.savefig('compound_histogram.png')"
      ],
      "execution_count": null,
      "outputs": []
    },
    {
      "cell_type": "code",
      "metadata": {
        "id": "b7uEbNmVAE_X"
      },
      "source": [
        "#clean_compoundsent\n",
        "df.boxplot('clean_compoundsent', by='Gender', figsize=(8, 6))\n",
        "#plt.savefig('cleancompound_box.png')\n",
        "model = ols('clean_compoundsent ~ Gender', data=df).fit()\n",
        "anova_table = sm.stats.anova_lm(model, typ=2)\n",
        "anova_table\n",
        "\n",
        "res = model.resid\n",
        "fig = sm.qqplot(res, line='s')\n",
        "#plt.savefig('cleancompound_qq.png')\n",
        "plt.show()\n",
        "\n",
        "res.plot.hist(grid=True, bins=20, rwidth=0.9, color='#607c8e')\n",
        "#plt.savefig('cleancompound_histogram.png')"
      ],
      "execution_count": null,
      "outputs": []
    },
    {
      "cell_type": "markdown",
      "metadata": {
        "id": "O8ydLRKNABkR"
      },
      "source": [
        "## Post-hoc Analysis on Sentiment\n",
        "> Using conover and tukey post-hoc tests\n",
        "\n"
      ]
    },
    {
      "cell_type": "markdown",
      "metadata": {
        "id": "T7KSlPj0N9GF"
      },
      "source": [
        "tbpolarity between genders"
      ]
    },
    {
      "cell_type": "code",
      "metadata": {
        "colab": {
          "base_uri": "https://localhost:8080/"
        },
        "id": "-SLBohYPaLMM",
        "outputId": "ab4bad4d-01ad-4dbb-e9e1-20ab2d19f4d2"
      },
      "source": [
        "pip install pingouin"
      ],
      "execution_count": null,
      "outputs": [
        {
          "output_type": "stream",
          "text": [
            "Collecting pingouin\n",
            "\u001b[?25l  Downloading https://files.pythonhosted.org/packages/66/38/968efe5e60cfd6664de02ea255303027834e7d2e2de36afa1c57c10a46bb/pingouin-0.3.12.tar.gz (205kB)\n",
            "\r\u001b[K     |█▋                              | 10kB 12.1MB/s eta 0:00:01\r\u001b[K     |███▏                            | 20kB 17.1MB/s eta 0:00:01\r\u001b[K     |████▉                           | 30kB 11.9MB/s eta 0:00:01\r\u001b[K     |██████▍                         | 40kB 9.5MB/s eta 0:00:01\r\u001b[K     |████████                        | 51kB 4.4MB/s eta 0:00:01\r\u001b[K     |█████████▋                      | 61kB 5.2MB/s eta 0:00:01\r\u001b[K     |███████████▏                    | 71kB 5.8MB/s eta 0:00:01\r\u001b[K     |████████████▉                   | 81kB 6.5MB/s eta 0:00:01\r\u001b[K     |██████████████▍                 | 92kB 6.5MB/s eta 0:00:01\r\u001b[K     |████████████████                | 102kB 5.1MB/s eta 0:00:01\r\u001b[K     |█████████████████▋              | 112kB 5.1MB/s eta 0:00:01\r\u001b[K     |███████████████████▏            | 122kB 5.1MB/s eta 0:00:01\r\u001b[K     |████████████████████▊           | 133kB 5.1MB/s eta 0:00:01\r\u001b[K     |██████████████████████▍         | 143kB 5.1MB/s eta 0:00:01\r\u001b[K     |████████████████████████        | 153kB 5.1MB/s eta 0:00:01\r\u001b[K     |█████████████████████████▋      | 163kB 5.1MB/s eta 0:00:01\r\u001b[K     |███████████████████████████▏    | 174kB 5.1MB/s eta 0:00:01\r\u001b[K     |████████████████████████████▊   | 184kB 5.1MB/s eta 0:00:01\r\u001b[K     |██████████████████████████████▍ | 194kB 5.1MB/s eta 0:00:01\r\u001b[K     |████████████████████████████████| 204kB 5.1MB/s eta 0:00:01\r\u001b[K     |████████████████████████████████| 215kB 5.1MB/s \n",
            "\u001b[?25hRequirement already satisfied: numpy>=1.15 in /usr/local/lib/python3.7/dist-packages (from pingouin) (1.19.5)\n",
            "Requirement already satisfied: scipy>=1.3 in /usr/local/lib/python3.7/dist-packages (from pingouin) (1.4.1)\n",
            "Requirement already satisfied: pandas>=0.24 in /usr/local/lib/python3.7/dist-packages (from pingouin) (1.1.5)\n",
            "Requirement already satisfied: matplotlib>=3.0.2 in /usr/local/lib/python3.7/dist-packages (from pingouin) (3.2.2)\n",
            "Requirement already satisfied: seaborn>=0.9.0 in /usr/local/lib/python3.7/dist-packages (from pingouin) (0.11.1)\n",
            "Requirement already satisfied: statsmodels>=0.10.0 in /usr/local/lib/python3.7/dist-packages (from pingouin) (0.10.2)\n",
            "Requirement already satisfied: scikit-learn in /usr/local/lib/python3.7/dist-packages (from pingouin) (0.22.2.post1)\n",
            "Collecting pandas_flavor>=0.1.2\n",
            "  Downloading https://files.pythonhosted.org/packages/9a/57/7fbcff4c0961ed190ac5fcb0bd8194152ee1ee6487edf64fdbae16e2bc4b/pandas_flavor-0.2.0-py2.py3-none-any.whl\n",
            "Collecting outdated\n",
            "  Downloading https://files.pythonhosted.org/packages/fd/f6/95588d496e518355c33b389222c99069b1c6f2c046be64f400072fdc7cda/outdated-0.2.1-py3-none-any.whl\n",
            "Requirement already satisfied: tabulate in /usr/local/lib/python3.7/dist-packages (from pingouin) (0.8.9)\n",
            "Requirement already satisfied: python-dateutil>=2.7.3 in /usr/local/lib/python3.7/dist-packages (from pandas>=0.24->pingouin) (2.8.1)\n",
            "Requirement already satisfied: pytz>=2017.2 in /usr/local/lib/python3.7/dist-packages (from pandas>=0.24->pingouin) (2018.9)\n",
            "Requirement already satisfied: kiwisolver>=1.0.1 in /usr/local/lib/python3.7/dist-packages (from matplotlib>=3.0.2->pingouin) (1.3.1)\n",
            "Requirement already satisfied: pyparsing!=2.0.4,!=2.1.2,!=2.1.6,>=2.0.1 in /usr/local/lib/python3.7/dist-packages (from matplotlib>=3.0.2->pingouin) (2.4.7)\n",
            "Requirement already satisfied: cycler>=0.10 in /usr/local/lib/python3.7/dist-packages (from matplotlib>=3.0.2->pingouin) (0.10.0)\n",
            "Requirement already satisfied: patsy>=0.4.0 in /usr/local/lib/python3.7/dist-packages (from statsmodels>=0.10.0->pingouin) (0.5.1)\n",
            "Requirement already satisfied: joblib>=0.11 in /usr/local/lib/python3.7/dist-packages (from scikit-learn->pingouin) (1.0.1)\n",
            "Requirement already satisfied: xarray in /usr/local/lib/python3.7/dist-packages (from pandas_flavor>=0.1.2->pingouin) (0.18.2)\n",
            "Requirement already satisfied: requests in /usr/local/lib/python3.7/dist-packages (from outdated->pingouin) (2.23.0)\n",
            "Collecting littleutils\n",
            "  Downloading https://files.pythonhosted.org/packages/4e/b1/bb4e06f010947d67349f863b6a2ad71577f85590180a935f60543f622652/littleutils-0.2.2.tar.gz\n",
            "Requirement already satisfied: six>=1.5 in /usr/local/lib/python3.7/dist-packages (from python-dateutil>=2.7.3->pandas>=0.24->pingouin) (1.15.0)\n",
            "Requirement already satisfied: setuptools>=40.4 in /usr/local/lib/python3.7/dist-packages (from xarray->pandas_flavor>=0.1.2->pingouin) (57.0.0)\n",
            "Requirement already satisfied: certifi>=2017.4.17 in /usr/local/lib/python3.7/dist-packages (from requests->outdated->pingouin) (2021.5.30)\n",
            "Requirement already satisfied: chardet<4,>=3.0.2 in /usr/local/lib/python3.7/dist-packages (from requests->outdated->pingouin) (3.0.4)\n",
            "Requirement already satisfied: idna<3,>=2.5 in /usr/local/lib/python3.7/dist-packages (from requests->outdated->pingouin) (2.10)\n",
            "Requirement already satisfied: urllib3!=1.25.0,!=1.25.1,<1.26,>=1.21.1 in /usr/local/lib/python3.7/dist-packages (from requests->outdated->pingouin) (1.24.3)\n",
            "Building wheels for collected packages: pingouin, littleutils\n",
            "  Building wheel for pingouin (setup.py) ... \u001b[?25l\u001b[?25hdone\n",
            "  Created wheel for pingouin: filename=pingouin-0.3.12-cp37-none-any.whl size=204754 sha256=0d08ee0b49a858ad98a0c46d0998af6c82be981c6d83588cfa46782008c80c9c\n",
            "  Stored in directory: /root/.cache/pip/wheels/d6/36/7e/ae23fc9845091efd9228b36f93b306a67c40bdc2195b280748\n",
            "  Building wheel for littleutils (setup.py) ... \u001b[?25l\u001b[?25hdone\n",
            "  Created wheel for littleutils: filename=littleutils-0.2.2-cp37-none-any.whl size=7050 sha256=711cb1934e08b98f5d9fb1b761c332b0f4157d8f1fd2d462a7927689250bdffe\n",
            "  Stored in directory: /root/.cache/pip/wheels/53/16/9f/ac67d15c40243754fd73f620e1b9b6dedc20492ecc19a2bae1\n",
            "Successfully built pingouin littleutils\n",
            "Installing collected packages: pandas-flavor, littleutils, outdated, pingouin\n",
            "Successfully installed littleutils-0.2.2 outdated-0.2.1 pandas-flavor-0.2.0 pingouin-0.3.12\n"
          ],
          "name": "stdout"
        }
      ]
    },
    {
      "cell_type": "code",
      "metadata": {
        "id": "muYZI3vKZ9tZ"
      },
      "source": [
        "import pingouin as pg\n"
      ],
      "execution_count": null,
      "outputs": []
    },
    {
      "cell_type": "code",
      "metadata": {
        "colab": {
          "base_uri": "https://localhost:8080/",
          "height": 141
        },
        "id": "BKwVvZLTALtn",
        "outputId": "c1619fa4-298e-4788-f053-2653ab74a2fe"
      },
      "source": [
        "sp.posthoc_conover(df, val_col='tbpolarity', group_col='Gender', p_adjust = 'holm')"
      ],
      "execution_count": null,
      "outputs": [
        {
          "output_type": "execute_result",
          "data": {
            "text/html": [
              "<div>\n",
              "<style scoped>\n",
              "    .dataframe tbody tr th:only-of-type {\n",
              "        vertical-align: middle;\n",
              "    }\n",
              "\n",
              "    .dataframe tbody tr th {\n",
              "        vertical-align: top;\n",
              "    }\n",
              "\n",
              "    .dataframe thead th {\n",
              "        text-align: right;\n",
              "    }\n",
              "</style>\n",
              "<table border=\"1\" class=\"dataframe\">\n",
              "  <thead>\n",
              "    <tr style=\"text-align: right;\">\n",
              "      <th></th>\n",
              "      <th>female</th>\n",
              "      <th>male</th>\n",
              "      <th>nonbinary</th>\n",
              "    </tr>\n",
              "  </thead>\n",
              "  <tbody>\n",
              "    <tr>\n",
              "      <th>female</th>\n",
              "      <td>1.000000</td>\n",
              "      <td>0.000052</td>\n",
              "      <td>0.877781</td>\n",
              "    </tr>\n",
              "    <tr>\n",
              "      <th>male</th>\n",
              "      <td>0.000052</td>\n",
              "      <td>1.000000</td>\n",
              "      <td>0.000069</td>\n",
              "    </tr>\n",
              "    <tr>\n",
              "      <th>nonbinary</th>\n",
              "      <td>0.877781</td>\n",
              "      <td>0.000069</td>\n",
              "      <td>1.000000</td>\n",
              "    </tr>\n",
              "  </tbody>\n",
              "</table>\n",
              "</div>"
            ],
            "text/plain": [
              "             female      male  nonbinary\n",
              "female     1.000000  0.000052   0.877781\n",
              "male       0.000052  1.000000   0.000069\n",
              "nonbinary  0.877781  0.000069   1.000000"
            ]
          },
          "metadata": {
            "tags": []
          },
          "execution_count": 169
        }
      ]
    },
    {
      "cell_type": "code",
      "metadata": {
        "colab": {
          "base_uri": "https://localhost:8080/",
          "height": 300
        },
        "id": "iOBdvtomNjSp",
        "outputId": "793b54f0-6028-4b3c-bf4c-d2c7fecc6b96"
      },
      "source": [
        "pc = sp.posthoc_conover(df, val_col='tbpolarity', group_col='Gender')\n",
        "heatmap_args = {'linewidths': 0.25, 'linecolor': '0.5', 'clip_on': False, 'square': True, 'cbar_ax_bbox': [0.80, 0.35, 0.04, 0.3]}\n",
        "sp.sign_plot(pc, **heatmap_args)"
      ],
      "execution_count": null,
      "outputs": [
        {
          "output_type": "execute_result",
          "data": {
            "text/plain": [
              "(<matplotlib.axes._subplots.AxesSubplot at 0x7f53e7983fd0>,\n",
              " <matplotlib.colorbar.ColorbarBase at 0x7f53f0dfab10>)"
            ]
          },
          "metadata": {
            "tags": []
          },
          "execution_count": 176
        },
        {
          "output_type": "display_data",
          "data": {
            "image/png": "[encoded data removed]",
            "text/plain": [
              "<Figure size 432x288 with 2 Axes>"
            ]
          },
          "metadata": {
            "tags": [],
            "needs_background": "light"
          }
        }
      ]
    },
    {
      "cell_type": "code",
      "metadata": {
        "colab": {
          "base_uri": "https://localhost:8080/",
          "height": 141
        },
        "id": "Adyb1OOsZx6j",
        "outputId": "cd2eb50d-d5c5-4f8c-fda8-910136b40770"
      },
      "source": [
        "pt = pg.pairwise_tukey(dv='tbpolarity', between='Gender', data=df)\n",
        "pt"
      ],
      "execution_count": null,
      "outputs": [
        {
          "output_type": "execute_result",
          "data": {
            "text/html": [
              "<div>\n",
              "<style scoped>\n",
              "    .dataframe tbody tr th:only-of-type {\n",
              "        vertical-align: middle;\n",
              "    }\n",
              "\n",
              "    .dataframe tbody tr th {\n",
              "        vertical-align: top;\n",
              "    }\n",
              "\n",
              "    .dataframe thead th {\n",
              "        text-align: right;\n",
              "    }\n",
              "</style>\n",
              "<table border=\"1\" class=\"dataframe\">\n",
              "  <thead>\n",
              "    <tr style=\"text-align: right;\">\n",
              "      <th></th>\n",
              "      <th>A</th>\n",
              "      <th>B</th>\n",
              "      <th>mean(A)</th>\n",
              "      <th>mean(B)</th>\n",
              "      <th>diff</th>\n",
              "      <th>se</th>\n",
              "      <th>T</th>\n",
              "      <th>p-tukey</th>\n",
              "      <th>hedges</th>\n",
              "    </tr>\n",
              "  </thead>\n",
              "  <tbody>\n",
              "    <tr>\n",
              "      <th>0</th>\n",
              "      <td>female</td>\n",
              "      <td>male</td>\n",
              "      <td>0.202174</td>\n",
              "      <td>0.180773</td>\n",
              "      <td>0.021401</td>\n",
              "      <td>0.004599</td>\n",
              "      <td>4.653177</td>\n",
              "      <td>0.001000</td>\n",
              "      <td>0.065803</td>\n",
              "    </tr>\n",
              "    <tr>\n",
              "      <th>1</th>\n",
              "      <td>female</td>\n",
              "      <td>nonbinary</td>\n",
              "      <td>0.202174</td>\n",
              "      <td>0.196468</td>\n",
              "      <td>0.005706</td>\n",
              "      <td>0.004599</td>\n",
              "      <td>1.240633</td>\n",
              "      <td>0.431072</td>\n",
              "      <td>0.017545</td>\n",
              "    </tr>\n",
              "    <tr>\n",
              "      <th>2</th>\n",
              "      <td>male</td>\n",
              "      <td>nonbinary</td>\n",
              "      <td>0.180773</td>\n",
              "      <td>0.196468</td>\n",
              "      <td>-0.015695</td>\n",
              "      <td>0.004599</td>\n",
              "      <td>-3.412544</td>\n",
              "      <td>0.001864</td>\n",
              "      <td>-0.048259</td>\n",
              "    </tr>\n",
              "  </tbody>\n",
              "</table>\n",
              "</div>"
            ],
            "text/plain": [
              "        A          B   mean(A)  ...         T   p-tukey    hedges\n",
              "0  female       male  0.202174  ...  4.653177  0.001000  0.065803\n",
              "1  female  nonbinary  0.202174  ...  1.240633  0.431072  0.017545\n",
              "2    male  nonbinary  0.180773  ... -3.412544  0.001864 -0.048259\n",
              "\n",
              "[3 rows x 9 columns]"
            ]
          },
          "metadata": {
            "tags": []
          },
          "execution_count": 188
        }
      ]
    },
    {
      "cell_type": "markdown",
      "metadata": {
        "id": "L3eonopvN_-T"
      },
      "source": [
        "nltkpolarity between genders"
      ]
    },
    {
      "cell_type": "code",
      "metadata": {
        "colab": {
          "base_uri": "https://localhost:8080/",
          "height": 141
        },
        "id": "9l3jwae3ALoF",
        "outputId": "e937ee20-8eee-479f-c310-aabb51b3ce95"
      },
      "source": [
        "sp.posthoc_conover(df, val_col='nltkpolarity', group_col='Gender', p_adjust = 'holm')"
      ],
      "execution_count": null,
      "outputs": [
        {
          "output_type": "execute_result",
          "data": {
            "text/html": [
              "<div>\n",
              "<style scoped>\n",
              "    .dataframe tbody tr th:only-of-type {\n",
              "        vertical-align: middle;\n",
              "    }\n",
              "\n",
              "    .dataframe tbody tr th {\n",
              "        vertical-align: top;\n",
              "    }\n",
              "\n",
              "    .dataframe thead th {\n",
              "        text-align: right;\n",
              "    }\n",
              "</style>\n",
              "<table border=\"1\" class=\"dataframe\">\n",
              "  <thead>\n",
              "    <tr style=\"text-align: right;\">\n",
              "      <th></th>\n",
              "      <th>female</th>\n",
              "      <th>male</th>\n",
              "      <th>nonbinary</th>\n",
              "    </tr>\n",
              "  </thead>\n",
              "  <tbody>\n",
              "    <tr>\n",
              "      <th>female</th>\n",
              "      <td>1.000000</td>\n",
              "      <td>1.232430e-05</td>\n",
              "      <td>8.417166e-03</td>\n",
              "    </tr>\n",
              "    <tr>\n",
              "      <th>male</th>\n",
              "      <td>0.000012</td>\n",
              "      <td>1.000000e+00</td>\n",
              "      <td>2.538152e-12</td>\n",
              "    </tr>\n",
              "    <tr>\n",
              "      <th>nonbinary</th>\n",
              "      <td>0.008417</td>\n",
              "      <td>2.538152e-12</td>\n",
              "      <td>1.000000e+00</td>\n",
              "    </tr>\n",
              "  </tbody>\n",
              "</table>\n",
              "</div>"
            ],
            "text/plain": [
              "             female          male     nonbinary\n",
              "female     1.000000  1.232430e-05  8.417166e-03\n",
              "male       0.000012  1.000000e+00  2.538152e-12\n",
              "nonbinary  0.008417  2.538152e-12  1.000000e+00"
            ]
          },
          "metadata": {
            "tags": []
          },
          "execution_count": 170
        }
      ]
    },
    {
      "cell_type": "code",
      "metadata": {
        "colab": {
          "base_uri": "https://localhost:8080/",
          "height": 300
        },
        "id": "I5C5Z_CmN7cl",
        "outputId": "a2455656-f8ee-4b27-d95f-e24f1c637935"
      },
      "source": [
        "pc = sp.posthoc_conover(df, val_col='nltkpolarity', group_col='Gender')\n",
        "heatmap_args = {'linewidths': 0.25, 'linecolor': '0.5', 'clip_on': False, 'square': True, 'cbar_ax_bbox': [0.80, 0.35, 0.04, 0.3]}\n",
        "sp.sign_plot(pc, **heatmap_args)"
      ],
      "execution_count": null,
      "outputs": [
        {
          "output_type": "execute_result",
          "data": {
            "text/plain": [
              "(<matplotlib.axes._subplots.AxesSubplot at 0x7f53f0ce8bd0>,\n",
              " <matplotlib.colorbar.ColorbarBase at 0x7f53f0e333d0>)"
            ]
          },
          "metadata": {
            "tags": []
          },
          "execution_count": 177
        },
        {
          "output_type": "display_data",
          "data": {
            "image/png": "[encoded data removed]",
            "text/plain": [
              "<Figure size 432x288 with 2 Axes>"
            ]
          },
          "metadata": {
            "tags": [],
            "needs_background": "light"
          }
        }
      ]
    },
    {
      "cell_type": "code",
      "metadata": {
        "colab": {
          "base_uri": "https://localhost:8080/",
          "height": 141
        },
        "id": "-QggRZJ-aswp",
        "outputId": "431fd4ea-50c7-4599-aba1-b19a793b30b1"
      },
      "source": [
        "pt = pg.pairwise_tukey(dv='nltkpolarity', between='Gender', data=df)\n",
        "pt"
      ],
      "execution_count": null,
      "outputs": [
        {
          "output_type": "execute_result",
          "data": {
            "text/html": [
              "<div>\n",
              "<style scoped>\n",
              "    .dataframe tbody tr th:only-of-type {\n",
              "        vertical-align: middle;\n",
              "    }\n",
              "\n",
              "    .dataframe tbody tr th {\n",
              "        vertical-align: top;\n",
              "    }\n",
              "\n",
              "    .dataframe thead th {\n",
              "        text-align: right;\n",
              "    }\n",
              "</style>\n",
              "<table border=\"1\" class=\"dataframe\">\n",
              "  <thead>\n",
              "    <tr style=\"text-align: right;\">\n",
              "      <th></th>\n",
              "      <th>A</th>\n",
              "      <th>B</th>\n",
              "      <th>mean(A)</th>\n",
              "      <th>mean(B)</th>\n",
              "      <th>diff</th>\n",
              "      <th>se</th>\n",
              "      <th>T</th>\n",
              "      <th>p-tukey</th>\n",
              "      <th>hedges</th>\n",
              "    </tr>\n",
              "  </thead>\n",
              "  <tbody>\n",
              "    <tr>\n",
              "      <th>0</th>\n",
              "      <td>female</td>\n",
              "      <td>male</td>\n",
              "      <td>0.296698</td>\n",
              "      <td>0.263783</td>\n",
              "      <td>0.032915</td>\n",
              "      <td>0.0064</td>\n",
              "      <td>5.142981</td>\n",
              "      <td>0.001000</td>\n",
              "      <td>0.072730</td>\n",
              "    </tr>\n",
              "    <tr>\n",
              "      <th>1</th>\n",
              "      <td>female</td>\n",
              "      <td>nonbinary</td>\n",
              "      <td>0.296698</td>\n",
              "      <td>0.302095</td>\n",
              "      <td>-0.005397</td>\n",
              "      <td>0.0064</td>\n",
              "      <td>-0.843363</td>\n",
              "      <td>0.661073</td>\n",
              "      <td>-0.011927</td>\n",
              "    </tr>\n",
              "    <tr>\n",
              "      <th>2</th>\n",
              "      <td>male</td>\n",
              "      <td>nonbinary</td>\n",
              "      <td>0.263783</td>\n",
              "      <td>0.302095</td>\n",
              "      <td>-0.038312</td>\n",
              "      <td>0.0064</td>\n",
              "      <td>-5.986344</td>\n",
              "      <td>0.001000</td>\n",
              "      <td>-0.084657</td>\n",
              "    </tr>\n",
              "  </tbody>\n",
              "</table>\n",
              "</div>"
            ],
            "text/plain": [
              "        A          B   mean(A)   mean(B)  ...      se         T   p-tukey    hedges\n",
              "0  female       male  0.296698  0.263783  ...  0.0064  5.142981  0.001000  0.072730\n",
              "1  female  nonbinary  0.296698  0.302095  ...  0.0064 -0.843363  0.661073 -0.011927\n",
              "2    male  nonbinary  0.263783  0.302095  ...  0.0064 -5.986344  0.001000 -0.084657\n",
              "\n",
              "[3 rows x 9 columns]"
            ]
          },
          "metadata": {
            "tags": []
          },
          "execution_count": 189
        }
      ]
    },
    {
      "cell_type": "markdown",
      "metadata": {
        "id": "8g8FXBf0OF09"
      },
      "source": [
        "compoundsent between genders"
      ]
    },
    {
      "cell_type": "code",
      "metadata": {
        "colab": {
          "base_uri": "https://localhost:8080/",
          "height": 141
        },
        "id": "Dpz-DOxvALix",
        "outputId": "8fb9b43c-1b72-4e04-83b1-d18bc6f0b00f"
      },
      "source": [
        "sp.posthoc_conover(df, val_col='compoundsent', group_col='Gender', p_adjust = 'holm')"
      ],
      "execution_count": null,
      "outputs": [
        {
          "output_type": "execute_result",
          "data": {
            "text/html": [
              "<div>\n",
              "<style scoped>\n",
              "    .dataframe tbody tr th:only-of-type {\n",
              "        vertical-align: middle;\n",
              "    }\n",
              "\n",
              "    .dataframe tbody tr th {\n",
              "        vertical-align: top;\n",
              "    }\n",
              "\n",
              "    .dataframe thead th {\n",
              "        text-align: right;\n",
              "    }\n",
              "</style>\n",
              "<table border=\"1\" class=\"dataframe\">\n",
              "  <thead>\n",
              "    <tr style=\"text-align: right;\">\n",
              "      <th></th>\n",
              "      <th>female</th>\n",
              "      <th>male</th>\n",
              "      <th>nonbinary</th>\n",
              "    </tr>\n",
              "  </thead>\n",
              "  <tbody>\n",
              "    <tr>\n",
              "      <th>female</th>\n",
              "      <td>1.000000</td>\n",
              "      <td>3.536323e-06</td>\n",
              "      <td>5.163965e-01</td>\n",
              "    </tr>\n",
              "    <tr>\n",
              "      <th>male</th>\n",
              "      <td>0.000004</td>\n",
              "      <td>1.000000e+00</td>\n",
              "      <td>1.721660e-07</td>\n",
              "    </tr>\n",
              "    <tr>\n",
              "      <th>nonbinary</th>\n",
              "      <td>0.516397</td>\n",
              "      <td>1.721660e-07</td>\n",
              "      <td>1.000000e+00</td>\n",
              "    </tr>\n",
              "  </tbody>\n",
              "</table>\n",
              "</div>"
            ],
            "text/plain": [
              "             female          male     nonbinary\n",
              "female     1.000000  3.536323e-06  5.163965e-01\n",
              "male       0.000004  1.000000e+00  1.721660e-07\n",
              "nonbinary  0.516397  1.721660e-07  1.000000e+00"
            ]
          },
          "metadata": {
            "tags": []
          },
          "execution_count": 171
        }
      ]
    },
    {
      "cell_type": "code",
      "metadata": {
        "colab": {
          "base_uri": "https://localhost:8080/",
          "height": 300
        },
        "id": "uF4guwV5OJMy",
        "outputId": "da3e5f4e-0e1b-440c-80c5-e85497deacff"
      },
      "source": [
        "pc = sp.posthoc_conover(df, val_col='compoundsent', group_col='Gender')\n",
        "heatmap_args = {'linewidths': 0.25, 'linecolor': '0.5', 'clip_on': False, 'square': True, 'cbar_ax_bbox': [0.80, 0.35, 0.04, 0.3]}\n",
        "sp.sign_plot(pc, **heatmap_args)"
      ],
      "execution_count": null,
      "outputs": [
        {
          "output_type": "execute_result",
          "data": {
            "text/plain": [
              "(<matplotlib.axes._subplots.AxesSubplot at 0x7f53ebacc490>,\n",
              " <matplotlib.colorbar.ColorbarBase at 0x7f53f0a49350>)"
            ]
          },
          "metadata": {
            "tags": []
          },
          "execution_count": 178
        },
        {
          "output_type": "display_data",
          "data": {
            "image/png": "[encoded data removed]",
            "text/plain": [
              "<Figure size 432x288 with 2 Axes>"
            ]
          },
          "metadata": {
            "tags": [],
            "needs_background": "light"
          }
        }
      ]
    },
    {
      "cell_type": "code",
      "metadata": {
        "colab": {
          "base_uri": "https://localhost:8080/",
          "height": 141
        },
        "id": "fZ3nnUi6bFgS",
        "outputId": "01b7226f-8ea6-4f1a-d651-e737d256e01b"
      },
      "source": [
        "pt = pg.pairwise_tukey(dv='compoundsent', between='Gender', data=df)\n",
        "pt"
      ],
      "execution_count": null,
      "outputs": [
        {
          "output_type": "execute_result",
          "data": {
            "text/html": [
              "<div>\n",
              "<style scoped>\n",
              "    .dataframe tbody tr th:only-of-type {\n",
              "        vertical-align: middle;\n",
              "    }\n",
              "\n",
              "    .dataframe tbody tr th {\n",
              "        vertical-align: top;\n",
              "    }\n",
              "\n",
              "    .dataframe thead th {\n",
              "        text-align: right;\n",
              "    }\n",
              "</style>\n",
              "<table border=\"1\" class=\"dataframe\">\n",
              "  <thead>\n",
              "    <tr style=\"text-align: right;\">\n",
              "      <th></th>\n",
              "      <th>A</th>\n",
              "      <th>B</th>\n",
              "      <th>mean(A)</th>\n",
              "      <th>mean(B)</th>\n",
              "      <th>diff</th>\n",
              "      <th>se</th>\n",
              "      <th>T</th>\n",
              "      <th>p-tukey</th>\n",
              "      <th>hedges</th>\n",
              "    </tr>\n",
              "  </thead>\n",
              "  <tbody>\n",
              "    <tr>\n",
              "      <th>0</th>\n",
              "      <td>female</td>\n",
              "      <td>male</td>\n",
              "      <td>0.249436</td>\n",
              "      <td>0.222278</td>\n",
              "      <td>0.027158</td>\n",
              "      <td>0.00492</td>\n",
              "      <td>5.519476</td>\n",
              "      <td>0.001</td>\n",
              "      <td>0.078054</td>\n",
              "    </tr>\n",
              "    <tr>\n",
              "      <th>1</th>\n",
              "      <td>female</td>\n",
              "      <td>nonbinary</td>\n",
              "      <td>0.249436</td>\n",
              "      <td>0.249282</td>\n",
              "      <td>0.000154</td>\n",
              "      <td>0.00492</td>\n",
              "      <td>0.031358</td>\n",
              "      <td>0.900</td>\n",
              "      <td>0.000443</td>\n",
              "    </tr>\n",
              "    <tr>\n",
              "      <th>2</th>\n",
              "      <td>male</td>\n",
              "      <td>nonbinary</td>\n",
              "      <td>0.222278</td>\n",
              "      <td>0.249282</td>\n",
              "      <td>-0.027004</td>\n",
              "      <td>0.00492</td>\n",
              "      <td>-5.488119</td>\n",
              "      <td>0.001</td>\n",
              "      <td>-0.077611</td>\n",
              "    </tr>\n",
              "  </tbody>\n",
              "</table>\n",
              "</div>"
            ],
            "text/plain": [
              "        A          B   mean(A)   mean(B)  ...       se         T  p-tukey    hedges\n",
              "0  female       male  0.249436  0.222278  ...  0.00492  5.519476    0.001  0.078054\n",
              "1  female  nonbinary  0.249436  0.249282  ...  0.00492  0.031358    0.900  0.000443\n",
              "2    male  nonbinary  0.222278  0.249282  ...  0.00492 -5.488119    0.001 -0.077611\n",
              "\n",
              "[3 rows x 9 columns]"
            ]
          },
          "metadata": {
            "tags": []
          },
          "execution_count": 190
        }
      ]
    },
    {
      "cell_type": "markdown",
      "metadata": {
        "id": "0AZ5serxOMW-"
      },
      "source": [
        "clean_tbpolarity between genders"
      ]
    },
    {
      "cell_type": "code",
      "metadata": {
        "colab": {
          "base_uri": "https://localhost:8080/",
          "height": 141
        },
        "id": "DWVDjzBwALfI",
        "outputId": "928c849e-d971-4891-e013-e394cd5a859f"
      },
      "source": [
        "sp.posthoc_conover(df, val_col='clean_tbpolarity', group_col='Gender', p_adjust = 'holm')"
      ],
      "execution_count": null,
      "outputs": [
        {
          "output_type": "execute_result",
          "data": {
            "text/html": [
              "<div>\n",
              "<style scoped>\n",
              "    .dataframe tbody tr th:only-of-type {\n",
              "        vertical-align: middle;\n",
              "    }\n",
              "\n",
              "    .dataframe tbody tr th {\n",
              "        vertical-align: top;\n",
              "    }\n",
              "\n",
              "    .dataframe thead th {\n",
              "        text-align: right;\n",
              "    }\n",
              "</style>\n",
              "<table border=\"1\" class=\"dataframe\">\n",
              "  <thead>\n",
              "    <tr style=\"text-align: right;\">\n",
              "      <th></th>\n",
              "      <th>female</th>\n",
              "      <th>male</th>\n",
              "      <th>nonbinary</th>\n",
              "    </tr>\n",
              "  </thead>\n",
              "  <tbody>\n",
              "    <tr>\n",
              "      <th>female</th>\n",
              "      <td>1.000000</td>\n",
              "      <td>0.001917</td>\n",
              "      <td>0.549178</td>\n",
              "    </tr>\n",
              "    <tr>\n",
              "      <th>male</th>\n",
              "      <td>0.001917</td>\n",
              "      <td>1.000000</td>\n",
              "      <td>0.009734</td>\n",
              "    </tr>\n",
              "    <tr>\n",
              "      <th>nonbinary</th>\n",
              "      <td>0.549178</td>\n",
              "      <td>0.009734</td>\n",
              "      <td>1.000000</td>\n",
              "    </tr>\n",
              "  </tbody>\n",
              "</table>\n",
              "</div>"
            ],
            "text/plain": [
              "             female      male  nonbinary\n",
              "female     1.000000  0.001917   0.549178\n",
              "male       0.001917  1.000000   0.009734\n",
              "nonbinary  0.549178  0.009734   1.000000"
            ]
          },
          "metadata": {
            "tags": []
          },
          "execution_count": 172
        }
      ]
    },
    {
      "cell_type": "code",
      "metadata": {
        "colab": {
          "base_uri": "https://localhost:8080/",
          "height": 300
        },
        "id": "OhsloRupOOYG",
        "outputId": "0c7565cc-b4bc-4a83-ffdf-80f94d76646f"
      },
      "source": [
        "pc = sp.posthoc_conover(df, val_col='clean_tbpolarity', group_col='Gender')\n",
        "heatmap_args = {'linewidths': 0.25, 'linecolor': '0.5', 'clip_on': False, 'square': True, 'cbar_ax_bbox': [0.80, 0.35, 0.04, 0.3]}\n",
        "sp.sign_plot(pc, **heatmap_args)"
      ],
      "execution_count": null,
      "outputs": [
        {
          "output_type": "execute_result",
          "data": {
            "text/plain": [
              "(<matplotlib.axes._subplots.AxesSubplot at 0x7f53f0f11650>,\n",
              " <matplotlib.colorbar.ColorbarBase at 0x7f53f0df4890>)"
            ]
          },
          "metadata": {
            "tags": []
          },
          "execution_count": 179
        },
        {
          "output_type": "display_data",
          "data": {
            "image/png": "[encoded data removed]",
            "text/plain": [
              "<Figure size 432x288 with 2 Axes>"
            ]
          },
          "metadata": {
            "tags": [],
            "needs_background": "light"
          }
        }
      ]
    },
    {
      "cell_type": "code",
      "metadata": {
        "colab": {
          "base_uri": "https://localhost:8080/",
          "height": 141
        },
        "id": "Xc55kiNWbJW8",
        "outputId": "8c3e98d6-05c5-4827-d0cf-0f92e295cea8"
      },
      "source": [
        "pt = pg.pairwise_tukey(dv='clean_tbpolarity', between='Gender', data=df)\n",
        "pt"
      ],
      "execution_count": null,
      "outputs": [
        {
          "output_type": "execute_result",
          "data": {
            "text/html": [
              "<div>\n",
              "<style scoped>\n",
              "    .dataframe tbody tr th:only-of-type {\n",
              "        vertical-align: middle;\n",
              "    }\n",
              "\n",
              "    .dataframe tbody tr th {\n",
              "        vertical-align: top;\n",
              "    }\n",
              "\n",
              "    .dataframe thead th {\n",
              "        text-align: right;\n",
              "    }\n",
              "</style>\n",
              "<table border=\"1\" class=\"dataframe\">\n",
              "  <thead>\n",
              "    <tr style=\"text-align: right;\">\n",
              "      <th></th>\n",
              "      <th>A</th>\n",
              "      <th>B</th>\n",
              "      <th>mean(A)</th>\n",
              "      <th>mean(B)</th>\n",
              "      <th>diff</th>\n",
              "      <th>se</th>\n",
              "      <th>T</th>\n",
              "      <th>p-tukey</th>\n",
              "      <th>hedges</th>\n",
              "    </tr>\n",
              "  </thead>\n",
              "  <tbody>\n",
              "    <tr>\n",
              "      <th>0</th>\n",
              "      <td>female</td>\n",
              "      <td>male</td>\n",
              "      <td>0.185872</td>\n",
              "      <td>0.168323</td>\n",
              "      <td>0.017550</td>\n",
              "      <td>0.004348</td>\n",
              "      <td>4.036032</td>\n",
              "      <td>0.001000</td>\n",
              "      <td>0.057076</td>\n",
              "    </tr>\n",
              "    <tr>\n",
              "      <th>1</th>\n",
              "      <td>female</td>\n",
              "      <td>nonbinary</td>\n",
              "      <td>0.185872</td>\n",
              "      <td>0.177027</td>\n",
              "      <td>0.008845</td>\n",
              "      <td>0.004348</td>\n",
              "      <td>2.034173</td>\n",
              "      <td>0.104169</td>\n",
              "      <td>0.028766</td>\n",
              "    </tr>\n",
              "    <tr>\n",
              "      <th>2</th>\n",
              "      <td>male</td>\n",
              "      <td>nonbinary</td>\n",
              "      <td>0.168323</td>\n",
              "      <td>0.177027</td>\n",
              "      <td>-0.008705</td>\n",
              "      <td>0.004348</td>\n",
              "      <td>-2.001858</td>\n",
              "      <td>0.111852</td>\n",
              "      <td>-0.028309</td>\n",
              "    </tr>\n",
              "  </tbody>\n",
              "</table>\n",
              "</div>"
            ],
            "text/plain": [
              "        A          B   mean(A)  ...         T   p-tukey    hedges\n",
              "0  female       male  0.185872  ...  4.036032  0.001000  0.057076\n",
              "1  female  nonbinary  0.185872  ...  2.034173  0.104169  0.028766\n",
              "2    male  nonbinary  0.168323  ... -2.001858  0.111852 -0.028309\n",
              "\n",
              "[3 rows x 9 columns]"
            ]
          },
          "metadata": {
            "tags": []
          },
          "execution_count": 191
        }
      ]
    },
    {
      "cell_type": "markdown",
      "metadata": {
        "id": "4UD1g3mgOQv3"
      },
      "source": [
        "clean_nltk between genders"
      ]
    },
    {
      "cell_type": "code",
      "metadata": {
        "colab": {
          "base_uri": "https://localhost:8080/",
          "height": 141
        },
        "id": "M2vlZTNjDE0w",
        "outputId": "4c092d66-b118-42ca-e993-fa6bc8eaccf1"
      },
      "source": [
        "sp.posthoc_conover(df, val_col='clean_nltkpolarity', group_col='Gender', p_adjust = 'holm')"
      ],
      "execution_count": null,
      "outputs": [
        {
          "output_type": "execute_result",
          "data": {
            "text/html": [
              "<div>\n",
              "<style scoped>\n",
              "    .dataframe tbody tr th:only-of-type {\n",
              "        vertical-align: middle;\n",
              "    }\n",
              "\n",
              "    .dataframe tbody tr th {\n",
              "        vertical-align: top;\n",
              "    }\n",
              "\n",
              "    .dataframe thead th {\n",
              "        text-align: right;\n",
              "    }\n",
              "</style>\n",
              "<table border=\"1\" class=\"dataframe\">\n",
              "  <thead>\n",
              "    <tr style=\"text-align: right;\">\n",
              "      <th></th>\n",
              "      <th>female</th>\n",
              "      <th>male</th>\n",
              "      <th>nonbinary</th>\n",
              "    </tr>\n",
              "  </thead>\n",
              "  <tbody>\n",
              "    <tr>\n",
              "      <th>female</th>\n",
              "      <td>1.000000</td>\n",
              "      <td>9.752065e-05</td>\n",
              "      <td>1.385890e-04</td>\n",
              "    </tr>\n",
              "    <tr>\n",
              "      <th>male</th>\n",
              "      <td>0.000098</td>\n",
              "      <td>1.000000e+00</td>\n",
              "      <td>1.071429e-14</td>\n",
              "    </tr>\n",
              "    <tr>\n",
              "      <th>nonbinary</th>\n",
              "      <td>0.000139</td>\n",
              "      <td>1.071429e-14</td>\n",
              "      <td>1.000000e+00</td>\n",
              "    </tr>\n",
              "  </tbody>\n",
              "</table>\n",
              "</div>"
            ],
            "text/plain": [
              "             female          male     nonbinary\n",
              "female     1.000000  9.752065e-05  1.385890e-04\n",
              "male       0.000098  1.000000e+00  1.071429e-14\n",
              "nonbinary  0.000139  1.071429e-14  1.000000e+00"
            ]
          },
          "metadata": {
            "tags": []
          },
          "execution_count": 173
        }
      ]
    },
    {
      "cell_type": "code",
      "metadata": {
        "colab": {
          "base_uri": "https://localhost:8080/",
          "height": 300
        },
        "id": "aDZVEFyTOSyL",
        "outputId": "013b76bf-fd19-4b02-cf1d-06f296635378"
      },
      "source": [
        "pc = sp.posthoc_conover(df, val_col='clean_nltkpolarity', group_col='Gender')\n",
        "heatmap_args = {'linewidths': 0.25, 'linecolor': '0.5', 'clip_on': False, 'square': True, 'cbar_ax_bbox': [0.80, 0.35, 0.04, 0.3]}\n",
        "sp.sign_plot(pc, **heatmap_args)"
      ],
      "execution_count": null,
      "outputs": [
        {
          "output_type": "execute_result",
          "data": {
            "text/plain": [
              "(<matplotlib.axes._subplots.AxesSubplot at 0x7f53f0e10710>,\n",
              " <matplotlib.colorbar.ColorbarBase at 0x7f53eac0e3d0>)"
            ]
          },
          "metadata": {
            "tags": []
          },
          "execution_count": 180
        },
        {
          "output_type": "display_data",
          "data": {
            "image/png": "[encoded data removed]",
            "text/plain": [
              "<Figure size 432x288 with 2 Axes>"
            ]
          },
          "metadata": {
            "tags": [],
            "needs_background": "light"
          }
        }
      ]
    },
    {
      "cell_type": "code",
      "metadata": {
        "colab": {
          "base_uri": "https://localhost:8080/",
          "height": 141
        },
        "id": "h3H2jaqebMQD",
        "outputId": "7d6022ed-cb32-47c9-e4e8-ae21ea80d4a1"
      },
      "source": [
        "pt = pg.pairwise_tukey(dv='clean_nltkpolarity', between='Gender', data=df)\n",
        "pt"
      ],
      "execution_count": null,
      "outputs": [
        {
          "output_type": "execute_result",
          "data": {
            "text/html": [
              "<div>\n",
              "<style scoped>\n",
              "    .dataframe tbody tr th:only-of-type {\n",
              "        vertical-align: middle;\n",
              "    }\n",
              "\n",
              "    .dataframe tbody tr th {\n",
              "        vertical-align: top;\n",
              "    }\n",
              "\n",
              "    .dataframe thead th {\n",
              "        text-align: right;\n",
              "    }\n",
              "</style>\n",
              "<table border=\"1\" class=\"dataframe\">\n",
              "  <thead>\n",
              "    <tr style=\"text-align: right;\">\n",
              "      <th></th>\n",
              "      <th>A</th>\n",
              "      <th>B</th>\n",
              "      <th>mean(A)</th>\n",
              "      <th>mean(B)</th>\n",
              "      <th>diff</th>\n",
              "      <th>se</th>\n",
              "      <th>T</th>\n",
              "      <th>p-tukey</th>\n",
              "      <th>hedges</th>\n",
              "    </tr>\n",
              "  </thead>\n",
              "  <tbody>\n",
              "    <tr>\n",
              "      <th>0</th>\n",
              "      <td>female</td>\n",
              "      <td>male</td>\n",
              "      <td>0.291762</td>\n",
              "      <td>0.262257</td>\n",
              "      <td>0.029505</td>\n",
              "      <td>0.006087</td>\n",
              "      <td>4.847282</td>\n",
              "      <td>0.001000</td>\n",
              "      <td>0.068548</td>\n",
              "    </tr>\n",
              "    <tr>\n",
              "      <th>1</th>\n",
              "      <td>female</td>\n",
              "      <td>nonbinary</td>\n",
              "      <td>0.291762</td>\n",
              "      <td>0.305482</td>\n",
              "      <td>-0.013720</td>\n",
              "      <td>0.006087</td>\n",
              "      <td>-2.254005</td>\n",
              "      <td>0.062531</td>\n",
              "      <td>-0.031875</td>\n",
              "    </tr>\n",
              "    <tr>\n",
              "      <th>2</th>\n",
              "      <td>male</td>\n",
              "      <td>nonbinary</td>\n",
              "      <td>0.262257</td>\n",
              "      <td>0.305482</td>\n",
              "      <td>-0.043225</td>\n",
              "      <td>0.006087</td>\n",
              "      <td>-7.101287</td>\n",
              "      <td>0.001000</td>\n",
              "      <td>-0.100424</td>\n",
              "    </tr>\n",
              "  </tbody>\n",
              "</table>\n",
              "</div>"
            ],
            "text/plain": [
              "        A          B   mean(A)  ...         T   p-tukey    hedges\n",
              "0  female       male  0.291762  ...  4.847282  0.001000  0.068548\n",
              "1  female  nonbinary  0.291762  ... -2.254005  0.062531 -0.031875\n",
              "2    male  nonbinary  0.262257  ... -7.101287  0.001000 -0.100424\n",
              "\n",
              "[3 rows x 9 columns]"
            ]
          },
          "metadata": {
            "tags": []
          },
          "execution_count": 192
        }
      ]
    },
    {
      "cell_type": "markdown",
      "metadata": {
        "id": "CLtoPwWcOVob"
      },
      "source": [
        "cleancompoundsent between genders"
      ]
    },
    {
      "cell_type": "code",
      "metadata": {
        "colab": {
          "base_uri": "https://localhost:8080/",
          "height": 141
        },
        "id": "PN32GiEZDEtC",
        "outputId": "d637a5f2-1eec-4b20-f78a-fa0b93d6882a"
      },
      "source": [
        "sp.posthoc_conover(df, val_col='clean_compoundsent', group_col='Gender', p_adjust = 'holm')"
      ],
      "execution_count": null,
      "outputs": [
        {
          "output_type": "execute_result",
          "data": {
            "text/html": [
              "<div>\n",
              "<style scoped>\n",
              "    .dataframe tbody tr th:only-of-type {\n",
              "        vertical-align: middle;\n",
              "    }\n",
              "\n",
              "    .dataframe tbody tr th {\n",
              "        vertical-align: top;\n",
              "    }\n",
              "\n",
              "    .dataframe thead th {\n",
              "        text-align: right;\n",
              "    }\n",
              "</style>\n",
              "<table border=\"1\" class=\"dataframe\">\n",
              "  <thead>\n",
              "    <tr style=\"text-align: right;\">\n",
              "      <th></th>\n",
              "      <th>female</th>\n",
              "      <th>male</th>\n",
              "      <th>nonbinary</th>\n",
              "    </tr>\n",
              "  </thead>\n",
              "  <tbody>\n",
              "    <tr>\n",
              "      <th>female</th>\n",
              "      <td>1.000000</td>\n",
              "      <td>5.447299e-05</td>\n",
              "      <td>1.714434e-01</td>\n",
              "    </tr>\n",
              "    <tr>\n",
              "      <th>male</th>\n",
              "      <td>0.000054</td>\n",
              "      <td>1.000000e+00</td>\n",
              "      <td>7.991656e-08</td>\n",
              "    </tr>\n",
              "    <tr>\n",
              "      <th>nonbinary</th>\n",
              "      <td>0.171443</td>\n",
              "      <td>7.991656e-08</td>\n",
              "      <td>1.000000e+00</td>\n",
              "    </tr>\n",
              "  </tbody>\n",
              "</table>\n",
              "</div>"
            ],
            "text/plain": [
              "             female          male     nonbinary\n",
              "female     1.000000  5.447299e-05  1.714434e-01\n",
              "male       0.000054  1.000000e+00  7.991656e-08\n",
              "nonbinary  0.171443  7.991656e-08  1.000000e+00"
            ]
          },
          "metadata": {
            "tags": []
          },
          "execution_count": 174
        }
      ]
    },
    {
      "cell_type": "code",
      "metadata": {
        "colab": {
          "base_uri": "https://localhost:8080/",
          "height": 300
        },
        "id": "68iBnJRnOX2B",
        "outputId": "ab8b9a5f-b184-4f28-fe8d-7beaee4b7225"
      },
      "source": [
        "pc = sp.posthoc_conover(df, val_col='clean_compoundsent', group_col='Gender')\n",
        "heatmap_args = {'linewidths': 0.25, 'linecolor': '0.5', 'clip_on': False, 'square': True, 'cbar_ax_bbox': [0.80, 0.35, 0.04, 0.3]}\n",
        "sp.sign_plot(pc, **heatmap_args)"
      ],
      "execution_count": null,
      "outputs": [
        {
          "output_type": "execute_result",
          "data": {
            "text/plain": [
              "(<matplotlib.axes._subplots.AxesSubplot at 0x7f53f0f92410>,\n",
              " <matplotlib.colorbar.ColorbarBase at 0x7f53f0e6b890>)"
            ]
          },
          "metadata": {
            "tags": []
          },
          "execution_count": 181
        },
        {
          "output_type": "display_data",
          "data": {
            "image/png": "[encoded data removed]",
            "text/plain": [
              "<Figure size 432x288 with 2 Axes>"
            ]
          },
          "metadata": {
            "tags": [],
            "needs_background": "light"
          }
        }
      ]
    },
    {
      "cell_type": "code",
      "metadata": {
        "colab": {
          "base_uri": "https://localhost:8080/",
          "height": 141
        },
        "id": "nrfTW5FWbQK3",
        "outputId": "5c5da143-b289-4d10-c59c-a35477afd037"
      },
      "source": [
        "pt = pg.pairwise_tukey(dv='clean_compoundsent', between='Gender', data=df)\n",
        "pt"
      ],
      "execution_count": null,
      "outputs": [
        {
          "output_type": "execute_result",
          "data": {
            "text/html": [
              "<div>\n",
              "<style scoped>\n",
              "    .dataframe tbody tr th:only-of-type {\n",
              "        vertical-align: middle;\n",
              "    }\n",
              "\n",
              "    .dataframe tbody tr th {\n",
              "        vertical-align: top;\n",
              "    }\n",
              "\n",
              "    .dataframe thead th {\n",
              "        text-align: right;\n",
              "    }\n",
              "</style>\n",
              "<table border=\"1\" class=\"dataframe\">\n",
              "  <thead>\n",
              "    <tr style=\"text-align: right;\">\n",
              "      <th></th>\n",
              "      <th>A</th>\n",
              "      <th>B</th>\n",
              "      <th>mean(A)</th>\n",
              "      <th>mean(B)</th>\n",
              "      <th>diff</th>\n",
              "      <th>se</th>\n",
              "      <th>T</th>\n",
              "      <th>p-tukey</th>\n",
              "      <th>hedges</th>\n",
              "    </tr>\n",
              "  </thead>\n",
              "  <tbody>\n",
              "    <tr>\n",
              "      <th>0</th>\n",
              "      <td>female</td>\n",
              "      <td>male</td>\n",
              "      <td>0.238817</td>\n",
              "      <td>0.215290</td>\n",
              "      <td>0.023527</td>\n",
              "      <td>0.004693</td>\n",
              "      <td>5.013374</td>\n",
              "      <td>0.001000</td>\n",
              "      <td>0.070897</td>\n",
              "    </tr>\n",
              "    <tr>\n",
              "      <th>1</th>\n",
              "      <td>female</td>\n",
              "      <td>nonbinary</td>\n",
              "      <td>0.238817</td>\n",
              "      <td>0.241254</td>\n",
              "      <td>-0.002437</td>\n",
              "      <td>0.004693</td>\n",
              "      <td>-0.519388</td>\n",
              "      <td>0.846404</td>\n",
              "      <td>-0.007345</td>\n",
              "    </tr>\n",
              "    <tr>\n",
              "      <th>2</th>\n",
              "      <td>male</td>\n",
              "      <td>nonbinary</td>\n",
              "      <td>0.215290</td>\n",
              "      <td>0.241254</td>\n",
              "      <td>-0.025965</td>\n",
              "      <td>0.004693</td>\n",
              "      <td>-5.532762</td>\n",
              "      <td>0.001000</td>\n",
              "      <td>-0.078242</td>\n",
              "    </tr>\n",
              "  </tbody>\n",
              "</table>\n",
              "</div>"
            ],
            "text/plain": [
              "        A          B   mean(A)  ...         T   p-tukey    hedges\n",
              "0  female       male  0.238817  ...  5.013374  0.001000  0.070897\n",
              "1  female  nonbinary  0.238817  ... -0.519388  0.846404 -0.007345\n",
              "2    male  nonbinary  0.215290  ... -5.532762  0.001000 -0.078242\n",
              "\n",
              "[3 rows x 9 columns]"
            ]
          },
          "metadata": {
            "tags": []
          },
          "execution_count": 193
        }
      ]
    },
    {
      "cell_type": "markdown",
      "metadata": {
        "id": "ESm4psP-zAvQ"
      },
      "source": [
        "## Toxicity Analysis"
      ]
    },
    {
      "cell_type": "markdown",
      "metadata": {
        "id": "ech2ijhcBTUF"
      },
      "source": [
        "retrieving data (into a separate doc)"
      ]
    },
    {
      "cell_type": "code",
      "metadata": {
        "id": "xNDZgvYX_lIl"
      },
      "source": [
        "from googleapiclient import discovery\n",
        "\n",
        "API_KEY = \"AUTHORS API KEY \"\n",
        "\n",
        "\n",
        "def init_client():\n",
        "    return discovery.build(\n",
        "        \"commentanalyzer\",\n",
        "        \"v1alpha1\",\n",
        "        developerKey=API_KEY,\n",
        "        discoveryServiceUrl=\"https://commentanalyzer.googleapis.com/$discovery/rest?version=v1alpha1\",\n",
        "    )\n",
        "\n",
        "\n",
        "def perspective_scores(client, comment):\n",
        "    attributes = [\n",
        "        \"TOXICITY\",\n",
        "        \"SEVERE_TOXICITY\",\n",
        "    ]\n",
        "    analyze_request = {\n",
        "        \"comment\": {\"text\": comment},\n",
        "        \"requestedAttributes\": {attr: {} for attr in attributes},\n",
        "    }\n",
        "\n",
        "    response = client.comments().analyze(body=analyze_request).execute()\n",
        "    return {\n",
        "        attr: response.get(\"attributeScores\").get(attr).get(\"summaryScore\").get(\"value\")\n",
        "        for attr in attributes\n",
        "    }\n"
      ],
      "execution_count": null,
      "outputs": []
    },
    {
      "cell_type": "code",
      "metadata": {
        "id": "ZzzLxHu9BnuD"
      },
      "source": [
        "{\n",
        " \"metadata\": {\n",
        "  \"language_info\": {\n",
        "   \"codemirror_mode\": {\n",
        "    \"name\": \"ipython\",\n",
        "    \"version\": 3\n",
        "   },\n",
        "   \"file_extension\": \".py\",\n",
        "   \"mimetype\": \"text/x-python\",\n",
        "   \"name\": \"python\",\n",
        "   \"nbconvert_exporter\": \"python\",\n",
        "   \"pygments_lexer\": \"ipython3\",\n",
        "   \"version\": \"3.9.0\"\n",
        "  },\n",
        "  \"orig_nbformat\": 2,\n",
        "  \"kernelspec\": {\n",
        "   \"name\": \"python390jvsc74a57bd0854a961f7b0779b08595c73b9c918da55d7d61f57ed73644562b328934fde2ca\",\n",
        "   \"display_name\": \"Python 3.9.0 64-bit ('3.9.0': pyenv)\"\n",
        "  }\n",
        " },\n",
        " \"nbformat\": 4,\n",
        " \"nbformat_minor\": 2,\n",
        " \"cells\": [\n",
        "  {\n",
        "   \"source\": [\n",
        "    \"# Perspective API\\n\",\n",
        "    \"\\n\",\n",
        "    \"**Edit `perspective_api.py` and add your API key to line 4**\"\n",
        "   ],\n",
        "   \"cell_type\": \"markdown\",\n",
        "   \"metadata\": {}\n",
        "  },\n",
        "  {\n",
        "   \"cell_type\": \"code\",\n",
        "   \"execution_count\": 1,\n",
        "   \"metadata\": {},\n",
        "   \"outputs\": [],\n",
        "   \"source\": [\n",
        "    \"import perspective_api as pers\"\n",
        "   ]\n",
        "  },\n",
        "  {\n",
        "   \"cell_type\": \"code\",\n",
        "   \"execution_count\": 2,\n",
        "   \"metadata\": {},\n",
        "   \"outputs\": [],\n",
        "   \"source\": [\n",
        "    \"client = pers.init_client()\"\n",
        "   ]\n",
        "  },\n",
        "  {\n",
        "   \"cell_type\": \"code\",\n",
        "   \"execution_count\": 4,\n",
        "   \"metadata\": {},\n",
        "   \"outputs\": [\n",
        "    {\n",
        "     \"output_type\": \"execute_result\",\n",
        "     \"data\": {\n",
        "      \"text/plain\": [\n",
        "       \"{'TOXICITY': 0.95979893,\\n\",\n",
        "       \" 'SEVERE_TOXICITY': 0.87427866,\\n\",\n",
        "       \" 'IDENTITY_ATTACK': 0.58523935,\\n\",\n",
        "       \" 'INSULT': 0.88075686,\\n\",\n",
        "       \" 'THREAT': 0.46016228,\\n\",\n",
        "       \" 'SEXUALLY_EXPLICIT': 0.92567843,\\n\",\n",
        "       \" 'FLIRTATION': 0.86841965,\\n\",\n",
        "       \" 'ATTACK_ON_AUTHOR': 0.6372158}\"\n",
        "      ]\n",
        "     },\n",
        "     \"metadata\": {},\n",
        "     \"execution_count\": 4\n",
        "    }\n",
        "   ],\n",
        "   \"source\": [\n",
        "    \"pers.perspective_scores(client, \\\"this video sucks and you suck, girl\\\")\"\n",
        "   ]\n",
        "  }\n",
        " ]\n",
        "}"
      ],
      "execution_count": null,
      "outputs": []
    },
    {
      "cell_type": "markdown",
      "metadata": {
        "id": "XQpfs4bw967w"
      },
      "source": [
        "analysis "
      ]
    },
    {
      "cell_type": "code",
      "metadata": {
        "id": "4_BP4MtYw9D_"
      },
      "source": [
        "dft = pd.read_csv(\"final_sampled_df_perspective_scores.csv\", engine='python')"
      ],
      "execution_count": null,
      "outputs": []
    },
    {
      "cell_type": "code",
      "metadata": {
        "id": "EpxVAsdb9_cV"
      },
      "source": [
        "dft[\"clean_text_nltk\"] = dft.text.apply(str.lower)\n",
        "dft[\"clean_text_nltk\"] = dft.clean_text_nltk.apply(lambda x: \" \".join(token for token in tokenizer.tokenize(x) if token not in stopwords))\n",
        "dft[\"clean_text_nltk\"] = dft.clean_text_nltk.str.translate(str.maketrans(dict.fromkeys(string.punctuation, \"\")))"
      ],
      "execution_count": null,
      "outputs": []
    },
    {
      "cell_type": "code",
      "metadata": {
        "id": "WpnpF6QZ-t1L"
      },
      "source": [
        "pd.set_option('display.max_colwidth', None)"
      ],
      "execution_count": null,
      "outputs": []
    },
    {
      "cell_type": "code",
      "metadata": {
        "id": "G7w7NlYU_Faq"
      },
      "source": [
        "dft.keys()"
      ],
      "execution_count": null,
      "outputs": []
    },
    {
      "cell_type": "code",
      "metadata": {
        "id": "PevwI_BK_ZaV"
      },
      "source": [
        " dft = dft.drop(dft[dft.TOXICITY == \"invalid_lang\"].index)"
      ],
      "execution_count": null,
      "outputs": []
    },
    {
      "cell_type": "code",
      "metadata": {
        "id": "q42dfWwX_bK_"
      },
      "source": [
        "dft = dft.replace('invalid_lang', np.NaN)"
      ],
      "execution_count": null,
      "outputs": []
    },
    {
      "cell_type": "code",
      "metadata": {
        "id": "jJTBjPH3Bvme"
      },
      "source": [
        "dft.TOXICITY= dft.TOXICITY.astype(str).astype(float)\n",
        "dft.SEVERE_TOXICITY= dft.SEVERE_TOXICITY.astype(str).astype(float)\n",
        "dft.IDENTITY_ATTACK= dft.IDENTITY_ATTACK.astype(str).astype(float)\n",
        "dft.INSULT= dft.INSULT.astype(str).astype(float)\n",
        "dft.THREAT= dft.THREAT.astype(str).astype(float)\n",
        "dft.SEXUALLY_EXPLICIT= dft.SEXUALLY_EXPLICIT.astype(str).astype(float)\n",
        "dft.FLIRTATION= dft.FLIRTATION.astype(str).astype(float)\n",
        "dft.ATTACK_ON_AUTHOR= dft.ATTACK_ON_AUTHOR.astype(str).astype(float)"
      ],
      "execution_count": null,
      "outputs": []
    },
    {
      "cell_type": "code",
      "metadata": {
        "id": "2hUc1lcYB6jK"
      },
      "source": [
        "dft.groupby(\"Gender\").TOXICITY.describe()"
      ],
      "execution_count": null,
      "outputs": []
    },
    {
      "cell_type": "code",
      "metadata": {
        "id": "duMcTzHHChRm"
      },
      "source": [
        "dft[(dft[\"TOXICITY\"] >= 0.8) & (dft[\"Gender\"] == \"nonbinary\")].text.sample(10) #change genders for different overviews"
      ],
      "execution_count": null,
      "outputs": []
    },
    {
      "cell_type": "code",
      "metadata": {
        "id": "UgKeqq8QCpDL"
      },
      "source": [
        "dft['logTOXICITY'] = np.log2(dft['TOXICITY'])"
      ],
      "execution_count": null,
      "outputs": []
    },
    {
      "cell_type": "code",
      "metadata": {
        "id": "VDMctdwbCsl6"
      },
      "source": [
        "\n",
        "dft.boxplot('TOXICITY', by='Gender', figsize=(8, 6))\n"
      ],
      "execution_count": null,
      "outputs": []
    },
    {
      "cell_type": "code",
      "metadata": {
        "id": "pIvojzOHCvfn"
      },
      "source": [
        "dft.boxplot('logTOXICITY', by='Gender', figsize=(8, 6))"
      ],
      "execution_count": null,
      "outputs": []
    },
    {
      "cell_type": "code",
      "metadata": {
        "id": "9Ry-MFRtCxHo"
      },
      "source": [
        "model = ols('logTOXICITY ~ Gender', data=dft).fit()\n",
        "anova_table = sm.stats.anova_lm(model, typ=2)\n",
        "anova_table\n"
      ],
      "execution_count": null,
      "outputs": []
    },
    {
      "cell_type": "code",
      "metadata": {
        "id": "njG0OcAACysJ"
      },
      "source": [
        "res = model.resid\n",
        "fig = sm.qqplot(res, line='s')\n",
        "plt.show()"
      ],
      "execution_count": null,
      "outputs": []
    },
    {
      "cell_type": "code",
      "metadata": {
        "id": "TPYc5CAAC1Mo"
      },
      "source": [
        "aov = pg.anova(data=dft, dv='logTOXICITY', between='Gender', detailed=True)\n",
        "aov"
      ],
      "execution_count": null,
      "outputs": []
    },
    {
      "cell_type": "code",
      "metadata": {
        "id": "dvWB4T2BC2wr"
      },
      "source": [
        "pt = pg.pairwise_tukey(dv='TOXICITY', between='Gender', data=dft)\n",
        "pt"
      ],
      "execution_count": null,
      "outputs": []
    },
    {
      "cell_type": "code",
      "metadata": {
        "id": "KPyz_K63C411"
      },
      "source": [
        "dft.groupby(\"Gender\").SEVERE_TOXICITY.describe()"
      ],
      "execution_count": null,
      "outputs": []
    },
    {
      "cell_type": "code",
      "metadata": {
        "id": "hd41JFkhC6lg"
      },
      "source": [
        "dft['logSEVERE_TOXICITY'] = np.log10(dft['SEVERE_TOXICITY'])"
      ],
      "execution_count": null,
      "outputs": []
    },
    {
      "cell_type": "code",
      "metadata": {
        "id": "WKYIJvX_C8ej"
      },
      "source": [
        "dft.boxplot('logSEVERE_TOXICITY', by='Gender', figsize=(8, 6))"
      ],
      "execution_count": null,
      "outputs": []
    },
    {
      "cell_type": "code",
      "metadata": {
        "id": "A-QBVqtTC-bc"
      },
      "source": [
        "model1 = ols('logSEVERE_TOXICITY ~ Gender', data=dft).fit()\n",
        "anova_table1 = sm.stats.anova_lm(model, typ=2)\n",
        "anova_table1"
      ],
      "execution_count": null,
      "outputs": []
    },
    {
      "cell_type": "code",
      "metadata": {
        "id": "320HGgEHDAK6"
      },
      "source": [
        "res1 = model1.resid\n",
        "fig1 = sm.qqplot(res, line='s')\n",
        "plt.show()"
      ],
      "execution_count": null,
      "outputs": []
    },
    {
      "cell_type": "code",
      "metadata": {
        "id": "RHeB8uqIDAzA"
      },
      "source": [
        "male = dft[dft[\"Gender\"] == \"male\"][\"SEVERE_TOXICITY\"]\n",
        "female = dft[dft[\"Gender\"] == \"female\"][\"SEVERE_TOXICITY\"]\n",
        "nonbinary = dft[dft[\"Gender\"] == \"nonbinary\"][\"SEVERE_TOXICITY\"]"
      ],
      "execution_count": null,
      "outputs": []
    },
    {
      "cell_type": "code",
      "metadata": {
        "id": "KVuLxPphDH1u"
      },
      "source": [
        "stat, p = kruskal(male, female, nonbinary)\n",
        "print('Statistics=%.3f, p=%.3f' % (stat, p))"
      ],
      "execution_count": null,
      "outputs": []
    },
    {
      "cell_type": "code",
      "metadata": {
        "id": "tMlaMGYADJOQ"
      },
      "source": [
        "sp.posthoc_conover(dft, val_col='SEVERE_TOXICITY', group_col='Gender', p_adjust = 'holm')"
      ],
      "execution_count": null,
      "outputs": []
    },
    {
      "cell_type": "code",
      "metadata": {
        "id": "xOaksh4rDKw9"
      },
      "source": [
        "dft.groupby(\"Gender\").IDENTITY_ATTACK.describe()"
      ],
      "execution_count": null,
      "outputs": []
    },
    {
      "cell_type": "code",
      "metadata": {
        "id": "NjVsnjxTDMWy"
      },
      "source": [
        "dft[(dft[\"IDENTITY_ATTACK\"] >= 0.9) & (dft[\"Gender\"] == \"nonbinary\")].text"
      ],
      "execution_count": null,
      "outputs": []
    },
    {
      "cell_type": "code",
      "metadata": {
        "id": "vjHs_jI7DOA8"
      },
      "source": [
        "dft['logIDENTITY_ATTACK'] = np.log2(dft['IDENTITY_ATTACK'])"
      ],
      "execution_count": null,
      "outputs": []
    },
    {
      "cell_type": "code",
      "metadata": {
        "id": "oPzkjjICDPmE"
      },
      "source": [
        "dft.boxplot('IDENTITY_ATTACK', by='Gender', figsize=(8, 6))"
      ],
      "execution_count": null,
      "outputs": []
    },
    {
      "cell_type": "code",
      "metadata": {
        "id": "YH0lGfWVDRny"
      },
      "source": [
        "model2 = ols('logIDENTITY_ATTACK ~ Gender', data=dft).fit()\n",
        "anova_table2 = sm.stats.anova_lm(model, typ=2)\n",
        "anova_table2"
      ],
      "execution_count": null,
      "outputs": []
    },
    {
      "cell_type": "code",
      "metadata": {
        "id": "X2Ct115eDTd2"
      },
      "source": [
        "\n",
        "res2 = model2.resid\n",
        "fig2 = sm.qqplot(res, line='s')\n",
        "plt.show()"
      ],
      "execution_count": null,
      "outputs": []
    },
    {
      "cell_type": "code",
      "metadata": {
        "id": "xHChGkXDDV3U"
      },
      "source": [
        "data = [dft.loc[ids, 'IDENTITY_ATTACK'].values for ids in dft.groupby('Gender').groups.values()]"
      ],
      "execution_count": null,
      "outputs": []
    },
    {
      "cell_type": "code",
      "metadata": {
        "id": "Fm9dC3W4DXis"
      },
      "source": [
        "\n",
        "H, p = kruskal(*data)\n",
        "H, p\n",
        "\n"
      ],
      "execution_count": null,
      "outputs": []
    },
    {
      "cell_type": "code",
      "metadata": {
        "id": "qurr_44KDaBU"
      },
      "source": [
        "sp.posthoc_conover(dft, val_col='IDENTITY_ATTACK', group_col='Gender', p_adjust = 'holm')"
      ],
      "execution_count": null,
      "outputs": []
    },
    {
      "cell_type": "code",
      "metadata": {
        "id": "4g5m2Y_ZDvEq"
      },
      "source": [
        "dft.groupby(\"Gender\").INSULT.describe()"
      ],
      "execution_count": null,
      "outputs": []
    },
    {
      "cell_type": "code",
      "metadata": {
        "id": "OQsgWZg3Dwsl"
      },
      "source": [
        "dft[(dft[\"INSULT\"] >= 0.9) & (dft[\"Gender\"] == \"nonbinary\")].text.sample(20)"
      ],
      "execution_count": null,
      "outputs": []
    },
    {
      "cell_type": "code",
      "metadata": {
        "id": "u1d_FqPrDyZA"
      },
      "source": [
        "dft['logINSULT'] = np.log10(dft['INSULT'])"
      ],
      "execution_count": null,
      "outputs": []
    },
    {
      "cell_type": "code",
      "metadata": {
        "id": "8NsJD1nxD0FU"
      },
      "source": [
        "dft.boxplot('INSULT', by='Gender', figsize=(8, 6))"
      ],
      "execution_count": null,
      "outputs": []
    },
    {
      "cell_type": "code",
      "metadata": {
        "id": "tKOgCh1eD1td"
      },
      "source": [
        "model3 = ols('logINSULT ~ Gender', data=dft).fit()\n",
        "anova_table3 = sm.stats.anova_lm(model3, typ=2)\n",
        "anova_table3\n",
        "\n"
      ],
      "execution_count": null,
      "outputs": []
    },
    {
      "cell_type": "code",
      "metadata": {
        "id": "CcKs_hLJD3SK"
      },
      "source": [
        "res3 = model3.resid\n",
        "fig3 = sm.qqplot(res, line='s')\n",
        "plt.show()"
      ],
      "execution_count": null,
      "outputs": []
    },
    {
      "cell_type": "code",
      "metadata": {
        "id": "0TTH1zcwD4-H"
      },
      "source": [
        "pt = pg.pairwise_tukey(dv='INSULT', between='Gender', data=dft)\n",
        "pt"
      ],
      "execution_count": null,
      "outputs": []
    },
    {
      "cell_type": "code",
      "metadata": {
        "id": "o_HHINKwD7Av"
      },
      "source": [
        "dft.groupby(\"Gender\").THREAT.describe()"
      ],
      "execution_count": null,
      "outputs": []
    },
    {
      "cell_type": "code",
      "metadata": {
        "id": "koVZ5j2pD8x_"
      },
      "source": [
        "#dft[(dft[\"THREAT\"] >= 0.9) & (dft[\"Gender\"] == \"nonbinary\")].text.sample(20)\n",
        "dft[(dft[\"THREAT\"] >= 0.9)].text.sample(20)"
      ],
      "execution_count": null,
      "outputs": []
    },
    {
      "cell_type": "code",
      "metadata": {
        "id": "IwO7pK8aD-r8"
      },
      "source": [
        "count_ngrams(dft[(dft[\"THREAT\"] >= 0.8) & (dft[\"Gender\"] == \"nonbinary\")].clean_text_nltk,1).most_common(20)"
      ],
      "execution_count": null,
      "outputs": []
    },
    {
      "cell_type": "code",
      "metadata": {
        "id": "Z324I-etEAMf"
      },
      "source": [
        "count_ngrams(dft[(dft[\"THREAT\"] >= 0.8) & (dft[\"Gender\"] == \"nonbinary\")].clean_text_nltk,2).most_common(20)"
      ],
      "execution_count": null,
      "outputs": []
    },
    {
      "cell_type": "code",
      "metadata": {
        "id": "CBzHazOzEB4h"
      },
      "source": [
        "count_ngrams(dft[(dft[\"THREAT\"] >= 0.8)].clean_text_nltk,1).most_common(20)"
      ],
      "execution_count": null,
      "outputs": []
    },
    {
      "cell_type": "code",
      "metadata": {
        "id": "6f_izvztEDWx"
      },
      "source": [
        "count_ngrams(dft[(dft[\"THREAT\"] >= 0.8)].clean_text_nltk,2).most_common(20)"
      ],
      "execution_count": null,
      "outputs": []
    },
    {
      "cell_type": "code",
      "metadata": {
        "id": "DNNlW_q3EFdz"
      },
      "source": [
        "dft[(dft.clean_text_nltk.str.contains(\"dead\")) & (dft[\"THREAT\"] >= 0.8)].clean_text_nltk.sample(15)"
      ],
      "execution_count": null,
      "outputs": []
    },
    {
      "cell_type": "code",
      "metadata": {
        "id": "7wADZ_6eEHRr"
      },
      "source": [
        "dft.groupby(\"Gender\").SEXUALLY_EXPLICIT.describe()"
      ],
      "execution_count": null,
      "outputs": []
    },
    {
      "cell_type": "code",
      "metadata": {
        "id": "c3DGaw38EJHp"
      },
      "source": [
        "print(dft.loc[dft[\"SEXUALLY_EXPLICIT\"] >= 0.8].text.sample(10))"
      ],
      "execution_count": null,
      "outputs": []
    },
    {
      "cell_type": "code",
      "metadata": {
        "id": "COQ_KB92EKvt"
      },
      "source": [
        "dft.boxplot('SEXUALLY_EXPLICIT', by='Gender', figsize=(8, 6))"
      ],
      "execution_count": null,
      "outputs": []
    },
    {
      "cell_type": "code",
      "metadata": {
        "id": "8eFgfhytEMJe"
      },
      "source": [
        "model4 = ols('SEXUALLY_EXPLICIT ~ Gender', data=dft).fit()\n",
        "anova_table4 = sm.stats.anova_lm(model4, typ=2)\n",
        "anova_table4"
      ],
      "execution_count": null,
      "outputs": []
    },
    {
      "cell_type": "code",
      "metadata": {
        "id": "B53CAajhENqt"
      },
      "source": [
        "res4 = model4.resid\n",
        "fig4 = sm.qqplot(res, line='s')\n",
        "plt.show()"
      ],
      "execution_count": null,
      "outputs": []
    },
    {
      "cell_type": "code",
      "metadata": {
        "id": "Gg2hqLkZEPYP"
      },
      "source": [
        "pt = pg.pairwise_tukey(dv='SEXUALLY_EXPLICIT', between='Gender', data=dft)\n",
        "pt"
      ],
      "execution_count": null,
      "outputs": []
    },
    {
      "cell_type": "code",
      "metadata": {
        "id": "3K8RNYaQERLp"
      },
      "source": [
        "dft.groupby(\"Gender\").FLIRTATION.describe()"
      ],
      "execution_count": null,
      "outputs": []
    },
    {
      "cell_type": "code",
      "metadata": {
        "id": "h8uXFSOBESxw"
      },
      "source": [
        "dft[dft[\"FLIRTATION\"] >= 0.9].text.sample(10)"
      ],
      "execution_count": null,
      "outputs": []
    },
    {
      "cell_type": "code",
      "metadata": {
        "id": "Z9RkjOTjEW5J"
      },
      "source": [
        "dft[(dft[\"FLIRTATION\"] >= 0.8) & (dft[\"Gender\"] == \"male\")].text.sample(10)"
      ],
      "execution_count": null,
      "outputs": []
    },
    {
      "cell_type": "code",
      "metadata": {
        "id": "wCfQs5OIEYYf"
      },
      "source": [
        "dft.boxplot('FLIRTATION', by='Gender', figsize=(8, 6))"
      ],
      "execution_count": null,
      "outputs": []
    },
    {
      "cell_type": "code",
      "metadata": {
        "id": "mMA3vadWEZ9K"
      },
      "source": [
        "model5 = ols('FLIRTATION ~ Gender', data=dft).fit()\n",
        "anova_table5 = sm.stats.anova_lm(model5, typ=2)\n",
        "anova_table5"
      ],
      "execution_count": null,
      "outputs": []
    },
    {
      "cell_type": "code",
      "metadata": {
        "id": "98uT63L-EbeC"
      },
      "source": [
        "res5 = model5.resid\n",
        "fig5 = sm.qqplot(res, line='s')\n",
        "plt.show()"
      ],
      "execution_count": null,
      "outputs": []
    },
    {
      "cell_type": "code",
      "metadata": {
        "id": "QsPk7iRqEd2z"
      },
      "source": [
        "pt = pg.pairwise_tukey(dv='FLIRTATION', between='Gender', data=dft)\n",
        "pt"
      ],
      "execution_count": null,
      "outputs": []
    },
    {
      "cell_type": "code",
      "metadata": {
        "id": "lpBGCQK7EfnW"
      },
      "source": [
        "dft.groupby(\"Gender\").ATTACK_ON_AUTHOR.describe()"
      ],
      "execution_count": null,
      "outputs": []
    },
    {
      "cell_type": "code",
      "metadata": {
        "id": "8PGHIOaVEhDU"
      },
      "source": [
        "dft[(dft[\"ATTACK_ON_AUTHOR\"] >= 0.9) & (dft[\"Gender\"] == \"nonbinary\")].text.sample(10)"
      ],
      "execution_count": null,
      "outputs": []
    },
    {
      "cell_type": "code",
      "metadata": {
        "id": "d2wBf9JVEm_S"
      },
      "source": [
        "wordcounter_fem = count_words(dft[(dft[\"ATTACK_ON_AUTHOR\"] >= 0.8) & (dft[\"Gender\"] == \"male\")] ['clean_text_nltk']) \n",
        "wordcounter_fem.most_common(10)"
      ],
      "execution_count": null,
      "outputs": []
    },
    {
      "cell_type": "code",
      "metadata": {
        "id": "nCDRvGLwEom8"
      },
      "source": [
        "wordcounter_fem = count_words(dft[(dft[\"ATTACK_ON_AUTHOR\"] >= 0.8)] ['clean_text_nltk']) \n",
        "wordcounter_fem.most_common(10)"
      ],
      "execution_count": null,
      "outputs": []
    },
    {
      "cell_type": "code",
      "metadata": {
        "id": "lye54-EpEqP3"
      },
      "source": [
        "def count_ngrams(text_column, n):\n",
        "    fdist = nltk.FreqDist()\n",
        "    for text in text_column:\n",
        "        fdist.update(nltk.ngrams(text.split(), n))\n",
        "    return fdist\n"
      ],
      "execution_count": null,
      "outputs": []
    },
    {
      "cell_type": "code",
      "metadata": {
        "id": "cxwLTidzErlN"
      },
      "source": [
        "count_ngrams(dft[(dft[\"ATTACK_ON_AUTHOR\"] >= 0.8) & (dft[\"Gender\"] == \"nonbinary\")].clean_text_nltk,1).most_common(20)\n",
        "\n"
      ],
      "execution_count": null,
      "outputs": []
    },
    {
      "cell_type": "code",
      "metadata": {
        "id": "dm9R4nO6EtIn"
      },
      "source": [
        "count_ngrams(dft[(dft[\"ATTACK_ON_AUTHOR\"] >= 0.8)].clean_text_nltk,2).most_common(20)\n"
      ],
      "execution_count": null,
      "outputs": []
    },
    {
      "cell_type": "code",
      "metadata": {
        "id": "ZrFhLINuEulw"
      },
      "source": [
        "count_ngrams(dft.text, 2).most_common(50)\n"
      ],
      "execution_count": null,
      "outputs": []
    },
    {
      "cell_type": "code",
      "metadata": {
        "id": "sGfylgUVEw4R"
      },
      "source": [
        "dft[(dft.clean_text_nltk.str.contains(\"james\")) & (dft[\"ATTACK_ON_AUTHOR\"] >= 0.8)].text #replace with bob"
      ],
      "execution_count": null,
      "outputs": []
    },
    {
      "cell_type": "markdown",
      "metadata": {
        "id": "IT_S72I0zCzY"
      },
      "source": [
        "## Language Analysis"
      ]
    },
    {
      "cell_type": "code",
      "metadata": {
        "id": "wOTkqZqjxFAN"
      },
      "source": [
        "texl70 = df['clean_text']\n",
        "langdet = []                                                    \n",
        "for i in range(len(df)):                                         \n",
        "    try:                                                          \n",
        "       lang=detect(texl70[i])                                      \n",
        "    except:                                                       \n",
        "       lang='no'                                                  \n",
        "       #print(\"This row throws error:\", texl70[i])                 \n",
        "    langdet.append(lang)  "
      ],
      "execution_count": null,
      "outputs": []
    },
    {
      "cell_type": "code",
      "metadata": {
        "id": "VnxBWsIlFbbV"
      },
      "source": [
        "df[\"langdet\"] = langdet"
      ],
      "execution_count": null,
      "outputs": []
    },
    {
      "cell_type": "code",
      "metadata": {
        "id": "k-m0UrwdFd6P"
      },
      "source": [
        "df[[\"langdet\", \"clean_text\"]].sample(10)"
      ],
      "execution_count": null,
      "outputs": []
    },
    {
      "cell_type": "code",
      "metadata": {
        "id": "q8K_6lsjFiGV"
      },
      "source": [
        "counted_lang = count_emojis(df['langdet'])\n",
        "counted_lang.most_common()"
      ],
      "execution_count": null,
      "outputs": []
    },
    {
      "cell_type": "code",
      "metadata": {
        "id": "PztxjOf9FkTD"
      },
      "source": [
        "langcounter = count_emojis(df[df['Gender']==\"nonbinary\"]['langdet']) \n",
        "langcounter.most_common(50)"
      ],
      "execution_count": null,
      "outputs": []
    },
    {
      "cell_type": "code",
      "metadata": {
        "id": "tTytd6SGFmAh"
      },
      "source": [
        "df[df['langdet']==\"en\"]['text'].sample(10)"
      ],
      "execution_count": null,
      "outputs": []
    },
    {
      "cell_type": "markdown",
      "metadata": {
        "id": "UUeCxoyGw9Yf"
      },
      "source": [
        "# Machine Learning -Abusive Language Detection\n"
      ]
    },
    {
      "cell_type": "markdown",
      "metadata": {
        "id": "4I7D5Rdtp8Kv"
      },
      "source": [
        "loading training dataset"
      ]
    },
    {
      "cell_type": "code",
      "metadata": {
        "id": "bOrEM6tDxEBt"
      },
      "source": [
        "df1 = pd.read_csv(\"ALYT_data.csv\")"
      ],
      "execution_count": null,
      "outputs": []
    },
    {
      "cell_type": "markdown",
      "metadata": {
        "id": "vL-U-v7Ip3x2"
      },
      "source": [
        "normalization - filtering for only abusive and non-abusive comments (no neutral scores 0)"
      ]
    },
    {
      "cell_type": "code",
      "metadata": {
        "id": "ZXAXwcF0xENK"
      },
      "source": [
        "df_alyt = df1[df1.label_normalised != 0]"
      ],
      "execution_count": null,
      "outputs": []
    },
    {
      "cell_type": "markdown",
      "metadata": {
        "id": "y-oPz6jvqMM9"
      },
      "source": [
        "class distribution checking"
      ]
    },
    {
      "cell_type": "code",
      "metadata": {
        "id": "8VBqFoZfp0Nv"
      },
      "source": [
        "df_alyt.label_normalised.value_counts().plot.bar()"
      ],
      "execution_count": null,
      "outputs": []
    },
    {
      "cell_type": "code",
      "metadata": {
        "id": "AJ-V5XsJxErB"
      },
      "source": [
        "df_alyt.label_normalised.value_counts(normalize=True)*100"
      ],
      "execution_count": null,
      "outputs": []
    },
    {
      "cell_type": "markdown",
      "metadata": {
        "id": "IDh57KjPu5bd"
      },
      "source": [
        "## preprocessing"
      ]
    },
    {
      "cell_type": "code",
      "metadata": {
        "id": "bEcgBjFNu4nS"
      },
      "source": [
        "\n",
        "nltk.download('stopwords')\n",
        "\n",
        "tokenizer = TweetTokenizer()\n",
        "stopwords = nltk.corpus.stopwords.words('english')"
      ],
      "execution_count": null,
      "outputs": []
    },
    {
      "cell_type": "code",
      "metadata": {
        "id": "HJCtwt1svInn"
      },
      "source": [
        "df_alyt[\"clean_text_nltk\"] = df_alyt.comment.apply(str.lower)\n",
        "df_alyt[\"clean_text_nltk\"] = df_alyt.clean_text_nltk.apply(lambda x: \" \".join(token for token in tokenizer.tokenize(x) if token not in stopwords))\n",
        "df_alyt[\"clean_text_nltk\"] = df_alyt.clean_text_nltk.str.translate(str.maketrans(dict.fromkeys(string.punctuation, \"\")))"
      ],
      "execution_count": null,
      "outputs": []
    },
    {
      "cell_type": "markdown",
      "metadata": {
        "id": "i7lLOU7UwlLX"
      },
      "source": [
        "## feature extraction"
      ]
    },
    {
      "cell_type": "markdown",
      "metadata": {
        "id": "JLzprtnlwziX"
      },
      "source": [
        "Bag of words"
      ]
    },
    {
      "cell_type": "code",
      "metadata": {
        "id": "jUEEyMIBwqQk"
      },
      "source": [
        "vectorizer = CountVectorizer()\n",
        "bow = vectorizer.fit(df_alyt.clean_text_nltk)\n",
        "bow_features = vectorizer.transform(df_alyt.clean_text_nltk)"
      ],
      "execution_count": null,
      "outputs": []
    },
    {
      "cell_type": "markdown",
      "metadata": {
        "id": "vniTrFCQw7ZQ"
      },
      "source": [
        "Tfidf"
      ]
    },
    {
      "cell_type": "code",
      "metadata": {
        "id": "H7J9_Ms-w65Z"
      },
      "source": [
        "vectorizer = TfidfVectorizer()\n",
        "tfidf = vectorizer.fit(df_alyt.clean_text_nltk)\n",
        "tfidf_features = vectorizer.transform(df_alyt.clean_text_nltk)"
      ],
      "execution_count": null,
      "outputs": []
    },
    {
      "cell_type": "markdown",
      "metadata": {
        "id": "MnXdtcWSwyQ9"
      },
      "source": [
        "Embeddings"
      ]
    },
    {
      "cell_type": "code",
      "metadata": {
        "id": "Cqbe-liUvJSr"
      },
      "source": [
        "model = SentenceTransformer('paraphrase-distilroberta-base-v1')"
      ],
      "execution_count": null,
      "outputs": []
    },
    {
      "cell_type": "code",
      "metadata": {
        "id": "t4soc15hwtRx"
      },
      "source": [
        "embeddings = df_alyt['clean_text_nltk'].apply(lambda x: model.encode(x))"
      ],
      "execution_count": null,
      "outputs": []
    },
    {
      "cell_type": "code",
      "metadata": {
        "id": "PEIx8Disw4J7"
      },
      "source": [
        "X_emb = embeddings\n",
        "Y = df_alyt.label_normalised\n",
        "print(X_emb, Y.shape)"
      ],
      "execution_count": null,
      "outputs": []
    },
    {
      "cell_type": "code",
      "metadata": {
        "id": "bjvmxr7oxYjA"
      },
      "source": [
        "X_embb = np.vstack(X_emb.values)\n",
        "X_embb.shape"
      ],
      "execution_count": null,
      "outputs": []
    },
    {
      "cell_type": "markdown",
      "metadata": {
        "id": "R3hxLtqexIi5"
      },
      "source": [
        "## Preparing the data"
      ]
    },
    {
      "cell_type": "code",
      "metadata": {
        "id": "UuXwqDFvxL4b"
      },
      "source": [
        "X_bow = bow_features\n",
        "X_tfidf = tfidf_features\n",
        "Y = df_alyt.label_normalised"
      ],
      "execution_count": null,
      "outputs": []
    },
    {
      "cell_type": "code",
      "metadata": {
        "id": "UdA-5Oinxiwb"
      },
      "source": [
        "train_X_bow, test_X_bow, train_y, test_y = train_test_split(X_bow, Y, test_size=0.2, random_state=18)\n",
        "train_X_tfidf, test_X_tfidf, test_y,train_y= train_test_split(X_tfidf, Y, test_size=0.2, random_state=18)\n",
        "train_X_emb, test_X_emb, train_y, test_y = train_test_split(X_embb, Y, test_size=0.2, random_state=18)"
      ],
      "execution_count": null,
      "outputs": []
    },
    {
      "cell_type": "markdown",
      "metadata": {
        "id": "uNIGAtFRxjSn"
      },
      "source": [
        "undersampling"
      ]
    },
    {
      "cell_type": "code",
      "metadata": {
        "id": "qHJYBEMkxMhp"
      },
      "source": [
        "#define undersample strategy - bow\n",
        "undersample = RandomUnderSampler(sampling_strategy = 0.5)\n",
        "x_resampled_Bow, y_resampled = undersample.fit_resample(X_bow, Y)\n",
        "print(sorted(Counter(y_resampled).items()), y_resampled.shape)\n",
        "\n",
        "# define undersample strategy - tfidf\n",
        "undersample = RandomUnderSampler(sampling_strategy = 0.5)\n",
        "x_resampled_tdidf, y_resampled = undersample.fit_resample(X_tfidf, Y)\n",
        "print(sorted(Counter(y_resampled).items()), y_resampled.shape)\n",
        "\n",
        "#embeddings\n",
        "undersample = RandomUnderSampler(sampling_strategy = 0.5) \n",
        "X_resampled_emb, y_resampled_emb = undersample.fit_resample(X_embb, Ye)"
      ],
      "execution_count": null,
      "outputs": []
    },
    {
      "cell_type": "code",
      "metadata": {
        "id": "My0KDogNxbuB"
      },
      "source": [
        "train_X_emb, test_X_emb, _, _ = train_test_split(X_embb, Y, test_size=0.2, random_state=18)"
      ],
      "execution_count": null,
      "outputs": []
    },
    {
      "cell_type": "code",
      "metadata": {
        "id": "R2fbXqSIxqAr"
      },
      "source": [
        "train_X_resampled_emb, test_X_resampled_emb, train_y_US, test_y_US = train_test_split(X_resampled_emb, y_resampled_emb, test_size=0.2, random_state=18)\n"
      ],
      "execution_count": null,
      "outputs": []
    },
    {
      "cell_type": "code",
      "metadata": {
        "id": "epgKSjKdxlf2"
      },
      "source": [
        "train_x_resampled_Bow, test_x_resampled_Bow, train_y_US, test_y_US = train_test_split(x_resampled_Bow, y_resampled, test_size=0.2, random_state=18)\n",
        "train_x_resampled_tdidf, test_x_resampled_tdidf, _, _= train_test_split(x_resampled_tdidf, y_resampled, test_size=0.2, random_state=18)"
      ],
      "execution_count": null,
      "outputs": []
    },
    {
      "cell_type": "markdown",
      "metadata": {
        "id": "ETtTNCLOxzEk"
      },
      "source": [
        "## Training clasifiers"
      ]
    },
    {
      "cell_type": "markdown",
      "metadata": {
        "id": "vvAW_gS2x1Qx"
      },
      "source": [
        "### SVM"
      ]
    },
    {
      "cell_type": "code",
      "metadata": {
        "id": "kmirDd3Bx_l1"
      },
      "source": [
        "#Create a svm Classifier\n",
        "clf = svm.SVC(kernel='linear', class_weight={-1: 0.4, 1: 0.91}) # Linear Kernel\n",
        "\n",
        "#Train the model using the training sets (bow)\n",
        "clf.fit(train_X_bow, train_y)\n",
        "\n",
        "#Predict the response for test dataset (bow)\n",
        "y_pred_bowSVM = clf.predict(test_X_bow)\n",
        "\n",
        "##Train the model using the training sets (tf-idf)\n",
        "clf.fit(train_X_tfidf, train_y)\n",
        "\n",
        "#Predict the response for test dataset (tf-idf)\n",
        "y_pred_tfidfSVM = clf.predict(test_X_tfidf)"
      ],
      "execution_count": null,
      "outputs": []
    },
    {
      "cell_type": "code",
      "metadata": {
        "id": "ftaTHhcyyBkt"
      },
      "source": [
        "#embeddings basic\n",
        "clf.fit(train_X_emb, train_y)\n",
        "y_pred_embSVM = clf.predict(test_X_emb)"
      ],
      "execution_count": null,
      "outputs": []
    },
    {
      "cell_type": "markdown",
      "metadata": {
        "id": "pZkFArZvyF-q"
      },
      "source": [
        "undersampled svm"
      ]
    },
    {
      "cell_type": "code",
      "metadata": {
        "id": "nUl3TE5WyEfi"
      },
      "source": [
        "#Create a svm Classifier - undersampled data\n",
        "clf = svm.SVC(kernel='linear') # Linear Kernel\n",
        "\n",
        "#Train the model using the training sets (bow)\n",
        "clf.fit(train_x_resampled_Bow, train_y_US)\n",
        "\n",
        "#Predict the response for test dataset (bow)\n",
        "y_pred_bowSVM_US = clf.predict(test_x_resampled_Bow)\n",
        "\n",
        "##Train the model using the training sets (tf-idf)\n",
        "clf.fit(train_x_resampled_tdidf, train_y_US)\n",
        "\n",
        "#Predict the response for test dataset (tf-idf)\n",
        "y_pred_tfidfSVM_US = clf.predict(test_x_resampled_tdidf)"
      ],
      "execution_count": null,
      "outputs": []
    },
    {
      "cell_type": "markdown",
      "metadata": {
        "id": "IQvdhNRCyJ6L"
      },
      "source": [
        "undersampled + weighted class"
      ]
    },
    {
      "cell_type": "code",
      "metadata": {
        "id": "iU_wRbdoyLgY"
      },
      "source": [
        "#Create a svm Classifier - undersampled data WITH class_weight\n",
        "clf1 = svm.SVC(kernel='linear', class_weight={-1: 0.4, 1: 0.91}) # Linear Kernel\n",
        "\n",
        "#Train the model using the training sets (bow)\n",
        "clf1.fit(train_x_resampled_Bow, train_y_US)\n",
        "\n",
        "#Predict the response for test dataset (bow)\n",
        "y_pred_bowSVM_US_CW = clf1.predict(test_x_resampled_Bow)\n",
        "\n",
        "##Train the model using the training sets (tf-idf)\n",
        "clf1.fit(train_x_resampled_tdidf, train_y_US)\n",
        "\n",
        "#Predict the response for test dataset (tf-idf)\n",
        "y_pred_tfidfSVM_US_CW = clf1.predict(test_x_resampled_tdidf)"
      ],
      "execution_count": null,
      "outputs": []
    },
    {
      "cell_type": "code",
      "metadata": {
        "id": "1MBlTewPyN3V"
      },
      "source": [
        "#embeddings both\n",
        "clf1.fit(train_X_resampled_emb, train_y_US)\n",
        "y_pred_embSVM_w_US = clf1.predict(test_X_resampled_emb)"
      ],
      "execution_count": null,
      "outputs": []
    },
    {
      "cell_type": "markdown",
      "metadata": {
        "id": "ien7ewIpx2Qe"
      },
      "source": [
        "### Logistic Reg"
      ]
    },
    {
      "cell_type": "code",
      "metadata": {
        "id": "vW3kvDKjycGI"
      },
      "source": [
        "from sklearn.linear_model import LogisticRegression\n",
        "\n",
        "classifier_bowLR = LogisticRegression(random_state=18, n_jobs=4) classifier_tfidfLR = LogisticRegression(random_state=18, n_jobs=4)\n",
        "\n",
        "Bag-of-words\n",
        "classifier_bowLR.fit(train_X_bow, train_y) pred_y_bow = classifier_bowLR.predict(test_X_bow)\n",
        "\n",
        "Tf-idf\n",
        "classifier_tfidfLR.fit(train_X_tfidf, train_y) pred_y_tfidf = classifier_tfidfLR.predict(test_X_tfidf)"
      ],
      "execution_count": null,
      "outputs": []
    },
    {
      "cell_type": "markdown",
      "metadata": {
        "id": "nMcMcvPhyhlZ"
      },
      "source": [
        "weighted"
      ]
    },
    {
      "cell_type": "code",
      "metadata": {
        "id": "8pgUQOiDyiaX"
      },
      "source": [
        "#LogisticRegression - balanced\n",
        "\n",
        "classifier_bowLRB = LogisticRegression(random_state=18, n_jobs=4, class_weight={-1: 0.4, 1: 0.91})\n",
        "classifier_tfidfLRB = LogisticRegression(random_state=18, n_jobs=4, class_weight={-1: 0.4, 1: 0.91})\n",
        "\n",
        "# Bag-of-words\n",
        "classifier_bowLRB.fit(train_X_bow, train_y)\n",
        "pred_y_bowB = classifier_bowLRB.predict(test_X_bow)\n",
        "\n",
        "# Tf-idf\n",
        "classifier_tfidfLRB.fit(train_x_resampled_tdidf, train_y_US)\n",
        "pred_y_tfidfB = classifier_tfidfLRB.predict(test_X_tfidf)"
      ],
      "execution_count": null,
      "outputs": []
    },
    {
      "cell_type": "code",
      "metadata": {
        "id": "ddKmj33YymR1"
      },
      "source": [
        "#embeddings\n",
        "classifier_bowLRB.fit(train_X_emb, train_y)\n",
        "y_pred_embLR = classifier_bowLRB.predict(test_X_emb)"
      ],
      "execution_count": null,
      "outputs": []
    },
    {
      "cell_type": "markdown",
      "metadata": {
        "id": "ddkjWEZ2yotS"
      },
      "source": [
        "undersampled"
      ]
    },
    {
      "cell_type": "code",
      "metadata": {
        "id": "mBr8T7QfyoBm"
      },
      "source": [
        "##Create LogisticRegression - undersampled data\n",
        "classifier_bow_US = LogisticRegression(random_state=18, n_jobs=4)\n",
        "classifier_tfidf_US = LogisticRegression(random_state=18, n_jobs=4)\n",
        "\n",
        "#Bag-of-words\n",
        "classifier_bow_US.fit(train_x_resampled_Bow, train_y_US)\n",
        "pred_y_bow_US = classifier_bow_US.predict(test_x_resampled_Bow)\n",
        "\n",
        "# Tf-idf\n",
        "classifier_tfidf_US.fit(train_x_resampled_tdidf, train_y_US)\n",
        "pred_y_tfidf_US = classifier_tfidf_US.predict(test_x_resampled_tdidf)"
      ],
      "execution_count": null,
      "outputs": []
    },
    {
      "cell_type": "markdown",
      "metadata": {
        "id": "b-WKQJBCyrrJ"
      },
      "source": [
        "undersampled + weighted"
      ]
    },
    {
      "cell_type": "code",
      "metadata": {
        "id": "eH_QCcajyrEY"
      },
      "source": [
        "#LogisticRegression - undersampled - balanced\n",
        "classifier_bow_UScw = LogisticRegression(random_state=18, n_jobs=4, class_weight={-1: 0.4, 1: 0.91})\n",
        "classifier_tfidf_UScw = LogisticRegression(random_state=18, n_jobs=4, class_weight={-1: 0.4, 1: 0.91})\n",
        "\n",
        "#Bag-of-words\n",
        "classifier_bow_UScw.fit(train_x_resampled_Bow, train_y_US)\n",
        "pred_y_bow_UScw = classifier_bow_UScw.predict(test_x_resampled_Bow)\n",
        "\n",
        "# Tf-idf\n",
        "classifier_tfidf_UScw.fit(train_x_resampled_tdidf, train_y_US)\n",
        "pred_y_tfidf_UScw = classifier_tfidf_UScw.predict(test_x_resampled_tdidf)"
      ],
      "execution_count": null,
      "outputs": []
    },
    {
      "cell_type": "code",
      "metadata": {
        "id": "xzHdqysNyuup"
      },
      "source": [
        "classifier_bow_UScw.fit(train_X_resampled_emb, train_y_US)\n",
        "y_pred_embLR_w_US = classifier_bow_UScw.predict(test_X_resampled_emb)"
      ],
      "execution_count": null,
      "outputs": []
    },
    {
      "cell_type": "markdown",
      "metadata": {
        "id": "dtvHgGxRx42s"
      },
      "source": [
        "### Random Forest"
      ]
    },
    {
      "cell_type": "code",
      "metadata": {
        "id": "vW8f7A8hywpW"
      },
      "source": [
        "clf_bow_rf = RandomForestClassifier(n_estimators=100, random_state=18)\n",
        "clf_tfidf_rf = RandomForestClassifier(n_estimators=100, random_state=18)"
      ],
      "execution_count": null,
      "outputs": []
    },
    {
      "cell_type": "code",
      "metadata": {
        "id": "Hvp8JCVZyxVS"
      },
      "source": [
        "#Bag of words\n",
        "clf_bow_rf.fit(train_X_bow, train_y)\n",
        "pred_y_bow_rf = clf_bow_rf.predict(test_X_bow)\n",
        "\n",
        "# Tf-idf\n",
        "clf_tfidf_rf.fit(train_X_tfidf, train_y)\n",
        "pred_y_tfidf_rf = clf_tfidf_rf.predict(test_X_tfidf)"
      ],
      "execution_count": null,
      "outputs": []
    },
    {
      "cell_type": "code",
      "metadata": {
        "id": "jXvscCPSy0v6"
      },
      "source": [
        "clf_tfidf_rf.predict_proba(test_X_tfidf)"
      ],
      "execution_count": null,
      "outputs": []
    },
    {
      "cell_type": "markdown",
      "metadata": {
        "id": "Jm3b2oWry24-"
      },
      "source": [
        "weighted"
      ]
    },
    {
      "cell_type": "code",
      "metadata": {
        "id": "BpLsNczmy2Rn"
      },
      "source": [
        "#Create an RF Classifier\n",
        "clf_bow_rfw = RandomForestClassifier(n_estimators=100, random_state=18, class_weight={-1: 0.4, 1: 0.91})\n",
        "clf_tfidf_rfw = RandomForestClassifier(n_estimators=100, random_state=18, class_weight={-1: 0.4, 1: 0.91})\n",
        "\n",
        "#Train the model using the training sets (bow)\n",
        "clf_bow_rfw.fit(train_X_bow, train_y)\n",
        "\n",
        "#Predict the response for test dataset (bow)\n",
        "pred_y_bow_rfw = clf_bow_rfw.predict(test_X_bow)\n",
        "\n",
        "##Train the model using the training sets (tf-idf)\n",
        "clf_tfidf_rfw.fit(train_X_tfidf, train_y)\n",
        "\n",
        "#Predict the response for test dataset (tf-idf)\n",
        "pred_y_tfidf_rfw = clf_tfidf_rfw.predict(test_X_tfidf)"
      ],
      "execution_count": null,
      "outputs": []
    },
    {
      "cell_type": "markdown",
      "metadata": {
        "id": "sLiWccDQy-YU"
      },
      "source": [
        "undersampled"
      ]
    },
    {
      "cell_type": "code",
      "metadata": {
        "id": "LS1zlX_gy8Qi"
      },
      "source": [
        "clf_rf_bow_US = RandomForestClassifier(n_estimators=100, random_state=18)\n",
        "clf_rf_tfidf_US = RandomForestClassifier(n_estimators=100, random_state=18)\n",
        "\n",
        "#Bag-of-words\n",
        "clf_rf_bow_US.fit(train_x_resampled_Bow, train_y_US)\n",
        "pred_y_bow_rfw_US = clf_rf_bow_US.predict(test_x_resampled_Bow)\n",
        "\n",
        "# Tf-idf\n",
        "clf_rf_tfidf_US.fit(train_x_resampled_tdidf, train_y_US)\n",
        "pred_y_tfidf_rfw_US = clf_rf_tfidf_US.predict(test_x_resampled_tdidf)"
      ],
      "execution_count": null,
      "outputs": []
    },
    {
      "cell_type": "markdown",
      "metadata": {
        "id": "YTabjLSey4Ds"
      },
      "source": [
        "weighetd + undersampled"
      ]
    },
    {
      "cell_type": "code",
      "metadata": {
        "id": "klrl7sM_y7k4"
      },
      "source": [
        "clf_rf_bow_UScw = RandomForestClassifier(n_estimators=100, random_state=18, class_weight={-1: 0.4, 1: 0.91})\n",
        "clf_tfidf_tfidf_UScw = RandomForestClassifier(n_estimators=100, random_state=18, class_weight={-1: 0.4, 1: 0.91})\n",
        "\n",
        "#Bag-of-words\n",
        "clf_rf_bow_UScw.fit(train_x_resampled_Bow, train_y_US)\n",
        "pred_y_bow_rfw_UScw = clf_rf_bow_UScw.predict(test_x_resampled_Bow)\n",
        "\n",
        "# Tf-idf\n",
        "clf_tfidf_tfidf_UScw.fit(train_x_resampled_tdidf, train_y_US)\n",
        "pred_y_tfidf_rfw_UScw = clf_tfidf_tfidf_UScw.predict(test_x_resampled_tdidf)"
      ],
      "execution_count": null,
      "outputs": []
    },
    {
      "cell_type": "markdown",
      "metadata": {
        "id": "llxnYyKfzCyF"
      },
      "source": [
        "## evaluation"
      ]
    },
    {
      "cell_type": "markdown",
      "metadata": {
        "id": "vs4t9ut1zSX9"
      },
      "source": [
        "log reg"
      ]
    },
    {
      "cell_type": "code",
      "metadata": {
        "id": "2jIbsl00zGgv"
      },
      "source": [
        "from sklearn.metrics import classification_report\n",
        "#LogisticRegression model - unbalanced\n",
        "print(classification_report(test_y, pred_y_bow))\n",
        "print(classification_report(test_y, pred_y_tfidf))"
      ],
      "execution_count": null,
      "outputs": []
    },
    {
      "cell_type": "code",
      "metadata": {
        "id": "fZ9Hl4EhzK0T"
      },
      "source": [
        "#LogisticRegression model - weighted\n",
        "print(classification_report(test_y, pred_y_bowB))\n",
        "print(classification_report(test_y, pred_y_tfidfB))\n",
        "print(classification_report(test_y, y_pred_embLR))"
      ],
      "execution_count": null,
      "outputs": []
    },
    {
      "cell_type": "code",
      "metadata": {
        "id": "swaX4ZKtzMYu"
      },
      "source": [
        "#LogisticRegression model- undersampled\n",
        "print(classification_report(test_y_US, pred_y_bow_US))\n",
        "print(classification_report(test_y_US, pred_y_tfidf_US))"
      ],
      "execution_count": null,
      "outputs": []
    },
    {
      "cell_type": "code",
      "metadata": {
        "id": "clwaRwu9zP9q"
      },
      "source": [
        "#LogisticRegression model- undersampled - balanced\n",
        "print(classification_report(test_y_US, pred_y_bow_UScw))\n",
        "print(classification_report(test_y_US, pred_y_tfidf_UScw))\n",
        "print(classification_report(test_y_US, y_pred_embLR_w_US))"
      ],
      "execution_count": null,
      "outputs": []
    },
    {
      "cell_type": "markdown",
      "metadata": {
        "id": "wZ_WWfDKzTgQ"
      },
      "source": [
        "svm"
      ]
    },
    {
      "cell_type": "code",
      "metadata": {
        "id": "A9MKX52GzUlg"
      },
      "source": [
        "#SVM \n",
        "print(classification_report(test_y, y_pred_bowSVM))\n",
        "print(classification_report(test_y, y_pred_tfidfSVM ))\n",
        "print(classification_report(test_y, y_pred_embSVM_w))"
      ],
      "execution_count": null,
      "outputs": []
    },
    {
      "cell_type": "code",
      "metadata": {
        "id": "TiR5cSaBzVZc"
      },
      "source": [
        "#SVM model - using undersampled data (NON-balanced)\n",
        "print(classification_report(test_y_US, y_pred_bowSVM_US))\n",
        "print(classification_report(test_y_US, y_pred_tfidfSVM_US ))"
      ],
      "execution_count": null,
      "outputs": []
    },
    {
      "cell_type": "code",
      "metadata": {
        "id": "NOfHgd4ezYu7"
      },
      "source": [
        "#SVM model - using undersampled data (balanced- weighted)\n",
        "print(classification_report(test_y_US, y_pred_bowSVM_US_CW))\n",
        "print(classification_report(test_y_US, y_pred_tfidfSVM_US_CW))\n",
        "print(classification_report(test_y_US, y_pred_embSVM_w_US))"
      ],
      "execution_count": null,
      "outputs": []
    },
    {
      "cell_type": "markdown",
      "metadata": {
        "id": "e9iVfNh9zbia"
      },
      "source": [
        "random forest"
      ]
    },
    {
      "cell_type": "code",
      "metadata": {
        "id": "TcmWldY5zdJt"
      },
      "source": [
        "print(classification_report(test_y, pred_y_bow_rf))\n",
        "print(classification_report(test_y, pred_y_tfidf_rf))"
      ],
      "execution_count": null,
      "outputs": []
    },
    {
      "cell_type": "code",
      "metadata": {
        "id": "FDwArdH5zfMM"
      },
      "source": [
        "print(classification_report(test_y_US, pred_y_bow_rfw))\n",
        "print(classification_report(test_y_US, pred_y_tfidf_rfw))"
      ],
      "execution_count": null,
      "outputs": []
    },
    {
      "cell_type": "code",
      "metadata": {
        "id": "zJhe22tyzhHf"
      },
      "source": [
        "print(classification_report(test_y_US, pred_y_bow_rfw_US))\n",
        "print(classification_report(test_y_US, pred_y_tfidf_rfw_US))"
      ],
      "execution_count": null,
      "outputs": []
    },
    {
      "cell_type": "code",
      "metadata": {
        "id": "XsE4y2_rzi9W"
      },
      "source": [
        "print(classification_report(test_y_US, pred_y_bow_rfw_UScw))\n",
        "print(classification_report(test_y_US, pred_y_tfidf_rfw_UScw))\n",
        "print(classification_report(test_y_US,y_pred_embRF_w_US)) "
      ],
      "execution_count": null,
      "outputs": []
    },
    {
      "cell_type": "markdown",
      "metadata": {
        "id": "44eSROO7zpaT"
      },
      "source": [
        "## Application of the trained model"
      ]
    },
    {
      "cell_type": "code",
      "metadata": {
        "id": "AFQX4FGZzuOe"
      },
      "source": [
        "def abusive_language_probability(comment, vectorizer, classifier):\n",
        "    # We are assuming that the comment is already preprocessed and tokenized\n",
        "    comment_vec = vectorizer.transform([comment])\n",
        "    return classifier.predict_proba(comment_vec)"
      ],
      "execution_count": null,
      "outputs": []
    },
    {
      "cell_type": "code",
      "metadata": {
        "id": "Cr6pOlapzyHH"
      },
      "source": [
        "def abusive_language_score(comment, vectorizer, classifier):\n",
        "    # We are assuming that the comment is already preprocessed and tokenized\n",
        "    comment_vec = vectorizer.transform([comment])\n",
        "    nonabusive_score, abusive_score = classifier.predict_proba(comment_vec)[0]\n",
        "    return -abusive_score if abusive_score >= nonabusive_score else nonabusive_score"
      ],
      "execution_count": null,
      "outputs": []
    },
    {
      "cell_type": "code",
      "metadata": {
        "id": "sw4w9b2Sz0x4"
      },
      "source": [
        "dfo = pd.read_csv(\"final_tokenized_sample_comments.csv\", engine='python')\n"
      ],
      "execution_count": null,
      "outputs": []
    },
    {
      "cell_type": "code",
      "metadata": {
        "id": "phKfgRgzz2xF"
      },
      "source": [
        "dfo[\"text1\"] = dfo.clean_text.astype(str)"
      ],
      "execution_count": null,
      "outputs": []
    },
    {
      "cell_type": "code",
      "metadata": {
        "id": "0Me-7UKPz4W2"
      },
      "source": [
        "dfo[\"clean_text_nltk\"] = dfo.text1.apply(str.lower)\n",
        "dfo[\"clean_text_nltk\"] = dfo.clean_text_nltk.apply(lambda x: \" \".join(token for token in tokenizer.tokenize(x) if token not in stopwords))\n",
        "dfo[\"clean_text_nltk\"] = dfo.clean_text_nltk.str.translate(str.maketrans(dict.fromkeys(string.punctuation, \"\")))"
      ],
      "execution_count": null,
      "outputs": []
    },
    {
      "cell_type": "code",
      "metadata": {
        "id": "rC_j9vujz6Pi"
      },
      "source": [
        "#Tfidf\n",
        "vectorizer = TfidfVectorizer()\n",
        "tfidf1 = vectorizer.fit(dfo.clean_text_nltk)\n",
        "tfidf1_features = vectorizer.transform(dfo.clean_text_nltk)"
      ],
      "execution_count": null,
      "outputs": []
    },
    {
      "cell_type": "code",
      "metadata": {
        "id": "jDnPNv2Tz6-K"
      },
      "source": [
        "#LogisticRegression - undersampled - balanced\n",
        "\n",
        "clf_final = LogisticRegression(random_state=18, n_jobs=4, class_weight={-1: 0.4, 1: 0.91})\n",
        "clf_final_us = LogisticRegression(random_state=18, n_jobs=4)\n",
        "\n",
        "\n",
        "# Tf-idf\n",
        "clf_final.fit(x_resampled_tdidf, y_resampled)\n",
        "#pred_y_tfidf_final= clf_final.predict(tfidf1)\n",
        "\n",
        "\n",
        "clf_final_us.fit(x_resampled_tdidf, y_resampled)"
      ],
      "execution_count": null,
      "outputs": []
    },
    {
      "cell_type": "code",
      "metadata": {
        "id": "nYzg9ESez_4N"
      },
      "source": [
        "dfo[\"prediction2\"] = dfo.clean_text_nltk.apply(lambda x: abusive_language_score(x, tfidf, clf_final_us)) "
      ],
      "execution_count": null,
      "outputs": []
    },
    {
      "cell_type": "code",
      "metadata": {
        "id": "esScalfv0FIZ"
      },
      "source": [
        "dfo[\"prediction1\"] = dfo.clean_text_nltk.apply(lambda x: abusive_language_score(x, tfidf, clf_final))"
      ],
      "execution_count": null,
      "outputs": []
    },
    {
      "cell_type": "code",
      "metadata": {
        "id": "yimYNFx20G6Z"
      },
      "source": [
        "eli5.show_weights(clf_final_us, feature_names=tfidf.get_feature_names(), target_names=[\"non-abusive\", \"abusive\"], top=(10, 10))"
      ],
      "execution_count": null,
      "outputs": []
    },
    {
      "cell_type": "code",
      "metadata": {
        "id": "BxIjOd5x0JOs"
      },
      "source": [
        "comment = dfo[dfo.prediction2 <= -0.8].text.sample(1).values\n",
        "print(comment)\n",
        "\n",
        "eli5.show_prediction(clf_final_us, doc=tfidf.transform(comment), feature_names=tfidf.get_feature_names())"
      ],
      "execution_count": null,
      "outputs": []
    },
    {
      "cell_type": "code",
      "metadata": {
        "id": "UNdjOU1O0MMp"
      },
      "source": [
        "count_ngrams(dfo[(dfo[\"prediction2\"] >= 0.8) & (dft[\"Gender\"] == \"nonbinary\")].clean_text_nltk,1).most_common(20)"
      ],
      "execution_count": null,
      "outputs": []
    },
    {
      "cell_type": "code",
      "metadata": {
        "id": "IPstCdsu0NvQ"
      },
      "source": [
        "count_ngrams(dfo[(dfo[\"prediction2\"] <= -0.8)].clean_text_nltk,2).most_common(20)"
      ],
      "execution_count": null,
      "outputs": []
    },
    {
      "cell_type": "code",
      "metadata": {
        "id": "exizV7zG0P-t"
      },
      "source": [
        "dfo[(dfo.text.str.contains(\"bitch\")) & (dfo[\"prediction2\"] <= -0.8)].text"
      ],
      "execution_count": null,
      "outputs": []
    },
    {
      "cell_type": "code",
      "metadata": {
        "id": "qU-hqyKj0R2p"
      },
      "source": [
        "count_ngrams(dfo[(dfo[\"prediction2\"] >= 0.8)].clean_text_nltk,2).most_common(20)"
      ],
      "execution_count": null,
      "outputs": []
    },
    {
      "cell_type": "code",
      "metadata": {
        "id": "-yg3LrFj0bOT"
      },
      "source": [
        "\n",
        "dfo[(dfo[\"prediction2\"] <= -0.8) & (dfo[\"Gender\"] == \"female\")].text"
      ],
      "execution_count": null,
      "outputs": []
    },
    {
      "cell_type": "markdown",
      "metadata": {
        "id": "MNhQFCRI0ocw"
      },
      "source": [
        "dfo[[\"prediction1\",\"prediction2\"]].describe() "
      ]
    },
    {
      "cell_type": "code",
      "metadata": {
        "id": "eg_V8sDD0j0L"
      },
      "source": [
        "dfo.prediction1.plot.hist(grid=True, bins=20, rwidth=0.9,\n",
        "                   color='#607c8e')"
      ],
      "execution_count": null,
      "outputs": []
    },
    {
      "cell_type": "code",
      "metadata": {
        "id": "ZGh8SyeA0qOw"
      },
      "source": [
        "dfo.prediction2.plot.hist(grid=True, bins=20, rwidth=0.9,\n",
        "                   color='#607c8e')"
      ],
      "execution_count": null,
      "outputs": []
    },
    {
      "cell_type": "code",
      "metadata": {
        "id": "6M9n14_T1GoD"
      },
      "source": [
        "comb_df=dfo"
      ],
      "execution_count": null,
      "outputs": []
    },
    {
      "cell_type": "code",
      "metadata": {
        "id": "MRDEdLeU0r--"
      },
      "source": [
        "stats.wilcoxon(comb_df['prediction1'], comb_df['prediction2']) #significantly different "
      ],
      "execution_count": null,
      "outputs": []
    },
    {
      "cell_type": "markdown",
      "metadata": {
        "id": "ToDPpb6R01Kf"
      },
      "source": [
        "## ANOVA"
      ]
    },
    {
      "cell_type": "code",
      "metadata": {
        "id": "r8B9xKr203u2"
      },
      "source": [
        "comb_df.groupby(\"Gender\").prediction2.describe()"
      ],
      "execution_count": null,
      "outputs": []
    },
    {
      "cell_type": "code",
      "metadata": {
        "id": "wS5FcEa505YQ"
      },
      "source": [
        "comb_df.boxplot('prediction2', by='Gender', figsize=(8, 6))"
      ],
      "execution_count": null,
      "outputs": []
    },
    {
      "cell_type": "code",
      "metadata": {
        "id": "iMs7Wxhk07t9"
      },
      "source": [
        "model_e = ols('prediction2 ~ Gender', data=comb_df).fit()\n",
        "anova_table_e = sm.stats.anova_lm(model_e, typ=2)\n",
        "anova_table_e\n",
        "\n",
        "res = model_e.resid\n",
        "fig = sm.qqplot(res, line='s')\n",
        "plt.show()\n"
      ],
      "execution_count": null,
      "outputs": []
    },
    {
      "cell_type": "code",
      "metadata": {
        "id": "OKe63NoP0-x3"
      },
      "source": [
        "aov = pg.anova(data=comb_df, dv='prediction2', between='Gender', detailed=True)\n",
        "aov"
      ],
      "execution_count": null,
      "outputs": []
    },
    {
      "cell_type": "code",
      "metadata": {
        "id": "QUos8jww0_OM"
      },
      "source": [
        "pt = pg.pairwise_tukey(dv='prediction2', between='Gender', data=comb_df)\n",
        "pt"
      ],
      "execution_count": null,
      "outputs": []
    }
  ]
}